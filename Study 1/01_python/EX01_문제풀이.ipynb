{
 "cells": [
  {
   "cell_type": "markdown",
   "id": "4624dc7c-b308-42a0-aeff-d46e778b1e07",
   "metadata": {},
   "source": [
    "### 문제 1)\n",
    "- 1부터 3씩 증가시킨 숫자를 총 20개 출력하시오"
   ]
  },
  {
   "cell_type": "code",
   "execution_count": 1,
   "id": "fc498c20-3c3b-4fd6-9b54-458b2ad23842",
   "metadata": {},
   "outputs": [
    {
     "name": "stdout",
     "output_type": "stream",
     "text": [
      "1\n",
      "4\n",
      "7\n",
      "10\n",
      "13\n",
      "16\n",
      "19\n",
      "22\n",
      "25\n",
      "28\n",
      "31\n",
      "34\n",
      "37\n",
      "40\n",
      "43\n",
      "46\n",
      "49\n",
      "52\n",
      "55\n",
      "58\n"
     ]
    }
   ],
   "source": [
    "for a1 in range(1, 1 + 3 * 20, 3):\n",
    "    print(a1)"
   ]
  },
  {
   "cell_type": "code",
   "execution_count": 3,
   "id": "998e7529-acaf-4f25-b5ae-f46b3b67c5ef",
   "metadata": {},
   "outputs": [
    {
     "name": "stdout",
     "output_type": "stream",
     "text": [
      "1\n",
      "4\n",
      "7\n",
      "10\n",
      "13\n",
      "16\n",
      "19\n",
      "22\n",
      "25\n",
      "28\n",
      "31\n",
      "34\n",
      "37\n",
      "40\n",
      "43\n",
      "46\n",
      "49\n",
      "52\n",
      "55\n",
      "58\n"
     ]
    }
   ],
   "source": [
    "a1 = 1\n",
    "# 1을 출력한다.\n",
    "print(a1)\n",
    "\n",
    "# 19번을 반복한다\n",
    "for _ in range(19) :\n",
    "    # 3을 증가시킨다\n",
    "    a1 = a1 + 3\n",
    "    # 출력한다\n",
    "    print(a1)"
   ]
  },
  {
   "cell_type": "markdown",
   "id": "338ebf32-fcff-406a-9d14-9b9b7eba1c91",
   "metadata": {},
   "source": [
    "### 문제2)\n",
    "- 1부터 100까지의 숫자 중 3의 배수를 모두 출력하시오 "
   ]
  },
  {
   "cell_type": "code",
   "execution_count": 23,
   "id": "d0ce618a-c6d9-486a-aaa2-bfff7b35b563",
   "metadata": {},
   "outputs": [
    {
     "name": "stdout",
     "output_type": "stream",
     "text": [
      "3\n",
      "6\n",
      "9\n",
      "12\n",
      "15\n",
      "18\n",
      "21\n",
      "24\n",
      "27\n",
      "30\n",
      "33\n",
      "36\n",
      "39\n",
      "42\n",
      "45\n",
      "48\n",
      "51\n",
      "54\n",
      "57\n",
      "60\n",
      "63\n",
      "66\n",
      "69\n",
      "72\n",
      "75\n",
      "78\n",
      "81\n",
      "84\n",
      "87\n",
      "90\n",
      "93\n",
      "96\n",
      "99\n"
     ]
    }
   ],
   "source": [
    "#범위를 정해준다\n",
    "#범위 내에서의 3의 배수 = 범위내에 있는 숫자 중 나누기 했을 때에 나머지가 0이 나오는 값들을 구한다.\n",
    "#출력한다\n",
    "\n",
    "for a1 in range(1, 100):  \n",
    "    if a1 % 3 == 0:  \n",
    "        print(a1)"
   ]
  },
  {
   "cell_type": "code",
   "execution_count": 29,
   "id": "b564d776-8c7d-41f0-896b-bb625d0b3f83",
   "metadata": {
    "collapsed": true,
    "jupyter": {
     "outputs_hidden": true
    }
   },
   "outputs": [
    {
     "name": "stdout",
     "output_type": "stream",
     "text": [
      "3\n",
      "6\n",
      "9\n",
      "12\n",
      "15\n",
      "18\n",
      "21\n",
      "24\n",
      "27\n",
      "30\n",
      "33\n",
      "36\n",
      "39\n",
      "42\n",
      "45\n",
      "48\n",
      "51\n",
      "54\n",
      "57\n",
      "60\n",
      "63\n",
      "66\n",
      "69\n",
      "72\n",
      "75\n",
      "78\n",
      "81\n",
      "84\n",
      "87\n",
      "90\n",
      "93\n",
      "96\n",
      "99\n"
     ]
    }
   ],
   "source": [
    "#range(시작값, 끝값, 증가값)\n",
    "\n",
    "for a1 in range(3, 100, 3):  \n",
    "    print(a1)"
   ]
  },
  {
   "cell_type": "markdown",
   "id": "bdf5c114-0a25-48ae-a9f3-6070f6156124",
   "metadata": {},
   "source": [
    "### 문제 3)\n",
    "- 마음속으로 숫자를 하나 떠올려주세요.\n",
    "- 1부터 그 숫자까지의 총합을 구해 출력한다.."
   ]
  },
  {
   "cell_type": "code",
   "execution_count": 7,
   "id": "d1aa4e73-03e3-4244-9409-fdb8caadb8e4",
   "metadata": {},
   "outputs": [
    {
     "name": "stdout",
     "output_type": "stream",
     "text": [
      "2051325\n"
     ]
    }
   ],
   "source": [
    "# 마음속으로 떠올린 숫자를 변수에 담아준다.\n",
    "number1 = 2025\n",
    "# 1부터 입력받은 숫자까지의 총합을 구한다.\n",
    "number2 = 0\n",
    "number3 = 0\n",
    "while number3 <= number1 :\n",
    "    number2 = number2 + number3\n",
    "    number3 = number3 + 1\n",
    "# 출력한다.\n",
    "print(number2)"
   ]
  },
  {
   "cell_type": "markdown",
   "id": "c4607caa-941f-488d-a475-03cb49af25b2",
   "metadata": {},
   "source": [
    "###문제 4)\n",
    "- 1부터 1000까지의 소수 모두 출력한다.\n",
    "- 구글링 금지, ai 금지"
   ]
  },
  {
   "cell_type": "code",
   "execution_count": null,
   "id": "c7070f1f-d05b-495e-b3e3-b3f22f694974",
   "metadata": {},
   "outputs": [],
   "source": []
  },
  {
   "cell_type": "code",
   "execution_count": null,
   "id": "911e6990-d5af-48cd-9d10-9bd48c4b1446",
   "metadata": {},
   "outputs": [],
   "source": []
  }
 ],
 "metadata": {
  "kernelspec": {
   "display_name": "Python [conda env:base] *",
   "language": "python",
   "name": "conda-base-py"
  },
  "language_info": {
   "codemirror_mode": {
    "name": "ipython",
    "version": 3
   },
   "file_extension": ".py",
   "mimetype": "text/x-python",
   "name": "python",
   "nbconvert_exporter": "python",
   "pygments_lexer": "ipython3",
   "version": "3.12.7"
  }
 },
 "nbformat": 4,
 "nbformat_minor": 5
}
