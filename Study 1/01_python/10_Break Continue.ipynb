{
 "cells": [
  {
   "cell_type": "markdown",
   "id": "6a69f5bf-89c8-47a6-b6b2-42f7a1b68472",
   "metadata": {},
   "source": [
    "### Break\n",
    "- 주로 반복문 내부에서 바꿔준다.\n",
    "- 반복문 내부의 코드가 수행 중 break를 만나면 반복문 수행이 모두 종료된다.\n",
    "\n",
    "### Continue\n",
    "- 주로 반복문 내부에서 사용한다.\n",
    "- 반복문 내부의 코드가 수행 중 continue를 만나면 더 수행할 코드가 있다고 하더라도 다음 반복으로 넘어간다."
   ]
  },
  {
   "cell_type": "code",
   "execution_count": 1,
   "id": "828c68ef-3dca-4283-a4db-025738fc7e4e",
   "metadata": {},
   "outputs": [
    {
     "name": "stdout",
     "output_type": "stream",
     "text": [
      "1\n",
      "2\n",
      "3\n",
      "4\n",
      "5\n"
     ]
    }
   ],
   "source": [
    "a1 = 0\n",
    "\n",
    "while a1<= 10:\n",
    "    a1 = a1 + 1\n",
    "    #a1이 5보다 커지면 반복문 중단\n",
    "    if a1 > 5 :\n",
    "        break\n",
    "\n",
    "    print(a1)\n"
   ]
  },
  {
   "cell_type": "code",
   "execution_count": 3,
   "id": "248fb610-44d2-41c1-860c-aa3638a4a05c",
   "metadata": {},
   "outputs": [
    {
     "name": "stdout",
     "output_type": "stream",
     "text": [
      "2\n",
      "4\n",
      "6\n",
      "8\n",
      "10\n"
     ]
    }
   ],
   "source": [
    "a1 = 0 \n",
    "\n",
    "while a1 <= 10 :\n",
    "    a1 = a1 + 1\n",
    "    # 짝수가 아니면 다음 반복으로 넘어간다.\n",
    "    if a1 % 2 != 0 :\n",
    "        continue\n",
    "\n",
    "    print(a1)"
   ]
  },
  {
   "cell_type": "code",
   "execution_count": 5,
   "id": "049fdf15-17e7-4c4b-9d8d-577f4a99eaff",
   "metadata": {},
   "outputs": [
    {
     "name": "stdout",
     "output_type": "stream",
     "text": [
      "2\n",
      "4\n",
      "6\n",
      "8\n",
      "10\n"
     ]
    }
   ],
   "source": [
    "a1 = 0 \n",
    "\n",
    "while a1 <= 10 :\n",
    "    a1 = a1 + 1\n",
    "    # 짝수면 출력한다.\n",
    "    if a1 % 2 == 0 :\n",
    "        print(a1)"
   ]
  },
  {
   "cell_type": "code",
   "execution_count": null,
   "id": "36ebf34c-c369-4899-a67e-4ecf3db9750e",
   "metadata": {},
   "outputs": [],
   "source": []
  }
 ],
 "metadata": {
  "kernelspec": {
   "display_name": "Python [conda env:base] *",
   "language": "python",
   "name": "conda-base-py"
  },
  "language_info": {
   "codemirror_mode": {
    "name": "ipython",
    "version": 3
   },
   "file_extension": ".py",
   "mimetype": "text/x-python",
   "name": "python",
   "nbconvert_exporter": "python",
   "pygments_lexer": "ipython3",
   "version": "3.12.7"
  }
 },
 "nbformat": 4,
 "nbformat_minor": 5
}
