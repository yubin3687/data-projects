{
 "cells": [
  {
   "cell_type": "code",
   "execution_count": 1,
   "id": "399530b3-42f1-4bbd-a453-abc3a4646d11",
   "metadata": {},
   "outputs": [
    {
     "name": "stdout",
     "output_type": "stream",
     "text": [
      "10 20 30 40 50\n",
      "10 20 30 40 50\n"
     ]
    }
   ],
   "source": [
    "# 분해 (unpack)\n",
    "# 리스트나 튜플이 가니고 있는 값의 개수 만큼 변수를 나열해 주면\n",
    "# 1:1 대응하여 변수에 담아준다.\n",
    "tuple1 = 10, 20, 30, 40, 50\n",
    "list1 = [10, 20, 30, 40, 50]\n",
    "\n",
    "a1, a2, a3, a4, a5 = tuple1\n",
    "a10, a20, a30, a40, a50 = list1\n",
    "\n",
    "print(a1, a2, a3, a4, a5)\n",
    "print(a10, a20, a30, a40, a50)"
   ]
  },
  {
   "cell_type": "code",
   "execution_count": 3,
   "id": "6327ff73-31ff-4e35-ad50-cc9fc2eec6a3",
   "metadata": {},
   "outputs": [
    {
     "name": "stdout",
     "output_type": "stream",
     "text": [
      "10 20 30\n"
     ]
    }
   ],
   "source": [
    "# 10, 20, 30 이라고 적었기 때문에 10, 20, 30을 관리하는\n",
    "# 튜플이 만들어진다\n",
    "# 그리고 좌측에 튜플이 관리하는 값의 개수와 동인한 개수의 변수를\n",
    "# 배치하였기 때문에 unpack이 발생하여 튜플이 가지고 있는 값을\n",
    "# 하나씩 변수에 담아준다.\n",
    "a1, a2, a3 = 10, 20, 30\n",
    "print(a1, a2, a3)"
   ]
  },
  {
   "cell_type": "code",
   "execution_count": null,
   "id": "cdf31253-4550-41bb-b54e-27dfdf576a64",
   "metadata": {},
   "outputs": [],
   "source": []
  }
 ],
 "metadata": {
  "kernelspec": {
   "display_name": "Python [conda env:base] *",
   "language": "python",
   "name": "conda-base-py"
  },
  "language_info": {
   "codemirror_mode": {
    "name": "ipython",
    "version": 3
   },
   "file_extension": ".py",
   "mimetype": "text/x-python",
   "name": "python",
   "nbconvert_exporter": "python",
   "pygments_lexer": "ipython3",
   "version": "3.12.7"
  }
 },
 "nbformat": 4,
 "nbformat_minor": 5
}
