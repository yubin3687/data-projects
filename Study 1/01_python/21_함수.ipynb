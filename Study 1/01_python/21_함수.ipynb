{
 "cells": [
  {
   "cell_type": "markdown",
   "id": "fec8d811-3692-4ad3-b6fc-c4e5a3f4bd62",
   "metadata": {},
   "source": [
    "# 함수\n",
    "- 코드를 관리하는 요소\n",
    "- 개발자가 만든 코드를 수행하다가 함수 내부의 코드가 필요할 경우 코드의 흐름을 함수쪽으로 이동하여 수행하고 끝나면 다시 돌아오는 개념\n",
    "- 중복된 코드를 작성하지 않을 수 있어서 코드의 재사용이 좋아지고 생산성이 좋아지며 유지보수가 용이해진다.\n",
    "- 함수 내부의 코드를 동작시키기 위해 \"함수를 사용하겠습니다\" 라고 하는 것을 \"함수를 호출한다\" 라고 부른다."
   ]
  },
  {
   "cell_type": "code",
   "execution_count": 17,
   "id": "80657cd6-00a6-4f9d-9bab-c9a948f76e34",
   "metadata": {},
   "outputs": [
    {
     "name": "stdout",
     "output_type": "stream",
     "text": [
      "test1 함수\n",
      "안녕하세요\n"
     ]
    }
   ],
   "source": [
    "# 함수를 호출하기 전에 반드시 함수를 작성한 부분이 실행되어야만 한다.\n",
    "test1()"
   ]
  },
  {
   "cell_type": "code",
   "execution_count": 13,
   "id": "4b3325fd-1222-4bcf-9074-ebadc3dab17a",
   "metadata": {},
   "outputs": [],
   "source": [
    "# 함수를 정의한다.\n",
    "# 코드가 수행되다가 함수를 만나게 되면 함수의 존재만 파악하고\n",
    "# 함수 내부의 코드는 수행되지 않는다.\n",
    "def test1() :\n",
    "    print('test1 함수')\n",
    "    print('안녕하세요')"
   ]
  },
  {
   "cell_type": "code",
   "execution_count": 15,
   "id": "6d1222e4-ceb2-4195-9f01-c06b36caba2f",
   "metadata": {},
   "outputs": [
    {
     "name": "stdout",
     "output_type": "stream",
     "text": [
      "test1 함수\n",
      "안녕하세요\n"
     ]
    }
   ],
   "source": [
    "# 함수를 호출한다.\n",
    "test1()"
   ]
  },
  {
   "cell_type": "code",
   "execution_count": 19,
   "id": "8dde9a22-e034-4aea-b142-367c733fdf51",
   "metadata": {},
   "outputs": [
    {
     "name": "stdout",
     "output_type": "stream",
     "text": [
      "<function test1 at 0x000001DC9A1D1260>\n"
     ]
    }
   ],
   "source": [
    "# 파이썬에서 함수의 이름은 함수를 가지고 있는 변수가 된다.\n",
    "print(test1)"
   ]
  },
  {
   "cell_type": "code",
   "execution_count": 21,
   "id": "6708e6e0-1161-485b-ae32-ea396d001282",
   "metadata": {},
   "outputs": [
    {
     "name": "stdout",
     "output_type": "stream",
     "text": [
      "test1 함수\n",
      "안녕하세요\n"
     ]
    }
   ],
   "source": [
    "# 다른 변수에 담아 함수를 호출할 수 있다.\n",
    "test2 = test1\n",
    "test2()"
   ]
  },
  {
   "cell_type": "code",
   "execution_count": 23,
   "id": "ef8d5d33-e1b3-4e00-8810-6e4746c6a63a",
   "metadata": {},
   "outputs": [
    {
     "ename": "TypeError",
     "evalue": "'int' object is not callable",
     "output_type": "error",
     "traceback": [
      "\u001b[1;31m---------------------------------------------------------------------------\u001b[0m",
      "\u001b[1;31mTypeError\u001b[0m                                 Traceback (most recent call last)",
      "Cell \u001b[1;32mIn[23], line 4\u001b[0m\n\u001b[0;32m      1\u001b[0m \u001b[38;5;66;03m# 함수의 이름은 변수이므로 다른 것을 넣을 수 있다.\u001b[39;00m\n\u001b[0;32m      2\u001b[0m \u001b[38;5;66;03m# 단, 다시는 그 이름으로 함수를 호출할 수 없다.\u001b[39;00m\n\u001b[0;32m      3\u001b[0m test1 \u001b[38;5;241m=\u001b[39m \u001b[38;5;241m100\u001b[39m\n\u001b[1;32m----> 4\u001b[0m test1()\n",
      "\u001b[1;31mTypeError\u001b[0m: 'int' object is not callable"
     ]
    }
   ],
   "source": [
    "# 함수의 이름은 변수이므로 다른 것을 넣을 수 있다.\n",
    "# 단, 다시는 그 이름으로 함수를 호출할 수 없다.\n",
    "test1 = 100\n",
    "test1()"
   ]
  },
  {
   "cell_type": "code",
   "execution_count": 31,
   "id": "b22b3530-bb5d-433f-b40e-59313447f825",
   "metadata": {},
   "outputs": [],
   "source": [
    "# 함수의 매개변수\n",
    "# 파이썬은 함수를 호출할 때 함수에 정의되어 있는 모든 매개변수에\n",
    "# 들어갈 값을 결정해줘야 한다.\n",
    "def test3(a1, a2, a3) :\n",
    "    print(a1)\n",
    "    print(a2)\n",
    "    print(a3)"
   ]
  },
  {
   "cell_type": "code",
   "execution_count": 27,
   "id": "dc0a81b1-8c7c-492a-94e1-a6815949dd5c",
   "metadata": {},
   "outputs": [
    {
     "name": "stdout",
     "output_type": "stream",
     "text": [
      "10\n",
      "20\n",
      "30\n",
      "100\n",
      "200\n",
      "300\n"
     ]
    }
   ],
   "source": [
    "# 함수를 호출할 때 전달하는 값은 매개변수에 담겨져 매개변수에 저장할 값으로 결정된다.\n",
    "# 작성해준 값은 함수의 매개변수에 1:1 대응하여 하나씩 담기게 된다.\n",
    "test3(10, 20, 30)\n",
    "test3(100, 200, 300)"
   ]
  },
  {
   "cell_type": "code",
   "execution_count": 29,
   "id": "3e947c51-b783-4dac-ad07-ef36a37570c2",
   "metadata": {},
   "outputs": [
    {
     "ename": "TypeError",
     "evalue": "test3() missing 1 required positional argument: 'a3'",
     "output_type": "error",
     "traceback": [
      "\u001b[1;31m---------------------------------------------------------------------------\u001b[0m",
      "\u001b[1;31mTypeError\u001b[0m                                 Traceback (most recent call last)",
      "Cell \u001b[1;32mIn[29], line 2\u001b[0m\n\u001b[0;32m      1\u001b[0m \u001b[38;5;66;03m# 만약 매개변수의 개수보다 전달하는 값의 개수가 부족하다면\u001b[39;00m\n\u001b[1;32m----> 2\u001b[0m test3(\u001b[38;5;241m10\u001b[39m, \u001b[38;5;241m20\u001b[39m)\n",
      "\u001b[1;31mTypeError\u001b[0m: test3() missing 1 required positional argument: 'a3'"
     ]
    }
   ],
   "source": [
    "# 함수에 정의되어 있는 매개변수의 개수보다 부족하게 값을 전달하면 값이 결정되지 않는\n",
    "# 매개변수가 있기 때문에 오류가 발생한다.\n",
    "test3(10, 20)"
   ]
  },
  {
   "cell_type": "code",
   "execution_count": 33,
   "id": "c3e8d4e8-3d1e-49ce-8fdb-73d8f9ddb957",
   "metadata": {},
   "outputs": [
    {
     "ename": "TypeError",
     "evalue": "test3() takes 3 positional arguments but 4 were given",
     "output_type": "error",
     "traceback": [
      "\u001b[1;31m---------------------------------------------------------------------------\u001b[0m",
      "\u001b[1;31mTypeError\u001b[0m                                 Traceback (most recent call last)",
      "Cell \u001b[1;32mIn[33], line 2\u001b[0m\n\u001b[0;32m      1\u001b[0m \u001b[38;5;66;03m# 매개변수보다 더 많이 전달하면 오류가 발생한다.\u001b[39;00m\n\u001b[1;32m----> 2\u001b[0m test3(\u001b[38;5;241m10\u001b[39m, \u001b[38;5;241m20\u001b[39m, \u001b[38;5;241m30\u001b[39m, \u001b[38;5;241m40\u001b[39m)\n",
      "\u001b[1;31mTypeError\u001b[0m: test3() takes 3 positional arguments but 4 were given"
     ]
    }
   ],
   "source": [
    "# 매개변수보다 더 많이 전달하면 오류가 발생한다.\n",
    "test3(10, 20, 30, 40)"
   ]
  },
  {
   "cell_type": "code",
   "execution_count": 35,
   "id": "909ca2d6-fa72-4936-acf1-6a0b335a3550",
   "metadata": {},
   "outputs": [
    {
     "name": "stdout",
     "output_type": "stream",
     "text": [
      "10\n",
      "30\n",
      "30\n"
     ]
    }
   ],
   "source": [
    "# 어떠한 매개변수에 값을 담을지 정해줄 수도 있다(순서 무관)\n",
    "test3(a2 = 30, a3 = 30, a1 = 10)"
   ]
  },
  {
   "cell_type": "code",
   "execution_count": 37,
   "id": "cfe53517-b529-42bb-96ca-1a3fc2e93e91",
   "metadata": {},
   "outputs": [
    {
     "name": "stdout",
     "output_type": "stream",
     "text": [
      "10\n",
      "20\n",
      "30\n",
      "10\n",
      "30\n",
      "30\n",
      "10\n",
      "20\n",
      "30\n"
     ]
    }
   ],
   "source": [
    "# 함수를 호출 할 때는 전달하는 값이 어떤 매개변수에 저장될 지 정해줘야 한다.\n",
    "# 값만 작성하면 순서대로 1:1 매칭하여 값을 저장한다.\n",
    "test3(10, 20, 30)\n",
    "\n",
    "# 어떠한 매개변수에 값을 담을지 정해줄 수도 있다(순서 무관)\n",
    "test3(a2 = 30, a3 = 30, a1 = 10)\n",
    "\n",
    "# 만약 어느 변수에 담길 것임을 지정하지 않는 값이 있다면..\n",
    "test3(10, a3=30, a2=20)"
   ]
  },
  {
   "cell_type": "code",
   "execution_count": 39,
   "id": "aefdb197-11a7-4194-826a-595698056c6b",
   "metadata": {},
   "outputs": [
    {
     "ename": "SyntaxError",
     "evalue": "keyword argument repeated: a2 (168552144.py, line 2)",
     "output_type": "error",
     "traceback": [
      "\u001b[1;36m  Cell \u001b[1;32mIn[39], line 2\u001b[1;36m\u001b[0m\n\u001b[1;33m    test3(10, a2=20, a2=30, a3=30)\u001b[0m\n\u001b[1;37m                     ^\u001b[0m\n\u001b[1;31mSyntaxError\u001b[0m\u001b[1;31m:\u001b[0m keyword argument repeated: a2\n"
     ]
    }
   ],
   "source": [
    "# a2에 저장될 값을 두 개를 지정하였으므로 오류 발생한다.\n",
    "test3(10, a2=20, a2=30, a3=30)"
   ]
  },
  {
   "cell_type": "code",
   "execution_count": 41,
   "id": "60e9ccf9-258b-46e1-8a49-62974560780c",
   "metadata": {},
   "outputs": [
    {
     "ename": "SyntaxError",
     "evalue": "positional argument follows keyword argument (1482801521.py, line 2)",
     "output_type": "error",
     "traceback": [
      "\u001b[1;36m  Cell \u001b[1;32mIn[41], line 2\u001b[1;36m\u001b[0m\n\u001b[1;33m    test3(a3=30, 20, a1=10)\u001b[0m\n\u001b[1;37m                          ^\u001b[0m\n\u001b[1;31mSyntaxError\u001b[0m\u001b[1;31m:\u001b[0m positional argument follows keyword argument\n"
     ]
    }
   ],
   "source": [
    "# 변수의 이름을 지정하지 않은 값은 무조건 앞쪽에 몰려있어야 한다.\n",
    "test3(a3=30, 20, a1=10)"
   ]
  },
  {
   "cell_type": "code",
   "execution_count": 45,
   "id": "9608d9a3-f6a0-4485-861c-25a0ebd24ea5",
   "metadata": {},
   "outputs": [],
   "source": [
    "# 기본값을 가지고 있는 매개변수\n",
    "# 기본값을 가지고 있는 매개변수에 저장될 값을 결정해주지 않으면 기본값으로 결정된다.\n",
    "# a1은 기본값일 설정되어 있지 않기 때문에 함수를 호출할 때 반드시 값을 전달해야 하고\n",
    "# a2와 a3은 기본값이 설정되어 있기 때문에 함수를 호출할 때 값을 전달하지 않으면 기본값으로\n",
    "# 결정된다.\n",
    "def test4(a1, a2 = 2, a3 = 3) :\n",
    "    print(a1)\n",
    "    print(a2)\n",
    "    print(a3)"
   ]
  },
  {
   "cell_type": "code",
   "execution_count": 47,
   "id": "5ce5a7a7-ee4b-40bf-867d-6d105e4d6e0d",
   "metadata": {},
   "outputs": [
    {
     "name": "stdout",
     "output_type": "stream",
     "text": [
      "10\n",
      "20\n",
      "30\n",
      "10\n",
      "20\n",
      "3\n",
      "10\n",
      "2\n",
      "3\n",
      "10\n",
      "2\n",
      "30\n"
     ]
    }
   ],
   "source": [
    "# 함수를 호출할 때 값을 전달하면 기본값이 아닌 전달한 값으로 결정되고\n",
    "# 기본값이 있는 매개변수에 값을 전달하지 않으면 기본값으로 결정된다.\n",
    "test4(10, 20, 30)\n",
    "test4(10, 20)\n",
    "test4(10)\n",
    "test4(10, a3=30)"
   ]
  },
  {
   "cell_type": "code",
   "execution_count": 49,
   "id": "7f252824-c8ce-4615-a8ed-284df7e0a82e",
   "metadata": {},
   "outputs": [
    {
     "ename": "NameError",
     "evalue": "name 'test5' is not defined",
     "output_type": "error",
     "traceback": [
      "\u001b[1;31m---------------------------------------------------------------------------\u001b[0m",
      "\u001b[1;31mNameError\u001b[0m                                 Traceback (most recent call last)",
      "Cell \u001b[1;32mIn[49], line 1\u001b[0m\n\u001b[1;32m----> 1\u001b[0m a1 \u001b[38;5;241m=\u001b[39m test5()\n\u001b[0;32m      2\u001b[0m \u001b[38;5;28mprint\u001b[39m(a1)\n",
      "\u001b[1;31mNameError\u001b[0m: name 'test5' is not defined"
     ]
    }
   ],
   "source": [
    "a1 = test5()\n",
    "print(a1)"
   ]
  },
  {
   "cell_type": "code",
   "execution_count": 51,
   "id": "7f827259-447e-46eb-9045-4746113a5b88",
   "metadata": {},
   "outputs": [],
   "source": [
    "# return 다음에 값을 적어주면 값 하나를 반환할 수 있다.\n",
    "def test6(a1, a2) :\n",
    "    r1 = a1 + a2\n",
    "    return r1"
   ]
  },
  {
   "cell_type": "code",
   "execution_count": 53,
   "id": "b9952c58-0b90-4a72-ba71-dd953b0a7ed3",
   "metadata": {},
   "outputs": [
    {
     "name": "stdout",
     "output_type": "stream",
     "text": [
      "30\n",
      "300\n"
     ]
    }
   ],
   "source": [
    "# 함수를 호출하여 함수가 반환하는 값을 받는다\n",
    "t1 = test6(10, 20)\n",
    "print(t1)\n",
    "\n",
    "t2 = test6(100, 200)\n",
    "print(t2)"
   ]
  },
  {
   "cell_type": "code",
   "execution_count": 55,
   "id": "cd406677-027c-4feb-b346-6d28f5d861c3",
   "metadata": {},
   "outputs": [],
   "source": [
    "# return 키워드는 함수의 수행을 중단하고 함수를 호출하는 쪽으로 돌아간다라는 의미이다.\n",
    "# 함수의 수행을 더이상 하고 싶지 않을 때도 사용한다.\n",
    "def test7(a1) :\n",
    "    if a1 % 2 == 0 :\n",
    "        # 함수 수행 중단.\n",
    "        return\n",
    "\n",
    "    print(f'test7 : {a1}')"
   ]
  },
  {
   "cell_type": "code",
   "execution_count": 57,
   "id": "9edbba93-41be-4386-b85b-9985559e5e86",
   "metadata": {},
   "outputs": [
    {
     "name": "stdout",
     "output_type": "stream",
     "text": [
      "test7 : 3\n"
     ]
    }
   ],
   "source": [
    "test7(3)\n",
    "test7(4)"
   ]
  },
  {
   "cell_type": "code",
   "execution_count": 59,
   "id": "b25651fb-dc5c-42c5-8cbe-7688ecff5bcc",
   "metadata": {},
   "outputs": [],
   "source": [
    "def test8(a1, a2) :\n",
    "    r1 = a1 + a2\n",
    "    r2 = a1 - a2\n",
    "    r3 = a1 * a2\n",
    "    r4 = a1 // a2\n",
    "\n",
    "    return r1, r2, r3, r4"
   ]
  },
  {
   "cell_type": "code",
   "execution_count": 61,
   "id": "a10d926e-8fa8-4094-ab38-37da0da59c94",
   "metadata": {},
   "outputs": [],
   "source": [
    "def test8(a1, a2) :\n",
    "    r1 = a1 + a2\n",
    "    r2 = a1 - a2\n",
    "    r3 = a1 * a2\n",
    "    r4 = a1 // a2\n",
    "    # 아래의 반환은 동시에 여러개의 값을 반환하는 것이 아닌\n",
    "    # 튜플로 생성하여 튜플 하나를 반환하는 것이다.\n",
    "    return r1, r2, r3, r4"
   ]
  },
  {
   "cell_type": "code",
   "execution_count": 63,
   "id": "eaf647e6-e7e5-4e7a-90cd-cbbc95ff8d25",
   "metadata": {},
   "outputs": [
    {
     "name": "stdout",
     "output_type": "stream",
     "text": [
      "(13, 7, 30, 3)\n",
      "<class 'tuple'>\n"
     ]
    }
   ],
   "source": [
    "t1 = test8(10, 3)\n",
    "print(t1)\n",
    "print(type(t1))"
   ]
  },
  {
   "cell_type": "code",
   "execution_count": 65,
   "id": "eea896b5-5559-4c0a-8581-24b411b94c31",
   "metadata": {},
   "outputs": [
    {
     "name": "stdout",
     "output_type": "stream",
     "text": [
      "13 7 30 3\n"
     ]
    }
   ],
   "source": [
    "t1, t2, t3, t4 = test8(10, 3)\n",
    "print(t1, t2, t3, t4)"
   ]
  },
  {
   "cell_type": "code",
   "execution_count": 67,
   "id": "5641dc92-8426-4d0b-90d2-6646181f6541",
   "metadata": {},
   "outputs": [],
   "source": [
    "# 가변형 매개변수\n",
    "# 매개변수 하나로 다수의 값을 받을 수 있다라는 개념\n",
    "# 함수를 호출할 때 전달해주는 값들을 모아 튜플로 만들어 변수에 담아 준다.\n",
    "def test9(*a1) :\n",
    "    return sum(a1)"
   ]
  },
  {
   "cell_type": "code",
   "execution_count": 69,
   "id": "b0803c08-01b5-44d8-a342-a3fe665a3eb1",
   "metadata": {},
   "outputs": [
    {
     "name": "stdout",
     "output_type": "stream",
     "text": [
      "60\n",
      "150\n",
      "360\n"
     ]
    }
   ],
   "source": [
    "t1 = test9(10, 20, 30)\n",
    "t2 = test9(10, 20, 30, 40, 50)\n",
    "t3 = test9(10, 20, 30, 40, 50, 60, 70, 80)\n",
    "\n",
    "print(t1)\n",
    "print(t2)\n",
    "print(t3)"
   ]
  },
  {
   "cell_type": "code",
   "execution_count": 71,
   "id": "c545e592-1f97-49e8-8c34-eca204707238",
   "metadata": {},
   "outputs": [],
   "source": [
    "def test10(**a1) :\n",
    "    print(a1)"
   ]
  },
  {
   "cell_type": "code",
   "execution_count": 73,
   "id": "fb218e20-930f-45c7-9990-cc2874e592e7",
   "metadata": {},
   "outputs": [],
   "source": [
    "# 전달되는 값들을 모아 딕셔너리로 만들어서 변수에 담아준다.\n",
    "# 이때 함수를 호출하는 쪽에서 사용한 이름이 딕셔너리의 이름이 된다.\n",
    "def test10(**a1) :"
   ]
  },
  {
   "cell_type": "code",
   "execution_count": 75,
   "id": "f48c18b5-efc4-480b-b2e0-b7b50a3d47e8",
   "metadata": {},
   "outputs": [
    {
     "name": "stdout",
     "output_type": "stream",
     "text": [
      "{'k1': 10, 'k2': 20, 'k3': 30}\n",
      "{'t1': 100, 't2': 200, 't3': 300}\n"
     ]
    }
   ],
   "source": [
    "test10(k1=10, k2=20, k3=30)\n",
    "test10(t1=100, t2=200, t3=300)"
   ]
  },
  {
   "cell_type": "code",
   "execution_count": 77,
   "id": "1c86a57e-e3a9-43ed-9d81-278bbac57280",
   "metadata": {},
   "outputs": [],
   "source": [
    "# 섞여 있을 경우\n",
    "# *와 **가 같이 있을 경우 순서는 상관이 없다.\n",
    "# *변수와 다른 일반적인 매개변수와 섞여 있을 경우\n",
    "# 앞의 두 개는 a1, a2, 뒤의 두개는 a4, a5에 담기고 나머지는 튜플로 만들어져서\n",
    "# a3에 담긴다.\n",
    "def test11(a1, a2, *a3, a4, a5) :\n",
    "    print(a1)\n",
    "    print(a2)\n",
    "    print(a3)\n",
    "    print(a4)\n",
    "    print(a5)"
   ]
  },
  {
   "cell_type": "code",
   "execution_count": 79,
   "id": "8b523387-7375-438c-80c7-4444ae18435b",
   "metadata": {},
   "outputs": [
    {
     "name": "stdout",
     "output_type": "stream",
     "text": [
      "10\n",
      "20\n",
      "(30, 40, 50, 60, 70, 80)\n",
      "90\n",
      "100\n"
     ]
    }
   ],
   "source": [
    "# *변수 다음에 있는 매개변수로 들어갈 값은 이름을 지정해줘야 한다.\n",
    "test11(10, 20, 30, 40, 50, 60, 70, 80, a4=90, a5=100)"
   ]
  },
  {
   "cell_type": "code",
   "execution_count": null,
   "id": "37b22496-d3b3-4958-b069-757c6db01930",
   "metadata": {},
   "outputs": [],
   "source": []
  }
 ],
 "metadata": {
  "kernelspec": {
   "display_name": "Python [conda env:base] *",
   "language": "python",
   "name": "conda-base-py"
  },
  "language_info": {
   "codemirror_mode": {
    "name": "ipython",
    "version": 3
   },
   "file_extension": ".py",
   "mimetype": "text/x-python",
   "name": "python",
   "nbconvert_exporter": "python",
   "pygments_lexer": "ipython3",
   "version": "3.12.7"
  }
 },
 "nbformat": 4,
 "nbformat_minor": 5
}
