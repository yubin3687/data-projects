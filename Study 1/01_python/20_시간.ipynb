{
 "cells": [
  {
   "cell_type": "code",
   "execution_count": 1,
   "id": "dbf7c11e-d911-44a1-9678-54192cb68871",
   "metadata": {},
   "outputs": [],
   "source": [
    "# time 이라는 것을 사용하겠다는 의미\n",
    "import time"
   ]
  },
  {
   "cell_type": "code",
   "execution_count": 7,
   "id": "0fb0c8e7-c1ea-47ee-b150-f0166f4d72ac",
   "metadata": {},
   "outputs": [
    {
     "name": "stdout",
     "output_type": "stream",
     "text": [
      "1743986222.0320866\n"
     ]
    }
   ],
   "source": [
    "# 현재시간 가져오기\n",
    "# 유닉스 타임. 1970년 1월 1일 0시 0분 0초 0ms(세계 표준시 기준, 대한민국은 9시간을 더한다)을 0으로\n",
    "# 정하고 1ms 마다 증가시키거나 감소시킨 값을 의미한다.\n",
    "# 컴퓨터 입장에서의 시간 값\n",
    "# 개발자는 주로 중복되지 않는 유일한 값이 필요할 때 사용한다.\n",
    "a1 = time.time()\n",
    "print(a1)"
   ]
  },
  {
   "cell_type": "code",
   "execution_count": 12,
   "id": "b980f588-8986-4db1-9063-6c01a2c30641",
   "metadata": {},
   "outputs": [
    {
     "name": "stdout",
     "output_type": "stream",
     "text": [
      "타임 존 : 대한민국 표준시\n",
      "년 : 2025\n",
      "월 : 4\n",
      "현재 월에서 몇 번째 일인지 : 7\n",
      "시 : 9\n",
      "분 : 41\n",
      "초 : 46\n",
      "이번 주에서 몇 번째 일인지 : 0\n",
      "올 해에서 몇 번째 일인지 : 97\n"
     ]
    }
   ],
   "source": [
    "# 시간값. 사람 입장에서의 시간 값\n",
    "# 현재 컴퓨터에 설정되어 있는 지역을 기준으로 가져온다.\n",
    "a2 = time.localtime()\n",
    "print(f'타임 존 : {a2.tm_zone}')\n",
    "print(f'년 : {a2.tm_year}')\n",
    "print(f'월 : {a2.tm_mon}')\n",
    "print(f'현재 월에서 몇 번째 일인지 : {a2.tm_mday}')\n",
    "print(f'시 : {a2.tm_hour}')\n",
    "print(f'분 : {a2.tm_min}')\n",
    "print(f'초 : {a2.tm_sec}')\n",
    "print(f'이번 주에서 몇 번째 일인지 : {a2.tm_wday}')\n",
    "print(f'올 해에서 몇 번째 일인지 : {a2.tm_yday}')"
   ]
  },
  {
   "cell_type": "code",
   "execution_count": 14,
   "id": "b16b3a77-ffff-4ab1-8d51-d58fe07b5b8d",
   "metadata": {},
   "outputs": [
    {
     "name": "stdout",
     "output_type": "stream",
     "text": [
      "0\n",
      "1\n",
      "2\n",
      "3\n",
      "4\n"
     ]
    }
   ],
   "source": [
    "# 주어진 시간동안 쉰다. 단위는 초 단위\n",
    "for v1 in range(5) :\n",
    "    time.sleep(1)\n",
    "    print(v1)"
   ]
  },
  {
   "cell_type": "code",
   "execution_count": 16,
   "id": "b69496e4-7e81-4797-b6e4-397454df7cb5",
   "metadata": {},
   "outputs": [
    {
     "name": "stdout",
     "output_type": "stream",
     "text": [
      "2025년 04월 07일 10시 28초\n"
     ]
    }
   ],
   "source": [
    "# 시간을 주어진 양식의 문자열로 만들어준다.\n",
    "# https://docs.python.org/ko/3.13/library/time.html#time.strftime\n",
    "a1 = time.localtime()\n",
    "a2 = time.strftime(\"%Y년 %m월 %d일 %H시 %S초\", a1)\n",
    "print(a2)"
   ]
  },
  {
   "cell_type": "code",
   "execution_count": 21,
   "id": "a80277f9-77d7-46a7-a264-3f1df67f5508",
   "metadata": {},
   "outputs": [
    {
     "name": "stdout",
     "output_type": "stream",
     "text": [
      "시작 시간 : 249180.3198184\n",
      "종료 시간 : 249185.3220694\n",
      "총 수행 시간 : 5.002250999998068\n"
     ]
    }
   ],
   "source": [
    "# 코드 실행 시작 시간\n",
    "start_time = time.perf_counter()\n",
    "\n",
    "for v1 in range(5) :\n",
    "    time.sleep(1)\n",
    "\n",
    "# 코드 실행 종료 시간\n",
    "end_time = time.perf_counter()\n",
    "\n",
    "print(f'시작 시간 : {start_time}')\n",
    "print(f'종료 시간 : {end_time}')\n",
    "print(f'총 수행 시간 : {end_time - start_time}')"
   ]
  },
  {
   "cell_type": "code",
   "execution_count": null,
   "id": "e8c171ad-c5ef-4f81-b8d3-7218df6c6030",
   "metadata": {},
   "outputs": [],
   "source": []
  }
 ],
 "metadata": {
  "kernelspec": {
   "display_name": "Python [conda env:base] *",
   "language": "python",
   "name": "conda-base-py"
  },
  "language_info": {
   "codemirror_mode": {
    "name": "ipython",
    "version": 3
   },
   "file_extension": ".py",
   "mimetype": "text/x-python",
   "name": "python",
   "nbconvert_exporter": "python",
   "pygments_lexer": "ipython3",
   "version": "3.12.7"
  }
 },
 "nbformat": 4,
 "nbformat_minor": 5
}
