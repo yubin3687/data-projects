{
 "cells": [
  {
   "cell_type": "code",
   "execution_count": 1,
   "id": "3da17e70-5556-47b7-8b86-d5fdc528435b",
   "metadata": {},
   "outputs": [],
   "source": [
    "list1 = [10, 20, 30, 40, 50]\n",
    "tuple1 = 10, 20, 30, 40, 50\n",
    "dict1 = {\n",
    "    'a1' : 100,\n",
    "    'a2' : 200,\n",
    "    'a3' : 300\n",
    "}"
   ]
  },
  {
   "cell_type": "code",
   "execution_count": 3,
   "id": "c206a552-af0a-4fd6-b371-9c6954a9ed97",
   "metadata": {},
   "outputs": [
    {
     "name": "stdout",
     "output_type": "stream",
     "text": [
      "True\n",
      "False\n",
      "True\n",
      "False\n",
      "True\n",
      "False\n"
     ]
    }
   ],
   "source": [
    "# in\n",
    "# 튜플, 리스트인 경우 주어진 값이 포함되어 있는가\n",
    "# 딕셔너리인인 경우 주어진 이름으로 저장되어 있는 값이 있는가\n",
    "print(10 in list1)\n",
    "print(100 in list1)\n",
    "print(10 in tuple1)\n",
    "print(100 in tuple1)\n",
    "print('a1' in dict1)\n",
    "print('a100' in dict1)"
   ]
  },
  {
   "cell_type": "code",
   "execution_count": 5,
   "id": "aa6b7f9e-7968-41d4-bd65-b9437a1e389b",
   "metadata": {},
   "outputs": [
    {
     "name": "stdout",
     "output_type": "stream",
     "text": [
      "[(0, 10), (1, 20), (2, 30), (3, 40), (4, 50)]\n",
      "[(0, 10), (1, 20), (2, 30), (3, 40), (4, 50)]\n"
     ]
    }
   ],
   "source": [
    "# enumerate\n",
    "# 리스트와 튜플만 사용한다.\n",
    "# 관리하고있는 값들과 순서값의 쌍으로 구성된 요소를 생성한다.\n",
    "e1 = enumerate(list1)\n",
    "e2 = enumerate(tuple1)\n",
    "print(list(e1))\n",
    "print(list(e2))"
   ]
  },
  {
   "cell_type": "code",
   "execution_count": 7,
   "id": "514bca85-b966-4278-b1f1-d70cf0ba5e88",
   "metadata": {},
   "outputs": [
    {
     "name": "stdout",
     "output_type": "stream",
     "text": [
      "0 : 10\n",
      "1 : 20\n",
      "2 : 30\n",
      "3 : 40\n",
      "4 : 50\n"
     ]
    }
   ],
   "source": [
    "# enumerate의 사용 예로써 for문을 들 수 있다.\n",
    "# 파이썬에서 데이터를 관리하는 요소를 통해 for문을 사용하면\n",
    "# 몇 번째 반복인지를 확인하기가 어렵다. 이때 enumerate를 사용하면 된다.\n",
    "for idx, a1 in enumerate(list1) :\n",
    "    print(f'{idx} : {a1}')"
   ]
  },
  {
   "cell_type": "code",
   "execution_count": 9,
   "id": "c8ca77ef-16ca-4e45-96fc-340f8e647a3a",
   "metadata": {},
   "outputs": [
    {
     "name": "stdout",
     "output_type": "stream",
     "text": [
      "dict_keys(['a1', 'a2', 'a3'])\n",
      "dict_values([100, 200, 300])\n",
      "dict_items([('a1', 100), ('a2', 200), ('a3', 300)])\n"
     ]
    }
   ],
   "source": [
    "# 딕셔너리가 가지고 있는 함수\n",
    "# 이름들을 가져온다.\n",
    "name1 = dict1.keys()\n",
    "# 값들을 가져온다.\n",
    "value1 = dict1.values()\n",
    "# (이름, 값) 형태로 되어 있는 튜플들을 가지고 있는 요소\n",
    "items1 = dict1.items()\n",
    "\n",
    "print(name1)\n",
    "print(value1)\n",
    "print(items1)"
   ]
  },
  {
   "cell_type": "code",
   "execution_count": 11,
   "id": "ea23833f-ece7-4d81-925d-182b8b363c31",
   "metadata": {},
   "outputs": [
    {
     "name": "stdout",
     "output_type": "stream",
     "text": [
      "10\n",
      "20\n",
      "30\n",
      "40\n",
      "50\n",
      "10\n",
      "20\n",
      "30\n",
      "40\n",
      "50\n",
      "100\n",
      "200\n",
      "300\n"
     ]
    }
   ],
   "source": [
    "# for 문 사용하기\n",
    "# 리스트는 값을 추출하여 변수에 담아준다\n",
    "for v1 in list1 :\n",
    "    print(v1)\n",
    "\n",
    "# 튜플은 값을 추출하여 변수에 담아준다.\n",
    "for v2 in tuple1 :\n",
    "    print(v2)\n",
    "\n",
    "# 딕셔너리는 이름을 추출하여 변수에 담아준다.\n",
    "for v3 in dict1 :\n",
    "    print(dict1[v3])"
   ]
  },
  {
   "cell_type": "code",
   "execution_count": null,
   "id": "5adf52a4-799a-41d6-9ea3-4f8398a006a2",
   "metadata": {},
   "outputs": [],
   "source": []
  }
 ],
 "metadata": {
  "kernelspec": {
   "display_name": "Python [conda env:base] *",
   "language": "python",
   "name": "conda-base-py"
  },
  "language_info": {
   "codemirror_mode": {
    "name": "ipython",
    "version": 3
   },
   "file_extension": ".py",
   "mimetype": "text/x-python",
   "name": "python",
   "nbconvert_exporter": "python",
   "pygments_lexer": "ipython3",
   "version": "3.12.7"
  }
 },
 "nbformat": 4,
 "nbformat_minor": 5
}
