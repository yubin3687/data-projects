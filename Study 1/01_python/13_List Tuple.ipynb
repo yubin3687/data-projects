{
 "cells": [
  {
   "cell_type": "markdown",
   "id": "387b9003-364e-41f1-90bd-d800e158333e",
   "metadata": {},
   "source": [
    "# List Tuple\n",
    "- 0부터 1까지 증가하는 순서 값을 이용하여 데이터를 관리하는 요소\n",
    "- Tuple은 읽기만 가능하고 List는 수정, 삭제, 삽입, 추가 등이 가능하다"
   ]
  },
  {
   "cell_type": "code",
   "execution_count": 5,
   "id": "99da046e-a6b3-437e-aaf8-821773c00607",
   "metadata": {},
   "outputs": [
    {
     "name": "stdout",
     "output_type": "stream",
     "text": [
      "()\n",
      "[]\n",
      "<class 'tuple'>\n",
      "<class 'list'>\n"
     ]
    }
   ],
   "source": [
    "# 생성\n",
    "# tuple 생성\n",
    "tuple1 = tuple()\n",
    "# list 생성\n",
    "list1 = list()\n",
    "\n",
    "print(tuple1)\n",
    "print(list1)\n",
    "print(type(tuple1))\n",
    "print(type(list1))"
   ]
  },
  {
   "cell_type": "code",
   "execution_count": 7,
   "id": "f105fdc8-e86f-4976-8eb2-94932d38c8c2",
   "metadata": {},
   "outputs": [
    {
     "name": "stdout",
     "output_type": "stream",
     "text": [
      "()\n",
      "[]\n",
      "<class 'tuple'>\n",
      "<class 'list'>\n"
     ]
    }
   ],
   "source": [
    "# tuple 생성\n",
    "tuple2 = ()\n",
    "list2 = []\n",
    "\n",
    "print(tuple2)\n",
    "print(list2)\n",
    "print(type(tuple2))\n",
    "print(type(list2))"
   ]
  },
  {
   "cell_type": "code",
   "execution_count": 6,
   "id": "63f57162-085c-478c-bc0e-0c8d4c0b744b",
   "metadata": {},
   "outputs": [
    {
     "name": "stdout",
     "output_type": "stream",
     "text": [
      "(10, 20, 30, 40, 50)\n",
      "[10, 20, 30, 40, 50]\n",
      "<class 'tuple'>\n",
      "<class 'list'>\n"
     ]
    }
   ],
   "source": [
    "# tuple 생성\n",
    "tuple3 = (10, 20, 30, 40, 50)\n",
    "# list 생성\n",
    "list3 = [10, 20, 30, 40, 50]\n",
    "\n",
    "print(tuple3)\n",
    "print(list3)\n",
    "print(type(tuple3))\n",
    "print(type(list3))"
   ]
  },
  {
   "cell_type": "code",
   "execution_count": 9,
   "id": "d9c48ce3-f3d8-4cf5-b2fb-6f9589180712",
   "metadata": {},
   "outputs": [
    {
     "name": "stdout",
     "output_type": "stream",
     "text": [
      "(10, 20, 30, 40, 50)\n",
      "<class 'tuple'>\n"
     ]
    }
   ],
   "source": [
    "# tuple 생성\n",
    "tuple4 = 10, 20, 30, 40, 50\n",
    "\n",
    "print(tuple4)\n",
    "print(type(tuple4))"
   ]
  },
  {
   "cell_type": "code",
   "execution_count": 11,
   "id": "4e7444e7-c16e-4567-b6b3-d9ae78092c18",
   "metadata": {},
   "outputs": [
    {
     "name": "stdout",
     "output_type": "stream",
     "text": [
      "(10, 20, 30, 40, 50, 60)\n",
      "[10, 20, 30, 40, 50, 60]\n"
     ]
    }
   ],
   "source": [
    "# 연산\n",
    "tuple1 = 10, 20, 30\n",
    "tuple2 = 40, 50, 60\n",
    "list1 = [10, 20, 30]\n",
    "list2 = [40, 50, 60]\n",
    "\n",
    "\n",
    "# 더하기. 관리하는 값들을 모두 추출하여 새로운 요소를 생성해준다.\n",
    "tuple3 = tuple1 + tuple2\n",
    "list3 = list1 + list2\n",
    "print(tuple3)\n",
    "print(list3)"
   ]
  },
  {
   "cell_type": "code",
   "execution_count": 16,
   "id": "53e1ad43-8772-48de-8e1c-4e16212d6c13",
   "metadata": {},
   "outputs": [
    {
     "name": "stdout",
     "output_type": "stream",
     "text": [
      "(10, 20, 30, 10, 20, 30, 10, 20, 30)\n",
      "[10, 20, 30, 10, 20, 30, 10, 20, 30]\n"
     ]
    }
   ],
   "source": [
    "# 곱하기. 곱한 수 만큼 반복된 요소를 생성해준다.\n",
    "tuple4 = tuple1 * 3\n",
    "list4 = list1 * 3\n",
    "print(tuple4)\n",
    "print(list4)"
   ]
  },
  {
   "cell_type": "code",
   "execution_count": 13,
   "id": "e64509ea-6731-4e4d-aa09-3eef764cec2d",
   "metadata": {},
   "outputs": [
    {
     "name": "stdout",
     "output_type": "stream",
     "text": [
      "10\n",
      "20\n",
      "10\n",
      "20\n",
      "100\n",
      "90\n",
      "100\n",
      "90\n"
     ]
    }
   ],
   "source": [
    "tuple1 = 10, 20, 30, 40, 50, 60, 70, 80, 90, 100\n",
    "list1 = [10, 20, 30, 40, 50, 60, 70, 80, 90, 100]\n",
    "\n",
    "print(tuple1[0])\n",
    "print(tuple1[1])\n",
    "print(list1[0])\n",
    "print(list1[1])\n",
    "\n",
    "print(tuple1[-1])\n",
    "print(tuple1[-2])\n",
    "print(list1[-1])\n",
    "print(list1[-2])"
   ]
  },
  {
   "cell_type": "code",
   "execution_count": 15,
   "id": "0690244e-0e4b-4be3-aa4c-8f70d239fa69",
   "metadata": {},
   "outputs": [
    {
     "name": "stdout",
     "output_type": "stream",
     "text": [
      "(30, 40, 50)\n",
      "(10, 20, 30, 40, 50)\n",
      "(30, 40, 50, 60, 70, 80, 90, 100)\n",
      "[30, 40, 50]\n",
      "[10, 20, 30, 40, 50]\n",
      "[30, 40, 50, 60, 70, 80, 90, 100]\n"
     ]
    }
   ],
   "source": [
    "print(tuple1[2:5])\n",
    "print(tuple1[:5])\n",
    "print(tuple1[2:])\n",
    "\n",
    "print(list1[2:5])\n",
    "print(list1[:5])\n",
    "print(list1[2:])"
   ]
  },
  {
   "cell_type": "code",
   "execution_count": 17,
   "id": "a95ccf7d-09b6-42b0-b7ac-3959727f285e",
   "metadata": {},
   "outputs": [
    {
     "name": "stdout",
     "output_type": "stream",
     "text": [
      "10\n",
      "10\n"
     ]
    }
   ],
   "source": [
    "# 관리하는 값이 개수\n",
    "print(len(list1))\n",
    "print(len(tuple1))"
   ]
  },
  {
   "cell_type": "code",
   "execution_count": 19,
   "id": "17a1ce7b-bf60-4b38-ad71-5a24d3e0e5e7",
   "metadata": {},
   "outputs": [
    {
     "name": "stdout",
     "output_type": "stream",
     "text": [
      "80 80 -30 -30\n"
     ]
    }
   ],
   "source": [
    "# 관리 하는 값의 최대 최소값을 가져온다\n",
    "tuple1 = 50, 20, -30, 40, 80\n",
    "list1 = [50, 20, -30, 40, 80]\n",
    "\n",
    "a1 = max(tuple1)\n",
    "a2 = max(list1)\n",
    "a3 = min(tuple1)\n",
    "a4 = min(list1)\n",
    "\n",
    "print(a1, a2, a3, a4)"
   ]
  },
  {
   "cell_type": "code",
   "execution_count": 21,
   "id": "891f25df-250a-4e43-b803-cee5f3e721b7",
   "metadata": {},
   "outputs": [
    {
     "name": "stdout",
     "output_type": "stream",
     "text": [
      "[10, 20, 30, 40, 50]\n"
     ]
    }
   ],
   "source": [
    "# 튜플에 있는 값을 모두 추출하여 새로운 리스트를 생성한다.\n",
    "tuple1 = 10, 20, 30, 40, 50\n",
    "list1 = list(tuple1)\n",
    "print(list1)"
   ]
  },
  {
   "cell_type": "code",
   "execution_count": 23,
   "id": "04288e95-75e6-443e-b501-ff49cb0db8cd",
   "metadata": {},
   "outputs": [
    {
     "name": "stdout",
     "output_type": "stream",
     "text": [
      "(10, 20, 30, 40, 50)\n"
     ]
    }
   ],
   "source": [
    "# 리스트에 있는 값을 모두 추출하여 새로운 튜플을 생성한다.\n",
    "tuple2 = tuple(list1)\n",
    "print(tuple2)"
   ]
  },
  {
   "cell_type": "code",
   "execution_count": 25,
   "id": "886e44c6-3981-4fe7-9c32-65f1e4c4cd1f",
   "metadata": {},
   "outputs": [
    {
     "name": "stdout",
     "output_type": "stream",
     "text": [
      "('안', '녕', '하', '세', '요')\n",
      "['안', '녕', '하', '세', '요']\n"
     ]
    }
   ],
   "source": [
    "# 문자열을 리스트나 튜플로 생성한다.\n",
    "tuple1 = tuple('안녕하세요')\n",
    "list1 = list('안녕하세요')\n",
    "\n",
    "print(tuple1)\n",
    "print(list1)"
   ]
  },
  {
   "cell_type": "code",
   "execution_count": 27,
   "id": "7c8b6c40-32d4-44ab-96ea-aa0ff120a14a",
   "metadata": {},
   "outputs": [
    {
     "name": "stdout",
     "output_type": "stream",
     "text": [
      "('안', '녕', '하', '세', '요')\n",
      "['안', '녕', '하', '세', '요']\n"
     ]
    }
   ],
   "source": [
    "# str에 list나 튜플을 넣어주면 출력할 깨 나타나는 형태의 문자열로 만들어진다\n",
    "str1 = str(tuple1)\n",
    "str2 = str(list1)\n",
    "print(str1)\n",
    "print(str2)"
   ]
  },
  {
   "cell_type": "code",
   "execution_count": 29,
   "id": "8e7d36c5-d455-4324-8d36-bb3fb2ec81fa",
   "metadata": {},
   "outputs": [
    {
     "name": "stdout",
     "output_type": "stream",
     "text": [
      "안_녕_하_세_요\n",
      "안_녕_하_세_요\n"
     ]
    }
   ],
   "source": [
    "str1 = '_'\n",
    "# join : 지정한 튜플이나 리스트 내의 값들을 모두 추출하여 하나의 문자열로 만들어준다.\n",
    "# 이때, join을 사용한 문자열이 구분자가 된다.\n",
    "str2 = str1.join(tuple1)\n",
    "str3 = str1.join(list1)\n",
    "\n",
    "print(str2)\n",
    "print(str3)"
   ]
  },
  {
   "cell_type": "code",
   "execution_count": 31,
   "id": "0f0e9cda-5411-4279-a1c9-e61e5b0c5717",
   "metadata": {},
   "outputs": [
    {
     "name": "stdout",
     "output_type": "stream",
     "text": [
      "안녕하세요\n",
      "안녕하세요\n"
     ]
    }
   ],
   "source": [
    "# 길이가 0인 문자열로 사용하면 그냥 하나의 문자열로 합칠 수 있다.\n",
    "str1 = ''\n",
    "str2 = str1.join(tuple1)\n",
    "str3 = str1.join(list1)\n",
    "\n",
    "print(str2)\n",
    "print(str3)"
   ]
  },
  {
   "cell_type": "code",
   "execution_count": 33,
   "id": "1999672d-a777-46a0-b698-77a041b50b68",
   "metadata": {},
   "outputs": [
    {
     "name": "stdout",
     "output_type": "stream",
     "text": [
      "['ab', 'cd_ef', 'gh']\n",
      "['ab cd', 'ef gh']\n"
     ]
    }
   ],
   "source": [
    "# 구분자를 기분으로 문자열을 나눈다\n",
    "# 결과는 리스트로 나온다.\n",
    "str1 = 'ab cd_ef gh'\n",
    "\n",
    "tuple1 = str1.split()\n",
    "tuple2 = str1.split('_')\n",
    "\n",
    "print(tuple1)\n",
    "print(tuple2)"
   ]
  },
  {
   "cell_type": "markdown",
   "id": "57eb712e-7cf4-4fdb-a988-62c405bd63fc",
   "metadata": {},
   "source": [
    "### list의 데이터를 추가, 수정, 삭제, 삽입을 한다.\n",
    "- tuple은 불가능하다."
   ]
  },
  {
   "cell_type": "code",
   "execution_count": 35,
   "id": "c19a156c-a7ba-45d3-b28a-6cf4d256e896",
   "metadata": {},
   "outputs": [
    {
     "name": "stdout",
     "output_type": "stream",
     "text": [
      "[]\n"
     ]
    }
   ],
   "source": [
    "list1 = []\n",
    "print(list1)"
   ]
  },
  {
   "cell_type": "code",
   "execution_count": 37,
   "id": "7198a968-950f-42e9-8d17-99a47fec37cf",
   "metadata": {},
   "outputs": [
    {
     "name": "stdout",
     "output_type": "stream",
     "text": [
      "[10, 20, 30]\n"
     ]
    }
   ],
   "source": [
    "# 추가\n",
    "list1.append(10)\n",
    "list1.append(20)\n",
    "list1.append(30)\n",
    "print(list1)"
   ]
  },
  {
   "cell_type": "code",
   "execution_count": 39,
   "id": "7c42950b-362c-42b9-8ac8-2d202124da38",
   "metadata": {},
   "outputs": [
    {
     "name": "stdout",
     "output_type": "stream",
     "text": [
      "[10, 20, 30, 40, 50, 60]\n"
     ]
    }
   ],
   "source": [
    "# 다수의 값을 한번에 추가한다\n",
    "# 다른 리스트나 튜플이 가지고 있는 값을 추출하여 뒤에 추가해준다.\n",
    "list1.extend([40, 50, 60])\n",
    "print(list1)"
   ]
  },
  {
   "cell_type": "code",
   "execution_count": 41,
   "id": "4cb68590-12ff-407c-84ab-a2af00d36c86",
   "metadata": {},
   "outputs": [
    {
     "name": "stdout",
     "output_type": "stream",
     "text": [
      "list[1]\n"
     ]
    }
   ],
   "source": [
    "# 수정\n",
    "# 순서값을 가지고 접근하여 값을 넣어준다.\n",
    "list1[1] = 200\n",
    "print(list[1])"
   ]
  },
  {
   "cell_type": "code",
   "execution_count": 43,
   "id": "1a8afa81-1bcf-48ee-a8d6-6cf8fbe19bf9",
   "metadata": {},
   "outputs": [
    {
     "name": "stdout",
     "output_type": "stream",
     "text": [
      "[10, 90, 200, 30, 40, 50, 60]\n"
     ]
    }
   ],
   "source": [
    "# 삽입\n",
    "# 순서값 1에 해당하는 곳에 지정된 값을 삽입한다.\n",
    "list1.insert(1, 90)\n",
    "print(list1)"
   ]
  },
  {
   "cell_type": "code",
   "execution_count": 45,
   "id": "c7883449-6629-4586-879a-5620e88c79d6",
   "metadata": {},
   "outputs": [
    {
     "name": "stdout",
     "output_type": "stream",
     "text": [
      "[10, 200, 30, 40, 50, 60]\n"
     ]
    }
   ],
   "source": [
    "list1.remove(90)\n",
    "print(list1)"
   ]
  },
  {
   "cell_type": "code",
   "execution_count": 47,
   "id": "3f7219a2-9990-4f07-ae55-a777d0bd4c26",
   "metadata": {},
   "outputs": [
    {
     "name": "stdout",
     "output_type": "stream",
     "text": [
      "60\n",
      "[10, 200, 30, 40, 50]\n"
     ]
    }
   ],
   "source": [
    "# 가장 마지막 것을 가져오고 리스트에서는 제거한다.\n",
    "a1 = list1.pop()\n",
    "print(a1)\n",
    "print(list1)"
   ]
  },
  {
   "cell_type": "code",
   "execution_count": 49,
   "id": "6c2cdd2a-1d3e-43d0-a9db-4c80182f1c95",
   "metadata": {},
   "outputs": [
    {
     "name": "stdout",
     "output_type": "stream",
     "text": [
      "30\n",
      "[10, 200, 40, 50]\n"
     ]
    }
   ],
   "source": [
    "# 순서값을 지정하여 가져오고 리스트에서는 제거한다.\n",
    "a2 = list1.pop(2)\n",
    "print(a2)\n",
    "print(list1)"
   ]
  },
  {
   "cell_type": "code",
   "execution_count": 55,
   "id": "9afa8437-b2e1-413c-9c40-931116ec8174",
   "metadata": {},
   "outputs": [
    {
     "name": "stdout",
     "output_type": "stream",
     "text": [
      "[10, 20, 30, 50]\n"
     ]
    }
   ],
   "source": [
    "# 값을 지정하여 제거한다.\n",
    "# 동일한 값이 있을 경우 첫 번째 값을 제거한다.\n",
    "list1.remove(40)\n",
    "print(list1)"
   ]
  },
  {
   "cell_type": "code",
   "execution_count": 53,
   "id": "9e397e06-13ca-4299-968f-02b8fa76c596",
   "metadata": {},
   "outputs": [
    {
     "name": "stdout",
     "output_type": "stream",
     "text": [
      "[10, 20, 30, 40, 50]\n"
     ]
    }
   ],
   "source": [
    "# 정렬\n",
    "# 리스트내의 데이터를 직접 정렬해준다.\n",
    "list1 = [40, 20, 10, 30, 50]\n",
    "list1.sort()\n",
    "print(list1)"
   ]
  },
  {
   "cell_type": "code",
   "execution_count": 57,
   "id": "2b722d4b-e237-4aba-8687-9197495107d4",
   "metadata": {},
   "outputs": [
    {
     "name": "stdout",
     "output_type": "stream",
     "text": [
      "[50, 30, 20, 10]\n"
     ]
    }
   ],
   "source": [
    "# 반전\n",
    "# 순서를 반전시킨다.\n",
    "list1.reverse()\n",
    "print(list1)"
   ]
  },
  {
   "cell_type": "code",
   "execution_count": 59,
   "id": "24ccae7f-ee2c-4437-990a-1378a9fead6e",
   "metadata": {},
   "outputs": [
    {
     "name": "stdout",
     "output_type": "stream",
     "text": [
      "[10, 20, 30, 40, 50]\n"
     ]
    }
   ],
   "source": [
    "# 정렬\n",
    "# 리스트내의 데이터를 직접 정렬해준다.\n",
    "# 오름 차순 정렬\n",
    "list1 = [40, 20, 10, 30, 50]\n",
    "list1.sort()\n",
    "print(list1)"
   ]
  },
  {
   "cell_type": "code",
   "execution_count": 61,
   "id": "f56dbf7b-7e64-4427-8f8f-0c85fdd93a81",
   "metadata": {},
   "outputs": [
    {
     "name": "stdout",
     "output_type": "stream",
     "text": [
      "[50, 40, 30, 20, 10]\n"
     ]
    }
   ],
   "source": [
    "# 반전\n",
    "list1.reverse()\n",
    "print(list1)"
   ]
  },
  {
   "cell_type": "code",
   "execution_count": 63,
   "id": "750f3dc0-f213-4619-a3e3-d3121ec95310",
   "metadata": {},
   "outputs": [
    {
     "name": "stdout",
     "output_type": "stream",
     "text": [
      "[50, 40, 30, 20, 10]\n"
     ]
    }
   ],
   "source": [
    "# 정렬시 내림차순으로 하겠다면 reverse에 True를 설정해준다.\n",
    "list1 = [40, 20, 10, 30, 50]\n",
    "list1.sort(reverse=True)\n",
    "print(list1)"
   ]
  },
  {
   "cell_type": "code",
   "execution_count": 65,
   "id": "f608e6bb-e343-42f6-aa64-c98b30dd7080",
   "metadata": {},
   "outputs": [
    {
     "name": "stdout",
     "output_type": "stream",
     "text": [
      "1\n"
     ]
    }
   ],
   "source": [
    "# 위치 찾기. 없는 것을 넣으면 오류 발생\n",
    "list1 = [10, 20, 30, 40, 50]\n",
    "a1 = list1.index(20)\n",
    "print(a1)"
   ]
  },
  {
   "cell_type": "markdown",
   "id": "00d2c371-b655-4588-8f09-b48234de15d3",
   "metadata": {},
   "source": [
    "### for 문 사용하기\n",
    "- 컴플리핸션(comprehension)"
   ]
  },
  {
   "cell_type": "code",
   "execution_count": 68,
   "id": "b62ca596-8978-42b0-92a6-75c3315bdd81",
   "metadata": {},
   "outputs": [
    {
     "name": "stdout",
     "output_type": "stream",
     "text": [
      "[20, 30, 40, 50, 60]\n"
     ]
    }
   ],
   "source": [
    "# list1이 가지고 있는 값에 10을 더해 list2에 담아준다.\n",
    "list1 = [10, 20, 30, 40, 50]\n",
    "list2 = []\n",
    "\n",
    "for v1 in list1 :\n",
    "    list2.append(v1 + 10)\n",
    "\n",
    "print(list2)"
   ]
  },
  {
   "cell_type": "code",
   "execution_count": 70,
   "id": "45ed9795-c5a8-441d-9ddc-aa94018a60f6",
   "metadata": {},
   "outputs": [
    {
     "name": "stdout",
     "output_type": "stream",
     "text": [
      "[20, 30, 40, 50, 60]\n"
     ]
    }
   ],
   "source": [
    "list2 = [v1 + 10 for v1 in list1]\n",
    "print(list2)"
   ]
  },
  {
   "cell_type": "code",
   "execution_count": 73,
   "id": "31453a1f-2649-4733-9f6a-0dd9da04a4e4",
   "metadata": {},
   "outputs": [
    {
     "name": "stdout",
     "output_type": "stream",
     "text": [
      "[1, 20, 3, 40, 5]\n"
     ]
    }
   ],
   "source": [
    "list3 = [1, 2, 3, 4, 5]\n",
    "list4 = []\n",
    "\n",
    "for v1 in list3 :\n",
    "    if v1 % 2 == 0 :\n",
    "        list4.append(v1 * 10)\n",
    "    else :\n",
    "        list4.append(v1)\n",
    "print(list4)"
   ]
  },
  {
   "cell_type": "code",
   "execution_count": 75,
   "id": "c850b6fb-7720-4a15-8c50-58fc7212d186",
   "metadata": {},
   "outputs": [
    {
     "name": "stdout",
     "output_type": "stream",
     "text": [
      "[1, 20, 3, 40, 5]\n"
     ]
    }
   ],
   "source": [
    "list3 = [1, 2, 3, 4, 5]\n",
    "list4 = [v1 * 10 if v1 % 2 == 0 else v1 for v1 in list3]\n",
    "print(list4)"
   ]
  },
  {
   "cell_type": "code",
   "execution_count": 77,
   "id": "0972ed88-2204-4559-9d40-b4e885ed192c",
   "metadata": {},
   "outputs": [
    {
     "name": "stdout",
     "output_type": "stream",
     "text": [
      "[20, 30, 40, 50, 60]\n"
     ]
    }
   ],
   "source": [
    "# list1이 가지고 있는 값에 10을 더해 list2에 담아준다.\n",
    "list1 = [10, 20, 30, 40, 50]\n",
    "list2 = []\n",
    "\n",
    "for v1 in list1 :\n",
    "    list2.append(v1 + 10)\n",
    "\n",
    "print(list2)"
   ]
  },
  {
   "cell_type": "code",
   "execution_count": 79,
   "id": "9c7c5998-f452-4140-b5cf-bbb6e7be9da8",
   "metadata": {},
   "outputs": [
    {
     "name": "stdout",
     "output_type": "stream",
     "text": [
      "[20, 30, 40, 50, 60]\n"
     ]
    }
   ],
   "source": [
    "# list1이 가지고 있는 값의 수 만큼 반복한다. (in list1)\n",
    "# list1이 가지고 있는 값을 v1 변수에 담아 준다(for v1)\n",
    "# 새로운 리스트에 v1 + 10 을 담아준다(v1 + 10)\n",
    "list2 = [v1 + 10 for v1 in list1]\n",
    "print(list2)"
   ]
  },
  {
   "cell_type": "code",
   "execution_count": 85,
   "id": "1dc777c1-0a50-4779-ba83-b03b9a3c28fc",
   "metadata": {},
   "outputs": [
    {
     "name": "stdout",
     "output_type": "stream",
     "text": [
      "[1, 20, 3, 40, 5]\n"
     ]
    }
   ],
   "source": [
    "# list3의 있는 값이 2로 나눈 나머지가 0 이면\n",
    "# 10 을 곱해서 담고 그렇지 않은 그대로 담아준다.\n",
    "list3 = [1, 2, 3, 4, 5]\n",
    "list4 = []\n",
    "\n",
    "for v1 in list3 :\n",
    "# list3이 가지고 있는 값을 2로 나눈 나머지가 0이라면\n",
    "# 10을 곱해 새로운 리스트에 담는다.\n",
    "    if v1 % 2 == 0 :\n",
    "        list4.append(v1 * 10)\n",
    "    else :\n",
    "        list4.append(v1)\n",
    "print(list4)"
   ]
  },
  {
   "cell_type": "code",
   "execution_count": 83,
   "id": "3fd70244-e7e8-40db-8d31-d4d3da9ba77f",
   "metadata": {},
   "outputs": [
    {
     "name": "stdout",
     "output_type": "stream",
     "text": [
      "[1, 20, 3, 40, 5]\n"
     ]
    }
   ],
   "source": [
    "list3 = [1, 2, 3, 4, 5]\n",
    "# list3이 가지고 있는 값의 개수 만큼 반복한다(in list3)\n",
    "# list3이 가지고 있는 값을 v1 변수에 담아준다(for v1)\n",
    "# 만약 v1을 2로 나눈 나머지가 0 이라면 (if v1 % 2 == 0) v1 * 10 을 리스트에 담아주고 (v1 * 10)\n",
    "# 그게 아니면 v1을 그대로 담아준다(else v1)\n",
    "list4 = [v1 * 10 if v1 % 2 == 0 else v1 for v1 in list3]\n",
    "print(list4)"
   ]
  },
  {
   "cell_type": "code",
   "execution_count": 87,
   "id": "6d8c41b1-0e61-42fb-abe1-5343b44231be",
   "metadata": {},
   "outputs": [
    {
     "name": "stdout",
     "output_type": "stream",
     "text": [
      "[20, 40]\n"
     ]
    }
   ],
   "source": [
    "list3 = [1, 2, 3, 4, 5]\n",
    "# list3이 가지고 있는 값의 수 만큼 반복한다(in list3)\n",
    "# list3이 가지고 있는 값을 v1 변수에 담아준다(for v1)\n",
    "# 이 때, v1을 2로 나눈 나머지가 2 일 경우에만(v1 % 2 == 0)\n",
    "# 새로운 리스트에 v1 * 10을해서 담아준다(v1 * 10)\n",
    "# 만약 v1 % 2 == 0의 조건에 만족하지 않는 값이라면 리스트에 담지 않는다.\n",
    "list4 = [v1 * 10 for v1 in list3 if v1 % 2 == 0 ]\n",
    "print(list4)"
   ]
  },
  {
   "cell_type": "code",
   "execution_count": 93,
   "id": "a660359e-b04f-4826-b9cd-05ea1665e269",
   "metadata": {},
   "outputs": [
    {
     "name": "stdout",
     "output_type": "stream",
     "text": [
      "150\n"
     ]
    }
   ],
   "source": [
    "# 리스트가 가지고 있는 값의 총합을 구한다.\n",
    "list1 = [10, 20, 30, 40, 50]\n",
    "a1 = sum(list1)\n",
    "print(a1)"
   ]
  },
  {
   "cell_type": "code",
   "execution_count": null,
   "id": "507d6a0a-e2d8-45f4-bfa8-04a5d2be16da",
   "metadata": {},
   "outputs": [],
   "source": []
  }
 ],
 "metadata": {
  "kernelspec": {
   "display_name": "Python [conda env:base] *",
   "language": "python",
   "name": "conda-base-py"
  },
  "language_info": {
   "codemirror_mode": {
    "name": "ipython",
    "version": 3
   },
   "file_extension": ".py",
   "mimetype": "text/x-python",
   "name": "python",
   "nbconvert_exporter": "python",
   "pygments_lexer": "ipython3",
   "version": "3.12.7"
  }
 },
 "nbformat": 4,
 "nbformat_minor": 5
}
