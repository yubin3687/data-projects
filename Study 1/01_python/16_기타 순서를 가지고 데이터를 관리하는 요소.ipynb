{
 "cells": [
  {
   "cell_type": "code",
   "execution_count": 1,
   "id": "3a6c0664-e689-42f7-9155-d4487855921c",
   "metadata": {},
   "outputs": [
    {
     "name": "stdout",
     "output_type": "stream",
     "text": [
      "시작값 : 0\n",
      "종료값 : 20\n",
      "증감값 : 1\n",
      "range(0, 20)\n"
     ]
    }
   ],
   "source": [
    "# 0 ~ 20 - 1 까지 1씩 증가하는 값을 관리하는 요소\n",
    "r1 = range(20)\n",
    "print(f'시작값 : {r1.start}')\n",
    "print(f'종료값 : {r1.stop}')\n",
    "print(f'증감값 : {r1.step}')\n",
    "print(r1)"
   ]
  },
  {
   "cell_type": "code",
   "execution_count": 3,
   "id": "ec38f0f3-ea77-4a6d-b8ad-3a8b27f0bff3",
   "metadata": {},
   "outputs": [
    {
     "name": "stdout",
     "output_type": "stream",
     "text": [
      "[0, 1, 2, 3, 4, 5, 6, 7, 8, 9, 10, 11, 12, 13, 14, 15, 16, 17, 18, 19]\n"
     ]
    }
   ],
   "source": [
    "# 실제로 관리하는 값을 확인해보고 싶다면\n",
    "# 리스트나 튜플로 다시 생성하여 출력해본다.\n",
    "print(list(r1))"
   ]
  },
  {
   "cell_type": "code",
   "execution_count": 5,
   "id": "2af38297-4507-46c4-950a-8632c994c87a",
   "metadata": {},
   "outputs": [
    {
     "name": "stdout",
     "output_type": "stream",
     "text": [
      "range(3, 27)\n",
      "[3, 4, 5, 6, 7, 8, 9, 10, 11, 12, 13, 14, 15, 16, 17, 18, 19, 20, 21, 22, 23, 24, 25, 26]\n"
     ]
    }
   ],
   "source": [
    "# 3 ~ 27 - 1 까지 1씩 증가하는 값을 가진 range 생성\n",
    "r2 = range(3, 27)\n",
    "print(r2)\n",
    "print(list(r2))"
   ]
  },
  {
   "cell_type": "code",
   "execution_count": 7,
   "id": "78ab5457-4506-42ad-87c6-fcb0ca613265",
   "metadata": {},
   "outputs": [
    {
     "name": "stdout",
     "output_type": "stream",
     "text": [
      "range(3, 27, 2)\n",
      "[3, 5, 7, 9, 11, 13, 15, 17, 19, 21, 23, 25]\n"
     ]
    }
   ],
   "source": [
    "# 3 ~ 27 - 1 까지 2씩 증가하는 값을 가진 range 생성\n",
    "r3 = range(3, 27, 2)\n",
    "print(r3)\n",
    "print(list(r3))"
   ]
  },
  {
   "cell_type": "code",
   "execution_count": 11,
   "id": "8b4820b2-7f9c-416e-9489-76a4b98c5fce",
   "metadata": {},
   "outputs": [
    {
     "name": "stdout",
     "output_type": "stream",
     "text": [
      "[30, 29, 28, 27, 26, 25, 24, 23, 22, 21, 20, 19, 18, 17, 16, 15, 14, 13, 12, 11, 10, 9]\n"
     ]
    }
   ],
   "source": [
    "# 30 ~ 8 + 1 까지 1씩 감소\n",
    "r4 = range(30, 8, -1)\n",
    "print(list(r4))"
   ]
  },
  {
   "cell_type": "code",
   "execution_count": 17,
   "id": "6bdd8682-3232-44c2-9092-d4dcae637f99",
   "metadata": {},
   "outputs": [
    {
     "name": "stdout",
     "output_type": "stream",
     "text": [
      "[30, 29, 28, 27, 26, 25, 24, 23, 22, 21, 20, 19, 18, 17, 16, 15, 14, 13, 12, 11, 10, 9]\n"
     ]
    }
   ],
   "source": [
    "r1 = range(9, 31)\n",
    "list1 = list(r1)\n",
    "list1.reverse()\n",
    "print(list1)"
   ]
  },
  {
   "cell_type": "code",
   "execution_count": 19,
   "id": "44d4656d-862b-4779-b744-5bdc4376f535",
   "metadata": {},
   "outputs": [
    {
     "ename": "SyntaxError",
     "evalue": "invalid syntax (4199494666.py, line 3)",
     "output_type": "error",
     "traceback": [
      "\u001b[1;36m  Cell \u001b[1;32mIn[19], line 3\u001b[1;36m\u001b[0m\n\u001b[1;33m    이름을 가져올 때는 : 0부터 3씩 증가하는 순서값을 통해 가져온다.\u001b[0m\n\u001b[1;37m        ^\u001b[0m\n\u001b[1;31mSyntaxError\u001b[0m\u001b[1;31m:\u001b[0m invalid syntax\n"
     ]
    }
   ],
   "source": [
    "학생리스트 = ['양유빈', 27, 90, '홍길동', 24, 85]\n",
    "\n",
    "이름을 가져올 때는 : 0부터 3씩 증가하는 순서값을 통해 가져온다.\n",
    "나이를 가져올 때는 : 1부터 3씩 증가하는 순서값을 통해 가져온다.\n",
    "국어점수를 가져올 때는 : 2부터 3씩 증가하는 순서값을 통해 가져온다.\n",
    "수학점수를 가져올 때는 : 3부터 4씩 증가하는 순서값을 통해 가져온다.\n"
   ]
  },
  {
   "cell_type": "code",
   "execution_count": null,
   "id": "1eb728e7-5f4c-4809-8cab-2f2c48046077",
   "metadata": {},
   "outputs": [],
   "source": []
  }
 ],
 "metadata": {
  "kernelspec": {
   "display_name": "Python [conda env:base] *",
   "language": "python",
   "name": "conda-base-py"
  },
  "language_info": {
   "codemirror_mode": {
    "name": "ipython",
    "version": 3
   },
   "file_extension": ".py",
   "mimetype": "text/x-python",
   "name": "python",
   "nbconvert_exporter": "python",
   "pygments_lexer": "ipython3",
   "version": "3.12.7"
  }
 },
 "nbformat": 4,
 "nbformat_minor": 5
}
