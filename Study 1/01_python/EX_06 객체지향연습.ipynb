{
 "cells": [
  {
   "cell_type": "markdown",
   "id": "a08b2956-0599-478e-a739-c6348f80d373",
   "metadata": {},
   "source": [
    "자동차의 정보가 다음과 같이 구성되어 있다\n",
    "\n",
    "자동차 하나의 정보는 다음과 같다\n",
    "\n",
    "모델명, 연식, 배기량, 색상, 주행거리\n",
    "\n",
    "첫 번째 자동차 : 붕붕이, 2000, 500, 노란색, 100000\n",
    "\n",
    "두 번째 자동차 : 방구차, 1950, 200, 빨간색, 200000\n",
    "\n",
    "세 번째 자동차 : 아스라다, 1980, 5000000, 흰색, 300000\n",
    "\n",
    "출력은 다음과 같다.\n",
    "\n",
    "각 자동차의 정보를 모두 출력한다.\n",
    "\n",
    "총 배기량과 배기량 평균을 출력한다\n",
    "\n",
    "총 주행거리와 총 주행거리 평균을 출력한다\n",
    "\n",
    "객체지향 개념을 적용하여 본다. 자동차 객체를 만들어 사용한다.\n",
    "\n"
   ]
  },
  {
   "cell_type": "code",
   "execution_count": 4,
   "id": "98e9661f-feba-4183-bf59-50d0ede04d96",
   "metadata": {},
   "outputs": [],
   "source": [
    "# 자동차들의 정보를 담아준다.\n",
    "\n",
    "# 총 배기량과 배기량 평균을 구한다\n",
    "\n",
    "# 총 주행거리와 주행거리 평균을 구한다.\n",
    "\n",
    "# 각 자동차의 정보를 모두 출력한다\n",
    "\n",
    "# 총 배기량과 배기량 평균을 출력한다.\n",
    "\n",
    "# 총 주행거리와 주행거리 평균을 출력한다."
   ]
  },
  {
   "cell_type": "code",
   "execution_count": 6,
   "id": "4f001864-f45a-4a73-a275-e41ad46b76c7",
   "metadata": {},
   "outputs": [],
   "source": [
    "# 자동차 클래스\n",
    "class CarClass :\n",
    "    # 생성자\n",
    "    def __init__(self, _name, _year, _cc, _color, _length) :\n",
    "        # 객체가 가지고 있을 변수를 추가해준다.\n",
    "        self.name = _name\n",
    "        self.year = _year\n",
    "        self.cc = _cc\n",
    "        self.color = _color\n",
    "        self.length = _length\n",
    "\n",
    "    # 자동차의 정보를 출력하는 메서드\n",
    "    def show_car_info(self) :\n",
    "        print(f'이름 : {self.name}')\n",
    "        print(f'연식 : {self.year}')\n",
    "        print(f'배기량 : {self.cc}')\n",
    "        print(f'색상 : {self.color}')\n",
    "        print(f'주행거리 : {self.length}')\n"
   ]
  },
  {
   "cell_type": "code",
   "execution_count": 8,
   "id": "fad8554b-c011-47c0-812a-62c808b99b88",
   "metadata": {},
   "outputs": [],
   "source": [
    "# 자동차들의 정보를 담아준다.\n",
    "# 자동차 객체를 생성한다.\n",
    "car1 = CarClass('붕붕이', 2000, 500, '노란색', 100000)\n",
    "car2 = CarClass('방구차', 1950, 200, '빨간색', 2000000)\n",
    "car3 = CarClass('아스라다', 1980, 5000000, '흰색', 300000)"
   ]
  },
  {
   "cell_type": "code",
   "execution_count": 10,
   "id": "8d608ca4-a634-48ad-8ae2-2d96f19131ac",
   "metadata": {},
   "outputs": [],
   "source": [
    "# 자동차 객체들을 리스트에 담아준다.\n",
    "car_list = [car1, car2, car3]"
   ]
  },
  {
   "cell_type": "code",
   "execution_count": 12,
   "id": "7407f142-928b-43b8-be0f-82885573de56",
   "metadata": {},
   "outputs": [],
   "source": [
    "# 총 배기량과 배기량 평균을 구한다\n",
    "def get_cc_info(car_list) :\n",
    "    # 총 배기량을 담을 변수\n",
    "    total_cc = 0\n",
    "    # 자동차의 수 만큼 반복한다.\n",
    "    for car in car_list :\n",
    "        total_cc = total_cc + car.cc\n",
    "\n",
    "    # 배기량 평균을 구한다.\n",
    "    avg_cc = total_cc // len(car_list)\n",
    "\n",
    "    return total_cc, avg_cc"
   ]
  },
  {
   "cell_type": "code",
   "execution_count": 14,
   "id": "1a57ec82-a954-46e0-9c1a-625e03a89768",
   "metadata": {},
   "outputs": [],
   "source": [
    "# 총 주행거리와 주행거리 평균을 구한다.\n",
    "def get_length_info(car_list) :\n",
    "    # 총 주행거리를 담을 변수\n",
    "    total_length = 0\n",
    "    # 자동차의 수 만큼 반복한다.\n",
    "    for car in car_list :\n",
    "        total_length = total_length + car.length\n",
    "\n",
    "    #  주행거리 평균을 구한다.\n",
    "    avg_length = total_length // len(car_list)\n",
    "\n",
    "    return total_length, avg_length"
   ]
  },
  {
   "cell_type": "code",
   "execution_count": 16,
   "id": "1867144f-a092-4fee-b4ad-02a417fe8c13",
   "metadata": {},
   "outputs": [],
   "source": [
    "# 각 자동차의 정보를 모두 출력한다\n",
    "def show_all_car_info(car_list) :\n",
    "    # 자동차의 수 만큼 반복한다.\n",
    "    for car in car_list :\n",
    "        # 자동차의 정보를 출력한다.\n",
    "        car.show_car_info()\n",
    "        print()"
   ]
  },
  {
   "cell_type": "code",
   "execution_count": 18,
   "id": "fc59da91-b410-4d7a-9674-b69f28c24410",
   "metadata": {},
   "outputs": [],
   "source": [
    "# 총 배기량과 배기량 평균을 출력한다.\n",
    "def show_cc_info(total_cc, avg_cc) :\n",
    "    print(f'총 배기량 : {total_cc}')\n",
    "    print(f'평균 배기량 : {avg_cc}')\n",
    "    print()"
   ]
  },
  {
   "cell_type": "code",
   "execution_count": 20,
   "id": "2bc60dde-4c9f-4f51-a006-8c75a10e1e8a",
   "metadata": {},
   "outputs": [],
   "source": [
    "# 총 주행거리와 주행거리 평균을 출력한다.\n",
    "def show_length_info(total_length, avg_length) :\n",
    "    print(f'총 주행거리 : {total_length}')\n",
    "    print(f'평균 주행거리 : {avg_length}')\n",
    "    print()\n"
   ]
  },
  {
   "cell_type": "code",
   "execution_count": 24,
   "id": "769bc660-67eb-4fa1-8983-7c460dbf7764",
   "metadata": {},
   "outputs": [],
   "source": [
    "# 총 배기량과 배기량 평균을 구한다\n",
    "def get_cc_info(car_list) :\n",
    "    # 총 배기량을 담을 변수\n",
    "    total_cc = 0\n",
    "    # 자동차의 수 만큼 반복한다.\n",
    "    for car in car_list :\n",
    "        total_cc = total_cc + car.cc\n",
    "\n",
    "    # 배기량 평균을 구한다.\n",
    "    avg_cc = total_cc // len(car_list)\n",
    "\n",
    "    return total_cc, avg_cc\n",
    "\n",
    "# 총 주행거리와 주행거리 평균을 구한다.\n",
    "def get_length_info(car_list) :\n",
    "    # 총 주행거리를 담을 변수\n",
    "    total_length = 0\n",
    "    # 자동차의 수 만큼 반복한다.\n",
    "    for car in car_list :\n",
    "        total_length = total_length + car.length\n",
    "\n",
    "    #  주행거리 평균을 구한다.\n",
    "    avg_length = total_length // len(car_list)\n",
    "\n",
    "    return total_length, avg_length\n",
    "\n",
    "# 각 자동차의 정보를 모두 출력한다\n",
    "def show_all_car_info(car_list) :\n",
    "    # 자동차의 수 만큼 반복한다.\n",
    "    for car in car_list :\n",
    "        # 자동차의 정보를 출력한다.\n",
    "        car.show_car_info()\n",
    "        print()\n",
    "\n",
    "# 총 배기량과 배기량 평균을 출력한다.\n",
    "def show_cc_info(total_cc, avg_cc) :\n",
    "    print(f'총 배기량 : {total_cc}')\n",
    "    print(f'평균 배기량 : {avg_cc}')\n",
    "    print()\n",
    "\n",
    "# 총 주행거리와 주행거리 평균을 출력한다.\n",
    "def show_length_info(total_length, avg_length) :\n",
    "    print(f'총 주행거리 : {total_length}')\n",
    "    print(f'평균 주행거리 : {avg_length}')\n",
    "    print()\n",
    "# 총 배기량과 배기량 평균을 구한다\n",
    "total_cc, avg_cc = get_cc_info(car_list)\n",
    "#print(total_cc, avg_cc)\n"
   ]
  },
  {
   "cell_type": "code",
   "execution_count": 26,
   "id": "9ea6621f-3a7a-4223-be58-79582148c842",
   "metadata": {},
   "outputs": [
    {
     "name": "stdout",
     "output_type": "stream",
     "text": [
      "2400000 800000\n"
     ]
    }
   ],
   "source": [
    "# 총 주행거리와 주행거리 평균을 구한다.\n",
    "total_length, avg_length = get_length_info(car_list)\n",
    "print(total_length, avg_length)"
   ]
  },
  {
   "cell_type": "code",
   "execution_count": 28,
   "id": "326f0f24-98a0-412c-a122-17b21309d134",
   "metadata": {},
   "outputs": [
    {
     "name": "stdout",
     "output_type": "stream",
     "text": [
      "이름 : 붕붕이\n",
      "연식 : 2000\n",
      "배기량 : 500\n",
      "색상 : 노란색\n",
      "주행거리 : 100000\n",
      "\n",
      "이름 : 방구차\n",
      "연식 : 1950\n",
      "배기량 : 200\n",
      "색상 : 빨간색\n",
      "주행거리 : 2000000\n",
      "\n",
      "이름 : 아스라다\n",
      "연식 : 1980\n",
      "배기량 : 5000000\n",
      "색상 : 흰색\n",
      "주행거리 : 300000\n",
      "\n"
     ]
    }
   ],
   "source": [
    "show_all_car_info(car_list)"
   ]
  },
  {
   "cell_type": "code",
   "execution_count": 30,
   "id": "72c8fb00-c9fc-40d5-8253-f2d3dc30af95",
   "metadata": {},
   "outputs": [
    {
     "name": "stdout",
     "output_type": "stream",
     "text": [
      "이름 : 붕붕이\n",
      "연식 : 2000\n",
      "배기량 : 500\n",
      "색상 : 노란색\n",
      "주행거리 : 100000\n",
      "\n",
      "이름 : 방구차\n",
      "연식 : 1950\n",
      "배기량 : 200\n",
      "색상 : 빨간색\n",
      "주행거리 : 200000\n",
      "\n",
      "이름 : 아스라다\n",
      "연식 : 1980\n",
      "배기량 : 5000000\n",
      "색상 : 흰색\n",
      "주행거리 : 300000\n",
      "\n",
      "총 배기량 : 5000700\n",
      "평균 배기량 : 1666900\n",
      "\n",
      "총 주행거리 : 600000\n",
      "평균 주행거리 : 200000\n",
      "\n"
     ]
    }
   ],
   "source": [
    "# 자동차들의 정보를 담아준다.\n",
    "# 자동차 객체를 생성한다.\n",
    "car1 = CarClass('붕붕이', 2000, 500, '노란색', 100000)\n",
    "car2 = CarClass('방구차', 1950, 200, '빨간색', 200000)\n",
    "car3 = CarClass('아스라다', 1980, 5000000, '흰색', 300000)\n",
    "\n",
    "# 자동차 객체들을 리스트에 담아준다.\n",
    "car_list = [car1, car2, car3]\n",
    "\n",
    "# 총 배기량과 배기량 평균을 구한다\n",
    "total_cc, avg_cc = get_cc_info(car_list)\n",
    "# print(total_cc, avg_cc)\n",
    "\n",
    "# 총 주행거리와 주행거리 평균을 구한다.\n",
    "total_length, avg_length = get_length_info(car_list)\n",
    "# print(total_length, avg_length)\n",
    "\n",
    "# 각 자동차의 정보를 모두 출력한다\n",
    "show_all_car_info(car_list)\n",
    "\n",
    "# 총 배기량과 배기량 평균을 출력한다.\n",
    "show_cc_info(total_cc, avg_cc)\n",
    "\n",
    "# 총 주행거리와 주행거리 평균을 출력한다.\n",
    "show_length_info(total_length, avg_length)"
   ]
  },
  {
   "cell_type": "code",
   "execution_count": null,
   "id": "47565929-850b-44e5-81d7-ebe922afae5c",
   "metadata": {},
   "outputs": [],
   "source": []
  }
 ],
 "metadata": {
  "kernelspec": {
   "display_name": "Python [conda env:base] *",
   "language": "python",
   "name": "conda-base-py"
  },
  "language_info": {
   "codemirror_mode": {
    "name": "ipython",
    "version": 3
   },
   "file_extension": ".py",
   "mimetype": "text/x-python",
   "name": "python",
   "nbconvert_exporter": "python",
   "pygments_lexer": "ipython3",
   "version": "3.12.7"
  }
 },
 "nbformat": 4,
 "nbformat_minor": 5
}
