{
 "cells": [
  {
   "cell_type": "markdown",
   "id": "786e75be-5a4e-4520-8743-0e170a8eacf0",
   "metadata": {},
   "source": [
    "# 상속\n",
    "- 클래스가 다른 클래스가 가진 것들을 물려받는 개념\n",
    "- 상속 시켜 주는 클래스 : 부모클래스\n",
    "- 상속 받는 클래스 : 자식클래스\n",
    "- 자식 클래스는 부모가 가진 것들을 마치 자기 자신한테 있는 것 처럼 사용할 수 있다."
   ]
  },
  {
   "cell_type": "code",
   "execution_count": 2,
   "id": "8a77fe6f-69ce-49cc-8b5f-c7b7c95bc390",
   "metadata": {},
   "outputs": [],
   "source": [
    "# 부모 클래스\n",
    "class Animal :\n",
    "    def __init__(self, _type) :\n",
    "        self.animal_type = _type\n",
    "\n",
    "    def eat(self) :\n",
    "        print(f'{self.animal_type}가 사료를 먹습니다')\n"
   ]
  },
  {
   "cell_type": "code",
   "execution_count": 4,
   "id": "50d45ead-5017-4341-b4f5-44dccd6743d4",
   "metadata": {},
   "outputs": [],
   "source": [
    "# 자식 클래스\n",
    "class Dog(Animal) :\n",
    "    def speaking(self) :\n",
    "        print('멍멍')\n",
    "\n",
    "class Cat(Animal) :\n",
    "    def speaking(self) :\n",
    "        print('냐옹 냐옹')"
   ]
  },
  {
   "cell_type": "code",
   "execution_count": 6,
   "id": "67252c19-7c64-434c-9a00-66df282160e9",
   "metadata": {},
   "outputs": [
    {
     "name": "stdout",
     "output_type": "stream",
     "text": [
      "강아지\n",
      "강아지가 사료를 먹습니다\n",
      "멍멍\n",
      "고양이\n",
      "고양이가 사료를 먹습니다\n",
      "냐옹 냐옹\n"
     ]
    }
   ],
   "source": [
    "t1 = Dog('강아지')\n",
    "print(t1.animal_type)\n",
    "t1.eat()\n",
    "t1.speaking()\n",
    "\n",
    "t2 = Cat('고양이')\n",
    "print(t2.animal_type)\n",
    "t2.eat()\n",
    "t2.speaking()"
   ]
  },
  {
   "cell_type": "code",
   "execution_count": null,
   "id": "d6da8a76-3bc1-4874-9123-60343d84578f",
   "metadata": {},
   "outputs": [],
   "source": []
  }
 ],
 "metadata": {
  "kernelspec": {
   "display_name": "Python [conda env:base] *",
   "language": "python",
   "name": "conda-base-py"
  },
  "language_info": {
   "codemirror_mode": {
    "name": "ipython",
    "version": 3
   },
   "file_extension": ".py",
   "mimetype": "text/x-python",
   "name": "python",
   "nbconvert_exporter": "python",
   "pygments_lexer": "ipython3",
   "version": "3.12.7"
  }
 },
 "nbformat": 4,
 "nbformat_minor": 5
}
