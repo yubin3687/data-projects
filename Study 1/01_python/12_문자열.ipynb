{
 "cells": [
  {
   "cell_type": "markdown",
   "id": "a13f68b8-8d13-4131-9040-177f283b3a3f",
   "metadata": {},
   "source": [
    "# 문자열\n",
    "- 파이썬은 작은 따옴표(') 또는 큰 따옴표(\") 로 묶은 것들이 모두 같은 문자열이다"
   ]
  },
  {
   "cell_type": "code",
   "execution_count": 2,
   "id": "2dd2f225-7ad3-4631-b7e5-c4f203a895de",
   "metadata": {},
   "outputs": [
    {
     "name": "stdout",
     "output_type": "stream",
     "text": [
      "str1 : 안녕하세요\n",
      "str2 : 안녕하세요\n",
      "<class 'str'>\n",
      "<class 'str'>\n"
     ]
    }
   ],
   "source": [
    "# 문자열 생성\n",
    "# 큰 따옴표나 작은 따옴표로 작성하는 것 자체가 문자열 객체를 생성하는 것이다.\n",
    "str1 = '안녕하세요'\n",
    "str2 = \"안녕하세요\"\n",
    "\n",
    "print('str1 :', str1)\n",
    "print('str2 :', str2)\n",
    "\n",
    "print(type(str1))\n",
    "print(type(str2))"
   ]
  },
  {
   "cell_type": "code",
   "execution_count": 6,
   "id": "ea5aa0ed-cdcf-4b34-925d-a0e5a2a8d686",
   "metadata": {},
   "outputs": [
    {
     "name": "stdout",
     "output_type": "stream",
     "text": [
      "이름은 \"홍길동\"입니다\n",
      "이름은 '홍길동'입니다\n"
     ]
    }
   ],
   "source": [
    "# 큰 따음표를 포함하는 문자열을 사용하고자 한다면..\n",
    "str1 = '이름은 \"홍길동\"입니다'\n",
    "#만약 작은 따음표를 포함하는 문자열을 포함하고 싶다면\n",
    "str2 = \"이름은 '홍길동'입니다\"\n",
    "\n",
    "print(str1)\n",
    "print(str2)"
   ]
  },
  {
   "cell_type": "code",
   "execution_count": 10,
   "id": "77ba2c2a-2a1c-4d11-9c75-2157d15591b0",
   "metadata": {},
   "outputs": [
    {
     "name": "stdout",
     "output_type": "stream",
     "text": [
      "\n",
      "동해물과 백두산이\n",
      "마르고 닳도록\n",
      "하느님이 보우하사\n",
      "우리나라 만세\n",
      "\n",
      "\n",
      "동해물과 백두산이\n",
      "마르고 닳도록\n",
      "하느님이 보우하사\n",
      "우리나라 만세\n",
      "\n"
     ]
    }
   ],
   "source": [
    "#여러 줄 문자열\n",
    "str1 = '''\n",
    "동해물과 백두산이\n",
    "마르고 닳도록\n",
    "하느님이 보우하사\n",
    "우리나라 만세\n",
    "'''\n",
    "\n",
    "str2 = \"\"\"\n",
    "동해물과 백두산이\n",
    "마르고 닳도록\n",
    "하느님이 보우하사\n",
    "우리나라 만세\n",
    "\"\"\"\n",
    "\n",
    "print(str1)\n",
    "print(str2)"
   ]
  },
  {
   "cell_type": "code",
   "execution_count": 14,
   "id": "c262e39b-8c27-49a8-81bf-f044107c0537",
   "metadata": {},
   "outputs": [
    {
     "name": "stdout",
     "output_type": "stream",
     "text": [
      "동해물과\n",
      "백두산이\n",
      "동해물과\t\t백두산이\n",
      "동해물과\\백두산이\n"
     ]
    }
   ],
   "source": [
    "# 에스케이프 문자\n",
    "# \\ 와 같이 작성하는 특별한 의미를 가진 문자\n",
    "# \\n : 줄바꿈\n",
    "# \\t : 탭\n",
    "# \\' : 작은 따음표\n",
    "# \\\" : 큰 따음표\n",
    "# \\\\ : \\\n",
    "\n",
    "str1 = \"동해물과\\n백두산이\"\n",
    "print(str1)\n",
    "\n",
    "str2 = \"동해물과\\t\\t백두산이\"\n",
    "print(str2)\n",
    "\n",
    "str3 = \"동해물과\\\\백두산이\"\n",
    "print(str3)"
   ]
  },
  {
   "cell_type": "code",
   "execution_count": 20,
   "id": "55239305-2d05-4be3-8caa-c20a4e43dcb0",
   "metadata": {},
   "outputs": [
    {
     "name": "stdout",
     "output_type": "stream",
     "text": [
      "동해물과\n",
      "백두산이\t마르고\\닳도록\n",
      "동해물과\\n백두산이\\t마르고\\\\닳도록\n"
     ]
    }
   ],
   "source": [
    "#raw string\n",
    "# 애스케이프 문자를 무시한다.\n",
    "str1 = '동해물과\\n백두산이\\t마르고\\\\닳도록'\n",
    "print(str1)\n",
    "\n",
    "str2 = r'동해물과\\n백두산이\\t마르고\\\\닳도록'\n",
    "print(str2)"
   ]
  },
  {
   "cell_type": "code",
   "execution_count": 28,
   "id": "5bb848f7-85f3-4160-8af6-fa30fac9a9be",
   "metadata": {},
   "outputs": [
    {
     "name": "stdout",
     "output_type": "stream",
     "text": [
      "이름은 '홍길동'이고 나이는 \"20살\"입니다\n",
      "이름은 \"홍길동\"이고 나이는 \"20살\"입니다\n"
     ]
    }
   ],
   "source": [
    "#만약 문자열 안에 작은 따음표, 큰 따음표를 모두 포함한다면\n",
    "str1 = '이름은 \\'홍길동\\'이고 나이는 \"20살\"입니다'\n",
    "str2 = '이름은 \"홍길동\"이고 나이는 \"20살\"입니다'\n",
    "\n",
    "print(str1)\n",
    "print(str2)"
   ]
  },
  {
   "cell_type": "code",
   "execution_count": 30,
   "id": "97de3204-1218-4947-a918-7ac406f08e7c",
   "metadata": {},
   "outputs": [
    {
     "name": "stdout",
     "output_type": "stream",
     "text": [
      "이름은 '홍길동'이고 나이는 \"20살\" 입니다\n",
      "이름은 '홍길동'이고 나이는 \"20살\" 입니다\n"
     ]
    }
   ],
   "source": [
    "str1 = '''이름은 '홍길동'이고 나이는 \"20살\" 입니다'''\n",
    "str2 = \"\"\"이름은 '홍길동'이고 나이는 \"20살\" 입니다\"\"\"\n",
    "print(str1)\n",
    "print(str2)"
   ]
  },
  {
   "cell_type": "code",
   "execution_count": 32,
   "id": "8b2e16c1-0ad5-489e-bb88-ab6f1991d49c",
   "metadata": {},
   "outputs": [
    {
     "name": "stdout",
     "output_type": "stream",
     "text": [
      "문자열1문자열2\n"
     ]
    }
   ],
   "source": [
    "# 문자열 합치기\n",
    "# 문자열을 더하기 연산자로 연산하면 하나의 문자열로 만들어준다.\n",
    "a1 = '문자열1' + '문자열2'\n",
    "print(a1)"
   ]
  },
  {
   "cell_type": "code",
   "execution_count": 34,
   "id": "d2045f6e-8980-47d1-aef6-a198849aa478",
   "metadata": {},
   "outputs": [
    {
     "name": "stdout",
     "output_type": "stream",
     "text": [
      "이름은 홍길동이고 나이는 20살 입니다. 홍길동의 키는 185cm 입니다\n"
     ]
    }
   ],
   "source": [
    "# 문자열과 다른 타입의 값을 + 연산자로 합치는 것은 불가능하다\n",
    "# str()을 이용하여 문자열로 변환한다음 합쳐준다.\n",
    "a1 = '홍길동'\n",
    "a2 = 20\n",
    "a3 = 185\n",
    "\n",
    "str1 = '이름은 ' + a1 + '이고 나이는 ' + str(a2) + '살 입니다. ' + a1 + '의 키는 ' + str(a3) + 'cm 입니다'\n",
    "print(str1)"
   ]
  },
  {
   "cell_type": "code",
   "execution_count": 36,
   "id": "115ed44a-87a3-480e-8907-72375e1bc91f",
   "metadata": {},
   "outputs": [
    {
     "name": "stdout",
     "output_type": "stream",
     "text": [
      "이름은 홍길동이고 나이는 20살 입니다. 홍길동의 키는 185cm 입니다\n"
     ]
    }
   ],
   "source": [
    "# 포멧 문자 사용\n",
    "# 정수 : %d, 실수 : %f, 문자열 : %s, 그 외는 : %s\n",
    "str2 = '이름은 %s이고 나이는 %d살 입니다. %s의 키는 %dcm 입니다' % (a1, a2, a1, a3)\n",
    "print(str2)"
   ]
  },
  {
   "cell_type": "code",
   "execution_count": 38,
   "id": "e7d433cc-1542-44de-a7ed-ad1286599017",
   "metadata": {},
   "outputs": [
    {
     "name": "stdout",
     "output_type": "stream",
     "text": [
      "이름은 홍길동이고 나이는 20살 입니다. 홍길동의 키는 185cm 입니다\n"
     ]
    }
   ],
   "source": [
    "# format 사용\n",
    "str3 = '이름은 {0}이고 나이는 {1}살 입니다. {0}의 키는 {2}cm 입니다'.format(a1, a2, a3)\n",
    "print(str3)\n"
   ]
  },
  {
   "cell_type": "code",
   "execution_count": 40,
   "id": "459f5b9a-1084-4342-8844-3ec6c4d0efe9",
   "metadata": {},
   "outputs": [
    {
     "name": "stdout",
     "output_type": "stream",
     "text": [
      "이름은 홍길동이고 나이는 20살 입니다. 홍길동의 키는 185cm 입니다\n"
     ]
    }
   ],
   "source": [
    "# f 문자열 사용\n",
    "str4 = f'이름은 {a1}이고 나이는 {a2}살 입니다. {a1}의 키는 {a3}cm 입니다'\n",
    "print(str4)"
   ]
  },
  {
   "cell_type": "code",
   "execution_count": 3,
   "id": "6c80aed9-d74e-4582-a276-938e3b9078ff",
   "metadata": {},
   "outputs": [
    {
     "name": "stdout",
     "output_type": "stream",
     "text": [
      "a\n",
      "b\n",
      "g\n",
      "f\n"
     ]
    }
   ],
   "source": [
    "# 문자열 내의 문자 접근\n",
    "str1 = 'abcdefg'\n",
    "\n",
    "#첫 번째 글자\n",
    "print(str1[0])\n",
    "#두 번째 글자\n",
    "print(str1[1])\n",
    "\n",
    "# -1 부터 1씩 감소하는 순서값을 이용하여 마지막 글자부터 접근할 수 있다\n",
    "# 뒤에서 첫 번째 글자\n",
    "print(str1[-1])\n",
    "# 뒤에서 두 번째 글자\n",
    "print(str1[-2])"
   ]
  },
  {
   "cell_type": "code",
   "execution_count": 11,
   "id": "20164d93-dc8f-45c7-bd48-d4b6df10b5bc",
   "metadata": {},
   "outputs": [
    {
     "name": "stdout",
     "output_type": "stream",
     "text": [
      "열1문\n",
      "문자열1문\n",
      "열1문자열2\n"
     ]
    }
   ],
   "source": [
    "# 순서값 2 ~ 5 -1\n",
    "print(str1[2:5])\n",
    "# 처음부터 5 - 1\n",
    "print(str1[:5])\n",
    "#순서값 2 ~ 끝까지\n",
    "print(str1[2:])"
   ]
  },
  {
   "cell_type": "code",
   "execution_count": 9,
   "id": "da838c21-037e-471e-ba8f-ac52b2baed59",
   "metadata": {},
   "outputs": [
    {
     "name": "stdout",
     "output_type": "stream",
     "text": [
      "문자열1문자열2\n"
     ]
    }
   ],
   "source": [
    "# 문자열 + 문자열 => 둘을 합친 새로운 문자열이 생성된다.\n",
    "str1 = '문자열1' + '문자열2'\n",
    "print(str1)"
   ]
  },
  {
   "cell_type": "code",
   "execution_count": 13,
   "id": "fdc392a1-2cb2-45a3-b5a9-5624db6d021b",
   "metadata": {},
   "outputs": [
    {
     "name": "stdout",
     "output_type": "stream",
     "text": [
      "문자열1문자열1문자열1\n"
     ]
    }
   ],
   "source": [
    "# 문자열 * 숫자 : 숫자만큼 문자열을 반복한 문자열이 생성된다.\n",
    "str1 = '문자열1' * 3\n",
    "print(str1)"
   ]
  },
  {
   "cell_type": "code",
   "execution_count": 15,
   "id": "2991d8da-9a05-42b8-8d99-3ec3cba13fb0",
   "metadata": {},
   "outputs": [
    {
     "name": "stdout",
     "output_type": "stream",
     "text": [
      "7\n",
      "7\n"
     ]
    }
   ],
   "source": [
    "# 글자수\n",
    "str1 = 'abcdefg'\n",
    "str2 = '가나다라마바사'\n",
    "\n",
    "a1 = len(str1)\n",
    "a2 = len(str2)\n",
    "\n",
    "print(a1)\n",
    "print(a2)"
   ]
  },
  {
   "cell_type": "code",
   "execution_count": 17,
   "id": "6f03042d-edff-487a-a15c-d5f4715b74b1",
   "metadata": {},
   "outputs": [
    {
     "name": "stdout",
     "output_type": "stream",
     "text": [
      "Hello world\n",
      "Hello world\n"
     ]
    }
   ],
   "source": [
    "# 첫글자를 대문자로 변경한다.\n",
    "str1 = 'hello world'\n",
    "str2 = str1.capitalize()\n",
    "print(str2)\n",
    "\n",
    "str3 = 'hELLO WORLD'\n",
    "str4 = str3.capitalize()\n",
    "print(str4)"
   ]
  },
  {
   "cell_type": "code",
   "execution_count": 27,
   "id": "34c54f61-6384-4ff7-9ffa-e44effdda055",
   "metadata": {},
   "outputs": [
    {
     "name": "stdout",
     "output_type": "stream",
     "text": [
      "[_________________python_________________]\n",
      "[python__________________________________]\n",
      "[__________________________________python]\n"
     ]
    }
   ],
   "source": [
    "str1 = 'python'\n",
    "\n",
    "# 주어진 문자열을 주어진 크기로 늘려준다.\n",
    "# 원본 문자열을 가운데 배치하고 나머지는 지정된 문자열(글자 1개짜리)으로 채워준다.\n",
    "str2 = str1.center(40, '_')\n",
    "print(f'[{str2}]')\n",
    "\n",
    "# 원본 문자열을 좌측에 배치하고 나머지는 지정된 문자열(글자 1개짜리)으로 채워준다.\n",
    "str3 = str1.ljust(40, '_')\n",
    "print(f'[{str3}]')\n",
    "\n",
    "# 원본 문자열을 우측에 배치하고 나머지는 지정된 문자열(글자 1개짜리)으로 채워준다.\n",
    "str4 = str1.rjust(40, '_')\n",
    "print(f'[{str4}]')"
   ]
  },
  {
   "cell_type": "code",
   "execution_count": 29,
   "id": "d9b23b42-efca-4996-96c1-8175cb90d54f",
   "metadata": {},
   "outputs": [
    {
     "name": "stdout",
     "output_type": "stream",
     "text": [
      "3\n",
      "7\n",
      "5\n",
      "1\n"
     ]
    }
   ],
   "source": [
    "str1 = 'abcd abcd abcd aaaa'\n",
    "\n",
    "# 문자열내에 abcd가 몇개가 있는가..\n",
    "a1 = str1.count('abcd')\n",
    "print(a1)\n",
    "\n",
    "# 문자열 내에 a가 몇개가 있는가..\n",
    "a2 = str1.count('a')\n",
    "print(a2)\n",
    "\n",
    "# 앞에서 부터 10글자를 제외하고 a가 몇개가 있는가.\n",
    "a3 = str1.count('a', 10)\n",
    "print(a3)\n",
    "\n",
    "# 앞에서 부터 10글자를 제외하고 순서값 15번째 부터 끝까지를 제외한 a가 몇개가 있는가\n",
    "a4 = str1.count('a', 10, 15)\n",
    "print(a4)"
   ]
  },
  {
   "cell_type": "code",
   "execution_count": 31,
   "id": "64fef441-5415-42ac-a85c-ae97c569d3d2",
   "metadata": {},
   "outputs": [
    {
     "name": "stdout",
     "output_type": "stream",
     "text": [
      "True\n",
      "False\n"
     ]
    }
   ],
   "source": [
    "str1 = 'abcdefg'\n",
    "\n",
    "# 문자열이 abc로 시작하는가\n",
    "a1 = str1.startswith('abc')\n",
    "print(a1)\n",
    "\n",
    "# 문자열이 zzz로 시작하는가\n",
    "a2 = str1.startswith('zzz')\n",
    "print(a2)"
   ]
  },
  {
   "cell_type": "code",
   "execution_count": 33,
   "id": "a2b6b81c-7273-4c24-8f53-69ce98e714e7",
   "metadata": {},
   "outputs": [
    {
     "name": "stdout",
     "output_type": "stream",
     "text": [
      "True\n",
      "False\n"
     ]
    }
   ],
   "source": [
    "# 문자열이 efg로 끝나는가\n",
    "a3 = str1.endswith('efg')\n",
    "print(a3)\n",
    "\n",
    "# 문자열이 zzz로 끝나는가\n",
    "a4 = str1.endswith('zzz')\n",
    "print(a4)"
   ]
  },
  {
   "cell_type": "code",
   "execution_count": 35,
   "id": "c66951e3-3523-4086-87b3-4517a13ba108",
   "metadata": {},
   "outputs": [
    {
     "name": "stdout",
     "output_type": "stream",
     "text": [
      "2\n",
      "2\n"
     ]
    }
   ],
   "source": [
    "# cde가 어디에 있는가\n",
    "a1 = str1.find('cde')\n",
    "a2 = str1.index('cde')\n",
    "\n",
    "print(a1)\n",
    "print(a2)"
   ]
  },
  {
   "cell_type": "code",
   "execution_count": 37,
   "id": "6092c741-7328-49c6-adc3-e4ee9ec7cf39",
   "metadata": {},
   "outputs": [
    {
     "name": "stdout",
     "output_type": "stream",
     "text": [
      "-1\n"
     ]
    },
    {
     "ename": "ValueError",
     "evalue": "substring not found",
     "output_type": "error",
     "traceback": [
      "\u001b[1;31m---------------------------------------------------------------------------\u001b[0m",
      "\u001b[1;31mValueError\u001b[0m                                Traceback (most recent call last)",
      "Cell \u001b[1;32mIn[37], line 5\u001b[0m\n\u001b[0;32m      2\u001b[0m a3 \u001b[38;5;241m=\u001b[39m str1\u001b[38;5;241m.\u001b[39mfind(\u001b[38;5;124m'\u001b[39m\u001b[38;5;124mzzz\u001b[39m\u001b[38;5;124m'\u001b[39m)\n\u001b[0;32m      3\u001b[0m \u001b[38;5;28mprint\u001b[39m(a3)\n\u001b[1;32m----> 5\u001b[0m a4 \u001b[38;5;241m=\u001b[39m str1\u001b[38;5;241m.\u001b[39mindex(\u001b[38;5;124m'\u001b[39m\u001b[38;5;124mzzz\u001b[39m\u001b[38;5;124m'\u001b[39m)\n\u001b[0;32m      6\u001b[0m \u001b[38;5;28mprint\u001b[39m(a4)\n",
      "\u001b[1;31mValueError\u001b[0m: substring not found"
     ]
    }
   ],
   "source": [
    "# 없는 문자열 찾기\n",
    "a3 = str1.find('zzz')\n",
    "print(a3)\n",
    "\n",
    "a4 = str1.index('zzz')\n",
    "print(a4)"
   ]
  },
  {
   "cell_type": "code",
   "execution_count": 39,
   "id": "dc980f0d-4502-45c8-8780-61d11b316cd7",
   "metadata": {},
   "outputs": [
    {
     "name": "stdout",
     "output_type": "stream",
     "text": [
      "True\n",
      "True\n",
      "True\n",
      "True\n",
      "False\n"
     ]
    }
   ],
   "source": [
    "# 숫자와 문자로 구성되어 있는가\n",
    "str1 = 'abcd1234'\n",
    "a1 = str1.isalnum()\n",
    "print(a1)\n",
    "\n",
    "str2 = 'abcd'\n",
    "a2 = str2.isalnum()\n",
    "print(a2)\n",
    "\n",
    "str3 = '1234'\n",
    "a3 = str3.isalnum()\n",
    "print(a3)\n",
    "\n",
    "str4 = 'abcd가나다라1234'\n",
    "a4 = str4.isalnum()\n",
    "print(a4)\n",
    "\n",
    "str5 = 'abcd_1234'\n",
    "a5 = str5.isalnum()\n",
    "print(a5)"
   ]
  },
  {
   "cell_type": "code",
   "execution_count": 41,
   "id": "3e249fcd-81de-4108-b128-b56fb7fb78be",
   "metadata": {},
   "outputs": [
    {
     "name": "stdout",
     "output_type": "stream",
     "text": [
      "True\n",
      "True\n",
      "True\n",
      "True\n"
     ]
    }
   ],
   "source": [
    "# 숫자로만 구성되어 있는가\n",
    "str6 = '123456'\n",
    "a6 = str6.isdigit()\n",
    "print(a6)\n",
    "\n",
    "# 문자로만 구성되어 있는가\n",
    "str7 = 'abcdef'\n",
    "a7 = str7.isalpha()\n",
    "print(a7)\n",
    "\n",
    "# 소문자로만 구성되어 있는가.\n",
    "str8 = 'abcdefg'\n",
    "a8 = str8.islower()\n",
    "print(a8)\n",
    "\n",
    "# 대문자로만 구성되어 있는가\n",
    "str9 = 'ABCDEFG'\n",
    "a9 = str9.isupper()\n",
    "print(a9)"
   ]
  },
  {
   "cell_type": "code",
   "execution_count": 43,
   "id": "bbedc875-cd4a-45cc-b23c-9421668cac37",
   "metadata": {},
   "outputs": [
    {
     "name": "stdout",
     "output_type": "stream",
     "text": [
      "abcdef\n",
      "ABCDEF\n"
     ]
    }
   ],
   "source": [
    "str1 = 'ABcdEF'\n",
    "\n",
    "# 대문자를 소문자로 변경\n",
    "str2 = str1.lower()\n",
    "print(str2)\n",
    "\n",
    "# 소문자를 대문자로 변경\n",
    "str3 = str1.upper()\n",
    "print(str3)"
   ]
  },
  {
   "cell_type": "code",
   "execution_count": 45,
   "id": "e653aa66-d621-4cc5-aad1-30e3f4d39f01",
   "metadata": {},
   "outputs": [
    {
     "name": "stdout",
     "output_type": "stream",
     "text": [
      "abzzzzzfg\n",
      "abzzzzzfzzzzzkkk\n",
      "abzzzzzfcdekkk\n"
     ]
    }
   ],
   "source": [
    "# 지정된 문자열의 일부를 다른 문자열로 변경한다\n",
    "str1 = 'abcdefg'\n",
    "# cde 를 zzzzz로 변경한다\n",
    "str2 = str1.replace('cde', 'zzzzz')\n",
    "print(str2)\n",
    "\n",
    "str3 = 'abcdefcdekkk'\n",
    "str4 = str3.replace('cde', 'zzzzz')\n",
    "print(str4)\n",
    "\n",
    "str5 = 'abcdefcdekkk'\n",
    "# 3번째 숫자를 넣어주면 그 개수만큼 변경한다\n",
    "str6 = str5.replace('cde', 'zzzzz', 1)\n",
    "print(str6)"
   ]
  },
  {
   "cell_type": "code",
   "execution_count": null,
   "id": "04815417-73b8-44e2-8bab-c44ef2e6ac2c",
   "metadata": {},
   "outputs": [],
   "source": []
  }
 ],
 "metadata": {
  "kernelspec": {
   "display_name": "Python [conda env:base] *",
   "language": "python",
   "name": "conda-base-py"
  },
  "language_info": {
   "codemirror_mode": {
    "name": "ipython",
    "version": 3
   },
   "file_extension": ".py",
   "mimetype": "text/x-python",
   "name": "python",
   "nbconvert_exporter": "python",
   "pygments_lexer": "ipython3",
   "version": "3.12.7"
  }
 },
 "nbformat": 4,
 "nbformat_minor": 5
}
