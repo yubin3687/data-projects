{
 "cells": [
  {
   "cell_type": "code",
   "execution_count": 1,
   "id": "5857e4de-0216-480f-abce-6e8fd700277d",
   "metadata": {},
   "outputs": [],
   "source": [
    "# 클래스\n",
    "# 객체를 생성하기 위한 설계도\n",
    "class TestClass1 :\n",
    "    pass"
   ]
  },
  {
   "cell_type": "code",
   "execution_count": 3,
   "id": "0f972fdc-7fa7-460c-9d5e-2f2a7260ede8",
   "metadata": {},
   "outputs": [
    {
     "name": "stdout",
     "output_type": "stream",
     "text": [
      "<__main__.TestClass1 object at 0x000001D823B1EED0>\n",
      "<__main__.TestClass1 object at 0x000001D824830D70>\n"
     ]
    }
   ],
   "source": [
    "# 객체를 생성한다.\n",
    "t1 = TestClass1()\n",
    "t2 = TestClass1()\n",
    "print(t1)\n",
    "print(t2)"
   ]
  },
  {
   "cell_type": "code",
   "execution_count": 5,
   "id": "c5586d00-83cb-4197-b064-416d777a29f4",
   "metadata": {},
   "outputs": [
    {
     "name": "stdout",
     "output_type": "stream",
     "text": [
      "<__main__.TestClass1 object at 0x000001D824830D70>\n",
      "<__main__.TestClass1 object at 0x000001D824830D70>\n"
     ]
    }
   ],
   "source": [
    "t3 = t2\n",
    "print(t2)\n",
    "print(t3)"
   ]
  },
  {
   "cell_type": "code",
   "execution_count": null,
   "id": "f427ee36-e171-4614-8993-337ccd23826a",
   "metadata": {},
   "outputs": [],
   "source": [
    "#파이썬은 생성한 객체에 변수를 추가하는 것이 가능하다.\n",
    "t1.a1 = 100\n",
    "print(t1.a1)\n",
    "\n",
    "# 객체에 변수를 추가한다고 하더라도 같은 클래스를 가지고 만든 다른 객체에는 추가되지 않는다.\n",
    "# 객체는 독립적이기 때문이다\n",
    "print(t2.a1)"
   ]
  },
  {
   "cell_type": "code",
   "execution_count": 7,
   "id": "53462641-f15b-4d2c-8117-e9dc4a547505",
   "metadata": {},
   "outputs": [],
   "source": [
    "# 객체의 맴버\n",
    "# 변수 : 맴버 변수\n",
    "# 함수 : 맴버 메서드\n",
    "\n",
    "# 파이썬은 클래스를 통해 생성되는 객체의 맴버 변수를 정의할 수 없다.\n",
    "# 클래스를 통해 객체를 생성하면 아무것도 가지고 있지 않는 텅 비어있는 객체가 생성된다.\n",
    "# 이 객체에 변수를 추가해줘야 한다\n",
    "class TestClass2 :\n",
    "    # 생성자\n",
    "    # 클래스를 통해 객체를 생성할 때 자동으로 호출되는 함수(메서드)\n",
    "    # 파이썬에서는 클래스를 통해 객체를 생성할 경우 텅 비어있는 객체를 생성하고\n",
    "    # 생성자를 호출한다. 여기에서 객체에 변수를 추가하는 작업을 하면\n",
    "    # 클래스 통해 만들어지는 모든 객체는 동일한 이름의 변수들을 가진 상태에서 사용할 수 있다.\n",
    "    # self : 생성된 객체의 정보가 담기고 이를 통해 객체에 접근할 수 있다.\n",
    "    def __init__(self) :\n",
    "        print('init')\n",
    "        print(self)"
   ]
  },
  {
   "cell_type": "code",
   "execution_count": 13,
   "id": "e6d4cdce-c4b6-4e66-b0f4-b9b8da216e63",
   "metadata": {},
   "outputs": [],
   "source": [
    "# 객체의 맴버\n",
    "# 변수 : 맴버 변수\n",
    "# 함수 : 맴버 메서드\n",
    "\n",
    "# 파이썬은 클래스를 통해 생성되는 객체의 맴버 변수를 정의할 수 없다.\n",
    "# 클래스를 통해 객체를 생성하면 아무것도 가지고 있지 않는 텅 비어있는 객체가 생성된다.\n",
    "# 이 객체에 변수를 추가해줘야 한다\n",
    "class TestClass2 :\n",
    "    # 생성자\n",
    "    # 클래스를 통해 객체를 생성할 때 자동으로 호출되는 함수(메서드)\n",
    "    # 파이썬에서는 클래스를 통해 객체를 생성할 경우 텅 비어있는 객체를 생성하고\n",
    "    # 생성자를 호출한다. 여기에서 객체에 변수를 추가하는 작업을 하면\n",
    "    # 클래스 통해 만들어지는 모든 객체는 동일한 이름의 변수들을 가진 상태에서 사용할 수 있다.\n",
    "    # self : 생성된 객체의 정보가 담기고 이를 통해 객체에 접근할 수 있다.\n",
    "    def __init__(self) :\n",
    "        print('init')\n",
    "        print(f'self : {self}')\n",
    "         # 객체가 가지고 있어야할 변수를 여기에서 추가해준다.\n",
    "        self.a1 = 100\n",
    "        self.a2 = 200"
   ]
  },
  {
   "cell_type": "code",
   "execution_count": 15,
   "id": "50b90c86-4e83-4731-8ec6-ee79a532deb2",
   "metadata": {},
   "outputs": [
    {
     "name": "stdout",
     "output_type": "stream",
     "text": [
      "init\n",
      "self : <__main__.TestClass2 object at 0x000001D824C02930>\n",
      "t1 : <__main__.TestClass2 object at 0x000001D824C02930>\n",
      "t1.a1 : 100\n",
      "t1.a2 : 200\n"
     ]
    }
   ],
   "source": [
    "t1 = TestClass2()\n",
    "print(f't1 : {t1}')\n",
    "# 객체가 가지고 있는 변수에 접근한다.\n",
    "print(f't1.a1 : {t1.a1}')\n",
    "print(f't1.a2 : {t1.a2}')"
   ]
  },
  {
   "cell_type": "code",
   "execution_count": 17,
   "id": "27cb5ec1-c856-407f-934e-11533bbd18b7",
   "metadata": {},
   "outputs": [
    {
     "name": "stdout",
     "output_type": "stream",
     "text": [
      "init\n",
      "self : <__main__.TestClass2 object at 0x000001D825D63D40>\n",
      "t2 : <__main__.TestClass2 object at 0x000001D825D63D40>\n",
      "t2.a1 : 100\n",
      "t2.a2 : 200\n"
     ]
    }
   ],
   "source": [
    "t2 = TestClass2()\n",
    "print(f't2 : {t2}')\n",
    "print(f't2.a1 : {t2.a1}')\n",
    "print(f't2.a2 : {t2.a2}')"
   ]
  },
  {
   "cell_type": "code",
   "execution_count": 19,
   "id": "f1dff24b-f461-4b95-98b3-5e758f4efc5b",
   "metadata": {},
   "outputs": [
    {
     "name": "stdout",
     "output_type": "stream",
     "text": [
      "t1.a1 : 1000\n",
      "t2.a1 : 100\n"
     ]
    }
   ],
   "source": [
    "# 같은 클래스로 생성한 객체라고 하더라도 서로 독립적이므로\n",
    "# 변수의 값이 항상 같지 않는다\n",
    "t1.a1 = 1000\n",
    "print(f't1.a1 : {t1.a1}')\n",
    "print(f't2.a1 : {t2.a1}')"
   ]
  },
  {
   "cell_type": "code",
   "execution_count": 21,
   "id": "0598655b-45f0-481b-9737-53b61653a51e",
   "metadata": {},
   "outputs": [],
   "source": [
    "# 생성자도 함수의 일종이므로 매개변수를 가질 수 있다.\n",
    "# 단, 첫 번째 매개변수에는 생성된 객체의 주소값으로 결정되기 때문에\n",
    "# 두 번째 매개변수부터 값을 결정해주면 된다(기본값도 설정할 수 있다)\n",
    "class TestClass3 :\n",
    "    # 생성자\n",
    "    def __init__(self, v1, v2, v3 = 3) :\n",
    "        self.a1 = v1\n",
    "        self.a2 = v2\n",
    "        self.a3 = v3"
   ]
  },
  {
   "cell_type": "code",
   "execution_count": 23,
   "id": "e9941be4-134a-4121-8c28-a32c8e52de41",
   "metadata": {},
   "outputs": [
    {
     "name": "stdout",
     "output_type": "stream",
     "text": [
      "10 20 30\n",
      "10 20 3\n"
     ]
    }
   ],
   "source": [
    "t1 = TestClass3(10, 20, 30)\n",
    "print(t1.a1, t1.a2, t1.a3)\n",
    "\n",
    "t2 = TestClass3(10, 20)\n",
    "print(t2.a1, t2.a2, t2.a3)"
   ]
  },
  {
   "cell_type": "code",
   "execution_count": 25,
   "id": "db935f3c-8cf5-4067-9a7d-6990b5120d87",
   "metadata": {},
   "outputs": [],
   "source": [
    "# 메서드\n",
    "# 객체를 통해 호출하는 함수들\n",
    "# 객체를 통해 호출하기 때문에 첫 번째 매개변수에는 객체의 주소값이 들어온다.\n",
    "# 이를 통해 객체에 접근하여 객체가 가지고 있는 변수를 사용할 수 있다.\n",
    "class TestClass4 :\n",
    "    # 생성자\n",
    "    def __init__(self, a1, a2) :\n",
    "        self.v1 = a1\n",
    "        self.v2 = a2\n",
    "\n",
    "    # 메서드\n",
    "    # 객체를 통해서 메서드를 호출하면 첫 번째 매개변수에 메서드를 호출하기 위해\n",
    "    # 사용한 객체의 주소값이 들어온다. 이를 통해 객체에 접근하여 객체의 변수를 사용할 수 있다.\n",
    "    def test_method(self) :\n",
    "        print(self.v1)\n",
    "        print(self.v2)"
   ]
  },
  {
   "cell_type": "code",
   "execution_count": null,
   "id": "cb9fa390-fd99-4de3-ac51-45a91e69403e",
   "metadata": {},
   "outputs": [],
   "source": []
  }
 ],
 "metadata": {
  "kernelspec": {
   "display_name": "Python [conda env:base] *",
   "language": "python",
   "name": "conda-base-py"
  },
  "language_info": {
   "codemirror_mode": {
    "name": "ipython",
    "version": 3
   },
   "file_extension": ".py",
   "mimetype": "text/x-python",
   "name": "python",
   "nbconvert_exporter": "python",
   "pygments_lexer": "ipython3",
   "version": "3.12.7"
  }
 },
 "nbformat": 4,
 "nbformat_minor": 5
}
