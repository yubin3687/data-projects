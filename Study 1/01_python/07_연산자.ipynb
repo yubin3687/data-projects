{
 "cells": [
  {
   "cell_type": "markdown",
   "id": "401cec4a-fabe-4bd2-9db8-5ce24e3322c7",
   "metadata": {},
   "source": [
    "# 연산자\n",
    "- 값 들을 가지고 계산을 하기 위한 특수 문자들\n",
    "- 키보드에 있는 특수문자 대부분이 연산자이다."
   ]
  },
  {
   "cell_type": "markdown",
   "id": "01be552a-0dcb-4522-93b7-d8df0ee493df",
   "metadata": {},
   "source": [
    "### 산술 연산자\n",
    "- \"+\" : 더하기\n",
    "- \"-\" : 빼기\n",
    "- \"*\" : 곱하기\n",
    "- \"/\" : 나누기. 결과가 실수\n",
    "- \"//\" : 나누기. 결과가 정수\n",
    "- \"%\" : 나머지\n",
    "- \"**\" : 거듭제곱"
   ]
  },
  {
   "cell_type": "code",
   "execution_count": 3,
   "id": "7c6b2c78-21ab-461b-9978-47a1957fca35",
   "metadata": {},
   "outputs": [],
   "source": [
    "v1 = 10\n",
    "v2 = 20"
   ]
  },
  {
   "cell_type": "code",
   "execution_count": 5,
   "id": "f97b4974-3530-45a3-a048-4effc742c400",
   "metadata": {},
   "outputs": [
    {
     "name": "stdout",
     "output_type": "stream",
     "text": [
      "v1 + v2= 30\n",
      "v1 - v2 = -10\n",
      "v1 * v2 = 200\n",
      "v1 - v2 = 0\n",
      "v1 % v2 = 10\n",
      "v1 ** v2 = 100000000000000000000\n"
     ]
    }
   ],
   "source": [
    "# 더하기\n",
    "a1 = v1 + v2\n",
    "print('v1 + v2=' , a1)\n",
    "\n",
    "#빼기\n",
    "a2 = v1 - v2\n",
    "print('v1 - v2 =', a2)\n",
    "\n",
    "#곱기기\n",
    "a3 = v1 * v2\n",
    "print('v1 * v2 =', a3)\n",
    "\n",
    "#나기기\n",
    "a4 = v1 // v2\n",
    "print('v1 - v2 =', a4)\n",
    "\n",
    "#나머지\n",
    "a5 = v1 % v2\n",
    "print('v1 % v2 =', a5)\n",
    "\n",
    "#거듭제곱\n",
    "a6 = v1 ** v2\n",
    "print('v1 ** v2 =', a6)"
   ]
  },
  {
   "cell_type": "markdown",
   "id": "9ef17bf2-894e-4e57-b823-24bc635e59db",
   "metadata": {},
   "source": [
    "### 비교 연산자\n",
    "- 좌측의 값이 우측값과 비교하여 어떻다 라는 연산을 수행한다.\n",
    "- 결과는 True나 False로 나온다\n",
    "- \"==\" : 좌측의 값이 우측의 값과 같다\n",
    "- \"!=\" : 좌측의 값이 우측의 값과 다르다\n",
    "- \">\" : 좌측의 값이 우측의 값보다 큰가\n",
    "- \"<\" : 좌측의 값이 우측의 값보다 작은가\n",
    "- \">=\" : 좌측의 값이 우측의 값보다 크거나 같은가\n",
    "- \"<=\" : 좌측의 값이 우측의 값보다 작거나 같은가 "
   ]
  },
  {
   "cell_type": "code",
   "execution_count": 8,
   "id": "eb0487a5-1825-41b7-afef-40c22f1f006f",
   "metadata": {},
   "outputs": [
    {
     "name": "stdout",
     "output_type": "stream",
     "text": [
      "True\n",
      "False\n",
      "False\n",
      "True\n",
      "True\n",
      "False\n",
      "False\n",
      "True\n",
      "True\n",
      "True\n",
      "False\n",
      "False\n",
      "True\n",
      "True\n"
     ]
    }
   ],
   "source": [
    "v1 = 10\n",
    "print(v1 == 10)\n",
    "print(v1 == 20)\n",
    "print(v1 != 10)\n",
    "print(v1 != 20)\n",
    "print(v1 > 5)\n",
    "print(v1 > 20)\n",
    "print(v1 < 5)\n",
    "print(v1 < 20)\n",
    "print(v1 >= 5)\n",
    "print(v1 >= 10)\n",
    "print(v1 >= 20)\n",
    "print(v1 <= 5)\n",
    "print(v1 <= 10)\n",
    "print(v1 <= 20)"
   ]
  },
  {
   "cell_type": "markdown",
   "id": "07d5a84b-3f6c-4631-97ed-c7238545233e",
   "metadata": {},
   "source": [
    "### 증감 연산자\n",
    "- ++, -- : 변수에 저장되어 있는 값을 1 증가 시키거나 1 감소시키는 연산자이다. 파이썬은 지원하지 않는다.\n",
    "- +=, -=, *=, /=, //=, %=, **= 연산자를 사용할 수 있다"
   ]
  },
  {
   "cell_type": "code",
   "execution_count": 11,
   "id": "af9b5b82-617c-4baf-8ee8-076e7080fbb8",
   "metadata": {},
   "outputs": [
    {
     "name": "stdout",
     "output_type": "stream",
     "text": [
      "20\n",
      "20\n"
     ]
    }
   ],
   "source": [
    "v1 = 10\n",
    "v2 = 10\n",
    "\n",
    "v1 = v1 + 10\n",
    "v2 += 10\n",
    "print(v1)\n",
    "print(v2)"
   ]
  },
  {
   "cell_type": "code",
   "execution_count": 13,
   "id": "70276817-0f05-4d97-87d3-f64c3f93ea1f",
   "metadata": {},
   "outputs": [
    {
     "name": "stdout",
     "output_type": "stream",
     "text": [
      "30\n",
      "30\n"
     ]
    }
   ],
   "source": [
    "v1 = 10\n",
    "v2 = 10\n",
    "\n",
    "v1 = v1 * 3\n",
    "v2 *= 3\n",
    "\n",
    "print(v1)\n",
    "print(v2)"
   ]
  },
  {
   "cell_type": "markdown",
   "id": "0d642eda-e962-4e27-ae8b-407f50999c0f",
   "metadata": {},
   "source": [
    "### 논리 연산자\n",
    "\n",
    "- 연산자 좌측과 우측에는 참, 거짓을 결과하는 연산식이 존재해야 한다.\n",
    "- and: 좌측과 우측이 하나라도 False라면 최종 결과는 False가 된다.\n",
    "- or : 좌측과 우측이 하나라도 True라면 최종 결과는 True가 된다.\n",
    "- not : 우측의 결과가 True라면 False로, False라면 True가 된다."
   ]
  },
  {
   "cell_type": "code",
   "execution_count": 21,
   "id": "2d8cca50-67a4-475d-a7d0-1696b7d88fd1",
   "metadata": {},
   "outputs": [
    {
     "name": "stdout",
     "output_type": "stream",
     "text": [
      "True\n",
      "False\n",
      "False\n",
      "True\n",
      "True\n",
      "False\n"
     ]
    }
   ],
   "source": [
    "v1 = 10\n",
    "v2 = 20\n",
    "\n",
    "print(v1 > 5 and v2 > 10)\n",
    "print(v1 > 20 and v2 > 10)\n",
    "\n",
    "print (v1 < 5 or v2 < 10)\n",
    "print (v2 > 5 or v2 < 10)\n",
    "\n",
    "print(not v1 < 5)\n",
    "print(not v1 > 5)"
   ]
  },
  {
   "cell_type": "code",
   "execution_count": null,
   "id": "75e6e0a8-edc6-433a-9a29-9421e82ca2b0",
   "metadata": {},
   "outputs": [],
   "source": []
  }
 ],
 "metadata": {
  "kernelspec": {
   "display_name": "Python [conda env:base] *",
   "language": "python",
   "name": "conda-base-py"
  },
  "language_info": {
   "codemirror_mode": {
    "name": "ipython",
    "version": 3
   },
   "file_extension": ".py",
   "mimetype": "text/x-python",
   "name": "python",
   "nbconvert_exporter": "python",
   "pygments_lexer": "ipython3",
   "version": "3.12.7"
  }
 },
 "nbformat": 4,
 "nbformat_minor": 5
}
