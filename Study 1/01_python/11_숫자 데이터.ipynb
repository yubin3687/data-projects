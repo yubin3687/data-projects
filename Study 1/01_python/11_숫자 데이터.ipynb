{
 "cells": [
  {
   "cell_type": "code",
   "execution_count": 20,
   "id": "700040c0-5c90-42ec-86ff-b2bcd0186516",
   "metadata": {},
   "outputs": [],
   "source": [
    "import math\n",
    "import random"
   ]
  },
  {
   "cell_type": "markdown",
   "id": "252f8d46-7274-4abc-be5b-e68b6fda6c2c",
   "metadata": {},
   "source": [
    "### 값 타입\n",
    "- 파이선은 정수, 실수, 논리 값 등을 객체라는 것으로 만들어 관리한다."
   ]
  },
  {
   "cell_type": "code",
   "execution_count": 8,
   "id": "dab48fe4-a0d2-4af9-8936-e7f476bbf7a6",
   "metadata": {},
   "outputs": [
    {
     "name": "stdout",
     "output_type": "stream",
     "text": [
      "140719048442520\n",
      "140719048439320\n",
      "140719048439320\n"
     ]
    }
   ],
   "source": [
    "# id : 생성된 객체를 구분하기 위한 일련번호를 확인할 수 있다.\n",
    "print(id(200))\n",
    "print(id(100))\n",
    "print(id(100))"
   ]
  },
  {
   "cell_type": "code",
   "execution_count": 10,
   "id": "5121fceb-215e-470d-a656-74a3271eeb3c",
   "metadata": {},
   "outputs": [
    {
     "name": "stdout",
     "output_type": "stream",
     "text": [
      "<class 'int'>\n",
      "<class 'float'>\n"
     ]
    }
   ],
   "source": [
    "# type : 객체를 생성하기 위해 사용한 클래스의 이름을 확인할 수 있다.\n",
    "print(type(100))\n",
    "print(type(11.11))"
   ]
  },
  {
   "cell_type": "code",
   "execution_count": 12,
   "id": "85f37e98-47a2-4568-a4f0-f598690e762e",
   "metadata": {},
   "outputs": [
    {
     "name": "stdout",
     "output_type": "stream",
     "text": [
      "11 1 100\n",
      "11.0 1.0 11.11\n",
      "True True True False\n"
     ]
    }
   ],
   "source": [
    "# 다른 형태의 값으로 생성할 수 있다.\n",
    "a1 = int(11.11)\n",
    "a2 = int(True)\n",
    "a3 = int('100')\n",
    "print(a1, a2, a3)\n",
    "\n",
    "a1 = float(11)\n",
    "a2 = float(True)\n",
    "a3 = float('11.11')\n",
    "print(a1, a2, a3)\n",
    "\n",
    "a1 = bool(11)\n",
    "a2 = bool(11.11)\n",
    "a3 = bool('100')\n",
    "a4 = bool(0)\n",
    "print(a1, a2, a3, a4)"
   ]
  },
  {
   "cell_type": "code",
   "execution_count": 14,
   "id": "d6a18a0a-af30-4c98-adbc-be6e2d789a03",
   "metadata": {},
   "outputs": [
    {
     "name": "stdout",
     "output_type": "stream",
     "text": [
      "30\n",
      "30\n"
     ]
    }
   ],
   "source": [
    "# 절대값\n",
    "a1 = abs(30)\n",
    "a2 = abs(-30)\n",
    "print(a1)\n",
    "print(a2)"
   ]
  },
  {
   "cell_type": "code",
   "execution_count": 22,
   "id": "73010c10-4079-486c-80f0-bec13ff285a7",
   "metadata": {},
   "outputs": [
    {
     "name": "stdout",
     "output_type": "stream",
     "text": [
      "100 56 -55\n"
     ]
    }
   ],
   "source": [
    "# 소수점 이하 반올림\n",
    "a1 = math.ceil(100)\n",
    "a2 = math.ceil(55.55)\n",
    "a3 = math.ceil(-55.55)\n",
    "print(a1, a2, a3)"
   ]
  },
  {
   "cell_type": "code",
   "execution_count": 24,
   "id": "a5589707-38ec-45db-a2d9-6e7521fdc21b",
   "metadata": {},
   "outputs": [
    {
     "name": "stdout",
     "output_type": "stream",
     "text": [
      "100 55 -56\n"
     ]
    }
   ],
   "source": [
    "# 소수점 이하 내림\n",
    "a1 = math.floor(100)\n",
    "a2 = math.floor(55.55)\n",
    "a3 = math.floor(-55.55)\n",
    "\n",
    "print(a1, a2, a3)"
   ]
  },
  {
   "cell_type": "code",
   "execution_count": 26,
   "id": "246fd083-fedd-4960-bd33-6147c4501a56",
   "metadata": {},
   "outputs": [
    {
     "name": "stdout",
     "output_type": "stream",
     "text": [
      "-20 40\n"
     ]
    }
   ],
   "source": [
    "# 주어진 값에서 최소 또는 최대 값을 가져온다.\n",
    "a1 = min(30, -10, -20, 40)\n",
    "a2 = max(30, -10, -20, 40)\n",
    "print(a1, a2)"
   ]
  },
  {
   "cell_type": "code",
   "execution_count": 28,
   "id": "8fd961b2-830a-4968-b2be-f3c3365eed6c",
   "metadata": {},
   "outputs": [
    {
     "name": "stdout",
     "output_type": "stream",
     "text": [
      "22 56 22.2 20.0\n"
     ]
    }
   ],
   "source": [
    "# 소수점 이하 반올림\n",
    "a1 = round(22.22)\n",
    "a2 = round(55.55)\n",
    "\n",
    "# 소수점 이하 두 번째 자리를 기준으로 반올림\n",
    "a3 = round(22.22, 1)\n",
    "# 1의 자리를 기준으로 반올림\n",
    "a4 = round(22.22, -1)\n",
    "print(a1, a2, a3, a4)"
   ]
  },
  {
   "cell_type": "code",
   "execution_count": null,
   "id": "75b33689-4e32-434c-836d-d865353a7c01",
   "metadata": {},
   "outputs": [],
   "source": []
  }
 ],
 "metadata": {
  "kernelspec": {
   "display_name": "Python [conda env:base] *",
   "language": "python",
   "name": "conda-base-py"
  },
  "language_info": {
   "codemirror_mode": {
    "name": "ipython",
    "version": 3
   },
   "file_extension": ".py",
   "mimetype": "text/x-python",
   "name": "python",
   "nbconvert_exporter": "python",
   "pygments_lexer": "ipython3",
   "version": "3.12.7"
  }
 },
 "nbformat": 4,
 "nbformat_minor": 5
}
