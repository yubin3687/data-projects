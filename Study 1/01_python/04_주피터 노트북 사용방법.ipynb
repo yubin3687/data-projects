{
 "cells": [
  {
   "cell_type": "markdown",
   "id": "eef4a705-f8cc-42cc-8c55-f0409e5b470c",
   "metadata": {},
   "source": [
    "### 셀\n",
    "-설명이나 코드를 작성할 수 있는 칸 하나를 의미한다."
   ]
  },
  {
   "cell_type": "markdown",
   "id": "99ca1ff6-7ea5-424a-8f68-8eda5a45f290",
   "metadata": {},
   "source": [
    "### 셀 모드\n",
    "- edit mode (enter) : 현재 셀에 대한 편집 작업을 할 수 있다.\n",
    "- command mode (esc) : 주피터에 있는 셀들을 관리 할 수 있다."
   ]
  },
  {
   "cell_type": "markdown",
   "id": "758ad9e4-8758-436a-a5ff-50e5b2a423f5",
   "metadata": {},
   "source": [
    "### 공통 단축키\n",
    "- shift + enter : 현재 셀을 실행하고 다음 셀로 이동한다.\n",
    "- ctrl(맥은 command) + enter : 현재 셀을 실행하고 현재 셀에 머물러 있다."
   ]
  },
  {
   "cell_type": "markdown",
   "id": "dcf5774c-94da-4589-b5bf-726965aa7b4f",
   "metadata": {},
   "source": [
    "### command mode 단축키 (주로 쓰는)\n",
    "- 상하 방향키 : 편집하고자 하는 셀로 이동한다.\n",
    "- a : 현재 셀 상단에 셀을 추가한다.\n",
    "- b : 현재 셀의 하단에 셀을 추가한다.\n",
    "- dd : 현재 셀을 삭제한다.\n",
    "- m : 현재 셀을 markdown 모드로 변경한다.\n",
    "- y : 현재 셀을 code모드로 변경한다.\n",
    "- z : 셀에 대한 작업에 대해 Undo.\n",
    "- shift + z : 셀에 대한 작업에 대해 Redo\n",
    "- 셀들을 선택 한 후 shift + m : 선택한 셀들을 하나의 셀로 합쳐준다."
   ]
  },
  {
   "cell_type": "markdown",
   "id": "6f00f1ab-a42f-4231-a30a-40607a3cb408",
   "metadata": {},
   "source": [
    "### edit mode 단축키\n",
    "- 상하 방향키 : 현재 셀이 제일 위에 있을 경우 이전 셀로 이동하고 현재 셀 마지막에 있을 경우 다음 셀로 이동한다.\n",
    "- ctrl + shift + - = 현재 위치를 기준으로 셀을 나눈다."
   ]
  },
  {
   "cell_type": "markdown",
   "id": "27e70ee7-c3a0-4afe-b399-29afcc00792b",
   "metadata": {},
   "source": [
    "# 제목 1\n",
    "## 제목 2\n",
    "### 제목 3\n",
    "#### 제목 4\n",
    "##### 제목 5\n",
    "###### 제목 6"
   ]
  },
  {
   "cell_type": "code",
   "execution_count": null,
   "id": "937fccd2-40a4-463f-ac65-0be56fac6b7e",
   "metadata": {},
   "outputs": [],
   "source": []
  },
  {
   "cell_type": "code",
   "execution_count": null,
   "id": "234da8da-0294-4dee-b208-05e7b99e8438",
   "metadata": {},
   "outputs": [],
   "source": []
  }
 ],
 "metadata": {
  "kernelspec": {
   "display_name": "Python [conda env:base] *",
   "language": "python",
   "name": "conda-base-py"
  },
  "language_info": {
   "codemirror_mode": {
    "name": "ipython",
    "version": 3
   },
   "file_extension": ".py",
   "mimetype": "text/x-python",
   "name": "python",
   "nbconvert_exporter": "python",
   "pygments_lexer": "ipython3",
   "version": "3.12.7"
  }
 },
 "nbformat": 4,
 "nbformat_minor": 5
}
