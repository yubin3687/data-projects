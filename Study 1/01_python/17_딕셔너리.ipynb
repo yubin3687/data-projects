{
 "cells": [
  {
   "cell_type": "markdown",
   "id": "754ebdfe-4174-4e5c-a411-3893da109c03",
   "metadata": {},
   "source": [
    "# 딕셔너리\n",
    "- 데이터를 이름을 통해 관리하는 요소\n",
    "- 리스트나 튜플은 의미가 같은 데이터를 관리하는 용도로 사용한다.\n",
    "- 딕셔너리는 하나의 개체가 가지고 있는 데이터를 관리하는 용도로 사용한다."
   ]
  },
  {
   "cell_type": "code",
   "execution_count": 2,
   "id": "5e81f2a3-a50a-46bc-8acd-cf9930bcb980",
   "metadata": {},
   "outputs": [
    {
     "name": "stdout",
     "output_type": "stream",
     "text": [
      "<class 'dict'>\n",
      "{}\n"
     ]
    }
   ],
   "source": [
    "# 딕셔너리 생성\n",
    "# 비어있는 딕셔너리가 생성된다\n",
    "# 딕셔너리는 나중에 추가할 수 있다\n",
    "d1 = dict()\n",
    "print(type(d1))\n",
    "print(d1)"
   ]
  },
  {
   "cell_type": "code",
   "execution_count": 6,
   "id": "9173c9b4-2178-4d86-abd3-66ef1389d639",
   "metadata": {},
   "outputs": [
    {
     "name": "stdout",
     "output_type": "stream",
     "text": [
      "<class 'dict'>\n",
      "{}\n"
     ]
    }
   ],
   "source": [
    "# 괄호를 통한 딕션너리 생성\n",
    "# 비어있는 딕셔너리가 생성된다\n",
    "d2 = {}\n",
    "print(type(d2))\n",
    "print(d2)"
   ]
  },
  {
   "cell_type": "code",
   "execution_count": 8,
   "id": "42fc34fd-f4c4-4bf6-8c05-50f2657d4a1d",
   "metadata": {},
   "outputs": [
    {
     "name": "stdout",
     "output_type": "stream",
     "text": [
      "{'v1': 100, 'v2': 11.11, 'v3': '안녕하세요', 'v4': [10, 20, 30], 'v5': (10, 20, 30), 'v6': {'a1': 100, 'a2': 200}}\n"
     ]
    }
   ],
   "source": [
    "# 관리하는 값을 지정하여 생성한다.\n",
    "d3 = {\n",
    "    'v1' : 100,\n",
    "    'v2' : 11.11,\n",
    "    'v3' : '안녕하세요',\n",
    "    'v4' : [10, 20, 30],\n",
    "    'v5' : (10, 20, 30),\n",
    "    'v6' : {\n",
    "        'a1' : 100,\n",
    "        'a2' : 200\n",
    "    }\n",
    "}\n",
    "print(d3)"
   ]
  },
  {
   "cell_type": "code",
   "execution_count": 10,
   "id": "cb61a8cf-d97d-408c-84a9-21b371532df2",
   "metadata": {},
   "outputs": [
    {
     "name": "stdout",
     "output_type": "stream",
     "text": [
      "100\n",
      "11.11\n",
      "안녕하세요\n",
      "10\n",
      "20\n",
      "10\n",
      "20\n",
      "100\n",
      "200\n"
     ]
    }
   ],
   "source": [
    "# [이름] 형태로 데이터를 가져온다.\n",
    "print(d3['v1'])\n",
    "print(d3['v2'])\n",
    "print(d3['v3'])\n",
    "print(d3['v4'][0])\n",
    "print(d3['v4'][1])\n",
    "print(d3['v5'][0])\n",
    "print(d3['v5'][1])\n",
    "print(d3['v6']['a1'])\n",
    "print(d3['v6']['a2'])"
   ]
  },
  {
   "cell_type": "code",
   "execution_count": 14,
   "id": "54f8aac3-7068-4922-ab54-4c30775c3018",
   "metadata": {},
   "outputs": [
    {
     "name": "stdout",
     "output_type": "stream",
     "text": [
      "100\n",
      "200\n"
     ]
    }
   ],
   "source": [
    "# 값을 수정한다.\n",
    "# 이름을 통해 값을 새롭게 넣어주면 값이 수정된다.\n",
    "print(d3['v1'])\n",
    "d3['v1'] = 200\n",
    "print(d3['v1'])"
   ]
  },
  {
   "cell_type": "code",
   "execution_count": 16,
   "id": "2b6564e7-3654-41fc-a29b-fed6e06ff765",
   "metadata": {},
   "outputs": [
    {
     "name": "stdout",
     "output_type": "stream",
     "text": [
      "{'v1': 200, 'v2': 11.11, 'v3': '안녕하세요', 'v4': [10, 20, 30], 'v5': (10, 20, 30), 'v6': {'a1': 100, 'a2': 200}, 'v7': 5000}\n",
      "5000\n"
     ]
    }
   ],
   "source": [
    "# 추가\n",
    "# 없는 이름으로 값을 넣어주면 추가된다.\n",
    "d3['v7'] = 5000\n",
    "print(d3)\n",
    "print(d3['v7'])"
   ]
  },
  {
   "cell_type": "code",
   "execution_count": 18,
   "id": "64f12087-fad3-44bf-9499-9408deb18b6d",
   "metadata": {},
   "outputs": [
    {
     "name": "stdout",
     "output_type": "stream",
     "text": [
      "[10, 20, 40, 50]\n",
      "[10, 40, 50]\n",
      "[10, 50]\n"
     ]
    }
   ],
   "source": [
    "# 리스트에서 데이터를 삭제\n",
    "list1 = [10, 20, 30, 40, 50]\n",
    "# 값을 가지고 데이터를 삭제\n",
    "list1.remove(30)\n",
    "print(list1)\n",
    "\n",
    "# pop은 순서를 지정하면 그 순서의 값을 전달하고 리스트에서 삭제한다.\n",
    "list1.pop(1)\n",
    "print(list1)\n",
    "\n",
    "# del 연산자 : 지정한 요소를 제거하는 연자자\n",
    "del list1[1]\n",
    "print(list1)"
   ]
  },
  {
   "cell_type": "code",
   "execution_count": 20,
   "id": "87515263-b099-47a4-8ac0-2c3d3fba01b4",
   "metadata": {},
   "outputs": [
    {
     "name": "stdout",
     "output_type": "stream",
     "text": [
      "200\n",
      "{'v2': 11.11, 'v3': '안녕하세요', 'v4': [10, 20, 30], 'v5': (10, 20, 30), 'v6': {'a1': 100, 'a2': 200}, 'v7': 5000}\n"
     ]
    }
   ],
   "source": [
    "# pop : 이름을 지정하여 이름에 해당하는 것을 전달하고 딕셔너리에서 삭제한다.\n",
    "v1 = d3.pop('v1')\n",
    "print(v1)\n",
    "print(d3)"
   ]
  },
  {
   "cell_type": "code",
   "execution_count": 22,
   "id": "0d3b24a0-5250-43eb-b95c-d8739a21abdb",
   "metadata": {},
   "outputs": [
    {
     "name": "stdout",
     "output_type": "stream",
     "text": [
      "{'v3': '안녕하세요', 'v4': [10, 20, 30], 'v5': (10, 20, 30), 'v6': {'a1': 100, 'a2': 200}, 'v7': 5000}\n"
     ]
    }
   ],
   "source": [
    "# del 연산을 통해 삭제할 수 있다.\n",
    "del d3['v2']\n",
    "print(d3)"
   ]
  },
  {
   "cell_type": "code",
   "execution_count": 24,
   "id": "d902aa2f-5aad-4324-b1c2-1ddf566012a4",
   "metadata": {},
   "outputs": [
    {
     "ename": "KeyError",
     "evalue": "'v100'",
     "output_type": "error",
     "traceback": [
      "\u001b[1;31m---------------------------------------------------------------------------\u001b[0m",
      "\u001b[1;31mKeyError\u001b[0m                                  Traceback (most recent call last)",
      "Cell \u001b[1;32mIn[24], line 3\u001b[0m\n\u001b[0;32m      1\u001b[0m \u001b[38;5;66;03m# 없는 이름으로 데이터를 가져온다.\u001b[39;00m\n\u001b[0;32m      2\u001b[0m \u001b[38;5;66;03m# 오류 발생\u001b[39;00m\n\u001b[1;32m----> 3\u001b[0m a1 \u001b[38;5;241m=\u001b[39m d3[\u001b[38;5;124m'\u001b[39m\u001b[38;5;124mv100\u001b[39m\u001b[38;5;124m'\u001b[39m]\n\u001b[0;32m      4\u001b[0m \u001b[38;5;28mprint\u001b[39m(a1)\n",
      "\u001b[1;31mKeyError\u001b[0m: 'v100'"
     ]
    }
   ],
   "source": [
    "# 없는 이름으로 데이터를 가져온다.\n",
    "# 오류 발생\n",
    "a1 = d3['v100']\n",
    "print(a1)"
   ]
  },
  {
   "cell_type": "code",
   "execution_count": 26,
   "id": "dbf398d8-33f0-46ab-8fb8-707331913dc6",
   "metadata": {},
   "outputs": [
    {
     "name": "stdout",
     "output_type": "stream",
     "text": [
      "안녕하세요\n",
      "None\n"
     ]
    }
   ],
   "source": [
    "# get을 통해 가져올 때 이름이 없을 경우 None 이 나온다.\n",
    "v3 = d3.get('v3')\n",
    "print(v3)\n",
    "\n",
    "v100 = d3.get('v100')\n",
    "print(v100)"
   ]
  },
  {
   "cell_type": "code",
   "execution_count": 28,
   "id": "31e87f61-2379-4aea-9e99-356e8d25e816",
   "metadata": {},
   "outputs": [
    {
     "name": "stdout",
     "output_type": "stream",
     "text": [
      "100\n",
      "200\n",
      "300\n",
      "400\n"
     ]
    }
   ],
   "source": [
    "# 이름은 꼭 문자열이 아니어도 된다.\n",
    "d10 = {\n",
    "    'a1' : 100,\n",
    "    10 : 200,\n",
    "    11.11 : 300,\n",
    "    True : 400\n",
    "}\n",
    "print(d10['a1'])\n",
    "print(d10[10])\n",
    "print(d10[11.11])\n",
    "print(d10[True])"
   ]
  },
  {
   "cell_type": "code",
   "execution_count": null,
   "id": "73190f3d-540e-43c1-b8b3-d711857ef9ee",
   "metadata": {},
   "outputs": [],
   "source": []
  }
 ],
 "metadata": {
  "kernelspec": {
   "display_name": "Python [conda env:base] *",
   "language": "python",
   "name": "conda-base-py"
  },
  "language_info": {
   "codemirror_mode": {
    "name": "ipython",
    "version": 3
   },
   "file_extension": ".py",
   "mimetype": "text/x-python",
   "name": "python",
   "nbconvert_exporter": "python",
   "pygments_lexer": "ipython3",
   "version": "3.12.7"
  }
 },
 "nbformat": 4,
 "nbformat_minor": 5
}
