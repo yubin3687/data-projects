{
 "cells": [
  {
   "cell_type": "markdown",
   "id": "f7253bf7-9e43-40f0-bd7a-fc9db9a07f57",
   "metadata": {},
   "source": [
    "# 패키지\n",
    "- py 파일을 가지고 있는 디렉토리(폴더)를 의미한다.\n",
    "- 패키지안에 있는 모듈을 사용할 때도 import 를 해줘야 한다."
   ]
  },
  {
   "cell_type": "code",
   "execution_count": 4,
   "id": "b681fac1-00d8-49c0-a585-79d6b270fcea",
   "metadata": {},
   "outputs": [
    {
     "name": "stdout",
     "output_type": "stream",
     "text": [
      "600\n",
      "test6_function\n",
      "<package1.test_module6.TestClass6 object at 0x000001D8E9433590>\n"
     ]
    }
   ],
   "source": [
    "# 패키지내의 모듈을 import 한다\n",
    "import package1.test_module6\n",
    "\n",
    "# 패키지내의 모듈이 가지고 있는 요소를 사용할 때는 패키지명.모듈명을 해야 한다.\n",
    "print(package1.test_module6.test6)\n",
    "package1.test_module6.test6_function()\n",
    "t6 = package1.test_module6.TestClass6()\n",
    "print(t6)"
   ]
  },
  {
   "cell_type": "code",
   "execution_count": 6,
   "id": "dbc1de27-eef3-4a32-bd91-e4d463159cfd",
   "metadata": {},
   "outputs": [
    {
     "name": "stdout",
     "output_type": "stream",
     "text": [
      "700\n",
      "test7_function\n",
      "<package2.test_module7.TestClass7 object at 0x000001D8E93B0A40>\n"
     ]
    }
   ],
   "source": [
    "# 패키지명을 생략하고 싶다면...\n",
    "# 모듈명은 명시해야 한다.\n",
    "from package2 import test_module7\n",
    "print(test_module7.test7)\n",
    "test_module7.test7_function()\n",
    "t7 = test_module7.TestClass7()\n",
    "print(t7)"
   ]
  },
  {
   "cell_type": "code",
   "execution_count": 10,
   "id": "f20b07eb-94ae-4b11-88b4-4a655c376ec9",
   "metadata": {},
   "outputs": [
    {
     "name": "stdout",
     "output_type": "stream",
     "text": [
      "800\n",
      "test8_function\n",
      "<package3.test_module8.TestClass8 object at 0x000001D8E80D3FE0>\n"
     ]
    }
   ],
   "source": [
    "# 패키지명과 모듈명을 생략한다.\n",
    "from package3.test_module8 import test8, test8_function, TestClass8\n",
    "\n",
    "print(test8)\n",
    "test8_function()\n",
    "t8 = TestClass8()\n",
    "print(t8)\n"
   ]
  },
  {
   "cell_type": "code",
   "execution_count": 1,
   "id": "34a64dd6-7469-47a4-957b-a8bdf6af3380",
   "metadata": {},
   "outputs": [
    {
     "name": "stdout",
     "output_type": "stream",
     "text": [
      "900\n",
      "1000\n"
     ]
    }
   ],
   "source": [
    "# 패키지내의 모든 모듈들을 패키지명을 생략하고 사용하고 싶을 때\n",
    "# 패키지내의 모든 모듈들을 패키지명을 생략하고 사용할 수 있도록 하기 위해 * 를 사용하면\n",
    "# __init__.py 파일에 있는 __all__ 변수에 담긴 리스트를 확인한다.\n",
    "# 이 리스트에 명시되어 있는 모듈들에 한해서 패캐지명을 생략하고 사용할 수 있도록 허용이 된다.\n",
    "# 원래 과거의 파이썬에서는 __init__.py 파일이 있는 폴더만 패키지로 인식을 하였으나\n",
    "# 버전이 업데이트 되면서 py만 있으면 패키지로 인식을 한다.\n",
    "# 그래도 * 를 통해 패키지명을 생락하고 싶은 모듈을 지정할 때는 __init__.py 파일을 만들고\n",
    "# __all__ 변수에 모듈명이나 하위 패키지명을 문자열로 넣어줘야 한다.\n",
    "from package4 import *\n",
    "\n",
    "print(test_module9.test9)\n",
    "print(test_module10.test10)"
   ]
  },
  {
   "cell_type": "code",
   "execution_count": null,
   "id": "d8dca22c-7ac1-41e0-8110-e6b3bf5b816b",
   "metadata": {},
   "outputs": [],
   "source": []
  },
  {
   "cell_type": "code",
   "execution_count": null,
   "id": "e49fa144-217a-4714-a786-79608fd4f3f0",
   "metadata": {},
   "outputs": [],
   "source": []
  }
 ],
 "metadata": {
  "kernelspec": {
   "display_name": "Python [conda env:base] *",
   "language": "python",
   "name": "conda-base-py"
  },
  "language_info": {
   "codemirror_mode": {
    "name": "ipython",
    "version": 3
   },
   "file_extension": ".py",
   "mimetype": "text/x-python",
   "name": "python",
   "nbconvert_exporter": "python",
   "pygments_lexer": "ipython3",
   "version": "3.12.7"
  }
 },
 "nbformat": 4,
 "nbformat_minor": 5
}
