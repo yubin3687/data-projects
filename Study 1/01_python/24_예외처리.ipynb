{
 "cells": [
  {
   "cell_type": "markdown",
   "id": "0aed1c0d-0847-42ba-afb0-262a9ce1ecc2",
   "metadata": {},
   "source": [
    "# 예외처리\n",
    "- 예외 : 오류의 발생을 미리 예측할 수 있는 오류들\n",
    "- 오류가 발생했거나 오류가 발생할 가능성이 있는 코드를 만났을 때 VM은 해당 프로그램을 강제 종료시킨다.\n",
    "- 예외처리라 함은 오류에 대해 강제 종료되는 것을 막고 개발자가 만든 코드가 동작될 수 있도록 함에 있다.\n",
    "- 예외처리시 프로그램의 정상화가 가능하다면 정상화를 위한 코드를 작성하고 그렇지 않다면 적어도 사용자에게 메시지를 보여주고 오류에 대해 기록하는 작업은 해야 한다.\n",
    "- 가장 중요한 것은 오류가 발생될 원인이 있는지 확인(데이터의 무결성 검사 등)을 하여 오류가 발생될 수 있는 상황이 벌어지지 않도록 하는 것이 중요한다."
   ]
  },
  {
   "cell_type": "code",
   "execution_count": 2,
   "id": "3c1d5531-493c-4c0c-b837-ffc600659bea",
   "metadata": {},
   "outputs": [
    {
     "ename": "ZeroDivisionError",
     "evalue": "division by zero",
     "output_type": "error",
     "traceback": [
      "\u001b[1;31m---------------------------------------------------------------------------\u001b[0m",
      "\u001b[1;31mZeroDivisionError\u001b[0m                         Traceback (most recent call last)",
      "Cell \u001b[1;32mIn[2], line 1\u001b[0m\n\u001b[1;32m----> 1\u001b[0m a1 \u001b[38;5;241m=\u001b[39m \u001b[38;5;241m10\u001b[39m \u001b[38;5;241m/\u001b[39m \u001b[38;5;241m0\u001b[39m\n\u001b[0;32m      2\u001b[0m \u001b[38;5;28mprint\u001b[39m(a1)\n\u001b[0;32m      4\u001b[0m \u001b[38;5;28mprint\u001b[39m(\u001b[38;5;124m'\u001b[39m\u001b[38;5;124m이 부분이 수행될까요?\u001b[39m\u001b[38;5;124m'\u001b[39m)\n",
      "\u001b[1;31mZeroDivisionError\u001b[0m: division by zero"
     ]
    }
   ],
   "source": [
    "a1 = 10 / 0\n",
    "print(a1)\n",
    "\n",
    "print('이 부분이 수행될까요?')"
   ]
  },
  {
   "cell_type": "code",
   "execution_count": 4,
   "id": "e0c204a8-84de-41b6-affb-4d057742e748",
   "metadata": {},
   "outputs": [
    {
     "name": "stdout",
     "output_type": "stream",
     "text": [
      "오류가 발생하였습니다\n",
      "이 부분이 수행될까요?\n"
     ]
    }
   ],
   "source": [
    "try:\n",
    "    a1 = 10 / 0\n",
    "    print(a1)\n",
    "except :\n",
    "    print('오류가 발생하였습니다')\n",
    "\n",
    "print('이 부분이 수행될까요?')"
   ]
  },
  {
   "cell_type": "markdown",
   "id": "3a8487d2-a904-4190-bf5b-e5accada97d7",
   "metadata": {},
   "source": [
    "- try : 개발자가 작업하고자 하는 코드를 작성하는 부분\n",
    "- except : try 부분에서 예외가 발생하면 try 부분의 수행을 중단하고 except 부분을 수행해준다. 여기에 정상화를 위한 코드나 오류메시지 기록등에 관련된 작업을 해준다\n",
    "- else : try 부분에서 예외가 발생하지 않고 모두 수행되었을 경우 동작하는 부분\n",
    "- finally : try 부분에서 예외 발생여부와 관계없이 무조건 동작하는 부분이다.\n",
    "- 예외가 발생하지 않았을 경우 : try 부분을 모두 수행 -> else가 있다면 else 부분 수행 -> finally가 있다면 finally 부분을 수행한다.\n",
    "- 예외가 발생했다면 : try 부분의 수행을 중단 -> except 부분을 수행한다 -> finally 부분이 있다면 finally 부분을 수행한다."
   ]
  },
  {
   "cell_type": "code",
   "execution_count": 7,
   "id": "c760f17d-1a03-4550-bab4-2f9d7435a8c3",
   "metadata": {},
   "outputs": [
    {
     "name": "stdout",
     "output_type": "stream",
     "text": [
      "30\n",
      "예외가 발생하지 않았습니다\n",
      "무조건 동작하는 부분입니다\n"
     ]
    }
   ],
   "source": [
    "try :\n",
    "    a1 = 10 + 20\n",
    "    print(a1)\n",
    "except :\n",
    "    print('예외가 발생하였습니다')\n",
    "else :\n",
    "    print('예외가 발생하지 않았습니다')\n",
    "finally :\n",
    "    print('무조건 동작하는 부분입니다')"
   ]
  },
  {
   "cell_type": "code",
   "execution_count": 9,
   "id": "fe52ea4b-36a2-4ea9-b6df-b6a249a648e5",
   "metadata": {},
   "outputs": [
    {
     "ename": "IndentationError",
     "evalue": "unexpected indent (1016069629.py, line 4)",
     "output_type": "error",
     "traceback": [
      "\u001b[1;36m  Cell \u001b[1;32mIn[9], line 4\u001b[1;36m\u001b[0m\n\u001b[1;33m    a1 = 10 / 0\u001b[0m\n\u001b[1;37m    ^\u001b[0m\n\u001b[1;31mIndentationError\u001b[0m\u001b[1;31m:\u001b[0m unexpected indent\n"
     ]
    }
   ],
   "source": [
    " # a1 = 10 + 20\n",
    "    # print(a1)\n",
    "\n",
    "    a1 = 10 / 0\n",
    "    print(a1)"
   ]
  },
  {
   "cell_type": "code",
   "execution_count": 11,
   "id": "002d3aac-2970-4462-82bc-b8b3b884e27d",
   "metadata": {},
   "outputs": [
    {
     "name": "stdout",
     "output_type": "stream",
     "text": [
      "그 외의 오류가 발생하였습니다\n",
      "invalid literal for int() with base 10: '안녕하세요'\n",
      "무조건 동작하는 부분입니다\n"
     ]
    }
   ],
   "source": [
    "try :\n",
    "    # a1 = 10 + 20\n",
    "    # print(a1)\n",
    "\n",
    "    # a1 = 10 / 0\n",
    "    # print(a1)\n",
    "\n",
    "    # a2 = [10, 20, 30]\n",
    "    # print(a2[10])\n",
    "\n",
    "    a3 = '안녕하세요'\n",
    "    a4 = int(a3)\n",
    "except ZeroDivisionError as e:\n",
    "    print('0으로 나누는 예외가 발생하였습니다')\n",
    "    print(e)\n",
    "except IndexError as e:\n",
    "    print('잘못된 순서값으로 접근하였습니다')\n",
    "    print(e)\n",
    "except Exception as e:\n",
    "    print('그 외의 오류가 발생하였습니다')\n",
    "    print(e)\n",
    "else :\n",
    "    print('예외가 발생하지 않았습니다')\n",
    "finally :\n",
    "    print('무조건 동작하는 부분입니다')"
   ]
  },
  {
   "cell_type": "code",
   "execution_count": null,
   "id": "cf9b980a-a57b-4233-81ea-fa942f5f2785",
   "metadata": {},
   "outputs": [],
   "source": []
  }
 ],
 "metadata": {
  "kernelspec": {
   "display_name": "Python [conda env:base] *",
   "language": "python",
   "name": "conda-base-py"
  },
  "language_info": {
   "codemirror_mode": {
    "name": "ipython",
    "version": 3
   },
   "file_extension": ".py",
   "mimetype": "text/x-python",
   "name": "python",
   "nbconvert_exporter": "python",
   "pygments_lexer": "ipython3",
   "version": "3.12.7"
  }
 },
 "nbformat": 4,
 "nbformat_minor": 5
}
