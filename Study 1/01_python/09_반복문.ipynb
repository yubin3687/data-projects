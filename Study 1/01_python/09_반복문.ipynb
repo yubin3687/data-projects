{
 "cells": [
  {
   "cell_type": "markdown",
   "id": "a0f33c0d-7f71-4939-881b-0944565983ae",
   "metadata": {},
   "source": [
    "# 반복문\n",
    "- 관리하는 코드를 원하는 만큼 반복 시키는 구문\n",
    "\n",
    "### while\n",
    "-주어진 조건 수식의 결과가 True일 경우 반복한다.\n",
    "\n",
    "### for in\n",
    "-주어진 데이터를 관리하는 요소가 관리하는 데이터의 수 만큼 반복한다"
   ]
  },
  {
   "cell_type": "code",
   "execution_count": 2,
   "id": "a3997476-1841-4de0-a9d3-22c219b62728",
   "metadata": {},
   "outputs": [
    {
     "name": "stdout",
     "output_type": "stream",
     "text": [
      "while a1 0\n",
      "while a1 1\n",
      "while a1 2\n",
      "while a1 3\n",
      "while a1 4\n",
      "while a1 5\n",
      "while a1 6\n",
      "while a1 7\n",
      "while a1 8\n",
      "while a1 9\n"
     ]
    }
   ],
   "source": [
    "# while\n",
    "# 주어진 조건식의 결과가 True인 경우 반복한다.\n",
    "a1 = 0\n",
    "\n",
    "while(a1<10) :\n",
    "    print('while a1', a1)\n",
    "    a1 = a1 + 1"
   ]
  },
  {
   "cell_type": "code",
   "execution_count": 4,
   "id": "25c2e284-80b0-4194-a407-fb01dc67fb6a",
   "metadata": {},
   "outputs": [
    {
     "name": "stdout",
     "output_type": "stream",
     "text": [
      "for v1 : 0\n",
      "for v1 : 1\n",
      "for v1 : 2\n",
      "for v1 : 3\n",
      "for v1 : 4\n",
      "for v1 : 5\n",
      "for v1 : 6\n",
      "for v1 : 7\n",
      "for v1 : 8\n",
      "for v1 : 9\n"
     ]
    }
   ],
   "source": [
    "# for in\n",
    "# 주어진 데이터를 관리하는 요소가 관리하는 데이터의 수 만큼 반복한다.\n",
    "# 이 때, 반복 번째에 해당하는 데이터를 변수로 받을 수 있다.\n",
    "for v1 in range(10) :\n",
    "    print(\"for v1 :\", v1)"
   ]
  },
  {
   "cell_type": "code",
   "execution_count": null,
   "id": "de00b37a-2c3b-4029-b438-a3d45c333cea",
   "metadata": {},
   "outputs": [],
   "source": []
  }
 ],
 "metadata": {
  "kernelspec": {
   "display_name": "Python [conda env:base] *",
   "language": "python",
   "name": "conda-base-py"
  },
  "language_info": {
   "codemirror_mode": {
    "name": "ipython",
    "version": 3
   },
   "file_extension": ".py",
   "mimetype": "text/x-python",
   "name": "python",
   "nbconvert_exporter": "python",
   "pygments_lexer": "ipython3",
   "version": "3.12.7"
  }
 },
 "nbformat": 4,
 "nbformat_minor": 5
}
