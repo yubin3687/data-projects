{
 "cells": [
  {
   "cell_type": "code",
   "execution_count": 17,
   "id": "59d96056-b6a3-49d9-b225-2718e24c11fe",
   "metadata": {},
   "outputs": [
    {
     "name": "stdout",
     "output_type": "stream",
     "text": [
      "[30, 80, 60, 40, 90, 100, 10, 70, 20, 50]\n"
     ]
    }
   ],
   "source": [
    "#리스트가 가지고 있는 값들을 랜덤하게 섞어준다.\n",
    "random.shuffle(list1)\n",
    "print(list1)"
   ]
  },
  {
   "cell_type": "code",
   "execution_count": 19,
   "id": "11b07fda-37ed-4535-8a55-f9231a248d3d",
   "metadata": {},
   "outputs": [
    {
     "name": "stdout",
     "output_type": "stream",
     "text": [
      "98\n"
     ]
    }
   ],
   "source": [
    "# 0 ~ 99 사이의 정수값 하나를 랜덤하게 추출한다.\n",
    "a1 = random.randrange(100)\n",
    "print(a1)"
   ]
  },
  {
   "cell_type": "code",
   "execution_count": 21,
   "id": "8bd9bb4e-fc69-49e4-929d-aa0a944267d6",
   "metadata": {},
   "outputs": [
    {
     "name": "stdout",
     "output_type": "stream",
     "text": [
      "5\n"
     ]
    }
   ],
   "source": [
    "# 5 ~ 30 사아의 정수값 하나를 랜덤하게 추출하낟.\n",
    "a2 = random.randrange(5, 31)\n",
    "print(a2)"
   ]
  },
  {
   "cell_type": "code",
   "execution_count": 23,
   "id": "4bd6478a-c2e5-4bcd-9a75-96015e5ebf4f",
   "metadata": {},
   "outputs": [
    {
     "name": "stdout",
     "output_type": "stream",
     "text": [
      "23\n"
     ]
    }
   ],
   "source": [
    "# 5 ~ 30 사이이고 2씩 증가된 숫자 중에 하나를 랜덤하게 추출한다\n",
    "a3 = random.randrange(5, 31, 2)\n",
    "print(a3)"
   ]
  },
  {
   "cell_type": "code",
   "execution_count": 25,
   "id": "8e4e6e97-807b-46c8-a518-733ae4e7799e",
   "metadata": {},
   "outputs": [
    {
     "name": "stdout",
     "output_type": "stream",
     "text": [
      "0.6982951542010026\n"
     ]
    }
   ],
   "source": [
    "# 0 ~ 1 보다 작은 실수 중에 랜덤하게 뽑아낸다.\n",
    "a1 = random.random()\n",
    "print(a1)"
   ]
  },
  {
   "cell_type": "code",
   "execution_count": null,
   "id": "1b22f7f0-c891-49a2-a1ce-2784942ea553",
   "metadata": {},
   "outputs": [],
   "source": []
  }
 ],
 "metadata": {
  "kernelspec": {
   "display_name": "Python [conda env:base] *",
   "language": "python",
   "name": "conda-base-py"
  },
  "language_info": {
   "codemirror_mode": {
    "name": "ipython",
    "version": 3
   },
   "file_extension": ".py",
   "mimetype": "text/x-python",
   "name": "python",
   "nbconvert_exporter": "python",
   "pygments_lexer": "ipython3",
   "version": "3.12.7"
  }
 },
 "nbformat": 4,
 "nbformat_minor": 5
}
