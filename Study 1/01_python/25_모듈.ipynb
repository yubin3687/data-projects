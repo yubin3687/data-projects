{
 "cells": [
  {
   "cell_type": "markdown",
   "id": "b0587938-e2d2-43de-a0ba-406cea817836",
   "metadata": {},
   "source": [
    "# 모듈\n",
    "- 파이썬 코드를 작성하는 파일의 확장자는 py 이다\n",
    "- 이 py 파일이 하나의 모듈이 된다.\n",
    "- 파이썬 코드를 작성할 때 다른 py 파일에 작성되어 있는 것을 사용할 수 있다."
   ]
  },
  {
   "cell_type": "code",
   "execution_count": 6,
   "id": "77fce3cf-b789-46e1-8496-1a9f36f8e65e",
   "metadata": {},
   "outputs": [
    {
     "name": "stdout",
     "output_type": "stream",
     "text": [
      "test_module.py\n",
      "안녕하세요\n"
     ]
    }
   ],
   "source": [
    "# 이미 import한 모듈을 또 import 하면 아무런 일도 하지 않는다.\n",
    "import test_module1"
   ]
  },
  {
   "cell_type": "code",
   "execution_count": 8,
   "id": "e287fd3a-e445-4527-9e80-6b9757b3c6de",
   "metadata": {},
   "outputs": [
    {
     "name": "stdout",
     "output_type": "stream",
     "text": [
      "100\n",
      "test2_function\n",
      "<test_module2.TestClass2 object at 0x0000013FA2DFD730>\n"
     ]
    }
   ],
   "source": [
    "# 다른 모듈에 정의되어 있는 변수, 함수, 클래스 등의 사용\n",
    "import test_module2\n",
    "# 다른 모듈에 있는 것을 사용할 때는 모듈명과 같이 사용해야 한다.\n",
    "# 사용하는 요소들이 어떠한 모듈에 있는 것인지를 명시하는 것 뿐만 아니라\n",
    "# 다른 모듈에 동일명의 변수, 함수, 클래스 등이 있을 경우 이를 구분하기 위한 목적도 있다.\n",
    "print(test_module2.test2)\n",
    "test_module2.test2_function()\n",
    "t2 = test_module2.TestClass2()\n",
    "print(t2)"
   ]
  },
  {
   "cell_type": "code",
   "execution_count": 10,
   "id": "35f69442-17ee-487a-ac7b-1f6db3183313",
   "metadata": {},
   "outputs": [
    {
     "name": "stdout",
     "output_type": "stream",
     "text": [
      "300\n",
      "test3_function\n",
      "<test_module3.TestClass3 object at 0x0000013FA4BDA4E0>\n"
     ]
    }
   ],
   "source": [
    "# 별칭\n",
    "# 모듈명이 너무 길다고 생각되면 별칭을 사용할 수 있다.\n",
    "import test_module3 as m3\n",
    "print(m3.test3)\n",
    "m3.test3_function()\n",
    "t3 = m3.TestClass3()\n",
    "print(t3)"
   ]
  },
  {
   "cell_type": "code",
   "execution_count": 12,
   "id": "314aacf9-65d2-46fb-b364-87bbd852517a",
   "metadata": {},
   "outputs": [
    {
     "ename": "NameError",
     "evalue": "name 'test_module3' is not defined",
     "output_type": "error",
     "traceback": [
      "\u001b[1;31m---------------------------------------------------------------------------\u001b[0m",
      "\u001b[1;31mNameError\u001b[0m                                 Traceback (most recent call last)",
      "Cell \u001b[1;32mIn[12], line 3\u001b[0m\n\u001b[0;32m      1\u001b[0m \u001b[38;5;66;03m# 별칭을 부여해서 import 한 모듈은 모듈명으로는 사용할 수 없고\u001b[39;00m\n\u001b[0;32m      2\u001b[0m \u001b[38;5;66;03m# 별칭으로 사용해야 한다.\u001b[39;00m\n\u001b[1;32m----> 3\u001b[0m \u001b[38;5;28mprint\u001b[39m(test_module3\u001b[38;5;241m.\u001b[39mtest3)\n",
      "\u001b[1;31mNameError\u001b[0m: name 'test_module3' is not defined"
     ]
    }
   ],
   "source": [
    "# 별칭을 부여해서 import 한 모듈은 모듈명으로는 사용할 수 없고\n",
    "# 별칭으로 사용해야 한다.\n",
    "print(test_module3.test3)"
   ]
  },
  {
   "cell_type": "code",
   "execution_count": 14,
   "id": "9fff78a2-b766-4917-b592-5d2e708a2563",
   "metadata": {},
   "outputs": [],
   "source": [
    "test4 = 400\n",
    "\n",
    "def test4_function() :\n",
    "    print('test4_function')\n",
    "\n",
    "class TestClass4 :\n",
    "    pass"
   ]
  },
  {
   "cell_type": "code",
   "execution_count": 16,
   "id": "9c3cae6d-0666-4d90-917d-c0d5bbcf106a",
   "metadata": {},
   "outputs": [
    {
     "name": "stdout",
     "output_type": "stream",
     "text": [
      "400\n",
      "test4_function\n",
      "<test_module4.TestClass4 object at 0x0000013FA45B2960>\n"
     ]
    }
   ],
   "source": [
    "# 모듈명 생략 - 사용하고 싶은 것에 대해서만 지정하기\n",
    "# from 모듈명 import 함수명,변수명,클래스명등\n",
    "from test_module4 import test4\n",
    "from test_module4 import test4_function, TestClass4\n",
    "\n",
    "print(test4)\n",
    "test4_function()\n",
    "t4 = TestClass4()\n",
    "print(t4)"
   ]
  },
  {
   "cell_type": "code",
   "execution_count": 20,
   "id": "d85ff8e4-a90f-4f12-92cf-53d5a6433394",
   "metadata": {},
   "outputs": [
    {
     "name": "stdout",
     "output_type": "stream",
     "text": [
      "500\n",
      "test5_function\n",
      "<test_module5.TestClass5 object at 0x0000013FA467DF10>\n"
     ]
    }
   ],
   "source": [
    "# 모듈에 있는 모든 요소들을 모듈명 생략하겠다라고 한다\n",
    "from test_module5 import *\n",
    "\n",
    "print(test5)\n",
    "test5_function()\n",
    "t5 = TestClass5()\n",
    "print(t5)"
   ]
  },
  {
   "cell_type": "code",
   "execution_count": null,
   "id": "e378221e-fc25-43f6-b6b0-ef9cd9469c12",
   "metadata": {},
   "outputs": [],
   "source": []
  }
 ],
 "metadata": {
  "kernelspec": {
   "display_name": "Python [conda env:base] *",
   "language": "python",
   "name": "conda-base-py"
  },
  "language_info": {
   "codemirror_mode": {
    "name": "ipython",
    "version": 3
   },
   "file_extension": ".py",
   "mimetype": "text/x-python",
   "name": "python",
   "nbconvert_exporter": "python",
   "pygments_lexer": "ipython3",
   "version": "3.12.7"
  }
 },
 "nbformat": 4,
 "nbformat_minor": 5
}
