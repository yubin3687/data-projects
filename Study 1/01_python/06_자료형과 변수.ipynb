{
 "cells": [
  {
   "cell_type": "markdown",
   "id": "01663d48-3413-4d0d-8c41-486b0c901038",
   "metadata": {},
   "source": [
    "# 리터럴\n",
    "- 프로그램 코드 작성시 값을 작성하는 문법"
   ]
  },
  {
   "cell_type": "code",
   "execution_count": 4,
   "id": "549fd30a-fb24-4361-8cd7-04436dd1d349",
   "metadata": {},
   "outputs": [
    {
     "name": "stdout",
     "output_type": "stream",
     "text": [
      "정수 : 100\n",
      "실수 : 11.11\n",
      "문자열 : 하하하\n",
      "참 : True\n",
      "거짓 : False\n",
      "지수 : 200000.0\n",
      "복소수 : (10+8j)\n",
      "세자리 마다 표시 : 123456789\n",
      "없음 : None\n"
     ]
    }
   ],
   "source": [
    "print('정수 :', 100)\n",
    "print('실수 :', 11.11)\n",
    "print('문자열 :', '하하하')\n",
    "print('참 :', True)\n",
    "print('거짓 :', False)\n",
    "print('지수 :', 2e5)\n",
    "print('복소수 :', 10 + 8j)\n",
    "print('세자리 마다 표시 :', 123_456_789)\n",
    "print('없음 :', None)"
   ]
  },
  {
   "cell_type": "code",
   "execution_count": 11,
   "id": "6adc1c97-ff42-41f6-bd09-f61d3e5218ce",
   "metadata": {
    "scrolled": true
   },
   "outputs": [
    {
     "name": "stdout",
     "output_type": "stream",
     "text": [
      "<class 'int'>\n",
      "<class 'float'>\n",
      "<class 'str'>\n",
      "<class 'bool'>\n",
      "<class 'bool'>\n",
      "<class 'float'>\n",
      "<class 'complex'>\n",
      "<class 'int'>\n",
      "<class 'NoneType'>\n"
     ]
    }
   ],
   "source": [
    "# type을 쓰면 값의 타입을 파악할 수 있다\n",
    "print(type(100))                #정수\n",
    "print(type(11.11))              #소수\n",
    "print(type('하하하'))           #문자\n",
    "print(type(True))               #참, 거짓\n",
    "print(type(False))\n",
    "print(type(2e10))\n",
    "print(type(10 + 8j))\n",
    "print(type(123_456_789))\n",
    "print(type(None))"
   ]
  },
  {
   "cell_type": "markdown",
   "id": "9af4a84a-bab6-46b9-a9e9-ad4e63f1634f",
   "metadata": {},
   "source": [
    "# 변수\n",
    "- 개발자가 원하는 값을 저장할 수 있는 기억공간을 의미한다.\n",
    "- 파이썬은 이름만 정해주면 변수를 정의할 수 있다."
   ]
  },
  {
   "cell_type": "code",
   "execution_count": 15,
   "id": "7faeafe5-3fd0-4c7b-a8a5-314805ba0be9",
   "metadata": {},
   "outputs": [],
   "source": [
    "#파이썬은 변수의 선언과 동시에 저장할 값을 지정해준다.\n",
    "# = : 대입연산자. 오른쪽에 있는 값을 왼쪽에 있는 변수에 저장하는 작업을 수행한다.\n",
    "a1 = 10\n",
    "a2 = 11.11\n",
    "a3 = '안녕하세요'"
   ]
  },
  {
   "cell_type": "code",
   "execution_count": 13,
   "id": "f81f0415-30d0-4580-acf4-66966db089cc",
   "metadata": {},
   "outputs": [
    {
     "name": "stdout",
     "output_type": "stream",
     "text": [
      "10\n",
      "11.11\n",
      "안녕하세요\n"
     ]
    }
   ],
   "source": [
    "#변수의 이름만 사용하면 변수에 저장되어 있는 값을 가져와 사용할 수 있다.\n",
    "print(a1)\n",
    "print(a2)\n",
    "print(a3)"
   ]
  },
  {
   "cell_type": "code",
   "execution_count": 23,
   "id": "dc978ded-b6c0-4f92-bf40-ec98a9126db8",
   "metadata": {},
   "outputs": [
    {
     "name": "stdout",
     "output_type": "stream",
     "text": [
      "100\n",
      "<class 'int'>\n",
      "11.11\n",
      "<class 'float'>\n",
      "문자열\n",
      "<class 'str'>\n"
     ]
    }
   ],
   "source": [
    "#파이썬은 변수에 다른 타입의 값을 저장하는 것이 가능하다.\n",
    "a4 = 100\n",
    "print(a4)\n",
    "print(type(a4))\n",
    "\n",
    "a4 = 11.11\n",
    "print(a4)\n",
    "print(type(a4))\n",
    "\n",
    "\n",
    "a4 = '문자열'\n",
    "print(a4)\n",
    "print(type(a4))\n"
   ]
  },
  {
   "cell_type": "code",
   "execution_count": 25,
   "id": "2bd0d36b-83a3-4649-83a4-fa78c608810b",
   "metadata": {},
   "outputs": [
    {
     "name": "stdout",
     "output_type": "stream",
     "text": [
      "100\n",
      "100\n",
      "100\n"
     ]
    }
   ],
   "source": [
    "#여러 변수에 같은 값을 저장하고자 한다면..\n",
    "a5 = a6 = a7 = 100\n",
    "print(a5)\n",
    "print(a6)\n",
    "print(a7)"
   ]
  },
  {
   "cell_type": "code",
   "execution_count": 27,
   "id": "8ffbe3d4-3a60-4e2d-9d04-253c42a9c32b",
   "metadata": {},
   "outputs": [
    {
     "name": "stdout",
     "output_type": "stream",
     "text": [
      "100\n",
      "200\n",
      "300\n"
     ]
    }
   ],
   "source": [
    "# 각 변수에 저장될 값을 각각 다를 경우 다음과 같이 하는 것도 가능하다.\n",
    "# 여기에는 tuple 이라는 것과 관련된 비밀이 숨어 있다.\n",
    "a8, a9, a10 = 100, 200, 300\n",
    "print(a8)\n",
    "print(a9)\n",
    "print(a10)"
   ]
  },
  {
   "cell_type": "code",
   "execution_count": 29,
   "id": "b66984bd-dbdb-4664-83d4-bd4eab7c7563",
   "metadata": {},
   "outputs": [
    {
     "name": "stdout",
     "output_type": "stream",
     "text": [
      "100\n",
      "11.11\n"
     ]
    }
   ],
   "source": [
    "# 파이썬 3.6 부터 변수에 자료형을 명시할 수 있다.\n",
    "# 변수를 정의할 때에 자료형을 명시하면 값을 지정하지 않아도 된다.\n",
    "# 단, 변수를 사용하기 전에 반드시 값을 저장해야 한다.\n",
    "\n",
    "#변수에 자료형을 붙혀주는 이유\n",
    "#1. 변수를 선언할 때 최초의 값을 지정해주고싶지 않을 때 -> 그냥 값을 0같은 값을 넣어주면 된다.\n",
    "#2. 변수의 타입을 명시적으로 표현하고 싶을때 -> 다른 타입의 값을 저장할 수 있기 때문에 별 의미가 없다.\n",
    "\n",
    "a11:int\n",
    "\n",
    "a11 = 100\n",
    "print(a11)\n",
    "\n",
    "a11 = 11.11\n",
    "print(a11)"
   ]
  },
  {
   "cell_type": "code",
   "execution_count": null,
   "id": "8cc3016d-3fd1-4715-872a-f3e13832c1cc",
   "metadata": {},
   "outputs": [],
   "source": []
  }
 ],
 "metadata": {
  "kernelspec": {
   "display_name": "Python [conda env:base] *",
   "language": "python",
   "name": "conda-base-py"
  },
  "language_info": {
   "codemirror_mode": {
    "name": "ipython",
    "version": 3
   },
   "file_extension": ".py",
   "mimetype": "text/x-python",
   "name": "python",
   "nbconvert_exporter": "python",
   "pygments_lexer": "ipython3",
   "version": "3.12.7"
  }
 },
 "nbformat": 4,
 "nbformat_minor": 5
}
