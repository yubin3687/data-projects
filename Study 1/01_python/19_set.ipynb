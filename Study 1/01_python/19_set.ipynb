{
 "cells": [
  {
   "cell_type": "markdown",
   "id": "3428c65c-9ef1-4eaf-9387-c58828821283",
   "metadata": {},
   "source": [
    "# Set\n",
    "- 데이터를 집합으로 사용할 때 사용하는 요소\n",
    "- 중복된 데이터는 허용하지 않는다\n",
    "- 순서가 없다\n",
    "- 이름도 없다\n",
    "- set 이 가지고 있는 특정 데이터를 지칭하여 추출하는 것은 불가능하다"
   ]
  },
  {
   "cell_type": "code",
   "execution_count": 2,
   "id": "c155e909-56a1-482d-9ba8-a8d036472aa6",
   "metadata": {},
   "outputs": [
    {
     "name": "stdout",
     "output_type": "stream",
     "text": [
      "set()\n",
      "<class 'set'>\n"
     ]
    }
   ],
   "source": [
    "# set 생성\n",
    "s1 = set()\n",
    "print(s1)\n",
    "print(type(s1))"
   ]
  },
  {
   "cell_type": "code",
   "execution_count": 4,
   "id": "4267101c-b5d6-4012-9ac3-a5210ab59774",
   "metadata": {},
   "outputs": [
    {
     "name": "stdout",
     "output_type": "stream",
     "text": [
      "{10, 20, 30}\n",
      "<class 'set'>\n"
     ]
    }
   ],
   "source": [
    "s2 = {10, 20, 30}\n",
    "print(s2)\n",
    "print(type(s2))"
   ]
  },
  {
   "cell_type": "code",
   "execution_count": 6,
   "id": "c44d593a-d016-45ec-9d25-c5f7c57913e8",
   "metadata": {},
   "outputs": [
    {
     "name": "stdout",
     "output_type": "stream",
     "text": [
      "{10, 20, 30}\n"
     ]
    }
   ],
   "source": [
    "# set은 중복을 허용하지 않는다.\n",
    "s3 = {10, 20, 30, 10, 20, 30, 30, 20, 10}\n",
    "print(s3)"
   ]
  },
  {
   "cell_type": "code",
   "execution_count": null,
   "id": "a22d3870-d4bb-4b17-b4c1-05ecddff9063",
   "metadata": {},
   "outputs": [],
   "source": []
  }
 ],
 "metadata": {
  "kernelspec": {
   "display_name": "Python [conda env:base] *",
   "language": "python",
   "name": "conda-base-py"
  },
  "language_info": {
   "codemirror_mode": {
    "name": "ipython",
    "version": 3
   },
   "file_extension": ".py",
   "mimetype": "text/x-python",
   "name": "python",
   "nbconvert_exporter": "python",
   "pygments_lexer": "ipython3",
   "version": "3.12.7"
  }
 },
 "nbformat": 4,
 "nbformat_minor": 5
}
