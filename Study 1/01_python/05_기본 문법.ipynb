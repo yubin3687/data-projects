{
 "cells": [
  {
   "cell_type": "markdown",
   "id": "f370622b-6339-40c6-aa36-9f7566985343",
   "metadata": {},
   "source": [
    "# 주석\n",
    "- 프로그램 코드 실행 시 건너띄는 부분을 의미한다.\n",
    "- 앞에 샾(#)을 붙혀주면 그 라인은 주석이 된다.\n",
    "- 보통 설명을 작성하거나 실행하고 싶지 않은 코드가 있을 경우 사용한다."
   ]
  },
  {
   "cell_type": "code",
   "execution_count": 4,
   "id": "0cc604db-a0db-4a5d-be4d-5887fef19c2a",
   "metadata": {},
   "outputs": [
    {
     "name": "stdout",
     "output_type": "stream",
     "text": [
      "30\n"
     ]
    }
   ],
   "source": [
    "# 이 부분은 주석 부분입니다.\n",
    "# 실행할 때 건너띄는 부분입니다.\n",
    "\n",
    "a1 = 10 + 20;\n",
    "print(a1);"
   ]
  },
  {
   "cell_type": "markdown",
   "id": "1473b2ca-5631-437f-ba72-bcb7fd4cec57",
   "metadata": {},
   "source": [
    "# 출력\n",
    "- print() : ( ) 안에 출력하고자 하는 것을 넣어주면 출력을 하고 밑으로 내려준다."
   ]
  },
  {
   "cell_type": "code",
   "execution_count": 32,
   "id": "65f989dd-83e9-418f-ba55-22ab6a9df02d",
   "metadata": {},
   "outputs": [
    {
     "name": "stdout",
     "output_type": "stream",
     "text": [
      "100\n",
      "11.11\n"
     ]
    }
   ],
   "source": [
    "print(100)\n",
    "print(11.11)"
   ]
  },
  {
   "cell_type": "code",
   "execution_count": 36,
   "id": "51f601f3-a5ba-4b7b-aa60-ce97e221556c",
   "metadata": {},
   "outputs": [
    {
     "name": "stdout",
     "output_type": "stream",
     "text": [
      "100 200 300\n"
     ]
    }
   ],
   "source": [
    "# 쉼표를 구분하여 여러개를 작성해주면 띄어쓰기를 하여 출력해준다.\n",
    "print (100,200, 300)"
   ]
  },
  {
   "cell_type": "markdown",
   "id": "2af98ff0-ca7a-468c-a067-11948ec69cf5",
   "metadata": {},
   "source": [
    "# 문자열\n",
    "- 파이썬은 작은 따음표('), 큰 따음표(\") 모두 문자열로 취급한다.\n",
    "- 작은 따음표 세개('''), 큰 따음표 세개(\"\"\")로 묶어주는 문자열도 제공된다. "
   ]
  },
  {
   "cell_type": "code",
   "execution_count": 39,
   "id": "19d5c6db-cf8d-43ce-b238-40b6ce57e41b",
   "metadata": {},
   "outputs": [
    {
     "name": "stdout",
     "output_type": "stream",
     "text": [
      "문자열\n",
      "문자열\n",
      "동해물과 백두산이\n",
      "마르고 닳도록\n",
      "동해물과 백두산이\n",
      "마르고 닳도록\n"
     ]
    }
   ],
   "source": [
    "print('문자열')\n",
    "print(\"문자열\")\n",
    "print('''동해물과 백두산이\n",
    "마르고 닳도록''')\n",
    "print(\"\"\"동해물과 백두산이\n",
    "마르고 닳도록\"\"\")"
   ]
  },
  {
   "cell_type": "code",
   "execution_count": 41,
   "id": "e2d75e13-bb86-4909-befd-2b61de540680",
   "metadata": {},
   "outputs": [
    {
     "name": "stdout",
     "output_type": "stream",
     "text": [
      "30\n"
     ]
    }
   ],
   "source": [
    "100\n",
    "11.11\n",
    "'문자열'  #주석처럼 써도 되지만 메모리를 소모함.\n",
    "'''하하하\n",
    "호호호'''\n",
    "a1 = 10+20\n",
    "print(a1)"
   ]
  },
  {
   "cell_type": "markdown",
   "id": "7df91d47-3ef3-475a-b31b-fcb15f1a3b98",
   "metadata": {},
   "source": [
    "# 세미클론(;)\n",
    "- C언어와 C언어의 문법을 사용하는 프로그램 언어들은 문장의 마지막에 세미클론 (;)을 반드시 찍어줘야함.\n",
    "- 그러나 파이썬은 세미클론 사용이 자유롭다."
   ]
  },
  {
   "cell_type": "code",
   "execution_count": 48,
   "id": "43a98779-93bd-482e-8d55-60f3723c67bb",
   "metadata": {},
   "outputs": [
    {
     "name": "stdout",
     "output_type": "stream",
     "text": [
      "세미클론 있음\n",
      "세미클론 없음\n"
     ]
    }
   ],
   "source": [
    "print('세미클론 있음');\n",
    "print('세미클론 없음')"
   ]
  },
  {
   "cell_type": "code",
   "execution_count": 52,
   "id": "e4732e26-12b0-4719-86be-d1bfa3f44d95",
   "metadata": {},
   "outputs": [
    {
     "name": "stdout",
     "output_type": "stream",
     "text": [
      "100\n",
      "200\n",
      "300\n"
     ]
    }
   ],
   "source": [
    "#  한 줄에 여러 명령문을 작성 할 때에는 세미클론으로 구분지어야 한다.\n",
    "print(100); print(200); print (300);"
   ]
  },
  {
   "cell_type": "markdown",
   "id": "503f8ebd-9fcb-4d6d-b3ba-191b24e9d835",
   "metadata": {},
   "source": [
    "#식별자는 _로 시작, 이휴 영문 대소문자와 숫자"
   ]
  },
  {
   "cell_type": "code",
   "execution_count": null,
   "id": "86422e29-6662-46a8-8bc6-26339ff8553d",
   "metadata": {},
   "outputs": [],
   "source": []
  }
 ],
 "metadata": {
  "kernelspec": {
   "display_name": "Python [conda env:base] *",
   "language": "python",
   "name": "conda-base-py"
  },
  "language_info": {
   "codemirror_mode": {
    "name": "ipython",
    "version": 3
   },
   "file_extension": ".py",
   "mimetype": "text/x-python",
   "name": "python",
   "nbconvert_exporter": "python",
   "pygments_lexer": "ipython3",
   "version": "3.12.7"
  }
 },
 "nbformat": 4,
 "nbformat_minor": 5
}
