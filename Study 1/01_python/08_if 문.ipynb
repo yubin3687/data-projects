{
 "cells": [
  {
   "cell_type": "markdown",
   "id": "0df951a5-837e-46ad-a70e-48b1b628fdef",
   "metadata": {},
   "source": [
    "# if 문\n",
    "- if문에 주어진 연산식의 결과가 True일 경우에만 관리하는 코드를 수행한다."
   ]
  },
  {
   "cell_type": "code",
   "execution_count": 5,
   "id": "180b066f-1e6b-4059-9fef-b07dfb08300b",
   "metadata": {},
   "outputs": [],
   "source": [
    "a1 = 100"
   ]
  },
  {
   "cell_type": "code",
   "execution_count": 4,
   "id": "d5fc42b1-0555-4f58-bdf8-b7a257495d83",
   "metadata": {},
   "outputs": [
    {
     "name": "stdout",
     "output_type": "stream",
     "text": [
      "a1은 100 입니다.\n"
     ]
    }
   ],
   "source": [
    "#a1은 100이 저장되어 있으므로 True이기 때문에 관리하는 코드가 수행된다.\n",
    "if a1 == 100 :\n",
    "    print(\"a1은 100 입니다.\")"
   ]
  },
  {
   "cell_type": "code",
   "execution_count": 37,
   "id": "48cd954e-cc59-4879-a565-0ff78129e819",
   "metadata": {},
   "outputs": [
    {
     "name": "stdout",
     "output_type": "stream",
     "text": [
      "a1은 100이 아닙니다.\n"
     ]
    }
   ],
   "source": [
    "# a1은 100이 저장되어 있으므로 False이기 때문에 관리하는 코드가 수행되지 않는다.\n",
    "if a1 != 100 :\n",
    "    print(\"a1은 100이 아닙니다.\")"
   ]
  },
  {
   "cell_type": "code",
   "execution_count": 5,
   "id": "0096843d-3bf9-4ccf-99e9-e9ee0bf193de",
   "metadata": {},
   "outputs": [
    {
     "name": "stdout",
     "output_type": "stream",
     "text": [
      "이 부분이 수행될 까요? 2\n"
     ]
    }
   ],
   "source": [
    "# 파이썬에서는 if문과 같이 어떠한 코드를 관리하는 요소들은 자신이 관리하는 코드의 범위를 들여쓰기로\n",
    "# 구분한다.\n",
    "# 파이썬 코드를 작성하실때는 들여쓰기를 반드시 주의해주세요~~~~\n",
    "if a1 != 100 :\n",
    "    print(\"for 1\")\n",
    "    print(\"이 부분이 수행될 까요? 1\")\n",
    "\n",
    "if a1 != 100 :\n",
    "    print(\"for 2\")\n",
    "print(\"이 부분이 수행될 까요? 2\")"
   ]
  },
  {
   "cell_type": "code",
   "execution_count": 7,
   "id": "87298222-aa91-47d2-8ad3-2f093a549897",
   "metadata": {},
   "outputs": [
    {
     "name": "stdout",
     "output_type": "stream",
     "text": [
      "a1은 100입니다\n",
      "a1은 100입니다\n"
     ]
    }
   ],
   "source": [
    "# else\n",
    "# if 문의 조건식의 결과가 False인 경우 수행되는 부분\n",
    "if a1 == 100 :\n",
    "    print(\"a1은 100입니다\")\n",
    "else :\n",
    "    print(\"a1은 100이 아닙니다\")\n",
    "\n",
    "if a1 != 100 :\n",
    "    print(\"a1은 100이 아닙니다\")\n",
    "else :\n",
    "    print(\"a1은 100입니다\")"
   ]
  },
  {
   "cell_type": "code",
   "execution_count": 9,
   "id": "fc3c2053-3f38-4a68-8474-13bb4281e882",
   "metadata": {},
   "outputs": [
    {
     "name": "stdout",
     "output_type": "stream",
     "text": [
      "a1은 100입니다\n"
     ]
    }
   ],
   "source": [
    "# elif : 조건이 다수일 경우 사용한다.\n",
    "if a1 == 50 :\n",
    "    print(\"a1은 50입니다\")\n",
    "elif a1 == 70 :\n",
    "    print(\"a1은 70입니다\")\n",
    "elif a1 == 100 :\n",
    "    print(\"a1은 100입니다\")\n",
    "elif a1 == 150 :\n",
    "    print(\"a1은 150입니다\")\n",
    "else :\n",
    "    print(\"a1은 50, 70, 100, 150이 아닙니다\")"
   ]
  },
  {
   "cell_type": "code",
   "execution_count": null,
   "id": "431114f3-e37a-4560-a3b1-f5bf45f8bc84",
   "metadata": {},
   "outputs": [],
   "source": []
  },
  {
   "cell_type": "code",
   "execution_count": null,
   "id": "d0751f3c-6083-4efd-a5a7-cef1e26dd7d9",
   "metadata": {},
   "outputs": [],
   "source": []
  }
 ],
 "metadata": {
  "kernelspec": {
   "display_name": "Python [conda env:base] *",
   "language": "python",
   "name": "conda-base-py"
  },
  "language_info": {
   "codemirror_mode": {
    "name": "ipython",
    "version": 3
   },
   "file_extension": ".py",
   "mimetype": "text/x-python",
   "name": "python",
   "nbconvert_exporter": "python",
   "pygments_lexer": "ipython3",
   "version": "3.12.7"
  }
 },
 "nbformat": 4,
 "nbformat_minor": 5
}
