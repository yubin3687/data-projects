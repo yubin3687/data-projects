{
 "cells": [
  {
   "cell_type": "markdown",
   "id": "90eb5ac7-ecb8-4f6d-bb75-36676ee5125c",
   "metadata": {},
   "source": [
    "# 그래프\n",
    "\n",
    "![](doc_images/1.png)"
   ]
  },
  {
   "cell_type": "code",
   "execution_count": 3,
   "id": "6a5206a0-1343-4630-a784-50fd6dcc2641",
   "metadata": {},
   "outputs": [
    {
     "data": {
      "text/plain": [
       "{'A': ['B', 'C'],\n",
       " 'B': ['A', 'E'],\n",
       " 'C': ['A', 'D', 'E'],\n",
       " 'D': ['C', 'E'],\n",
       " 'E': ['B', 'C', 'D']}"
      ]
     },
     "execution_count": 3,
     "metadata": {},
     "output_type": "execute_result"
    }
   ],
   "source": [
    "# 딕셔너리를 이용하여 표현한 그래프\n",
    "graph_d = {\n",
    "    'A' : ['B', 'C'],\n",
    "    'B' : ['A', 'E'],\n",
    "    'C' : ['A', 'D', 'E'],\n",
    "    'D' : ['C', 'E'],\n",
    "    'E' : ['B', 'C', 'D']\n",
    "}\n",
    "graph_d"
   ]
  },
  {
   "cell_type": "markdown",
   "id": "dec8319c-5622-4c4b-a8f3-79709ebf79f6",
   "metadata": {},
   "source": [
    "### 인접행렬\n",
    "- 그래프의 각 노드가 서로 인접해 있는지에 대한 행렬\n",
    "- 0 : 인접되어 있지 않다, 1 : 인접되어 있다\n",
    "\n",
    "![](doc_images/2.png)"
   ]
  },
  {
   "cell_type": "code",
   "execution_count": 8,
   "id": "7c896a81-d464-40f4-8a33-1509939b70f4",
   "metadata": {},
   "outputs": [
    {
     "data": {
      "text/plain": [
       "[[0, 1, 1, 0, 0],\n",
       " [1, 0, 0, 0, 1],\n",
       " [1, 0, 0, 1, 1],\n",
       " [0, 0, 1, 0, 1],\n",
       " [0, 1, 1, 1, 0]]"
      ]
     },
     "execution_count": 8,
     "metadata": {},
     "output_type": "execute_result"
    }
   ],
   "source": [
    "# 인접 행렬 : 간선이 존재하면 1(True), 존재하지 않으면 0(False)로 행렬값 표현\n",
    "graph_array = [\n",
    "    [0, 1, 1, 0, 0],\n",
    "    [1, 0, 0, 0, 1],\n",
    "    [1, 0, 0, 1, 1],\n",
    "    [0, 0, 1, 0, 1],\n",
    "    [0, 1, 1, 1, 0]\n",
    "]\n",
    "\n",
    "graph_array"
   ]
  },
  {
   "cell_type": "markdown",
   "id": "5978f2b2-aa94-4446-b492-a364be49c29f",
   "metadata": {},
   "source": [
    "# 트리\n",
    "\n",
    "![](doc_images/3.png)"
   ]
  },
  {
   "cell_type": "code",
   "execution_count": 11,
   "id": "ca27ddc9-0928-4b33-af79-4059609e8e1a",
   "metadata": {},
   "outputs": [
    {
     "name": "stdout",
     "output_type": "stream",
     "text": [
      "['A', ['B', ['D', 'E']], ['C', ['F', 'G']]]\n",
      "A\n",
      "B\n",
      "C\n",
      "D\n",
      "E\n",
      "F\n",
      "G\n"
     ]
    }
   ],
   "source": [
    "# 트리 표현하기 : 이중 리스트로 표현\n",
    "tree1 = [\n",
    "    'A', \n",
    "    [\n",
    "     'B', \n",
    "         ['D', 'E']\n",
    "    ], \n",
    "    [\n",
    "      'C', \n",
    "         ['F', 'G']\n",
    "    ]\n",
    "]\n",
    "\n",
    "print(tree1)\n",
    "print(tree1[0])\n",
    "print(tree1[1][0])\n",
    "print(tree1[2][0])\n",
    "print(tree1[1][1][0])\n",
    "print(tree1[1][1][1])\n",
    "print(tree1[2][1][0])\n",
    "print(tree1[2][1][1])"
   ]
  },
  {
   "cell_type": "code",
   "execution_count": 13,
   "id": "f0a8f01e-d2e2-473a-8595-303fb0d4ca77",
   "metadata": {},
   "outputs": [
    {
     "name": "stdout",
     "output_type": "stream",
     "text": [
      "{'A': ['B', 'C'], 'B': ['D', 'E'], 'C': ['F', 'G']}\n"
     ]
    }
   ],
   "source": [
    "tree2 = {\n",
    "    'A' : ['B', 'C'],\n",
    "    'B' : ['D', 'E'],\n",
    "    'C' : ['F', 'G']\n",
    "}\n",
    "\n",
    "print(tree2)"
   ]
  },
  {
   "cell_type": "code",
   "execution_count": 15,
   "id": "98f5b40f-8ce6-4098-b2c4-fede014822e1",
   "metadata": {},
   "outputs": [
    {
     "name": "stdout",
     "output_type": "stream",
     "text": [
      "{'A': ['B', 'C'], 'B': ['D', 'E'], 'C': ['F', 'G']}\n",
      "['B', 'C']\n",
      "B\n",
      "C\n",
      "D\n",
      "E\n"
     ]
    }
   ],
   "source": [
    "tree2 = {\n",
    "    'A' : ['B', 'C'],\n",
    "    'B' : ['D', 'E'],\n",
    "    'C' : ['F', 'G']\n",
    "}\n",
    "\n",
    "print(tree2)\n",
    "print(tree2['A'])\n",
    "print(tree2['A'][0])\n",
    "print(tree2['A'][1])\n",
    "print(tree2[tree2['A'][0]][0])\n",
    "print(tree2[tree2['A'][0]][1])"
   ]
  },
  {
   "cell_type": "markdown",
   "id": "079311f1-7f4a-4a1b-b929-14d639323fd1",
   "metadata": {},
   "source": [
    "# 깊이 우선 순회\n",
    "- 현재 노드를 기준으로 인접해 있는 노드 중 방문한 적이 없는 노드가 있다면 그 노드로 이동한다.\n",
    "- 현재 노드를 기준으로 인접해 있는 노드가 없으면 이전 노드로 돌아간다\n",
    "- 현재 노드를 기준으로 인접해 있는 노드 모두 방문한 적이 있다면 이전 노드로 돌아간다.\n",
    "- 모든 노드를 방문 할 때까지 반복한다."
   ]
  },
  {
   "cell_type": "code",
   "execution_count": 18,
   "id": "1dd34bb2-a7de-41a9-b718-40684ca9e473",
   "metadata": {},
   "outputs": [
    {
     "data": {
      "text/plain": [
       "{'v1': ['v2', 'v3'],\n",
       " 'v2': ['v1', 'v4', 'v5'],\n",
       " 'v3': ['v1', 'v6'],\n",
       " 'v4': ['v2'],\n",
       " 'v5': ['v2'],\n",
       " 'v6': ['v3']}"
      ]
     },
     "metadata": {},
     "output_type": "display_data"
    }
   ],
   "source": [
    "# 깊이 우선 순회\n",
    "DFS그래프 = {\n",
    "    'v1' : ['v2', 'v3'],\n",
    "    'v2' : ['v1', 'v4', 'v5'],\n",
    "    'v3' : ['v1', 'v6'],\n",
    "    'v4' : ['v2'],\n",
    "    'v5' : ['v2'],\n",
    "    'v6' : ['v3']\n",
    "}\n",
    "display(DFS그래프)"
   ]
  },
  {
   "cell_type": "markdown",
   "id": "73922986-4780-4ebe-b5bc-d8f5e51cc3cb",
   "metadata": {},
   "source": [
    "<img src='doc_images/5.png' width=400/>"
   ]
  },
  {
   "cell_type": "code",
   "execution_count": 30,
   "id": "f84f358c-65b8-4a3d-aec8-b172282f034d",
   "metadata": {},
   "outputs": [],
   "source": [
    "# 노드를 방문한적 있는지 정보를 저장하는 리스트\n",
    "방문노드 = []"
   ]
  },
  {
   "cell_type": "code",
   "execution_count": 43,
   "id": "68c8933a-5c6d-4471-b2c9-0c4ca6aa2ee1",
   "metadata": {},
   "outputs": [],
   "source": [
    "# 깊이 우선 탐색을 하는 함수\n",
    "def depth_first_search(DFS_graph, 방문노드, start, verbose = 0) :\n",
    "    \"\"\"\n",
    "        DFS_graph\n",
    "            딕셔너리로 되어 있는 그래프 데이터\n",
    "        방문노드\n",
    "            방문한적이 있는 노드의 정보를 담을 리스트\n",
    "        start\n",
    "            시작 위치가 되는 노드의 이름\n",
    "        verbose\n",
    "            탐색 과정을 출력할 것인가\n",
    "            0 : 출력안함, 1 : 출력함\n",
    "    \"\"\"\n",
    "    # 시작 노드는 무조건 방문 한 것으로 취급한다.\n",
    "    방문노드.append(start)\n",
    "\n",
    "    # 현재 노드의 하위 노드를 가져와 그 수 만큼 반복한다\n",
    "    for node in DFS_graph[start] :\n",
    "        # 만약 현재 방문한 노드가 이미 방문한 노드라면\n",
    "        if node in 방문노드 :\n",
    "            if verbose == 1 :\n",
    "                print(f'현재 방문한 노드 : {node}')\n",
    "                print(f'지금까지 방문한 모든 노드 : {방문노드}')\n",
    "                print()\n",
    "        # 만약 현재 방문한 노드가 이미 방문한 노드가 아니라면\n",
    "        elif node not in 방문노드 :\n",
    "            if verbose == 1 :\n",
    "                print(f'현재 방문한 적이 없는 노드 : {node}')\n",
    "                # 다음 방문 처리를 위해 함수를 다시 호출한다.\n",
    "            depth_first_search(DFS_graph, 방문노드, node, verbose)\n"
   ]
  },
  {
   "cell_type": "code",
   "execution_count": 45,
   "id": "ce89c5cc-4143-4e36-8798-c508c24c99b6",
   "metadata": {},
   "outputs": [
    {
     "name": "stdout",
     "output_type": "stream",
     "text": [
      "현재 방문한 적이 없는 노드 : v2\n",
      "현재 방문한 노드 : v1\n",
      "지금까지 방문한 모든 노드 : ['v1', 'v2']\n",
      "\n",
      "현재 방문한 적이 없는 노드 : v4\n",
      "현재 방문한 노드 : v2\n",
      "지금까지 방문한 모든 노드 : ['v1', 'v2', 'v4']\n",
      "\n",
      "현재 방문한 적이 없는 노드 : v5\n",
      "현재 방문한 노드 : v2\n",
      "지금까지 방문한 모든 노드 : ['v1', 'v2', 'v4', 'v5']\n",
      "\n",
      "현재 방문한 적이 없는 노드 : v3\n",
      "현재 방문한 노드 : v1\n",
      "지금까지 방문한 모든 노드 : ['v1', 'v2', 'v4', 'v5', 'v3']\n",
      "\n",
      "현재 방문한 적이 없는 노드 : v6\n",
      "현재 방문한 노드 : v3\n",
      "지금까지 방문한 모든 노드 : ['v1', 'v2', 'v4', 'v5', 'v3', 'v6']\n",
      "\n"
     ]
    },
    {
     "data": {
      "text/plain": [
       "['v1', 'v2', 'v4', 'v5', 'v3', 'v6']"
      ]
     },
     "execution_count": 45,
     "metadata": {},
     "output_type": "execute_result"
    }
   ],
   "source": [
    "#결과를 담을 리스트\n",
    "result1 = []\n",
    "depth_first_search(DFS그래프, result1, 'v1', verbose = 1)\n",
    "result1"
   ]
  },
  {
   "cell_type": "markdown",
   "id": "2199191d-d0ba-428c-bbc2-f4b6154b4106",
   "metadata": {},
   "source": [
    "<img src='doc_images/5.png' width=400/>"
   ]
  },
  {
   "cell_type": "markdown",
   "id": "352228d8-6719-494a-afb6-3b9edd64ee67",
   "metadata": {},
   "source": [
    "# 너비 우선 탐색\n",
    "- 현재 노드의 인접한 노드 중 방문한 적이 없는 모든 노드를 방문한다.\n",
    "- 이렇게 하며 하위로 내려가면서 인접한 모든 노드를 방문한다."
   ]
  },
  {
   "cell_type": "code",
   "execution_count": null,
   "id": "d4224525-b158-4253-b97c-9162ce48cbd4",
   "metadata": {},
   "outputs": [],
   "source": [
    "BFS그래프 = {\n",
    "    'v1' : ['v2', 'v3'],\n",
    "    'v2' : ['v1', 'v4', 'v5']\n",
    "    'v3' : ['v1', 'v6'],\n",
    "    'v4' : ['v2'],\n",
    "    'v5' : ['v2'],\n",
    "    'v6' : ['v3'],\n",
    "}"
   ]
  },
  {
   "cell_type": "code",
   "execution_count": 51,
   "id": "b3b6b6b3-7a1a-4f42-867e-7c7e00b8c07a",
   "metadata": {},
   "outputs": [],
   "source": [
    "from collections import deque\n",
    "\n",
    "# 너비 우선 탐색을 위한 함수\n",
    "def breadth_first_search(BFS_graph, result_list, start) :\n",
    "    pass"
   ]
  },
  {
   "cell_type": "code",
   "execution_count": 59,
   "id": "fe2df055-9f7d-4fbc-8e58-3bf8815d8408",
   "metadata": {},
   "outputs": [
    {
     "name": "stdout",
     "output_type": "stream",
     "text": [
      "deque([10])\n",
      "deque([10, 20])\n",
      "deque([40, 10, 20])\n",
      "20\n",
      "deque([40, 10])\n"
     ]
    }
   ],
   "source": [
    "q1 = deque({10})\n",
    "print(q1)\n",
    "\n",
    "q1.append(20)\n",
    "print(q1)\n",
    "\n",
    "q1.appendleft(40)\n",
    "print(q1)\n",
    "\n",
    "v1 = q1.pop()\n",
    "print(v1)\n",
    "print(q1)\n",
    "\n"
   ]
  },
  {
   "cell_type": "code",
   "execution_count": null,
   "id": "fb9ae76b-b942-4dd6-abf1-782c35c986ef",
   "metadata": {},
   "outputs": [],
   "source": []
  }
 ],
 "metadata": {
  "kernelspec": {
   "display_name": "Python [conda env:base] *",
   "language": "python",
   "name": "conda-base-py"
  },
  "language_info": {
   "codemirror_mode": {
    "name": "ipython",
    "version": 3
   },
   "file_extension": ".py",
   "mimetype": "text/x-python",
   "name": "python",
   "nbconvert_exporter": "python",
   "pygments_lexer": "ipython3",
   "version": "3.12.7"
  }
 },
 "nbformat": 4,
 "nbformat_minor": 5
}
