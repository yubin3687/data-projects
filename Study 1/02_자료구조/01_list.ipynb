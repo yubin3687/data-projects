{
 "cells": [
  {
   "cell_type": "code",
   "execution_count": 1,
   "id": "d87a98c7-0aa5-43c4-ba35-eed4f10078a5",
   "metadata": {},
   "outputs": [
    {
     "name": "stdout",
     "output_type": "stream",
     "text": [
      "[10, 20, 30, 40, 50]\n"
     ]
    }
   ],
   "source": [
    "# 1차원 리스트\n",
    "list1 = [10, 20, 30, 40, 50]\n",
    "print(list1)"
   ]
  },
  {
   "cell_type": "code",
   "execution_count": 3,
   "id": "ae1a20b9-c177-4d8c-b343-64990a2f3904",
   "metadata": {},
   "outputs": [
    {
     "name": "stdout",
     "output_type": "stream",
     "text": [
      "10\n",
      "20\n",
      "30\n",
      "40\n",
      "50\n"
     ]
    }
   ],
   "source": [
    "# 리스트의 순회\n",
    "for v1  in list1 :\n",
    "    print(v1)"
   ]
  },
  {
   "cell_type": "code",
   "execution_count": 5,
   "id": "6cb80308-55e8-4357-8080-a55490c29ab9",
   "metadata": {},
   "outputs": [
    {
     "name": "stdout",
     "output_type": "stream",
     "text": [
      "[(0, 10), (1, 20), (2, 30), (3, 40), (4, 50)]\n"
     ]
    }
   ],
   "source": [
    "# enumerate : 순서값과 관리하는 값의 쌍으로 이루어진 튜플들이 생성된다.\n",
    "e1 = enumerate(list1)\n",
    "print(list(e1))"
   ]
  },
  {
   "cell_type": "code",
   "execution_count": 7,
   "id": "47d182ec-2ec8-4218-9d09-46ad98ae5ac7",
   "metadata": {},
   "outputs": [
    {
     "name": "stdout",
     "output_type": "stream",
     "text": [
      "0 : 10\n",
      "1 : 20\n",
      "2 : 30\n",
      "3 : 40\n",
      "4 : 50\n"
     ]
    }
   ],
   "source": [
    "for idx, v1 in enumerate(list1) :\n",
    "    print(f'{idx} : {v1}')"
   ]
  },
  {
   "cell_type": "code",
   "execution_count": 9,
   "id": "33a9ad9e-93ac-4880-a649-cb7ea3b6a6d9",
   "metadata": {},
   "outputs": [
    {
     "name": "stdout",
     "output_type": "stream",
     "text": [
      "[[10, 20, 30], [40, 50, 60], [70, 80, 90]]\n"
     ]
    }
   ],
   "source": [
    "# 2차원 리스트\n",
    "list2 = [\n",
    "    [10, 20, 30],\n",
    "    [40, 50, 60],\n",
    "    [70, 80, 90]\n",
    "]\n",
    "print(list2)"
   ]
  },
  {
   "cell_type": "code",
   "execution_count": 11,
   "id": "855b76b9-a037-4567-94ba-b490fd13c644",
   "metadata": {},
   "outputs": [
    {
     "name": "stdout",
     "output_type": "stream",
     "text": [
      "10\n",
      "50\n"
     ]
    }
   ],
   "source": [
    "# 2차원 리스트에서 값 가져오기\n",
    "print(list2[0][0])\n",
    "print(list2[1][1])"
   ]
  },
  {
   "cell_type": "code",
   "execution_count": 13,
   "id": "7511b9c3-65ad-467f-97d2-ccb6988faacc",
   "metadata": {},
   "outputs": [
    {
     "name": "stdout",
     "output_type": "stream",
     "text": [
      "[[10, 20, 30], [40, 50, 60]]\n"
     ]
    }
   ],
   "source": [
    "# 범위를 지정하여 가져오기\n",
    "# 리스트는 트리형태로 하위로 들어가는 개념이기 때문에\n",
    "# 여러행 여러컬럼에 해당하는 값을 가져오는 것은 안된다.\n",
    "print(list2[0:2][0:2])"
   ]
  },
  {
   "cell_type": "code",
   "execution_count": 15,
   "id": "c2448e02-70df-4fe1-9b98-56615b9aa3dc",
   "metadata": {},
   "outputs": [
    {
     "name": "stdout",
     "output_type": "stream",
     "text": [
      "10,20,30,\n",
      "40,50,60,\n",
      "70,80,90,\n"
     ]
    }
   ],
   "source": [
    "# 2차원 리스트의 순회\n",
    "for v1 in list2 :\n",
    "    for v2  in v1 :\n",
    "        print(v2, end=\",\")\n",
    "    print()"
   ]
  },
  {
   "cell_type": "code",
   "execution_count": null,
   "id": "65859067-d28e-4bf3-bb82-f1bcda43693a",
   "metadata": {},
   "outputs": [],
   "source": []
  }
 ],
 "metadata": {
  "kernelspec": {
   "display_name": "Python [conda env:base] *",
   "language": "python",
   "name": "conda-base-py"
  },
  "language_info": {
   "codemirror_mode": {
    "name": "ipython",
    "version": 3
   },
   "file_extension": ".py",
   "mimetype": "text/x-python",
   "name": "python",
   "nbconvert_exporter": "python",
   "pygments_lexer": "ipython3",
   "version": "3.12.7"
  }
 },
 "nbformat": 4,
 "nbformat_minor": 5
}
