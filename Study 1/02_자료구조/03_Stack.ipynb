{
 "cells": [
  {
   "cell_type": "markdown",
   "id": "3441cff4-efb7-43b7-b792-3c248ab92d94",
   "metadata": {},
   "source": [
    "# Stack\n",
    "- LIFO (Last In First Out : 가장 마지막에 들어간 값이 제일 먼저 나온다는 뜻) 구조를 가진 자료구조\n",
    "- 제일 마지막에 들어간 값이 제일 먼저 나온다.\n",
    "- push : 값을 저장하는 명령. 제일 위에 저장된다.\n",
    "- pop : 값을 가져오는 명령. 제일 위에 저장되어 있는 값을 가지고 온다.\n",
    "- 연산 수식 계산 알고리즘(연산식을 후위 연식 방식으로 정렬하여 연산하는 방식), 변수 관리 등 가장 마지막에 저장된 값을 가장 처음에 가지고 와야하는 작업에서 사용된다."
   ]
  },
  {
   "cell_type": "code",
   "execution_count": 4,
   "id": "114ffe4b-4e41-4c90-b9e2-b16602b291f5",
   "metadata": {},
   "outputs": [],
   "source": [
    "class StackClass :\n",
    "\n",
    "    def __init__(self) :\n",
    "        # 스택 역할을 할 리스트\n",
    "        self.stack = []\n",
    "\n",
    "    # Stack에 데이터를 저장하는 메서드\n",
    "    def push(self, value) :\n",
    "        # 제일 마지막에 데이터를 저장한다\n",
    "        self.stack.append(value)\n",
    "\n",
    "    # Stack에서 데이터를 가져오고 제거하는 메서드\n",
    "    def pop(self) :\n",
    "        # 제일 마지막 값을 가져온다.\n",
    "        value = self.stack[-1]\n",
    "        # 삭제한다.\n",
    "        del self.stack[-1]\n",
    "        # 값을 반환한다.\n",
    "        return value"
   ]
  },
  {
   "cell_type": "code",
   "execution_count": 6,
   "id": "d8a8ac4c-c37f-4f4d-862d-c043c1bb7655",
   "metadata": {},
   "outputs": [
    {
     "name": "stdout",
     "output_type": "stream",
     "text": [
      "30 20 10\n"
     ]
    }
   ],
   "source": [
    "# Stack 객체를 생성한다.\n",
    "stack = StackClass()\n",
    "# 데이터를 저장한다.\n",
    "stack.push(10)\n",
    "stack.push(20)\n",
    "stack.push(30)\n",
    "\n",
    "# 값을 가지고 온다.\n",
    "v1 = stack.pop()\n",
    "v2 = stack.pop()\n",
    "v3 = stack.pop()\n",
    "\n",
    "print(v1, v2, v3)"
   ]
  },
  {
   "cell_type": "code",
   "execution_count": 8,
   "id": "89855db1-426e-4114-94a3-e67426102830",
   "metadata": {},
   "outputs": [
    {
     "name": "stdout",
     "output_type": "stream",
     "text": [
      "30 20 10\n"
     ]
    }
   ],
   "source": [
    "# 파이썬의 List에서 메서드가 제공된다.\n",
    "# append : 제일 마지막에 추가된다(push)\n",
    "# pop : 제일 마지막에 저장된 값을 반환하고 삭제한다(pop)\n",
    "list100 = []\n",
    "list100.append(10)\n",
    "list100.append(20)\n",
    "list100.append(30)\n",
    "\n",
    "v1 = list100.pop()\n",
    "v2 = list100.pop()\n",
    "v3 = list100.pop()\n",
    "\n",
    "print(v1, v2, v3)"
   ]
  },
  {
   "cell_type": "code",
   "execution_count": null,
   "id": "6a795134-fc8f-4971-9782-cdda75826d41",
   "metadata": {},
   "outputs": [],
   "source": []
  }
 ],
 "metadata": {
  "kernelspec": {
   "display_name": "Python [conda env:base] *",
   "language": "python",
   "name": "conda-base-py"
  },
  "language_info": {
   "codemirror_mode": {
    "name": "ipython",
    "version": 3
   },
   "file_extension": ".py",
   "mimetype": "text/x-python",
   "name": "python",
   "nbconvert_exporter": "python",
   "pygments_lexer": "ipython3",
   "version": "3.12.7"
  }
 },
 "nbformat": 4,
 "nbformat_minor": 5
}
