{
 "cells": [
  {
   "cell_type": "raw",
   "id": "cbb3a1b9-8f3e-4af6-ac9d-fbe0a960d848",
   "metadata": {},
   "source": [
    "문제1)\n",
    "스택과 큐를 이용한 문제 해결 방법을 구현해보려고 한다. 회문 찾기 문제를 풀어보자.\n",
    "회문(Palindrome)이란 거꾸로 읽어도 제대로 읽는 것과 같은 문장이나 단어, 숫자, 또는 문자열 등을 말한다.\n",
    "예 WOW. MADAM. 기러기, 내 아내, 소주. 주소: 토마스' 등 입력된 문자열이 회문인지 아닌지 확인해 보자.\n",
    "• 큐와 스택에 문자열을 저장한다.\n",
    "® 큐의 첫 번째 문자와 스택의 마지막 문자(cop()를 비교하여 회문의 결과가 참이면 True. 거짓이면 False 를 출력한다.\n",
    "<실행 결과 예>\n",
    "True\n",
    "True\n",
    "True\n",
    "True\n",
    "True\n",
    "False"
   ]
  },
  {
   "cell_type": "code",
   "execution_count": 5,
   "id": "f9181a9e-10fb-4f71-85c0-b9aa9287c0e4",
   "metadata": {},
   "outputs": [],
   "source": [
    "# 회문 검사 함수\n",
    "def palindrome(text) :\n",
    "    # 스택과 큐로 사용할 리스트\n",
    "    stack = []\n",
    "    queue = []\n",
    "\n",
    "    # 주어진 문자열을 모두 대문자로 변경한다.\n",
    "    upper_text = text.upper()\n",
    "\n",
    "    # 문자열의 각 글자를 스택과 queue에 담는다.\n",
    "    for c1 in upper_text :\n",
    "        stack.append(c1)\n",
    "        queue.append(c1)\n",
    "\n",
    "    # 글자의 수 만큼 반복하면서 하나씩 비교한다.\n",
    "    while stack :\n",
    "        # stack과 queue에서 한글자씩 가져와 비교를 한다.\n",
    "        if queue.pop(0) != stack.pop() :\n",
    "            # 다른 글자를 하나라도 만나면 False를 반환한다.\n",
    "            return False\n",
    "\n",
    "    # 다른 글자를 하나도 만나지 못하면 True를 반환한다.\n",
    "    return True"
   ]
  },
  {
   "cell_type": "code",
   "execution_count": 7,
   "id": "0bc8d544-b023-4bc2-9189-83aba5174e43",
   "metadata": {},
   "outputs": [
    {
     "name": "stdout",
     "output_type": "stream",
     "text": [
      "기러기 : True\n",
      "토마토 : True\n",
      "스위스 : True\n",
      "인도인 : True\n",
      "별똥별 : True\n",
      "우영우 : True\n",
      "독수리 : False\n",
      "바나나 : False\n",
      "스웨덴 : False\n",
      "한국인 : False\n"
     ]
    }
   ],
   "source": [
    "r1 = palindrome('기러기')\n",
    "r2 = palindrome('토마토')\n",
    "r3 = palindrome('스위스')\n",
    "r4 = palindrome('인도인')\n",
    "r5 = palindrome('별똥별')\n",
    "r6 = palindrome('우영우')\n",
    "r7 = palindrome('독수리')\n",
    "r8 = palindrome('바나나')\n",
    "r9 = palindrome('스웨덴')\n",
    "r10 = palindrome('한국인')\n",
    "\n",
    "print(f'기러기 : {r1}')\n",
    "print(f'토마토 : {r2}')\n",
    "print(f'스위스 : {r3}')\n",
    "print(f'인도인 : {r4}')\n",
    "print(f'별똥별 : {r5}')\n",
    "print(f'우영우 : {r6}')\n",
    "print(f'독수리 : {r7}')\n",
    "print(f'바나나 : {r8}')\n",
    "print(f'스웨덴 : {r9}')\n",
    "print(f'한국인 : {r10}')"
   ]
  },
  {
   "cell_type": "raw",
   "id": "c2948186-e9de-4198-90ef-c08a5cafa47a",
   "metadata": {},
   "source": [
    "문제2)\n",
    "\n",
    "다음 출력문에서 괄호를 확인하는 스택 문제를 풀어보자.\n",
    "- print(f'이름은 {a1} 입니다. {(10 + 20)}살입니다')\n",
    "- 스택 정의\n",
    "• push() : 스택의 가장 마지막에 데이터 삽입\n",
    "• pop() : 스택의 가장 마지막 데이터 삭제\n",
    "\n",
    "스택을 이용한 연산 알고리즘 \n",
    "(입력)괄호의 개수를 확인할 문자열을 입력받는다.\n",
    "\n",
    "(처리)\n",
    "• 왼쪽 괄호를 만나면 스택에 push()\n",
    "• 오른쪽 괄호를 만나면 스택에서 pop()\n",
    "\n",
    "(출력)\n",
    "• 스택의 요소 수를 확인\n",
    "• 스택에 데이터가 있으면 error\n",
    "• 스택에 데이터가 없으면 OK"
   ]
  },
  {
   "cell_type": "code",
   "execution_count": 49,
   "id": "e534518e-591e-4208-8448-5bcdb378885b",
   "metadata": {},
   "outputs": [
    {
     "name": "stdout",
     "output_type": "stream",
     "text": [
      "OK\n"
     ]
    }
   ],
   "source": [
    "def palindrome(text):\n",
    "    stack = []  # 스택을 리스트로 정의\n",
    "    opening = \"({[<\"  # 여는 괄호들\n",
    "    closing = \")}]>\"  # 닫는 괄호들\n",
    "\n",
    "    for char in text:  # 문자열을 하나씩 확인\n",
    "        if char in opening:  # 여는 괄호일 경우\n",
    "            stack.append(char)  # 여는 괄호를 스택에 넣기 (push())\n",
    "        elif char in closing:  # 닫는 괄호일 경우\n",
    "            if not stack:  # 스택이 비어 있으면 여는 괄호가 없다는 의미로 오류 처리\n",
    "                print(\"error\")  # 오류 출력\n",
    "                return\n",
    "            stack.pop()  # 스택에서 여는 괄호 하나 꺼내기 (pop())\n",
    "\n",
    "    if stack:  # 스택에 여는 괄호가 남아 있으면 오류 처리\n",
    "        print(\"error\")  # 오류 출력\n",
    "    else:\n",
    "        print(\"OK\")  # 모든 괄호가 올바르게 닫히면 OK 출력\n",
    "\n",
    "text = \"print(f'이름은 {a1} 입니다. {(10 + 20)}살입니다'?)\"\n",
    "palindrome(text)"
   ]
  },
  {
   "cell_type": "code",
   "execution_count": 53,
   "id": "230d48fd-44a7-4f09-9440-192c1ab22486",
   "metadata": {},
   "outputs": [
    {
     "name": "stdout",
     "output_type": "stream",
     "text": [
      "push : <\n",
      "현재 스택 상태 : ['<']\n",
      "pop : <\n",
      "현재 스택 상태 : []\n",
      "push : (\n",
      "현재 스택 상태 : ['(']\n",
      "push : {\n",
      "현재 스택 상태 : ['(', '{']\n",
      "pop : {\n",
      "현재 스택 상태 : ['(']\n",
      "pop : (\n",
      "현재 스택 상태 : []\n",
      "push : [\n",
      "현재 스택 상태 : ['[']\n",
      "push : (\n",
      "현재 스택 상태 : ['[', '(']\n",
      "push : {\n",
      "현재 스택 상태 : ['[', '(', '{']\n",
      "pop : {\n",
      "현재 스택 상태 : ['[', '(']\n",
      "pop : (\n",
      "현재 스택 상태 : ['[']\n",
      "pop : [\n",
      "현재 스택 상태 : []\n",
      "모든 괄호가 정상입니다\n"
     ]
    }
   ],
   "source": [
    "#강사님 답\n",
    "def check_brackets(text) :\n",
    "    # 글자를 담을 스택\n",
    "    stack = []\n",
    "    # 주어진 문장의 글자 수 만큼 반복한다.\n",
    "    for c1 in text :\n",
    "        # 반복 번째 글자가 여는 괄호( (, {, <, [ ) 라면 스택에 담는다.\n",
    "        if c1 in ['(', '{', '<', '['] :\n",
    "            stack.append(c1)\n",
    "            print(f'push : {c1}')\n",
    "            print(f'현재 스택 상태 : {stack}')\n",
    "        # 반복 번째 글자가 닫는 괄호( ), }, >, ] ) 라면 스택에 담겨져 있는 괄호 문자를 뺀다.\n",
    "        elif c1 in [')', '}', '>', ']'] :\n",
    "            v1 = stack.pop()\n",
    "            print(f'pop : {v1}')\n",
    "            print(f'현재 스택 상태 : {stack}')\n",
    "    # 모든 반복처리가 끝나면 스택에 괄호가 남아 있는지 확인한다.\n",
    "    # 만약 남아 있지 않다면 \"모든 괄호가 정상입니다\"를 출력한다.\n",
    "    if len(stack) == 0 :\n",
    "        print('모든 괄호가 정상입니다')\n",
    "    # 만약 남이 있다면 \"괄호가 정상적이지 않습니다\"를 출력한다.\n",
    "    else :\n",
    "        print('괄호가 정상적이지 않습니다')\n",
    "\n",
    "check_brackets('<동해>물과 (백두{산}이) 마르고 [닳(도{록})]')"
   ]
  },
  {
   "cell_type": "raw",
   "id": "27fc2976-761d-4dc6-8610-74350c71ac39",
   "metadata": {},
   "source": [
    "데이터에 문제가 있는 경우)\n",
    "\n",
    "1. 여는 괄호와 닫는 괄호의 개수가 맞더라도 그 짝이 맞지 않는 경우\n",
    "-> 각 괄호마다 스택을 따로둔다. 그 스택들은 딕셔너리로 관리하면 편하다(한혜원님 짱~)\n",
    "2. 닫는 괄호가 더 많을 때\n",
    "-> pop 전에 스택에 괄호가 남아있는지 검사한다.\n",
    "3. 괄호가 아에 없는 문장은 괄호가 없다고 나와야 한다.\n",
    "-> 변수를 하나 선언해서 False를 담아두고 push 작업이 한번이라도 이루어지면 True로 바꾼다. 마지막에 이 변수의 값이 True인지 False인지를 확인하면 된다.\n",
    "\n",
    "추가적인 다른 문제들이 있을 수 있습니다."
   ]
  },
  {
   "cell_type": "raw",
   "id": "bb4242bd-12c4-4738-b233-7636acfbfa91",
   "metadata": {},
   "source": [
    "ppt 28번 슬라이드 문제\n",
    "-괄호를 확인하는 스택문제"
   ]
  }
 ],
 "metadata": {
  "kernelspec": {
   "display_name": "Python [conda env:base] *",
   "language": "python",
   "name": "conda-base-py"
  },
  "language_info": {
   "codemirror_mode": {
    "name": "ipython",
    "version": 3
   },
   "file_extension": ".py",
   "mimetype": "text/x-python",
   "name": "python",
   "nbconvert_exporter": "python",
   "pygments_lexer": "ipython3",
   "version": "3.12.7"
  }
 },
 "nbformat": 4,
 "nbformat_minor": 5
}
