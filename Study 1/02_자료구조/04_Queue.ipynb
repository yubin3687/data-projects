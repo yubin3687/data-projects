{
 "cells": [
  {
   "cell_type": "markdown",
   "id": "2042d0c3-ea6b-4fd9-b7ce-94204d86583c",
   "metadata": {},
   "source": [
    "# Queue\n",
    "- FIFO (First In First Out : 가장 처음에 들어간 값이 제일 먼저 나온다는 뜻) 구조를 가진 자료구조\n",
    "- 제일 처음에 들어간 값이 제일 먼저 나온다.\n",
    "- Enqueue : 값을 저장하는 명령. 제일 마지막에 저장된다.\n",
    "- Dequeue : 값을 가져오는 명령. 제일 처음에 저장되어 있는 값을 가지고 온다.\n",
    "- 이벤트 처리, 번호표 등등 발생한 순서 혹은 저장된 순서대로 처리하고자 하는 작업에서 쓰인다."
   ]
  },
  {
   "cell_type": "code",
   "execution_count": 2,
   "id": "5cdd6086-477e-45f1-bfe4-68c92f3cd99e",
   "metadata": {},
   "outputs": [],
   "source": [
    "class QueueClass :\n",
    "\n",
    "    def __init__(self) :\n",
    "        # 데이터를 담을 리스트\n",
    "        self.queue = []\n",
    "\n",
    "    # 큐에 데이터를 저장하는 메서드\n",
    "    def enqueue(self, value) :\n",
    "        # 데이터를 제일 뒤에 추가한다.\n",
    "        self.queue.append(value)\n",
    "\n",
    "    # 큐에서 값을 가져오는 메서드\n",
    "    def dequeue(self) :\n",
    "        # 제일 첫 번째 값을 가져온다.\n",
    "        value = self.queue[0]\n",
    "        # 제일 첫 번째 값을 제거한다.\n",
    "        del self.queue[0]\n",
    "        # 반환한다.\n",
    "        return value"
   ]
  },
  {
   "cell_type": "code",
   "execution_count": 4,
   "id": "558a4bc6-aee3-4c2f-85ac-565de042ba6a",
   "metadata": {},
   "outputs": [
    {
     "name": "stdout",
     "output_type": "stream",
     "text": [
      "10 20 30\n"
     ]
    }
   ],
   "source": [
    "queue = QueueClass()\n",
    "\n",
    "# 데이터를 저장한다.\n",
    "queue.enqueue(10)\n",
    "queue.enqueue(20)\n",
    "queue.enqueue(30)\n",
    "\n",
    "# 데이터를 가져온다\n",
    "v1 = queue.dequeue()\n",
    "v2 = queue.dequeue()\n",
    "v3 = queue.dequeue()\n",
    "\n",
    "print(v1, v2, v3)"
   ]
  },
  {
   "cell_type": "code",
   "execution_count": 6,
   "id": "12278b89-4760-4dcc-a099-ca852f087e44",
   "metadata": {},
   "outputs": [
    {
     "name": "stdout",
     "output_type": "stream",
     "text": [
      "10 20 30\n"
     ]
    }
   ],
   "source": [
    "# 리스트 사용\n",
    "# enqueue : append 메서드를 이용하여 제일 뒤에 추가한다.\n",
    "# dequeue : pop 메서드에 0번째 순서값을 지정하여 제일 첫 번째 값을 반환하고 제거한다.\n",
    "queue2 = []\n",
    "\n",
    "queue2.append(10)\n",
    "queue2.append(20)\n",
    "queue2.append(30)\n",
    "\n",
    "v1 = queue2.pop(0)\n",
    "v2 = queue2.pop(0)\n",
    "v3 = queue2.pop(0)\n",
    "\n",
    "print(v1, v2, v3)"
   ]
  },
  {
   "cell_type": "code",
   "execution_count": 8,
   "id": "c0f15000-4d6a-4bc5-b468-0a98198a6964",
   "metadata": {},
   "outputs": [
    {
     "name": "stdout",
     "output_type": "stream",
     "text": [
      "10 20 30\n"
     ]
    }
   ],
   "source": [
    "# queue 라이브러리 사용\n",
    "import queue\n",
    "\n",
    "# queue 객체 생성\n",
    "q1 = queue.Queue()\n",
    "\n",
    "# 데이터 저장\n",
    "q1.put(10)\n",
    "q1.put(20)\n",
    "q1.put(30)\n",
    "\n",
    "# 데이터 가져오기\n",
    "v1 = q1.get()\n",
    "v2 = q1.get()\n",
    "v3 = q1.get()\n",
    "\n",
    "print(v1, v2, v3)"
   ]
  },
  {
   "cell_type": "markdown",
   "id": "0157dca3-7f61-4e92-bfb9-f84d40a7733e",
   "metadata": {},
   "source": [
    "# Deque\n",
    "- que는 새로운 데이터를 추가하면 뒤에 추가되고 데이터를 가져오면 제일 앞의 데이터가 반환된다.\n",
    "- deque는 앞과 뒤 모두 데이터를 추가하고 가져오는 것이 가능하다."
   ]
  },
  {
   "cell_type": "code",
   "execution_count": 1,
   "id": "90801428-88aa-4fc7-8d7f-c82bea0ce5db",
   "metadata": {},
   "outputs": [
    {
     "name": "stdout",
     "output_type": "stream",
     "text": [
      "deque([])\n",
      "deque([10, 20, 30])\n",
      "deque([10, 20, 30, 40])\n",
      "deque([10, 20, 30, 40, 50, 60, 70])\n",
      "deque([9, 10, 20, 30, 40, 50, 60, 70])\n",
      "deque([8, 7, 6, 9, 10, 20, 30, 40, 50, 60, 70])\n",
      "70\n",
      "deque([8, 7, 6, 9, 10, 20, 30, 40, 50, 60])\n",
      "8\n",
      "deque([7, 6, 9, 10, 20, 30, 40, 50, 60])\n"
     ]
    }
   ],
   "source": [
    "from collections import deque\n",
    "\n",
    "# 아무것도 없는 deque\n",
    "q1 = deque()\n",
    "print(q1)\n",
    "\n",
    "# 초기 데이터를 가진 deque\n",
    "q2 = deque([10, 20, 30])\n",
    "print(q2)\n",
    "\n",
    "# 뒤에 하나 추가\n",
    "q2.append(40)\n",
    "print(q2)\n",
    "\n",
    "# 뒤에 다수를 추가\n",
    "q2.extend([50, 60, 70])\n",
    "print(q2)\n",
    "\n",
    "# 앞에 하나 추가\n",
    "q2.appendleft(9)\n",
    "print(q2)\n",
    "\n",
    "# 앞에 다수를 추가\n",
    "q2.extendleft([6, 7, 8])\n",
    "print(q2)\n",
    "\n",
    "# 뒤의 데이터 가져온다. 반환 후 삭제\n",
    "v1 = q2.pop()\n",
    "print(v1)\n",
    "print(q2)\n",
    "\n",
    "# 앞의 데이터를 가져온다.\n",
    "v2 = q2.popleft()\n",
    "print(v2)\n",
    "print(q2)"
   ]
  },
  {
   "cell_type": "code",
   "execution_count": 21,
   "id": "41768da7-4e31-44c1-a682-757bfc67da63",
   "metadata": {},
   "outputs": [
    {
     "ename": "NameError",
     "evalue": "name 'BFS_graph' is not defined",
     "output_type": "error",
     "traceback": [
      "\u001b[1;31m---------------------------------------------------------------------------\u001b[0m",
      "\u001b[1;31mNameError\u001b[0m                                 Traceback (most recent call last)",
      "Cell \u001b[1;32mIn[21], line 27\u001b[0m\n\u001b[0;32m     24\u001b[0m             q1\u001b[38;5;241m.\u001b[39mextendleft(BFS_gragh[node])\n\u001b[0;32m     26\u001b[0m result1 \u001b[38;5;241m=\u001b[39m []\n\u001b[1;32m---> 27\u001b[0m breadth_first_search(BFS_graph, result1, \u001b[38;5;124m'\u001b[39m\u001b[38;5;124mv1\u001b[39m\u001b[38;5;124m'\u001b[39m)\n\u001b[0;32m     28\u001b[0m \u001b[38;5;28mprint\u001b[39m(result1)\n",
      "\u001b[1;31mNameError\u001b[0m: name 'BFS_graph' is not defined"
     ]
    }
   ],
   "source": [
    "from collections import deque\n",
    "\n",
    "# 너비 우선 탐색을 위한 함수\n",
    "def breadth_first_search(BFS_graph, result_list, start) :\n",
    "    # 시작 위치의 값을 Deque에 저장한다.\n",
    "    q1 = deque([start])\n",
    "\n",
    "    # 큐에 데이터가 아무것도 없을 때 까지 반복한다.\n",
    "    while q1 :\n",
    "        # 큐에 들어있는 노드를 추출한다.\n",
    "        node = q1.pop()\n",
    "        # 방문한 적이 있다면 다음 반복으로 넘어간다.\n",
    "        if node in result_list :\n",
    "            continue\n",
    "\n",
    "        #만약 현재 지점이 방문한 적이 없다면 리스트에 추가한다\n",
    "        else :\n",
    "            print(f'현재 방문한 노드 : {node}')\n",
    "            result_list.append(node)\n",
    "            print(f'방문노드의 모든 경로 출력 : {result_list}')\n",
    "            print()\n",
    "\n",
    "            #현재 방문한 하위 노드들은 모두 que에 추가한다.\n",
    "            q1.extendleft(BFS_gragh[node])\n",
    "\n",
    "result1 = []\n",
    "breadth_first_search(BFS_graph, result1, 'v1')\n",
    "print(result1)\n",
    "        "
   ]
  },
  {
   "cell_type": "code",
   "execution_count": null,
   "id": "28956d64-3de1-4198-a64f-62721d4d018f",
   "metadata": {},
   "outputs": [],
   "source": []
  }
 ],
 "metadata": {
  "kernelspec": {
   "display_name": "Python [conda env:base] *",
   "language": "python",
   "name": "conda-base-py"
  },
  "language_info": {
   "codemirror_mode": {
    "name": "ipython",
    "version": 3
   },
   "file_extension": ".py",
   "mimetype": "text/x-python",
   "name": "python",
   "nbconvert_exporter": "python",
   "pygments_lexer": "ipython3",
   "version": "3.12.7"
  }
 },
 "nbformat": 4,
 "nbformat_minor": 5
}
