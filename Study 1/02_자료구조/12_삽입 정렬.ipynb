{
 "cells": [
  {
   "cell_type": "markdown",
   "id": "8f187a37-8179-4a58-9768-c0f3752165b5",
   "metadata": {},
   "source": [
    "# 삽입 정렬\n",
    "- 기준이 되는 위치의 데이터와 그 앞에 데이터를 비교하여 삽입할 위치를 찾아 그 위치에 데이터를 삽입하는 정렬\n",
    "- 버블 정렬과 달리 데이터의 상태에 따라 정렬에 들어가는 작업 횟수가 일정하다\n",
    "- 단 선택 정렬과 달리 전체적인 정렬의 반복 횟수가 1회로 고정되어 있다.\n",
    "\n",
    "![](doc_images/9.png)"
   ]
  },
  {
   "cell_type": "code",
   "execution_count": 5,
   "id": "e3736ca4-1579-492c-91fd-d405700835b2",
   "metadata": {},
   "outputs": [],
   "source": [
    "def insert_sort(data_list) :\n",
    "    \"\"\"\n",
    "        data_list\n",
    "            정렬할 데이터 리스트1\n",
    "    \"\"\"\n",
    "    # 전체 데이터의 개수 - 1 만큼 반복한다.\n",
    "    for idx1 in range(len(data_list) - 1) :\n",
    "        # 현재 번째의 데이터 이전에 있는 데이터의 수 만큼 반복한다.\n",
    "        for idx2 in range(idx1 + 1) :\n",
    "            # 이전에 있는 데이터 중 현재 데이터 보다 큰 데이터를 찾으면 그 자리에 삽입한다.\n",
    "            if data_list[idx1 + 1] < data_list[idx2] :\n",
    "                # list 에서 현재 번째의 값을 추출한다.\n",
    "                v1 = data_list.pop(idx1 + 1)\n",
    "                # 삽입한다.\n",
    "                data_list.insert(idx2, v1)\n",
    "                break\n",
    "        print(data_list)"
   ]
  },
  {
   "cell_type": "code",
   "execution_count": 7,
   "id": "82d29361-a80f-481e-8c80-5ea2005cab04",
   "metadata": {},
   "outputs": [
    {
     "name": "stdout",
     "output_type": "stream",
     "text": [
      "[2, 10, 7, 4, 1, 5, 8, 6, 3, 9]\n",
      "[2, 7, 10, 4, 1, 5, 8, 6, 3, 9]\n",
      "[2, 4, 7, 10, 1, 5, 8, 6, 3, 9]\n",
      "[1, 2, 4, 7, 10, 5, 8, 6, 3, 9]\n",
      "[1, 2, 4, 5, 7, 10, 8, 6, 3, 9]\n",
      "[1, 2, 4, 5, 7, 8, 10, 6, 3, 9]\n",
      "[1, 2, 4, 5, 6, 7, 8, 10, 3, 9]\n",
      "[1, 2, 3, 4, 5, 6, 7, 8, 10, 9]\n",
      "[1, 2, 3, 4, 5, 6, 7, 8, 9, 10]\n"
     ]
    },
    {
     "data": {
      "text/plain": [
       "[1, 2, 3, 4, 5, 6, 7, 8, 9, 10]"
      ]
     },
     "execution_count": 7,
     "metadata": {},
     "output_type": "execute_result"
    }
   ],
   "source": [
    "a1 = [10, 2, 7, 4, 1, 5, 8, 6, 3, 9]\n",
    "insert_sort(a1)\n",
    "a1"
   ]
  },
  {
   "cell_type": "markdown",
   "id": "7dcb4d0f-c7a0-40e2-aa42-d59edd233be6",
   "metadata": {},
   "source": [
    "정수 배열 numbers와 정수 n이 매개변수로 주어집니다. \n",
    "numbers의 원소를 앞에서부터 하나씩 더하다가 그 합이 n보다 커지는 순간 이때까지 더했던 원소들의 합을 return 하는 solution 함수를 작성해 주세요."
   ]
  },
  {
   "cell_type": "code",
   "execution_count": 24,
   "id": "66dcb20b-45b0-4e2d-bb68-30da09ce57e1",
   "metadata": {},
   "outputs": [],
   "source": [
    "def solution(numbers, n):\n",
    "    answer = 0\n",
    "    sum(numbers) == number\n",
    "    if number >= numbers: \n",
    "        return answer"
   ]
  },
  {
   "cell_type": "code",
   "execution_count": null,
   "id": "5bdad18b-3a64-47de-adf1-a1b451f94f74",
   "metadata": {},
   "outputs": [],
   "source": []
  }
 ],
 "metadata": {
  "kernelspec": {
   "display_name": "Python [conda env:base] *",
   "language": "python",
   "name": "conda-base-py"
  },
  "language_info": {
   "codemirror_mode": {
    "name": "ipython",
    "version": 3
   },
   "file_extension": ".py",
   "mimetype": "text/x-python",
   "name": "python",
   "nbconvert_exporter": "python",
   "pygments_lexer": "ipython3",
   "version": "3.12.7"
  }
 },
 "nbformat": 4,
 "nbformat_minor": 5
}
