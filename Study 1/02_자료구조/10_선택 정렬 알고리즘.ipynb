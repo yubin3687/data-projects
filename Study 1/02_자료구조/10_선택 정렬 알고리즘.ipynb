{
 "cells": [
  {
   "cell_type": "markdown",
   "id": "5e362895-2578-42ac-9be4-0ae2e1acfd61",
   "metadata": {},
   "source": [
    "# 선택 정렬 알고리즘\n",
    "- 가장 기본이 되는 정렬 알고리즘\n",
    "- 전체 데이터 중 가장 작은 데이터를 찾는다\n",
    "- 찾은 가장 작은 데이터를 앞으로 보낸다.\n",
    "- 이런 형태로 반복하여 정렬하는 알고리즘\n",
    "\n",
    "![](doc_images/6.png)"
   ]
  },
  {
   "cell_type": "code",
   "execution_count": 2,
   "id": "5c93b644-1848-424c-8c55-f7387f7147eb",
   "metadata": {},
   "outputs": [],
   "source": [
    "def selection_ordering(data_list) :\n",
    "    \"\"\"\n",
    "        data_list \n",
    "            정렬 하고자하는 데이터가 담긴 리스트\n",
    "    \"\"\"\n",
    "    # 찾은 최소값을 담을 변수의 순서값을 담을 변수에는 0을 넣어준다.(ordering_position)\n",
    "    ordering_position = 0\n",
    "    # 반복한다.\n",
    "    while True :\n",
    "        # 전체 데이터 수 - ordering_position - 1 만큼 반복한다.\n",
    "        total_loop_count = len(data_list) - ordering_position - 1\n",
    "        for loop_idx in range(total_loop_count) :\n",
    "            # ordering_position 번째 값과 현재 값을 비교하여 현재 값이 더 작다면\n",
    "            # ordering_position과 비교할 변수의 위치를 계산한다.\n",
    "            other_position = ordering_position + 1 + loop_idx\n",
    "            \n",
    "            if data_list[ordering_position] > data_list[other_position] :\n",
    "                # ordering_position 번째 값과 현재 값을 서로 교환한다.\n",
    "                data_list[ordering_position], data_list[other_position]= data_list[other_position], data_list[ordering_position]\n",
    "            print(data_list)\n",
    "\n",
    "        print(\"=\" * 30)\n",
    "\n",
    "        # ordering_position 을 1 증가시킨다.\n",
    "        ordering_position = ordering_position + 1\n",
    "    \n",
    "        # 만약 ordering_position이 마지막 번째 데이터를 가르킨다면 중단한다.\n",
    "        if ordering_position == len(data_list) - 1 :\n",
    "            break"
   ]
  },
  {
   "cell_type": "code",
   "execution_count": 4,
   "id": "b9b07579-372a-424a-98ee-60afbbc26c9f",
   "metadata": {},
   "outputs": [
    {
     "name": "stdout",
     "output_type": "stream",
     "text": [
      "[8, 9, 2, 4, 7, 6, 5, 3, 1]\n",
      "[2, 9, 8, 4, 7, 6, 5, 3, 1]\n",
      "[2, 9, 8, 4, 7, 6, 5, 3, 1]\n",
      "[2, 9, 8, 4, 7, 6, 5, 3, 1]\n",
      "[2, 9, 8, 4, 7, 6, 5, 3, 1]\n",
      "[2, 9, 8, 4, 7, 6, 5, 3, 1]\n",
      "[2, 9, 8, 4, 7, 6, 5, 3, 1]\n",
      "[1, 9, 8, 4, 7, 6, 5, 3, 2]\n",
      "==============================\n",
      "[1, 8, 9, 4, 7, 6, 5, 3, 2]\n",
      "[1, 4, 9, 8, 7, 6, 5, 3, 2]\n",
      "[1, 4, 9, 8, 7, 6, 5, 3, 2]\n",
      "[1, 4, 9, 8, 7, 6, 5, 3, 2]\n",
      "[1, 4, 9, 8, 7, 6, 5, 3, 2]\n",
      "[1, 3, 9, 8, 7, 6, 5, 4, 2]\n",
      "[1, 2, 9, 8, 7, 6, 5, 4, 3]\n",
      "==============================\n",
      "[1, 2, 8, 9, 7, 6, 5, 4, 3]\n",
      "[1, 2, 7, 9, 8, 6, 5, 4, 3]\n",
      "[1, 2, 6, 9, 8, 7, 5, 4, 3]\n",
      "[1, 2, 5, 9, 8, 7, 6, 4, 3]\n",
      "[1, 2, 4, 9, 8, 7, 6, 5, 3]\n",
      "[1, 2, 3, 9, 8, 7, 6, 5, 4]\n",
      "==============================\n",
      "[1, 2, 3, 8, 9, 7, 6, 5, 4]\n",
      "[1, 2, 3, 7, 9, 8, 6, 5, 4]\n",
      "[1, 2, 3, 6, 9, 8, 7, 5, 4]\n",
      "[1, 2, 3, 5, 9, 8, 7, 6, 4]\n",
      "[1, 2, 3, 4, 9, 8, 7, 6, 5]\n",
      "==============================\n",
      "[1, 2, 3, 4, 8, 9, 7, 6, 5]\n",
      "[1, 2, 3, 4, 7, 9, 8, 6, 5]\n",
      "[1, 2, 3, 4, 6, 9, 8, 7, 5]\n",
      "[1, 2, 3, 4, 5, 9, 8, 7, 6]\n",
      "==============================\n",
      "[1, 2, 3, 4, 5, 8, 9, 7, 6]\n",
      "[1, 2, 3, 4, 5, 7, 9, 8, 6]\n",
      "[1, 2, 3, 4, 5, 6, 9, 8, 7]\n",
      "==============================\n",
      "[1, 2, 3, 4, 5, 6, 8, 9, 7]\n",
      "[1, 2, 3, 4, 5, 6, 7, 9, 8]\n",
      "==============================\n",
      "[1, 2, 3, 4, 5, 6, 7, 8, 9]\n",
      "==============================\n"
     ]
    },
    {
     "data": {
      "text/plain": [
       "[1, 2, 3, 4, 5, 6, 7, 8, 9]"
      ]
     },
     "execution_count": 4,
     "metadata": {},
     "output_type": "execute_result"
    }
   ],
   "source": [
    "a1 = [9, 8, 2, 4, 7, 6, 5, 3, 1]\n",
    "selection_ordering(a1)\n",
    "a1"
   ]
  },
  {
   "cell_type": "code",
   "execution_count": null,
   "id": "633c155a-8389-42e7-b83d-809021360e7d",
   "metadata": {},
   "outputs": [],
   "source": []
  }
 ],
 "metadata": {
  "kernelspec": {
   "display_name": "Python [conda env:base] *",
   "language": "python",
   "name": "conda-base-py"
  },
  "language_info": {
   "codemirror_mode": {
    "name": "ipython",
    "version": 3
   },
   "file_extension": ".py",
   "mimetype": "text/x-python",
   "name": "python",
   "nbconvert_exporter": "python",
   "pygments_lexer": "ipython3",
   "version": "3.12.7"
  }
 },
 "nbformat": 4,
 "nbformat_minor": 5
}
