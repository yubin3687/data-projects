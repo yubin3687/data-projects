{
 "cells": [
  {
   "cell_type": "markdown",
   "id": "f0aed7fb-8dc8-4e6d-8521-e169a2c1bed8",
   "metadata": {},
   "source": [
    "# 선형 검색 알고리즘\n",
    "- 주어진 데이터의 처음 부터 원하는 값을 만날 때 가지 순서대로 찾아보는 알고리즘\n",
    "- 찾고자 하는 데이터가 앞쪽에 있으면 빨리 끝나지만 뒷족에 있으면 오래걸리는 문제를 가지고 있다.\n",
    "- 데이터를 검색하기 위해 수행하는 총 작업의 횟수를 미리 예측하지 못하기 때문에 비용 결정에 관한 문제가 있을 수 있다.\n",
    "- 데이터의 수가 매우 적은 (개발자가 감당이 가능한 수준)상황에서 적절한 알고리즘이다."
   ]
  },
  {
   "cell_type": "code",
   "execution_count": 2,
   "id": "df97d497-a159-48d6-befd-f3a8c66f51d7",
   "metadata": {},
   "outputs": [],
   "source": [
    "def sequential_search(data_list, value) :\n",
    "    \"\"\"\n",
    "        data_list\n",
    "            데이터들이 들어있는 리스트\n",
    "        value \n",
    "            찾고자 하는 값\n",
    "        return 값\n",
    "            찾고자 하는 값의 위치 값. \n",
    "            만약 찾지 못하면 None을 반환한다\n",
    "    \"\"\"\n",
    "    # 데이터의 수 만큼 반복한다\n",
    "    for position, v1 in enumerate(data_list) :\n",
    "        # 현재 데이터와 찾고자 하는 데이터가 같다면\n",
    "        if v1 == value :\n",
    "            # 현재 데이터의 위치를 반환한다.\n",
    "            return position\n",
    "    # 만약 찾지 못했다면 None을 반환한다.\n",
    "    return None"
   ]
  },
  {
   "cell_type": "code",
   "execution_count": 4,
   "id": "cdcaa975-38c0-40b6-8a1c-1e9abea3bcd1",
   "metadata": {},
   "outputs": [
    {
     "name": "stdout",
     "output_type": "stream",
     "text": [
      "20은 1번째 있습니다\n",
      "80은 없습니다\n"
     ]
    }
   ],
   "source": [
    "a1 = [40, 20, 10, 50, 30, 70]\n",
    "\n",
    "r1 = sequential_search(a1, 20)\n",
    "r2 = sequential_search(a1, 80)\n",
    "\n",
    "if r1 != None :\n",
    "    print(f'20은 {r1}번째 있습니다')\n",
    "else :\n",
    "    print(f'20은 없습니다')\n",
    "\n",
    "if r2 != None :\n",
    "    print(f'80은 {r2}번째 있습니다')\n",
    "else :\n",
    "    print('80은 없습니다')"
   ]
  },
  {
   "cell_type": "code",
   "execution_count": null,
   "id": "09fc88f9-66ec-4854-bf07-1a77a3da3818",
   "metadata": {},
   "outputs": [],
   "source": []
  }
 ],
 "metadata": {
  "kernelspec": {
   "display_name": "Python [conda env:base] *",
   "language": "python",
   "name": "conda-base-py"
  },
  "language_info": {
   "codemirror_mode": {
    "name": "ipython",
    "version": 3
   },
   "file_extension": ".py",
   "mimetype": "text/x-python",
   "name": "python",
   "nbconvert_exporter": "python",
   "pygments_lexer": "ipython3",
   "version": "3.12.7"
  }
 },
 "nbformat": 4,
 "nbformat_minor": 5
}
