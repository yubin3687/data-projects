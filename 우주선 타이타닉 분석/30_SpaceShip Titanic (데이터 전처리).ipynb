{
 "cells": [
  {
   "cell_type": "markdown",
   "id": "255bc946-ba0d-491b-9e85-4bc829139f01",
   "metadata": {},
   "source": [
    "### 머신러닝을 위한 전처리\n",
    "1. 학습을 위한 새로운 컬럼들을 생성한다.\n",
    "2. 결측치와 이상치에 대해 처리한다.\n",
    "3. 문자열 데이터를 숫자로 변환(학습 전)\n",
    "4. 데이터 표준화(학습 전)"
   ]
  },
  {
   "cell_type": "raw",
   "id": "cbf9cfe3-e0ce-4e5e-866d-1d48624d3beb",
   "metadata": {},
   "source": [
    "PassengerId - 제거 (PassengerId를 통해 GroupNumber와 NumberInGroup을 발생시켰기 때문)\n",
    "Cabin - 제거 (Cabin을 통해 CabinDeck, CabinNumber, CabinSide를 발생시켰기 때문)\n",
    "Name - 제거 (Name을 통해 FirstName, LastName을 발생시켰기 때문)\n",
    "GroupNumber - 상관계수를 보고 제거 여부를 결정\n",
    "GroupNumberCount - 생성 (현재 승객이 소속되어 있는 그룹의 그룹원 수)\n",
    "NumberInGroup - 상관 계수를 보고 제거 여부를 결정\n",
    "NumberInGroupCount - 생성 (현재 승객의 승객 번호가 같은 사람들의 수)\n",
    "CabinNumber - 제거 (결과와 관련성이 낮기 때문)\n",
    "FirstName - 상관계수를 보고 제거 여부를 결정\n",
    "FirstNameCount - 생성 (FirstName이 같은 사람들의 수)\n",
    "LastName - 상관계수를 보고 제거 여부를 결정\n",
    "LastNameCount - 생성 (LastName이 같은 사람들의 수)\n",
    "Ages - 제거 (Age를 통해 생성하였기 때문에 Age와 비슷한 양상을 보인다. 하지만 Age가 좀더 세밀하게 나눠져 있기 때문에 Age를 사용한다)\n",
    "\n",
    "PassengerId, Cabin, Name - 데이터 명세서에 있는 내용을 기반으로 데이터를 나눠 컬럼을 발생시킨 것이기 때문에 발생된 컬럼을 사용하였다."
   ]
  },
  {
   "cell_type": "code",
   "execution_count": 1,
   "id": "6f8c7e0c-1d96-4ae1-98fd-a8960dc1af49",
   "metadata": {},
   "outputs": [],
   "source": [
    "# 기본\n",
    "import pandas as pd\n",
    "import numpy as np\n",
    "import matplotlib.pyplot as plt\n",
    "import seaborn as sns\n",
    "\n",
    "# 경고 뜨지 않게 설정\n",
    "import warnings\n",
    "warnings.filterwarnings('ignore')\n",
    "\n",
    "# 그래프 설정\n",
    "sns.set()\n",
    "\n",
    "# 그래프 기본 설정\n",
    "plt.rcParams['font.family'] = 'Malgun Gothic'\n",
    "# plt.rcParams['font.family'] = 'AppleGothic'\n",
    "plt.rcParams['figure.figsize'] = 12, 6\n",
    "plt.rcParams['font.size'] = 14\n",
    "plt.rcParams['axes.unicode_minus'] = False\n",
    "\n",
    "# 데이터 전처리 알고리즘\n",
    "from sklearn.preprocessing import LabelEncoder\n",
    "from sklearn.preprocessing import StandardScaler\n",
    "\n",
    "# 학습용과 검증용으로 나누는 함수\n",
    "from sklearn.model_selection import train_test_split\n",
    "\n",
    "# 교차 검증\n",
    "from sklearn.model_selection import cross_val_score\n",
    "from sklearn.model_selection import cross_validate\n",
    "from sklearn.model_selection import KFold\n",
    "from sklearn.model_selection import StratifiedKFold\n",
    "\n",
    "# 평가함수\n",
    "# 분류용\n",
    "from sklearn.metrics import accuracy_score\n",
    "from sklearn.metrics import precision_score\n",
    "from sklearn.metrics import recall_score\n",
    "from sklearn.metrics import f1_score\n",
    "from sklearn.metrics import roc_auc_score\n",
    "\n",
    "# 회귀용\n",
    "from sklearn.metrics import r2_score\n",
    "from sklearn.metrics import mean_squared_error\n",
    "\n",
    "# 모델의 최적의 하이퍼 파라미터를 찾기 위한 도구\n",
    "from sklearn.model_selection import GridSearchCV\n",
    "\n",
    "# 머신러닝 알고리즘 - 분류\n",
    "from sklearn.neighbors import KNeighborsClassifier\n",
    "from sklearn.linear_model import LogisticRegression\n",
    "from sklearn.svm import SVC\n",
    "from sklearn.tree import DecisionTreeClassifier\n",
    "from sklearn.ensemble import RandomForestClassifier\n",
    "from sklearn.ensemble import AdaBoostClassifier\n",
    "from sklearn.ensemble import GradientBoostingClassifier\n",
    "from lightgbm import LGBMClassifier\n",
    "from xgboost import XGBClassifier\n",
    "from sklearn.ensemble import VotingClassifier\n",
    "\n",
    "# 머신러닝 알고리즘 - 회귀\n",
    "from sklearn.neighbors import KNeighborsRegressor\n",
    "from sklearn.linear_model import LinearRegression\n",
    "from sklearn.linear_model import Ridge\n",
    "from sklearn.linear_model import Lasso\n",
    "from sklearn.linear_model import ElasticNet\n",
    "from sklearn.svm import SVR\n",
    "from sklearn.tree import DecisionTreeRegressor\n",
    "from sklearn.ensemble import RandomForestRegressor\n",
    "from sklearn.ensemble import AdaBoostRegressor\n",
    "from sklearn.ensemble import GradientBoostingRegressor\n",
    "from lightgbm import LGBMRegressor\n",
    "from xgboost import XGBRegressor\n",
    "from sklearn.ensemble import VotingRegressor\n",
    "\n",
    "# 차원 축소\n",
    "from sklearn.decomposition import PCA\n",
    "from sklearn.discriminant_analysis import LinearDiscriminantAnalysis\n",
    "\n",
    "# 군집\n",
    "from sklearn.cluster import KMeans\n",
    "from sklearn.cluster import MeanShift\n",
    "from sklearn.cluster import estimate_bandwidth\n",
    "\n",
    "# 학습 모델 저장을 위한 라이브러리\n",
    "import pickle"
   ]
  },
  {
   "cell_type": "markdown",
   "id": "6de30a12-78f9-48f3-acfd-75852139e29f",
   "metadata": {},
   "source": [
    "### 데이터를 불러온다."
   ]
  },
  {
   "cell_type": "code",
   "execution_count": 2,
   "id": "3c6d6505-f001-48e2-80e9-31c610a55020",
   "metadata": {},
   "outputs": [
    {
     "data": {
      "text/html": [
       "<div>\n",
       "<style scoped>\n",
       "    .dataframe tbody tr th:only-of-type {\n",
       "        vertical-align: middle;\n",
       "    }\n",
       "\n",
       "    .dataframe tbody tr th {\n",
       "        vertical-align: top;\n",
       "    }\n",
       "\n",
       "    .dataframe thead th {\n",
       "        text-align: right;\n",
       "    }\n",
       "</style>\n",
       "<table border=\"1\" class=\"dataframe\">\n",
       "  <thead>\n",
       "    <tr style=\"text-align: right;\">\n",
       "      <th></th>\n",
       "      <th>PassengerId</th>\n",
       "      <th>HomePlanet</th>\n",
       "      <th>CryoSleep</th>\n",
       "      <th>Cabin</th>\n",
       "      <th>Destination</th>\n",
       "      <th>Age</th>\n",
       "      <th>VIP</th>\n",
       "      <th>RoomService</th>\n",
       "      <th>FoodCourt</th>\n",
       "      <th>ShoppingMall</th>\n",
       "      <th>...</th>\n",
       "      <th>Transported</th>\n",
       "      <th>GroupNumber</th>\n",
       "      <th>NumberInGroup</th>\n",
       "      <th>CabinDeck</th>\n",
       "      <th>CabinNumber</th>\n",
       "      <th>CabinSide</th>\n",
       "      <th>FirstName</th>\n",
       "      <th>LastName</th>\n",
       "      <th>Ages</th>\n",
       "      <th>RoomServiceGrade</th>\n",
       "    </tr>\n",
       "  </thead>\n",
       "  <tbody>\n",
       "    <tr>\n",
       "      <th>0</th>\n",
       "      <td>0001_01</td>\n",
       "      <td>Europa</td>\n",
       "      <td>False</td>\n",
       "      <td>B/0/P</td>\n",
       "      <td>TRAPPIST-1e</td>\n",
       "      <td>39.0</td>\n",
       "      <td>False</td>\n",
       "      <td>0.0</td>\n",
       "      <td>0.0</td>\n",
       "      <td>0.0</td>\n",
       "      <td>...</td>\n",
       "      <td>0.0</td>\n",
       "      <td>1</td>\n",
       "      <td>1</td>\n",
       "      <td>B</td>\n",
       "      <td>0.0</td>\n",
       "      <td>P</td>\n",
       "      <td>Ofracculy</td>\n",
       "      <td>Maham</td>\n",
       "      <td>30.0</td>\n",
       "      <td>0</td>\n",
       "    </tr>\n",
       "    <tr>\n",
       "      <th>1</th>\n",
       "      <td>0002_01</td>\n",
       "      <td>Earth</td>\n",
       "      <td>False</td>\n",
       "      <td>F/0/S</td>\n",
       "      <td>TRAPPIST-1e</td>\n",
       "      <td>24.0</td>\n",
       "      <td>False</td>\n",
       "      <td>109.0</td>\n",
       "      <td>9.0</td>\n",
       "      <td>25.0</td>\n",
       "      <td>...</td>\n",
       "      <td>1.0</td>\n",
       "      <td>2</td>\n",
       "      <td>1</td>\n",
       "      <td>F</td>\n",
       "      <td>0.0</td>\n",
       "      <td>S</td>\n",
       "      <td>Vines</td>\n",
       "      <td>Juanna</td>\n",
       "      <td>20.0</td>\n",
       "      <td>1</td>\n",
       "    </tr>\n",
       "    <tr>\n",
       "      <th>2</th>\n",
       "      <td>0003_01</td>\n",
       "      <td>Europa</td>\n",
       "      <td>False</td>\n",
       "      <td>A/0/S</td>\n",
       "      <td>TRAPPIST-1e</td>\n",
       "      <td>58.0</td>\n",
       "      <td>True</td>\n",
       "      <td>43.0</td>\n",
       "      <td>3576.0</td>\n",
       "      <td>0.0</td>\n",
       "      <td>...</td>\n",
       "      <td>0.0</td>\n",
       "      <td>3</td>\n",
       "      <td>1</td>\n",
       "      <td>A</td>\n",
       "      <td>0.0</td>\n",
       "      <td>S</td>\n",
       "      <td>Susent</td>\n",
       "      <td>Altark</td>\n",
       "      <td>50.0</td>\n",
       "      <td>1</td>\n",
       "    </tr>\n",
       "    <tr>\n",
       "      <th>3</th>\n",
       "      <td>0003_02</td>\n",
       "      <td>Europa</td>\n",
       "      <td>False</td>\n",
       "      <td>A/0/S</td>\n",
       "      <td>TRAPPIST-1e</td>\n",
       "      <td>33.0</td>\n",
       "      <td>False</td>\n",
       "      <td>0.0</td>\n",
       "      <td>1283.0</td>\n",
       "      <td>371.0</td>\n",
       "      <td>...</td>\n",
       "      <td>0.0</td>\n",
       "      <td>3</td>\n",
       "      <td>2</td>\n",
       "      <td>A</td>\n",
       "      <td>0.0</td>\n",
       "      <td>S</td>\n",
       "      <td>Susent</td>\n",
       "      <td>Solam</td>\n",
       "      <td>30.0</td>\n",
       "      <td>0</td>\n",
       "    </tr>\n",
       "    <tr>\n",
       "      <th>4</th>\n",
       "      <td>0004_01</td>\n",
       "      <td>Earth</td>\n",
       "      <td>False</td>\n",
       "      <td>F/1/S</td>\n",
       "      <td>TRAPPIST-1e</td>\n",
       "      <td>16.0</td>\n",
       "      <td>False</td>\n",
       "      <td>303.0</td>\n",
       "      <td>70.0</td>\n",
       "      <td>151.0</td>\n",
       "      <td>...</td>\n",
       "      <td>1.0</td>\n",
       "      <td>4</td>\n",
       "      <td>1</td>\n",
       "      <td>F</td>\n",
       "      <td>1.0</td>\n",
       "      <td>S</td>\n",
       "      <td>Santantines</td>\n",
       "      <td>Willy</td>\n",
       "      <td>10.0</td>\n",
       "      <td>1</td>\n",
       "    </tr>\n",
       "    <tr>\n",
       "      <th>...</th>\n",
       "      <td>...</td>\n",
       "      <td>...</td>\n",
       "      <td>...</td>\n",
       "      <td>...</td>\n",
       "      <td>...</td>\n",
       "      <td>...</td>\n",
       "      <td>...</td>\n",
       "      <td>...</td>\n",
       "      <td>...</td>\n",
       "      <td>...</td>\n",
       "      <td>...</td>\n",
       "      <td>...</td>\n",
       "      <td>...</td>\n",
       "      <td>...</td>\n",
       "      <td>...</td>\n",
       "      <td>...</td>\n",
       "      <td>...</td>\n",
       "      <td>...</td>\n",
       "      <td>...</td>\n",
       "      <td>...</td>\n",
       "      <td>...</td>\n",
       "    </tr>\n",
       "    <tr>\n",
       "      <th>12965</th>\n",
       "      <td>9266_02</td>\n",
       "      <td>Earth</td>\n",
       "      <td>True</td>\n",
       "      <td>G/1496/S</td>\n",
       "      <td>TRAPPIST-1e</td>\n",
       "      <td>34.0</td>\n",
       "      <td>False</td>\n",
       "      <td>0.0</td>\n",
       "      <td>0.0</td>\n",
       "      <td>0.0</td>\n",
       "      <td>...</td>\n",
       "      <td>NaN</td>\n",
       "      <td>9266</td>\n",
       "      <td>2</td>\n",
       "      <td>G</td>\n",
       "      <td>1496.0</td>\n",
       "      <td>S</td>\n",
       "      <td>Peter</td>\n",
       "      <td>Jeron</td>\n",
       "      <td>30.0</td>\n",
       "      <td>0</td>\n",
       "    </tr>\n",
       "    <tr>\n",
       "      <th>12966</th>\n",
       "      <td>9269_01</td>\n",
       "      <td>Earth</td>\n",
       "      <td>False</td>\n",
       "      <td>NaN</td>\n",
       "      <td>TRAPPIST-1e</td>\n",
       "      <td>42.0</td>\n",
       "      <td>False</td>\n",
       "      <td>0.0</td>\n",
       "      <td>847.0</td>\n",
       "      <td>17.0</td>\n",
       "      <td>...</td>\n",
       "      <td>NaN</td>\n",
       "      <td>9269</td>\n",
       "      <td>1</td>\n",
       "      <td>NaN</td>\n",
       "      <td>NaN</td>\n",
       "      <td>NaN</td>\n",
       "      <td>Scheron</td>\n",
       "      <td>Matty</td>\n",
       "      <td>40.0</td>\n",
       "      <td>0</td>\n",
       "    </tr>\n",
       "    <tr>\n",
       "      <th>12967</th>\n",
       "      <td>9271_01</td>\n",
       "      <td>Mars</td>\n",
       "      <td>True</td>\n",
       "      <td>D/296/P</td>\n",
       "      <td>55 Cancri e</td>\n",
       "      <td>NaN</td>\n",
       "      <td>False</td>\n",
       "      <td>0.0</td>\n",
       "      <td>0.0</td>\n",
       "      <td>0.0</td>\n",
       "      <td>...</td>\n",
       "      <td>NaN</td>\n",
       "      <td>9271</td>\n",
       "      <td>1</td>\n",
       "      <td>D</td>\n",
       "      <td>296.0</td>\n",
       "      <td>P</td>\n",
       "      <td>Pore</td>\n",
       "      <td>Jayrin</td>\n",
       "      <td>NaN</td>\n",
       "      <td>0</td>\n",
       "    </tr>\n",
       "    <tr>\n",
       "      <th>12968</th>\n",
       "      <td>9273_01</td>\n",
       "      <td>Europa</td>\n",
       "      <td>False</td>\n",
       "      <td>D/297/P</td>\n",
       "      <td>NaN</td>\n",
       "      <td>NaN</td>\n",
       "      <td>False</td>\n",
       "      <td>0.0</td>\n",
       "      <td>2680.0</td>\n",
       "      <td>0.0</td>\n",
       "      <td>...</td>\n",
       "      <td>NaN</td>\n",
       "      <td>9273</td>\n",
       "      <td>1</td>\n",
       "      <td>D</td>\n",
       "      <td>297.0</td>\n",
       "      <td>P</td>\n",
       "      <td>Conale</td>\n",
       "      <td>Kitakan</td>\n",
       "      <td>NaN</td>\n",
       "      <td>0</td>\n",
       "    </tr>\n",
       "    <tr>\n",
       "      <th>12969</th>\n",
       "      <td>9277_01</td>\n",
       "      <td>Earth</td>\n",
       "      <td>True</td>\n",
       "      <td>G/1498/S</td>\n",
       "      <td>PSO J318.5-22</td>\n",
       "      <td>43.0</td>\n",
       "      <td>False</td>\n",
       "      <td>0.0</td>\n",
       "      <td>0.0</td>\n",
       "      <td>0.0</td>\n",
       "      <td>...</td>\n",
       "      <td>NaN</td>\n",
       "      <td>9277</td>\n",
       "      <td>1</td>\n",
       "      <td>G</td>\n",
       "      <td>1498.0</td>\n",
       "      <td>S</td>\n",
       "      <td>Leonzaley</td>\n",
       "      <td>Lilace</td>\n",
       "      <td>40.0</td>\n",
       "      <td>0</td>\n",
       "    </tr>\n",
       "  </tbody>\n",
       "</table>\n",
       "<p>12970 rows × 23 columns</p>\n",
       "</div>"
      ],
      "text/plain": [
       "      PassengerId HomePlanet CryoSleep     Cabin    Destination   Age    VIP  \\\n",
       "0         0001_01     Europa     False     B/0/P    TRAPPIST-1e  39.0  False   \n",
       "1         0002_01      Earth     False     F/0/S    TRAPPIST-1e  24.0  False   \n",
       "2         0003_01     Europa     False     A/0/S    TRAPPIST-1e  58.0   True   \n",
       "3         0003_02     Europa     False     A/0/S    TRAPPIST-1e  33.0  False   \n",
       "4         0004_01      Earth     False     F/1/S    TRAPPIST-1e  16.0  False   \n",
       "...           ...        ...       ...       ...            ...   ...    ...   \n",
       "12965     9266_02      Earth      True  G/1496/S    TRAPPIST-1e  34.0  False   \n",
       "12966     9269_01      Earth     False       NaN    TRAPPIST-1e  42.0  False   \n",
       "12967     9271_01       Mars      True   D/296/P    55 Cancri e   NaN  False   \n",
       "12968     9273_01     Europa     False   D/297/P            NaN   NaN  False   \n",
       "12969     9277_01      Earth      True  G/1498/S  PSO J318.5-22  43.0  False   \n",
       "\n",
       "       RoomService  FoodCourt  ShoppingMall  ...  Transported  GroupNumber  \\\n",
       "0              0.0        0.0           0.0  ...          0.0            1   \n",
       "1            109.0        9.0          25.0  ...          1.0            2   \n",
       "2             43.0     3576.0           0.0  ...          0.0            3   \n",
       "3              0.0     1283.0         371.0  ...          0.0            3   \n",
       "4            303.0       70.0         151.0  ...          1.0            4   \n",
       "...            ...        ...           ...  ...          ...          ...   \n",
       "12965          0.0        0.0           0.0  ...          NaN         9266   \n",
       "12966          0.0      847.0          17.0  ...          NaN         9269   \n",
       "12967          0.0        0.0           0.0  ...          NaN         9271   \n",
       "12968          0.0     2680.0           0.0  ...          NaN         9273   \n",
       "12969          0.0        0.0           0.0  ...          NaN         9277   \n",
       "\n",
       "      NumberInGroup  CabinDeck  CabinNumber  CabinSide    FirstName  LastName  \\\n",
       "0                 1          B          0.0          P    Ofracculy     Maham   \n",
       "1                 1          F          0.0          S        Vines    Juanna   \n",
       "2                 1          A          0.0          S       Susent    Altark   \n",
       "3                 2          A          0.0          S       Susent     Solam   \n",
       "4                 1          F          1.0          S  Santantines     Willy   \n",
       "...             ...        ...          ...        ...          ...       ...   \n",
       "12965             2          G       1496.0          S        Peter     Jeron   \n",
       "12966             1        NaN          NaN        NaN      Scheron     Matty   \n",
       "12967             1          D        296.0          P         Pore    Jayrin   \n",
       "12968             1          D        297.0          P       Conale   Kitakan   \n",
       "12969             1          G       1498.0          S    Leonzaley    Lilace   \n",
       "\n",
       "       Ages RoomServiceGrade  \n",
       "0      30.0                0  \n",
       "1      20.0                1  \n",
       "2      50.0                1  \n",
       "3      30.0                0  \n",
       "4      10.0                1  \n",
       "...     ...              ...  \n",
       "12965  30.0                0  \n",
       "12966  40.0                0  \n",
       "12967   NaN                0  \n",
       "12968   NaN                0  \n",
       "12969  40.0                0  \n",
       "\n",
       "[12970 rows x 23 columns]"
      ]
     },
     "execution_count": 2,
     "metadata": {},
     "output_type": "execute_result"
    }
   ],
   "source": [
    "train_df = pd.read_csv('data/spaceship_train3.csv')\n",
    "test_df = pd.read_csv('data/spaceship_test3.csv')\n",
    "\n",
    "all_df = pd.concat([train_df, test_df])\n",
    "all_df.reset_index(inplace=True, drop=True)\n",
    "all_df"
   ]
  },
  {
   "cell_type": "markdown",
   "id": "25ce7968-41cb-40c7-ae00-a9ee70ffe311",
   "metadata": {},
   "source": [
    "### 컬럼 생성"
   ]
  },
  {
   "cell_type": "code",
   "execution_count": 3,
   "id": "24fa32e6-0c76-49cc-9d20-5e3dbc0d2db2",
   "metadata": {},
   "outputs": [
    {
     "data": {
      "text/plain": [
       "GroupNumberCount\n",
       "1    7145\n",
       "2    2590\n",
       "3    1506\n",
       "4     616\n",
       "5     380\n",
       "7     329\n",
       "6     252\n",
       "8     152\n",
       "Name: count, dtype: int64"
      ]
     },
     "execution_count": 3,
     "metadata": {},
     "output_type": "execute_result"
    }
   ],
   "source": [
    "# GroupNumberCount\n",
    "# GroupNumberCount 컬럼을 추가한다.\n",
    "all_df['GroupNumberCount'] = 0\n",
    "\n",
    "# GroupNumber의 도수를 구한다.\n",
    "a1 = all_df['GroupNumber'].value_counts()\n",
    "# 도수의 종류\n",
    "a2 = a1.value_counts().index\n",
    "\n",
    "# 도수의 수를 통해 반복한다.\n",
    "for a3 in a2 :\n",
    "    # GroupNumber의 도수가 a3와 같은 것을 가져온다.\n",
    "    a4 = a1[a1 == a3]\n",
    "    # a4의 index를 가져온다(GroupNumber값)\n",
    "    a5 = a4.index\n",
    "    # index에 해당하는 행에 a3을 넣어준다.\n",
    "    a6 = all_df.query('GroupNumber in @a5').index\n",
    "    all_df.loc[a6, 'GroupNumberCount'] = a3\n",
    "\n",
    "all_df['GroupNumberCount'].value_counts()"
   ]
  },
  {
   "cell_type": "code",
   "execution_count": 4,
   "id": "9ce548cf-5b96-4cc3-8a65-8881b8e96d59",
   "metadata": {},
   "outputs": [
    {
     "data": {
      "text/plain": [
       "NumberInGroupCount\n",
       "9280    9280\n",
       "2135    2135\n",
       "840      840\n",
       "338      338\n",
       "184      184\n",
       "108      108\n",
       "66        66\n",
       "19        19\n",
       "Name: count, dtype: int64"
      ]
     },
     "execution_count": 4,
     "metadata": {},
     "output_type": "execute_result"
    }
   ],
   "source": [
    "# NumberInGroupCount\n",
    "# NumberInGroupCount 컬럼을 추가한다.\n",
    "all_df['NumberInGroupCount'] = 0\n",
    "\n",
    "# NumberInGroup의 도수를 구한다.\n",
    "a1 = all_df['NumberInGroup'].value_counts()\n",
    "# 도수의 종류\n",
    "a2 = a1.value_counts().index\n",
    "\n",
    "# 도수의 수를 통해 반복한다.\n",
    "for a3 in a2 :\n",
    "    # NumberInGroup의 도수가 a3와 같은 것을 가져온다.\n",
    "    a4 = a1[a1 == a3]\n",
    "    # a4의 index를 가져온다(NumberInGroup값)\n",
    "    a5 = a4.index\n",
    "    # index에 해당하는 행에 a3을 넣어준다.\n",
    "    a6 = all_df.query('NumberInGroup in @a5').index\n",
    "    all_df.loc[a6, 'NumberInGroupCount'] = a3\n",
    "\n",
    "all_df['NumberInGroupCount'].value_counts()"
   ]
  },
  {
   "cell_type": "code",
   "execution_count": 5,
   "id": "d6c462a1-c2f8-4a5d-936a-a5b1abe47cd5",
   "metadata": {},
   "outputs": [
    {
     "data": {
      "text/plain": [
       "FirstNameCount\n",
       "7     1505\n",
       "6     1452\n",
       "5     1440\n",
       "4     1204\n",
       "9     1170\n",
       "8     1128\n",
       "3      912\n",
       "10     880\n",
       "2      642\n",
       "11     627\n",
       "12     516\n",
       "14     322\n",
       "0      294\n",
       "13     234\n",
       "1      208\n",
       "15     165\n",
       "16     128\n",
       "18      54\n",
       "17      51\n",
       "19      38\n",
       "Name: count, dtype: int64"
      ]
     },
     "execution_count": 5,
     "metadata": {},
     "output_type": "execute_result"
    }
   ],
   "source": [
    "# FirstNameCount\n",
    "# FirstNameCount 컬럼을 추가한다.\n",
    "all_df['FirstNameCount'] = 0\n",
    "\n",
    "# FirstName의 도수를 구한다.\n",
    "a1 = all_df['FirstName'].value_counts()\n",
    "# 도수의 종류\n",
    "a2 = a1.value_counts().index\n",
    "\n",
    "# 도수의 수를 통해 반복한다.\n",
    "for a3 in a2 :\n",
    "    # NumberInGroup의 도수가 a3와 같은 것을 가져온다.\n",
    "    a4 = a1[a1 == a3]\n",
    "    # a4의 index를 가져온다(FirstName 개수 값)\n",
    "    a5 = a4.index\n",
    "    # index에 해당하는 행에 a3을 넣어준다.\n",
    "    a6 = all_df.query('FirstName in @a5').index\n",
    "    all_df.loc[a6, 'FirstNameCount'] = a3\n",
    "\n",
    "all_df['FirstNameCount'].value_counts()"
   ]
  },
  {
   "cell_type": "code",
   "execution_count": 6,
   "id": "609b6114-a301-4820-827a-ababb1de7b7e",
   "metadata": {},
   "outputs": [
    {
     "data": {
      "text/plain": [
       "LastNameCount\n",
       "4     1700\n",
       "5     1650\n",
       "3     1470\n",
       "6     1464\n",
       "7     1260\n",
       "9     1170\n",
       "8     1088\n",
       "2      926\n",
       "10     650\n",
       "11     495\n",
       "1      339\n",
       "0      294\n",
       "12     192\n",
       "13     169\n",
       "14      56\n",
       "16      32\n",
       "15      15\n",
       "Name: count, dtype: int64"
      ]
     },
     "execution_count": 6,
     "metadata": {},
     "output_type": "execute_result"
    }
   ],
   "source": [
    "# LastNameCount\n",
    "# LastNameCount 컬럼을 추가한다.\n",
    "all_df['LastNameCount'] = 0\n",
    "\n",
    "# LastName의 도수를 구한다.\n",
    "a1 = all_df['LastName'].value_counts()\n",
    "# 도수의 종류\n",
    "a2 = a1.value_counts().index\n",
    "\n",
    "# 도수의 수를 통해 반복한다.\n",
    "for a3 in a2 :\n",
    "    # NumberInGroup의 도수가 a3와 같은 것을 가져온다.\n",
    "    a4 = a1[a1 == a3]\n",
    "    # a4의 index를 가져온다(LastName 개수 값)\n",
    "    a5 = a4.index\n",
    "    # index에 해당하는 행에 a3을 넣어준다.\n",
    "    a6 = all_df.query('LastName in @a5').index\n",
    "    all_df.loc[a6, 'LastNameCount'] = a3\n",
    "\n",
    "all_df['LastNameCount'].value_counts()"
   ]
  },
  {
   "cell_type": "markdown",
   "id": "2ccf69b9-9269-4cca-83fe-9e8f517cf58d",
   "metadata": {},
   "source": [
    "### 컬럼 제거\n",
    "- PassengerId, Cabin, Name, CabinNumber, Ages, RoomServiceGrade"
   ]
  },
  {
   "cell_type": "code",
   "execution_count": 7,
   "id": "435b5e94-3148-49a2-9b94-4f51818fa8b3",
   "metadata": {},
   "outputs": [
    {
     "data": {
      "text/html": [
       "<div>\n",
       "<style scoped>\n",
       "    .dataframe tbody tr th:only-of-type {\n",
       "        vertical-align: middle;\n",
       "    }\n",
       "\n",
       "    .dataframe tbody tr th {\n",
       "        vertical-align: top;\n",
       "    }\n",
       "\n",
       "    .dataframe thead th {\n",
       "        text-align: right;\n",
       "    }\n",
       "</style>\n",
       "<table border=\"1\" class=\"dataframe\">\n",
       "  <thead>\n",
       "    <tr style=\"text-align: right;\">\n",
       "      <th></th>\n",
       "      <th>HomePlanet</th>\n",
       "      <th>CryoSleep</th>\n",
       "      <th>Destination</th>\n",
       "      <th>Age</th>\n",
       "      <th>VIP</th>\n",
       "      <th>RoomService</th>\n",
       "      <th>FoodCourt</th>\n",
       "      <th>ShoppingMall</th>\n",
       "      <th>Spa</th>\n",
       "      <th>VRDeck</th>\n",
       "      <th>...</th>\n",
       "      <th>GroupNumber</th>\n",
       "      <th>NumberInGroup</th>\n",
       "      <th>CabinDeck</th>\n",
       "      <th>CabinSide</th>\n",
       "      <th>FirstName</th>\n",
       "      <th>LastName</th>\n",
       "      <th>GroupNumberCount</th>\n",
       "      <th>NumberInGroupCount</th>\n",
       "      <th>FirstNameCount</th>\n",
       "      <th>LastNameCount</th>\n",
       "    </tr>\n",
       "  </thead>\n",
       "  <tbody>\n",
       "    <tr>\n",
       "      <th>0</th>\n",
       "      <td>Europa</td>\n",
       "      <td>False</td>\n",
       "      <td>TRAPPIST-1e</td>\n",
       "      <td>39.0</td>\n",
       "      <td>False</td>\n",
       "      <td>0.0</td>\n",
       "      <td>0.0</td>\n",
       "      <td>0.0</td>\n",
       "      <td>0.0</td>\n",
       "      <td>0.0</td>\n",
       "      <td>...</td>\n",
       "      <td>1</td>\n",
       "      <td>1</td>\n",
       "      <td>B</td>\n",
       "      <td>P</td>\n",
       "      <td>Ofracculy</td>\n",
       "      <td>Maham</td>\n",
       "      <td>1</td>\n",
       "      <td>9280</td>\n",
       "      <td>3</td>\n",
       "      <td>5</td>\n",
       "    </tr>\n",
       "    <tr>\n",
       "      <th>1</th>\n",
       "      <td>Earth</td>\n",
       "      <td>False</td>\n",
       "      <td>TRAPPIST-1e</td>\n",
       "      <td>24.0</td>\n",
       "      <td>False</td>\n",
       "      <td>109.0</td>\n",
       "      <td>9.0</td>\n",
       "      <td>25.0</td>\n",
       "      <td>549.0</td>\n",
       "      <td>44.0</td>\n",
       "      <td>...</td>\n",
       "      <td>2</td>\n",
       "      <td>1</td>\n",
       "      <td>F</td>\n",
       "      <td>S</td>\n",
       "      <td>Vines</td>\n",
       "      <td>Juanna</td>\n",
       "      <td>1</td>\n",
       "      <td>9280</td>\n",
       "      <td>4</td>\n",
       "      <td>6</td>\n",
       "    </tr>\n",
       "    <tr>\n",
       "      <th>2</th>\n",
       "      <td>Europa</td>\n",
       "      <td>False</td>\n",
       "      <td>TRAPPIST-1e</td>\n",
       "      <td>58.0</td>\n",
       "      <td>True</td>\n",
       "      <td>43.0</td>\n",
       "      <td>3576.0</td>\n",
       "      <td>0.0</td>\n",
       "      <td>6715.0</td>\n",
       "      <td>49.0</td>\n",
       "      <td>...</td>\n",
       "      <td>3</td>\n",
       "      <td>1</td>\n",
       "      <td>A</td>\n",
       "      <td>S</td>\n",
       "      <td>Susent</td>\n",
       "      <td>Altark</td>\n",
       "      <td>2</td>\n",
       "      <td>9280</td>\n",
       "      <td>7</td>\n",
       "      <td>1</td>\n",
       "    </tr>\n",
       "    <tr>\n",
       "      <th>3</th>\n",
       "      <td>Europa</td>\n",
       "      <td>False</td>\n",
       "      <td>TRAPPIST-1e</td>\n",
       "      <td>33.0</td>\n",
       "      <td>False</td>\n",
       "      <td>0.0</td>\n",
       "      <td>1283.0</td>\n",
       "      <td>371.0</td>\n",
       "      <td>3329.0</td>\n",
       "      <td>193.0</td>\n",
       "      <td>...</td>\n",
       "      <td>3</td>\n",
       "      <td>2</td>\n",
       "      <td>A</td>\n",
       "      <td>S</td>\n",
       "      <td>Susent</td>\n",
       "      <td>Solam</td>\n",
       "      <td>2</td>\n",
       "      <td>2135</td>\n",
       "      <td>7</td>\n",
       "      <td>5</td>\n",
       "    </tr>\n",
       "    <tr>\n",
       "      <th>4</th>\n",
       "      <td>Earth</td>\n",
       "      <td>False</td>\n",
       "      <td>TRAPPIST-1e</td>\n",
       "      <td>16.0</td>\n",
       "      <td>False</td>\n",
       "      <td>303.0</td>\n",
       "      <td>70.0</td>\n",
       "      <td>151.0</td>\n",
       "      <td>565.0</td>\n",
       "      <td>2.0</td>\n",
       "      <td>...</td>\n",
       "      <td>4</td>\n",
       "      <td>1</td>\n",
       "      <td>F</td>\n",
       "      <td>S</td>\n",
       "      <td>Santantines</td>\n",
       "      <td>Willy</td>\n",
       "      <td>1</td>\n",
       "      <td>9280</td>\n",
       "      <td>9</td>\n",
       "      <td>11</td>\n",
       "    </tr>\n",
       "    <tr>\n",
       "      <th>...</th>\n",
       "      <td>...</td>\n",
       "      <td>...</td>\n",
       "      <td>...</td>\n",
       "      <td>...</td>\n",
       "      <td>...</td>\n",
       "      <td>...</td>\n",
       "      <td>...</td>\n",
       "      <td>...</td>\n",
       "      <td>...</td>\n",
       "      <td>...</td>\n",
       "      <td>...</td>\n",
       "      <td>...</td>\n",
       "      <td>...</td>\n",
       "      <td>...</td>\n",
       "      <td>...</td>\n",
       "      <td>...</td>\n",
       "      <td>...</td>\n",
       "      <td>...</td>\n",
       "      <td>...</td>\n",
       "      <td>...</td>\n",
       "      <td>...</td>\n",
       "    </tr>\n",
       "    <tr>\n",
       "      <th>12965</th>\n",
       "      <td>Earth</td>\n",
       "      <td>True</td>\n",
       "      <td>TRAPPIST-1e</td>\n",
       "      <td>34.0</td>\n",
       "      <td>False</td>\n",
       "      <td>0.0</td>\n",
       "      <td>0.0</td>\n",
       "      <td>0.0</td>\n",
       "      <td>0.0</td>\n",
       "      <td>0.0</td>\n",
       "      <td>...</td>\n",
       "      <td>9266</td>\n",
       "      <td>2</td>\n",
       "      <td>G</td>\n",
       "      <td>S</td>\n",
       "      <td>Peter</td>\n",
       "      <td>Jeron</td>\n",
       "      <td>2</td>\n",
       "      <td>2135</td>\n",
       "      <td>10</td>\n",
       "      <td>6</td>\n",
       "    </tr>\n",
       "    <tr>\n",
       "      <th>12966</th>\n",
       "      <td>Earth</td>\n",
       "      <td>False</td>\n",
       "      <td>TRAPPIST-1e</td>\n",
       "      <td>42.0</td>\n",
       "      <td>False</td>\n",
       "      <td>0.0</td>\n",
       "      <td>847.0</td>\n",
       "      <td>17.0</td>\n",
       "      <td>10.0</td>\n",
       "      <td>144.0</td>\n",
       "      <td>...</td>\n",
       "      <td>9269</td>\n",
       "      <td>1</td>\n",
       "      <td>NaN</td>\n",
       "      <td>NaN</td>\n",
       "      <td>Scheron</td>\n",
       "      <td>Matty</td>\n",
       "      <td>1</td>\n",
       "      <td>9280</td>\n",
       "      <td>6</td>\n",
       "      <td>5</td>\n",
       "    </tr>\n",
       "    <tr>\n",
       "      <th>12967</th>\n",
       "      <td>Mars</td>\n",
       "      <td>True</td>\n",
       "      <td>55 Cancri e</td>\n",
       "      <td>NaN</td>\n",
       "      <td>False</td>\n",
       "      <td>0.0</td>\n",
       "      <td>0.0</td>\n",
       "      <td>0.0</td>\n",
       "      <td>0.0</td>\n",
       "      <td>0.0</td>\n",
       "      <td>...</td>\n",
       "      <td>9271</td>\n",
       "      <td>1</td>\n",
       "      <td>D</td>\n",
       "      <td>P</td>\n",
       "      <td>Pore</td>\n",
       "      <td>Jayrin</td>\n",
       "      <td>1</td>\n",
       "      <td>9280</td>\n",
       "      <td>4</td>\n",
       "      <td>6</td>\n",
       "    </tr>\n",
       "    <tr>\n",
       "      <th>12968</th>\n",
       "      <td>Europa</td>\n",
       "      <td>False</td>\n",
       "      <td>NaN</td>\n",
       "      <td>NaN</td>\n",
       "      <td>False</td>\n",
       "      <td>0.0</td>\n",
       "      <td>2680.0</td>\n",
       "      <td>0.0</td>\n",
       "      <td>0.0</td>\n",
       "      <td>523.0</td>\n",
       "      <td>...</td>\n",
       "      <td>9273</td>\n",
       "      <td>1</td>\n",
       "      <td>D</td>\n",
       "      <td>P</td>\n",
       "      <td>Conale</td>\n",
       "      <td>Kitakan</td>\n",
       "      <td>1</td>\n",
       "      <td>9280</td>\n",
       "      <td>7</td>\n",
       "      <td>3</td>\n",
       "    </tr>\n",
       "    <tr>\n",
       "      <th>12969</th>\n",
       "      <td>Earth</td>\n",
       "      <td>True</td>\n",
       "      <td>PSO J318.5-22</td>\n",
       "      <td>43.0</td>\n",
       "      <td>False</td>\n",
       "      <td>0.0</td>\n",
       "      <td>0.0</td>\n",
       "      <td>0.0</td>\n",
       "      <td>0.0</td>\n",
       "      <td>0.0</td>\n",
       "      <td>...</td>\n",
       "      <td>9277</td>\n",
       "      <td>1</td>\n",
       "      <td>G</td>\n",
       "      <td>S</td>\n",
       "      <td>Leonzaley</td>\n",
       "      <td>Lilace</td>\n",
       "      <td>1</td>\n",
       "      <td>9280</td>\n",
       "      <td>9</td>\n",
       "      <td>11</td>\n",
       "    </tr>\n",
       "  </tbody>\n",
       "</table>\n",
       "<p>12970 rows × 21 columns</p>\n",
       "</div>"
      ],
      "text/plain": [
       "      HomePlanet CryoSleep    Destination   Age    VIP  RoomService  \\\n",
       "0         Europa     False    TRAPPIST-1e  39.0  False          0.0   \n",
       "1          Earth     False    TRAPPIST-1e  24.0  False        109.0   \n",
       "2         Europa     False    TRAPPIST-1e  58.0   True         43.0   \n",
       "3         Europa     False    TRAPPIST-1e  33.0  False          0.0   \n",
       "4          Earth     False    TRAPPIST-1e  16.0  False        303.0   \n",
       "...          ...       ...            ...   ...    ...          ...   \n",
       "12965      Earth      True    TRAPPIST-1e  34.0  False          0.0   \n",
       "12966      Earth     False    TRAPPIST-1e  42.0  False          0.0   \n",
       "12967       Mars      True    55 Cancri e   NaN  False          0.0   \n",
       "12968     Europa     False            NaN   NaN  False          0.0   \n",
       "12969      Earth      True  PSO J318.5-22  43.0  False          0.0   \n",
       "\n",
       "       FoodCourt  ShoppingMall     Spa  VRDeck  ...  GroupNumber  \\\n",
       "0            0.0           0.0     0.0     0.0  ...            1   \n",
       "1            9.0          25.0   549.0    44.0  ...            2   \n",
       "2         3576.0           0.0  6715.0    49.0  ...            3   \n",
       "3         1283.0         371.0  3329.0   193.0  ...            3   \n",
       "4           70.0         151.0   565.0     2.0  ...            4   \n",
       "...          ...           ...     ...     ...  ...          ...   \n",
       "12965        0.0           0.0     0.0     0.0  ...         9266   \n",
       "12966      847.0          17.0    10.0   144.0  ...         9269   \n",
       "12967        0.0           0.0     0.0     0.0  ...         9271   \n",
       "12968     2680.0           0.0     0.0   523.0  ...         9273   \n",
       "12969        0.0           0.0     0.0     0.0  ...         9277   \n",
       "\n",
       "       NumberInGroup  CabinDeck CabinSide    FirstName LastName  \\\n",
       "0                  1          B         P    Ofracculy    Maham   \n",
       "1                  1          F         S        Vines   Juanna   \n",
       "2                  1          A         S       Susent   Altark   \n",
       "3                  2          A         S       Susent    Solam   \n",
       "4                  1          F         S  Santantines    Willy   \n",
       "...              ...        ...       ...          ...      ...   \n",
       "12965              2          G         S        Peter    Jeron   \n",
       "12966              1        NaN       NaN      Scheron    Matty   \n",
       "12967              1          D         P         Pore   Jayrin   \n",
       "12968              1          D         P       Conale  Kitakan   \n",
       "12969              1          G         S    Leonzaley   Lilace   \n",
       "\n",
       "      GroupNumberCount  NumberInGroupCount  FirstNameCount  LastNameCount  \n",
       "0                    1                9280               3              5  \n",
       "1                    1                9280               4              6  \n",
       "2                    2                9280               7              1  \n",
       "3                    2                2135               7              5  \n",
       "4                    1                9280               9             11  \n",
       "...                ...                 ...             ...            ...  \n",
       "12965                2                2135              10              6  \n",
       "12966                1                9280               6              5  \n",
       "12967                1                9280               4              6  \n",
       "12968                1                9280               7              3  \n",
       "12969                1                9280               9             11  \n",
       "\n",
       "[12970 rows x 21 columns]"
      ]
     },
     "execution_count": 7,
     "metadata": {},
     "output_type": "execute_result"
    }
   ],
   "source": [
    "all_df.drop(['PassengerId', 'Cabin', 'Name', 'CabinNumber', 'Ages', 'RoomServiceGrade'], axis=1, inplace=True)\n",
    "all_df"
   ]
  },
  {
   "cell_type": "markdown",
   "id": "8399c956-ae24-4777-a5eb-8fc0648bbac9",
   "metadata": {},
   "source": [
    "### 결측치"
   ]
  },
  {
   "cell_type": "code",
   "execution_count": 8,
   "id": "c5f7c0d2-407c-4ff9-9e2a-462260a4f454",
   "metadata": {},
   "outputs": [
    {
     "data": {
      "text/plain": [
       "HomePlanet            288\n",
       "CryoSleep             310\n",
       "Destination           274\n",
       "Age                   270\n",
       "VIP                   296\n",
       "RoomService           263\n",
       "FoodCourt             289\n",
       "ShoppingMall          306\n",
       "Spa                   284\n",
       "VRDeck                268\n",
       "GroupNumber             0\n",
       "NumberInGroup           0\n",
       "CabinDeck             299\n",
       "CabinSide             299\n",
       "FirstName             294\n",
       "LastName              294\n",
       "GroupNumberCount        0\n",
       "NumberInGroupCount      0\n",
       "FirstNameCount          0\n",
       "LastNameCount           0\n",
       "dtype: int64"
      ]
     },
     "execution_count": 8,
     "metadata": {},
     "output_type": "execute_result"
    }
   ],
   "source": [
    "# 결측치 확인\n",
    "all_df.drop('Transported', axis=1).isna().sum()"
   ]
  },
  {
   "cell_type": "code",
   "execution_count": 9,
   "id": "80c9bd61-56a6-4c49-90d5-e2b9f5f2fcd6",
   "metadata": {},
   "outputs": [
    {
     "data": {
      "text/plain": [
       "HomePlanet\n",
       "Earth     6865\n",
       "Europa    3133\n",
       "Mars      2684\n",
       "Name: count, dtype: int64"
      ]
     },
     "execution_count": 9,
     "metadata": {},
     "output_type": "execute_result"
    }
   ],
   "source": [
    "# HomePlanet 의 도수 확인\n",
    "all_df['HomePlanet'].value_counts()"
   ]
  },
  {
   "cell_type": "code",
   "execution_count": 10,
   "id": "55d87772-3fe8-42d2-a1ae-491f0f52465e",
   "metadata": {},
   "outputs": [
    {
     "data": {
      "text/plain": [
       "288"
      ]
     },
     "execution_count": 10,
     "metadata": {},
     "output_type": "execute_result"
    }
   ],
   "source": [
    "# 결측치 개수 확인\n",
    "all_df['HomePlanet'].isna().sum()"
   ]
  },
  {
   "cell_type": "code",
   "execution_count": 11,
   "id": "6921d311-218f-45dc-b409-6977b6ddd6dd",
   "metadata": {},
   "outputs": [
    {
     "data": {
      "text/plain": [
       "0"
      ]
     },
     "execution_count": 11,
     "metadata": {},
     "output_type": "execute_result"
    }
   ],
   "source": [
    "# Earth가 압도적으로 많기 때문에 Earth에 포함시킨다.\n",
    "idx = all_df.query('HomePlanet.isna()').index\n",
    "all_df.loc[idx, 'HomePlanet'] = 'Earth'\n",
    "all_df['HomePlanet'].isna().sum()"
   ]
  },
  {
   "cell_type": "code",
   "execution_count": 12,
   "id": "c818cc09-312a-481d-bea8-09b45adac0cc",
   "metadata": {},
   "outputs": [
    {
     "data": {
      "text/plain": [
       "HomePlanet\n",
       "Earth     7153\n",
       "Europa    3133\n",
       "Mars      2684\n",
       "Name: count, dtype: int64"
      ]
     },
     "execution_count": 12,
     "metadata": {},
     "output_type": "execute_result"
    }
   ],
   "source": [
    "all_df['HomePlanet'].value_counts()"
   ]
  },
  {
   "cell_type": "code",
   "execution_count": 13,
   "id": "8e29ba5e-91f7-47ec-88d3-a38368a48f3a",
   "metadata": {},
   "outputs": [
    {
     "data": {
      "text/plain": [
       "CryoSleep\n",
       "False    8079\n",
       "True     4581\n",
       "Name: count, dtype: int64"
      ]
     },
     "execution_count": 13,
     "metadata": {},
     "output_type": "execute_result"
    }
   ],
   "source": [
    "# CryoSleep 의 도수 확인\n",
    "all_df['CryoSleep'].value_counts()"
   ]
  },
  {
   "cell_type": "code",
   "execution_count": 14,
   "id": "d7ac015b-1039-44a4-8fee-b62308ea786f",
   "metadata": {},
   "outputs": [
    {
     "data": {
      "text/plain": [
       "310"
      ]
     },
     "execution_count": 14,
     "metadata": {},
     "output_type": "execute_result"
    }
   ],
   "source": [
    "# 결측치 개수 확인\n",
    "all_df['CryoSleep'].isna().sum()"
   ]
  },
  {
   "cell_type": "code",
   "execution_count": 15,
   "id": "b3708d2f-ab1b-4669-9155-c1154c0263af",
   "metadata": {},
   "outputs": [
    {
     "data": {
      "text/plain": [
       "0"
      ]
     },
     "execution_count": 15,
     "metadata": {},
     "output_type": "execute_result"
    }
   ],
   "source": [
    "# False가 압도적으로 많기 때문에 False로 채워준다\n",
    "idx = all_df.query('CryoSleep.isna()').index\n",
    "all_df.loc[idx, 'CryoSleep'] = False\n",
    "all_df['CryoSleep'].isna().sum()"
   ]
  },
  {
   "cell_type": "code",
   "execution_count": 16,
   "id": "054650e6-ad74-4abf-ab77-f43c37897f4f",
   "metadata": {},
   "outputs": [
    {
     "data": {
      "text/plain": [
       "CryoSleep\n",
       "False    8389\n",
       "True     4581\n",
       "Name: count, dtype: int64"
      ]
     },
     "execution_count": 16,
     "metadata": {},
     "output_type": "execute_result"
    }
   ],
   "source": [
    "all_df['CryoSleep'].value_counts()"
   ]
  },
  {
   "cell_type": "code",
   "execution_count": 17,
   "id": "c821f670-0300-4936-9e56-778f376380bf",
   "metadata": {},
   "outputs": [
    {
     "data": {
      "text/plain": [
       "Destination\n",
       "TRAPPIST-1e      8871\n",
       "55 Cancri e      2641\n",
       "PSO J318.5-22    1184\n",
       "Name: count, dtype: int64"
      ]
     },
     "execution_count": 17,
     "metadata": {},
     "output_type": "execute_result"
    }
   ],
   "source": [
    "# Destination 의 도수 확인\n",
    "all_df['Destination'].value_counts()"
   ]
  },
  {
   "cell_type": "code",
   "execution_count": 18,
   "id": "f95773eb-6c62-4999-b9ac-87d7f76a11c6",
   "metadata": {},
   "outputs": [
    {
     "data": {
      "text/plain": [
       "274"
      ]
     },
     "execution_count": 18,
     "metadata": {},
     "output_type": "execute_result"
    }
   ],
   "source": [
    "# 결측치 개수 확인\n",
    "all_df['Destination'].isna().sum()"
   ]
  },
  {
   "cell_type": "code",
   "execution_count": 19,
   "id": "f63094f1-3300-4991-a81c-7eb88de3f83c",
   "metadata": {},
   "outputs": [
    {
     "data": {
      "text/plain": [
       "0"
      ]
     },
     "execution_count": 19,
     "metadata": {},
     "output_type": "execute_result"
    }
   ],
   "source": [
    "# TRAPPIST-1e가 압도적으로 많기 때문에 TRAPPIST-1e로 채워준다\n",
    "idx = all_df.query('Destination.isna()').index\n",
    "all_df.loc[idx, 'Destination'] = 'TRAPPIST-1e'\n",
    "all_df['Destination'].isna().sum()"
   ]
  },
  {
   "cell_type": "code",
   "execution_count": 20,
   "id": "e0b04694-13c8-4a0b-b945-409b7dee8237",
   "metadata": {},
   "outputs": [
    {
     "data": {
      "text/plain": [
       "Age\n",
       "18.0    496\n",
       "24.0    482\n",
       "21.0    468\n",
       "19.0    455\n",
       "22.0    454\n",
       "       ... \n",
       "75.0      6\n",
       "79.0      5\n",
       "78.0      4\n",
       "77.0      3\n",
       "76.0      2\n",
       "Name: count, Length: 80, dtype: int64"
      ]
     },
     "execution_count": 20,
     "metadata": {},
     "output_type": "execute_result"
    }
   ],
   "source": [
    "# Age의 도수 확인\n",
    "# Age는 연속성을 가지고 있는 수치 데이터이기 때문에 도수를 보는 것은 의미가 없다.\n",
    "all_df['Age'].value_counts()"
   ]
  },
  {
   "cell_type": "code",
   "execution_count": 21,
   "id": "8649ece3-d9ec-42d4-bc8e-349785c8a325",
   "metadata": {},
   "outputs": [
    {
     "data": {
      "image/png": "[encoded data removed]",
      "text/plain": [
       "<Figure size 1200x600 with 1 Axes>"
      ]
     },
     "metadata": {},
     "output_type": "display_data"
    }
   ],
   "source": [
    "# 연속성을 가진 수치형 데이터이기 때문에 극단치 존재 여부를 확인해본다.\n",
    "sns.boxplot(data=all_df, x='Age')\n",
    "plt.show()"
   ]
  },
  {
   "cell_type": "code",
   "execution_count": 22,
   "id": "b4772447-25f0-491b-8104-bfc64d8c1a03",
   "metadata": {},
   "outputs": [
    {
     "name": "stdout",
     "output_type": "stream",
     "text": [
      "28.771968503937007 27.0\n"
     ]
    }
   ],
   "source": [
    "# 극단치가 존재하므로 평균과 중앙값을 비교해본다.\n",
    "a1 = all_df['Age'].mean()\n",
    "a2 = all_df['Age'].median()\n",
    "print(a1, a2)"
   ]
  },
  {
   "cell_type": "code",
   "execution_count": 23,
   "id": "73a7d41d-0c39-483a-9b2b-ac53220647a4",
   "metadata": {},
   "outputs": [
    {
     "data": {
      "text/plain": [
       "270"
      ]
     },
     "execution_count": 23,
     "metadata": {},
     "output_type": "execute_result"
    }
   ],
   "source": [
    "# 평균과 중앙값이 비슷하기 때문에 평균을 사용한다.\n",
    "# 결측치 개수 확인\n",
    "all_df['Age'].isna().sum()"
   ]
  },
  {
   "cell_type": "code",
   "execution_count": 24,
   "id": "95a8d288-f122-4c3d-a9dc-b4a60cb7f7ed",
   "metadata": {},
   "outputs": [
    {
     "data": {
      "text/plain": [
       "0"
      ]
     },
     "execution_count": 24,
     "metadata": {},
     "output_type": "execute_result"
    }
   ],
   "source": [
    "# 평균으로 채워준다.\n",
    "idx = all_df.query('Age.isna()').index\n",
    "all_df.loc[idx, 'Age'] = all_df['Age'].mean()\n",
    "all_df['Age'].isna().sum()"
   ]
  },
  {
   "cell_type": "code",
   "execution_count": 25,
   "id": "b636923a-fae4-4ee6-bb43-d5276d37a546",
   "metadata": {},
   "outputs": [
    {
     "data": {
      "text/plain": [
       "VIP\n",
       "False    12401\n",
       "True       273\n",
       "Name: count, dtype: int64"
      ]
     },
     "execution_count": 25,
     "metadata": {},
     "output_type": "execute_result"
    }
   ],
   "source": [
    "# VIP 의 도수 확인\n",
    "all_df['VIP'].value_counts()"
   ]
  },
  {
   "cell_type": "code",
   "execution_count": 26,
   "id": "460e83eb-5320-4b17-9ccb-9f9aed7c9792",
   "metadata": {},
   "outputs": [
    {
     "data": {
      "text/plain": [
       "296"
      ]
     },
     "execution_count": 26,
     "metadata": {},
     "output_type": "execute_result"
    }
   ],
   "source": [
    "# 결측치 개수 확인\n",
    "all_df['VIP'].isna().sum()"
   ]
  },
  {
   "cell_type": "code",
   "execution_count": 27,
   "id": "873514fc-d121-43ca-8413-d5e4a39424bd",
   "metadata": {},
   "outputs": [
    {
     "data": {
      "text/plain": [
       "0"
      ]
     },
     "execution_count": 27,
     "metadata": {},
     "output_type": "execute_result"
    }
   ],
   "source": [
    "# False가 압도적으로 많기 때문에 False로 채워준다\n",
    "idx = all_df.query('VIP.isna()').index\n",
    "all_df.loc[idx, 'VIP'] = False\n",
    "all_df['VIP'].isna().sum()"
   ]
  },
  {
   "cell_type": "code",
   "execution_count": 28,
   "id": "9fbb9700-52be-44a1-a96b-3e22436c039c",
   "metadata": {},
   "outputs": [
    {
     "data": {
      "text/plain": [
       "VIP\n",
       "False    12697\n",
       "True       273\n",
       "Name: count, dtype: int64"
      ]
     },
     "execution_count": 28,
     "metadata": {},
     "output_type": "execute_result"
    }
   ],
   "source": [
    "all_df['VIP'].value_counts()"
   ]
  },
  {
   "cell_type": "code",
   "execution_count": 29,
   "id": "889d8154-08e0-4295-8162-d7f0424934c2",
   "metadata": {},
   "outputs": [
    {
     "data": {
      "image/png": "[encoded data removed]",
      "text/plain": [
       "<Figure size 1200x600 with 1 Axes>"
      ]
     },
     "metadata": {},
     "output_type": "display_data"
    }
   ],
   "source": [
    "# RoomService\n",
    "# 연속성을 가진 수치형 데이터이기 때문에 극단치 존재 여부를 확인해본다.\n",
    "sns.boxplot(data=all_df, x='RoomService')\n",
    "plt.show()"
   ]
  },
  {
   "cell_type": "code",
   "execution_count": 30,
   "id": "95a24f1c-1c49-4c39-9787-c69c6d9c6a12",
   "metadata": {},
   "outputs": [
    {
     "name": "stdout",
     "output_type": "stream",
     "text": [
      "222.89785157787045 0.0\n"
     ]
    }
   ],
   "source": [
    "# 극단치가 존재하므로 평균과 중앙값을 비교해본다.\n",
    "a1 = all_df['RoomService'].mean()\n",
    "a2 = all_df['RoomService'].median()\n",
    "print(a1, a2)"
   ]
  },
  {
   "cell_type": "code",
   "execution_count": 31,
   "id": "349b3e11-3e6f-4d46-a41a-9daf478b7e9f",
   "metadata": {},
   "outputs": [
    {
     "data": {
      "text/plain": [
       "263"
      ]
     },
     "execution_count": 31,
     "metadata": {},
     "output_type": "execute_result"
    }
   ],
   "source": [
    "# 평균과 중앙값이 차이가 많이 나기 때문에 중앙값으로 채워준다.\n",
    "# 결측치 개수 확인\n",
    "all_df['RoomService'].isna().sum()"
   ]
  },
  {
   "cell_type": "code",
   "execution_count": 32,
   "id": "0c603695-18ff-4e02-8955-db89627b2409",
   "metadata": {},
   "outputs": [
    {
     "data": {
      "text/plain": [
       "0"
      ]
     },
     "execution_count": 32,
     "metadata": {},
     "output_type": "execute_result"
    }
   ],
   "source": [
    "# 중앙값으로 채워준다.\n",
    "idx = all_df.query('RoomService.isna()').index\n",
    "all_df.loc[idx, 'RoomService'] = all_df['RoomService'].median()\n",
    "all_df['RoomService'].isna().sum()"
   ]
  },
  {
   "cell_type": "code",
   "execution_count": 33,
   "id": "66e37246-f324-48da-904c-14bb6427a81d",
   "metadata": {},
   "outputs": [
    {
     "data": {
      "image/png": "[encoded data removed]",
      "text/plain": [
       "<Figure size 1200x600 with 1 Axes>"
      ]
     },
     "metadata": {},
     "output_type": "display_data"
    }
   ],
   "source": [
    "# FoodCourt\n",
    "# 연속성을 가진 수치형 데이터이기 때문에 극단치 존재 여부를 확인해본다.\n",
    "sns.boxplot(data=all_df, x='FoodCourt')\n",
    "plt.show()\n"
   ]
  },
  {
   "cell_type": "code",
   "execution_count": 34,
   "id": "0b01d783-8c75-4d6d-867a-03624c6d0a8f",
   "metadata": {},
   "outputs": [
    {
     "name": "stdout",
     "output_type": "stream",
     "text": [
      "451.96167494677076 0.0\n"
     ]
    }
   ],
   "source": [
    "# 극단치가 존재하므로 평균과 중앙값을 비교해본다.\n",
    "a1 = all_df['FoodCourt'].mean()\n",
    "a2 = all_df['FoodCourt'].median()\n",
    "print(a1, a2)"
   ]
  },
  {
   "cell_type": "code",
   "execution_count": 35,
   "id": "339a1bf5-f8f2-49bc-ad29-666cc40e2963",
   "metadata": {},
   "outputs": [
    {
     "data": {
      "text/plain": [
       "289"
      ]
     },
     "execution_count": 35,
     "metadata": {},
     "output_type": "execute_result"
    }
   ],
   "source": [
    "# 평균과 중앙값이 차이가 나기 때문에 중앙값을 사용한다.\n",
    "# 결측치 개수 확인\n",
    "all_df['FoodCourt'].isna().sum()"
   ]
  },
  {
   "cell_type": "code",
   "execution_count": 36,
   "id": "ad6b0459-8959-484f-a2ef-ffcdb9297f7d",
   "metadata": {},
   "outputs": [
    {
     "data": {
      "text/plain": [
       "0"
      ]
     },
     "execution_count": 36,
     "metadata": {},
     "output_type": "execute_result"
    }
   ],
   "source": [
    "# 중앙값으로 채워준다.\n",
    "idx = all_df.query('FoodCourt.isna()').index\n",
    "all_df.loc[idx, 'FoodCourt'] = all_df['FoodCourt'].median()\n",
    "all_df['FoodCourt'].isna().sum()"
   ]
  },
  {
   "cell_type": "code",
   "execution_count": 37,
   "id": "e570550e-e689-4076-9224-718029a345c9",
   "metadata": {},
   "outputs": [
    {
     "data": {
      "image/png": "[encoded data removed]",
      "text/plain": [
       "<Figure size 1200x600 with 1 Axes>"
      ]
     },
     "metadata": {},
     "output_type": "display_data"
    }
   ],
   "source": [
    "# ShoppingMall\n",
    "# 연속성을 가진 수치형 데이터이기 때문에 극단치 존재 여부를 확인해본다.\n",
    "sns.boxplot(data=all_df, x='ShoppingMall')\n",
    "plt.show()\n"
   ]
  },
  {
   "cell_type": "code",
   "execution_count": 38,
   "id": "84964dec-03cf-43f9-aa1d-5a2c9f4848c7",
   "metadata": {},
   "outputs": [
    {
     "name": "stdout",
     "output_type": "stream",
     "text": [
      "174.90603284902085 0.0\n"
     ]
    }
   ],
   "source": [
    "# 극단치가 존재하므로 평균과 중앙값을 비교해본다.\n",
    "a1 = all_df['ShoppingMall'].mean()\n",
    "a2 = all_df['ShoppingMall'].median()\n",
    "print(a1, a2)"
   ]
  },
  {
   "cell_type": "code",
   "execution_count": 39,
   "id": "3cad2e0b-722a-4334-8901-f7cbae54fb4a",
   "metadata": {},
   "outputs": [
    {
     "data": {
      "text/plain": [
       "306"
      ]
     },
     "execution_count": 39,
     "metadata": {},
     "output_type": "execute_result"
    }
   ],
   "source": [
    "# 평균과 중앙값이 차이가 나기 때문에 중앙값을 사용한다.\n",
    "# 결측치 개수 확인\n",
    "all_df['ShoppingMall'].isna().sum()"
   ]
  },
  {
   "cell_type": "code",
   "execution_count": 40,
   "id": "c4dd9839-930f-4c2f-897e-8a74765b04ad",
   "metadata": {},
   "outputs": [
    {
     "data": {
      "text/plain": [
       "0"
      ]
     },
     "execution_count": 40,
     "metadata": {},
     "output_type": "execute_result"
    }
   ],
   "source": [
    "# 중앙값으로 채워준다.\n",
    "idx = all_df.query('ShoppingMall.isna()').index\n",
    "all_df.loc[idx, 'ShoppingMall'] = all_df['ShoppingMall'].median()\n",
    "all_df['ShoppingMall'].isna().sum()"
   ]
  },
  {
   "cell_type": "code",
   "execution_count": 41,
   "id": "a3ffb6af-b5b2-4a35-b3b3-753cf8dc76b5",
   "metadata": {},
   "outputs": [
    {
     "data": {
      "text/plain": [
       "0"
      ]
     },
     "metadata": {},
     "output_type": "display_data"
    },
    {
     "data": {
      "text/plain": [
       "0"
      ]
     },
     "metadata": {},
     "output_type": "display_data"
    }
   ],
   "source": [
    "# Spa와 VRDeck도 동일하기 때문에 똑같이 처리해준다.\n",
    "idx = all_df.query('Spa.isna()').index\n",
    "all_df.loc[idx, 'Spa'] = all_df['Spa'].median()\n",
    "\n",
    "idx = all_df.query('VRDeck.isna()').index\n",
    "all_df.loc[idx, 'VRDeck'] = all_df['VRDeck'].median()\n",
    "\n",
    "display(all_df['Spa'].isna().sum())\n",
    "display(all_df['VRDeck'].isna().sum())"
   ]
  },
  {
   "cell_type": "code",
   "execution_count": 42,
   "id": "8235eac0-0c28-47bc-a395-eeef6647b1a1",
   "metadata": {},
   "outputs": [
    {
     "data": {
      "text/plain": [
       "CabinDeck\n",
       "F    4239\n",
       "G    3781\n",
       "E    1323\n",
       "B    1141\n",
       "C    1102\n",
       "D     720\n",
       "A     354\n",
       "T      11\n",
       "Name: count, dtype: int64"
      ]
     },
     "execution_count": 42,
     "metadata": {},
     "output_type": "execute_result"
    }
   ],
   "source": [
    "# CabinDeck 의 도수 확인\n",
    "all_df['CabinDeck'].value_counts()"
   ]
  },
  {
   "cell_type": "code",
   "execution_count": 43,
   "id": "124d8736-c856-4c43-880b-4d85c9be6f75",
   "metadata": {},
   "outputs": [
    {
     "data": {
      "text/plain": [
       "299"
      ]
     },
     "execution_count": 43,
     "metadata": {},
     "output_type": "execute_result"
    }
   ],
   "source": [
    "# 결측치 개수 확인\n",
    "all_df['CabinDeck'].isna().sum()"
   ]
  },
  {
   "cell_type": "code",
   "execution_count": 44,
   "id": "6a0d7ef4-1364-4c88-b179-e08e3eab149f",
   "metadata": {},
   "outputs": [
    {
     "data": {
      "text/plain": [
       "0"
      ]
     },
     "execution_count": 44,
     "metadata": {},
     "output_type": "execute_result"
    }
   ],
   "source": [
    "# F가 많기 때문에 F로 채워준다\n",
    "idx = all_df.query('CabinDeck.isna()').index\n",
    "all_df.loc[idx, 'CabinDeck'] = 'F'\n",
    "all_df['CabinDeck'].isna().sum()"
   ]
  },
  {
   "cell_type": "code",
   "execution_count": 45,
   "id": "8a29e3cd-8a3e-48cb-854b-dc6004ae66ff",
   "metadata": {},
   "outputs": [
    {
     "data": {
      "text/plain": [
       "CabinDeck\n",
       "F    4538\n",
       "G    3781\n",
       "E    1323\n",
       "B    1141\n",
       "C    1102\n",
       "D     720\n",
       "A     354\n",
       "T      11\n",
       "Name: count, dtype: int64"
      ]
     },
     "execution_count": 45,
     "metadata": {},
     "output_type": "execute_result"
    }
   ],
   "source": [
    "all_df['CabinDeck'].value_counts()"
   ]
  },
  {
   "cell_type": "code",
   "execution_count": 46,
   "id": "b3675e3e-870c-4b3d-985c-2c16f227b8c3",
   "metadata": {},
   "outputs": [
    {
     "data": {
      "text/plain": [
       "CabinSide\n",
       "S    6381\n",
       "P    6290\n",
       "Name: count, dtype: int64"
      ]
     },
     "execution_count": 46,
     "metadata": {},
     "output_type": "execute_result"
    }
   ],
   "source": [
    "# CabinSide 의 도수 확인\n",
    "all_df['CabinSide'].value_counts()"
   ]
  },
  {
   "cell_type": "code",
   "execution_count": 47,
   "id": "f84bf659-8e6c-491c-9530-3ae4bdda3709",
   "metadata": {},
   "outputs": [
    {
     "data": {
      "text/plain": [
       "299"
      ]
     },
     "execution_count": 47,
     "metadata": {},
     "output_type": "execute_result"
    }
   ],
   "source": [
    "# 결측치 개수 확인\n",
    "all_df['CabinSide'].isna().sum()"
   ]
  },
  {
   "cell_type": "code",
   "execution_count": 48,
   "id": "506967a3-2d7b-440e-b4af-130537ed6ec0",
   "metadata": {},
   "outputs": [
    {
     "data": {
      "text/plain": [
       "0"
      ]
     },
     "execution_count": 48,
     "metadata": {},
     "output_type": "execute_result"
    }
   ],
   "source": [
    "# S가 많기 때문에 S로 채워준다\n",
    "idx = all_df.query('CabinSide.isna()').index\n",
    "all_df.loc[idx, 'CabinSide'] = 'S'\n",
    "all_df['CabinSide'].isna().sum()"
   ]
  },
  {
   "cell_type": "code",
   "execution_count": 49,
   "id": "d2ace933-dc76-4d7b-a4fc-76d00c3c2bbd",
   "metadata": {},
   "outputs": [
    {
     "data": {
      "text/plain": [
       "CabinSide\n",
       "S    6680\n",
       "P    6290\n",
       "Name: count, dtype: int64"
      ]
     },
     "execution_count": 49,
     "metadata": {},
     "output_type": "execute_result"
    }
   ],
   "source": [
    "all_df['CabinSide'].value_counts()"
   ]
  },
  {
   "cell_type": "code",
   "execution_count": 50,
   "id": "ea222f5b-4dea-4055-9200-a74decc7811f",
   "metadata": {},
   "outputs": [
    {
     "data": {
      "text/plain": [
       "FirstName\n",
       "Buckentry      19\n",
       "Belley         19\n",
       "Hinglendez     18\n",
       "Fowlesterez    18\n",
       "Casonston      18\n",
       "               ..\n",
       "Cabraseed       1\n",
       "Miste           1\n",
       "Imotive         1\n",
       "Gepie           1\n",
       "Replic          1\n",
       "Name: count, Length: 2406, dtype: int64"
      ]
     },
     "execution_count": 50,
     "metadata": {},
     "output_type": "execute_result"
    }
   ],
   "source": [
    "# FirstName 의 도수 확인\n",
    "all_df['FirstName'].value_counts()"
   ]
  },
  {
   "cell_type": "code",
   "execution_count": 51,
   "id": "58768b70-009a-4b86-a64e-f75fe5af65d9",
   "metadata": {},
   "outputs": [
    {
     "data": {
      "text/plain": [
       "LastName\n",
       "Luise     16\n",
       "Idace     16\n",
       "Ale       15\n",
       "Thel      14\n",
       "Kaye      14\n",
       "          ..\n",
       "Smark      1\n",
       "Mureah     1\n",
       "Grey       1\n",
       "Pix        1\n",
       "Perit      1\n",
       "Name: count, Length: 2883, dtype: int64"
      ]
     },
     "execution_count": 51,
     "metadata": {},
     "output_type": "execute_result"
    }
   ],
   "source": [
    "# LastName 의 도수 확인\n",
    "all_df['LastName'].value_counts()"
   ]
  },
  {
   "cell_type": "code",
   "execution_count": 52,
   "id": "c804f0aa-627f-41cb-9dcb-7bd76ed2f10e",
   "metadata": {},
   "outputs": [
    {
     "data": {
      "text/html": [
       "<div>\n",
       "<style scoped>\n",
       "    .dataframe tbody tr th:only-of-type {\n",
       "        vertical-align: middle;\n",
       "    }\n",
       "\n",
       "    .dataframe tbody tr th {\n",
       "        vertical-align: top;\n",
       "    }\n",
       "\n",
       "    .dataframe thead th {\n",
       "        text-align: right;\n",
       "    }\n",
       "</style>\n",
       "<table border=\"1\" class=\"dataframe\">\n",
       "  <thead>\n",
       "    <tr style=\"text-align: right;\">\n",
       "      <th></th>\n",
       "      <th>HomePlanet</th>\n",
       "      <th>CryoSleep</th>\n",
       "      <th>Destination</th>\n",
       "      <th>Age</th>\n",
       "      <th>VIP</th>\n",
       "      <th>RoomService</th>\n",
       "      <th>FoodCourt</th>\n",
       "      <th>ShoppingMall</th>\n",
       "      <th>Spa</th>\n",
       "      <th>VRDeck</th>\n",
       "      <th>Transported</th>\n",
       "      <th>GroupNumber</th>\n",
       "      <th>NumberInGroup</th>\n",
       "      <th>CabinDeck</th>\n",
       "      <th>CabinSide</th>\n",
       "      <th>GroupNumberCount</th>\n",
       "      <th>NumberInGroupCount</th>\n",
       "      <th>FirstNameCount</th>\n",
       "      <th>LastNameCount</th>\n",
       "    </tr>\n",
       "  </thead>\n",
       "  <tbody>\n",
       "    <tr>\n",
       "      <th>0</th>\n",
       "      <td>Europa</td>\n",
       "      <td>False</td>\n",
       "      <td>TRAPPIST-1e</td>\n",
       "      <td>39.000000</td>\n",
       "      <td>False</td>\n",
       "      <td>0.0</td>\n",
       "      <td>0.0</td>\n",
       "      <td>0.0</td>\n",
       "      <td>0.0</td>\n",
       "      <td>0.0</td>\n",
       "      <td>0.0</td>\n",
       "      <td>1</td>\n",
       "      <td>1</td>\n",
       "      <td>B</td>\n",
       "      <td>P</td>\n",
       "      <td>1</td>\n",
       "      <td>9280</td>\n",
       "      <td>3</td>\n",
       "      <td>5</td>\n",
       "    </tr>\n",
       "    <tr>\n",
       "      <th>1</th>\n",
       "      <td>Earth</td>\n",
       "      <td>False</td>\n",
       "      <td>TRAPPIST-1e</td>\n",
       "      <td>24.000000</td>\n",
       "      <td>False</td>\n",
       "      <td>109.0</td>\n",
       "      <td>9.0</td>\n",
       "      <td>25.0</td>\n",
       "      <td>549.0</td>\n",
       "      <td>44.0</td>\n",
       "      <td>1.0</td>\n",
       "      <td>2</td>\n",
       "      <td>1</td>\n",
       "      <td>F</td>\n",
       "      <td>S</td>\n",
       "      <td>1</td>\n",
       "      <td>9280</td>\n",
       "      <td>4</td>\n",
       "      <td>6</td>\n",
       "    </tr>\n",
       "    <tr>\n",
       "      <th>2</th>\n",
       "      <td>Europa</td>\n",
       "      <td>False</td>\n",
       "      <td>TRAPPIST-1e</td>\n",
       "      <td>58.000000</td>\n",
       "      <td>True</td>\n",
       "      <td>43.0</td>\n",
       "      <td>3576.0</td>\n",
       "      <td>0.0</td>\n",
       "      <td>6715.0</td>\n",
       "      <td>49.0</td>\n",
       "      <td>0.0</td>\n",
       "      <td>3</td>\n",
       "      <td>1</td>\n",
       "      <td>A</td>\n",
       "      <td>S</td>\n",
       "      <td>2</td>\n",
       "      <td>9280</td>\n",
       "      <td>7</td>\n",
       "      <td>1</td>\n",
       "    </tr>\n",
       "    <tr>\n",
       "      <th>3</th>\n",
       "      <td>Europa</td>\n",
       "      <td>False</td>\n",
       "      <td>TRAPPIST-1e</td>\n",
       "      <td>33.000000</td>\n",
       "      <td>False</td>\n",
       "      <td>0.0</td>\n",
       "      <td>1283.0</td>\n",
       "      <td>371.0</td>\n",
       "      <td>3329.0</td>\n",
       "      <td>193.0</td>\n",
       "      <td>0.0</td>\n",
       "      <td>3</td>\n",
       "      <td>2</td>\n",
       "      <td>A</td>\n",
       "      <td>S</td>\n",
       "      <td>2</td>\n",
       "      <td>2135</td>\n",
       "      <td>7</td>\n",
       "      <td>5</td>\n",
       "    </tr>\n",
       "    <tr>\n",
       "      <th>4</th>\n",
       "      <td>Earth</td>\n",
       "      <td>False</td>\n",
       "      <td>TRAPPIST-1e</td>\n",
       "      <td>16.000000</td>\n",
       "      <td>False</td>\n",
       "      <td>303.0</td>\n",
       "      <td>70.0</td>\n",
       "      <td>151.0</td>\n",
       "      <td>565.0</td>\n",
       "      <td>2.0</td>\n",
       "      <td>1.0</td>\n",
       "      <td>4</td>\n",
       "      <td>1</td>\n",
       "      <td>F</td>\n",
       "      <td>S</td>\n",
       "      <td>1</td>\n",
       "      <td>9280</td>\n",
       "      <td>9</td>\n",
       "      <td>11</td>\n",
       "    </tr>\n",
       "    <tr>\n",
       "      <th>...</th>\n",
       "      <td>...</td>\n",
       "      <td>...</td>\n",
       "      <td>...</td>\n",
       "      <td>...</td>\n",
       "      <td>...</td>\n",
       "      <td>...</td>\n",
       "      <td>...</td>\n",
       "      <td>...</td>\n",
       "      <td>...</td>\n",
       "      <td>...</td>\n",
       "      <td>...</td>\n",
       "      <td>...</td>\n",
       "      <td>...</td>\n",
       "      <td>...</td>\n",
       "      <td>...</td>\n",
       "      <td>...</td>\n",
       "      <td>...</td>\n",
       "      <td>...</td>\n",
       "      <td>...</td>\n",
       "    </tr>\n",
       "    <tr>\n",
       "      <th>12965</th>\n",
       "      <td>Earth</td>\n",
       "      <td>True</td>\n",
       "      <td>TRAPPIST-1e</td>\n",
       "      <td>34.000000</td>\n",
       "      <td>False</td>\n",
       "      <td>0.0</td>\n",
       "      <td>0.0</td>\n",
       "      <td>0.0</td>\n",
       "      <td>0.0</td>\n",
       "      <td>0.0</td>\n",
       "      <td>NaN</td>\n",
       "      <td>9266</td>\n",
       "      <td>2</td>\n",
       "      <td>G</td>\n",
       "      <td>S</td>\n",
       "      <td>2</td>\n",
       "      <td>2135</td>\n",
       "      <td>10</td>\n",
       "      <td>6</td>\n",
       "    </tr>\n",
       "    <tr>\n",
       "      <th>12966</th>\n",
       "      <td>Earth</td>\n",
       "      <td>False</td>\n",
       "      <td>TRAPPIST-1e</td>\n",
       "      <td>42.000000</td>\n",
       "      <td>False</td>\n",
       "      <td>0.0</td>\n",
       "      <td>847.0</td>\n",
       "      <td>17.0</td>\n",
       "      <td>10.0</td>\n",
       "      <td>144.0</td>\n",
       "      <td>NaN</td>\n",
       "      <td>9269</td>\n",
       "      <td>1</td>\n",
       "      <td>F</td>\n",
       "      <td>S</td>\n",
       "      <td>1</td>\n",
       "      <td>9280</td>\n",
       "      <td>6</td>\n",
       "      <td>5</td>\n",
       "    </tr>\n",
       "    <tr>\n",
       "      <th>12967</th>\n",
       "      <td>Mars</td>\n",
       "      <td>True</td>\n",
       "      <td>55 Cancri e</td>\n",
       "      <td>28.771969</td>\n",
       "      <td>False</td>\n",
       "      <td>0.0</td>\n",
       "      <td>0.0</td>\n",
       "      <td>0.0</td>\n",
       "      <td>0.0</td>\n",
       "      <td>0.0</td>\n",
       "      <td>NaN</td>\n",
       "      <td>9271</td>\n",
       "      <td>1</td>\n",
       "      <td>D</td>\n",
       "      <td>P</td>\n",
       "      <td>1</td>\n",
       "      <td>9280</td>\n",
       "      <td>4</td>\n",
       "      <td>6</td>\n",
       "    </tr>\n",
       "    <tr>\n",
       "      <th>12968</th>\n",
       "      <td>Europa</td>\n",
       "      <td>False</td>\n",
       "      <td>TRAPPIST-1e</td>\n",
       "      <td>28.771969</td>\n",
       "      <td>False</td>\n",
       "      <td>0.0</td>\n",
       "      <td>2680.0</td>\n",
       "      <td>0.0</td>\n",
       "      <td>0.0</td>\n",
       "      <td>523.0</td>\n",
       "      <td>NaN</td>\n",
       "      <td>9273</td>\n",
       "      <td>1</td>\n",
       "      <td>D</td>\n",
       "      <td>P</td>\n",
       "      <td>1</td>\n",
       "      <td>9280</td>\n",
       "      <td>7</td>\n",
       "      <td>3</td>\n",
       "    </tr>\n",
       "    <tr>\n",
       "      <th>12969</th>\n",
       "      <td>Earth</td>\n",
       "      <td>True</td>\n",
       "      <td>PSO J318.5-22</td>\n",
       "      <td>43.000000</td>\n",
       "      <td>False</td>\n",
       "      <td>0.0</td>\n",
       "      <td>0.0</td>\n",
       "      <td>0.0</td>\n",
       "      <td>0.0</td>\n",
       "      <td>0.0</td>\n",
       "      <td>NaN</td>\n",
       "      <td>9277</td>\n",
       "      <td>1</td>\n",
       "      <td>G</td>\n",
       "      <td>S</td>\n",
       "      <td>1</td>\n",
       "      <td>9280</td>\n",
       "      <td>9</td>\n",
       "      <td>11</td>\n",
       "    </tr>\n",
       "  </tbody>\n",
       "</table>\n",
       "<p>12970 rows × 19 columns</p>\n",
       "</div>"
      ],
      "text/plain": [
       "      HomePlanet CryoSleep    Destination        Age    VIP  RoomService  \\\n",
       "0         Europa     False    TRAPPIST-1e  39.000000  False          0.0   \n",
       "1          Earth     False    TRAPPIST-1e  24.000000  False        109.0   \n",
       "2         Europa     False    TRAPPIST-1e  58.000000   True         43.0   \n",
       "3         Europa     False    TRAPPIST-1e  33.000000  False          0.0   \n",
       "4          Earth     False    TRAPPIST-1e  16.000000  False        303.0   \n",
       "...          ...       ...            ...        ...    ...          ...   \n",
       "12965      Earth      True    TRAPPIST-1e  34.000000  False          0.0   \n",
       "12966      Earth     False    TRAPPIST-1e  42.000000  False          0.0   \n",
       "12967       Mars      True    55 Cancri e  28.771969  False          0.0   \n",
       "12968     Europa     False    TRAPPIST-1e  28.771969  False          0.0   \n",
       "12969      Earth      True  PSO J318.5-22  43.000000  False          0.0   \n",
       "\n",
       "       FoodCourt  ShoppingMall     Spa  VRDeck  Transported  GroupNumber  \\\n",
       "0            0.0           0.0     0.0     0.0          0.0            1   \n",
       "1            9.0          25.0   549.0    44.0          1.0            2   \n",
       "2         3576.0           0.0  6715.0    49.0          0.0            3   \n",
       "3         1283.0         371.0  3329.0   193.0          0.0            3   \n",
       "4           70.0         151.0   565.0     2.0          1.0            4   \n",
       "...          ...           ...     ...     ...          ...          ...   \n",
       "12965        0.0           0.0     0.0     0.0          NaN         9266   \n",
       "12966      847.0          17.0    10.0   144.0          NaN         9269   \n",
       "12967        0.0           0.0     0.0     0.0          NaN         9271   \n",
       "12968     2680.0           0.0     0.0   523.0          NaN         9273   \n",
       "12969        0.0           0.0     0.0     0.0          NaN         9277   \n",
       "\n",
       "       NumberInGroup CabinDeck CabinSide  GroupNumberCount  \\\n",
       "0                  1         B         P                 1   \n",
       "1                  1         F         S                 1   \n",
       "2                  1         A         S                 2   \n",
       "3                  2         A         S                 2   \n",
       "4                  1         F         S                 1   \n",
       "...              ...       ...       ...               ...   \n",
       "12965              2         G         S                 2   \n",
       "12966              1         F         S                 1   \n",
       "12967              1         D         P                 1   \n",
       "12968              1         D         P                 1   \n",
       "12969              1         G         S                 1   \n",
       "\n",
       "       NumberInGroupCount  FirstNameCount  LastNameCount  \n",
       "0                    9280               3              5  \n",
       "1                    9280               4              6  \n",
       "2                    9280               7              1  \n",
       "3                    2135               7              5  \n",
       "4                    9280               9             11  \n",
       "...                   ...             ...            ...  \n",
       "12965                2135              10              6  \n",
       "12966                9280               6              5  \n",
       "12967                9280               4              6  \n",
       "12968                9280               7              3  \n",
       "12969                9280               9             11  \n",
       "\n",
       "[12970 rows x 19 columns]"
      ]
     },
     "execution_count": 52,
     "metadata": {},
     "output_type": "execute_result"
    }
   ],
   "source": [
    "# 여러분과의 투표 결과로 인해 FirstName과 LastName은 제거한다.\n",
    "# 농담~~~~\n",
    "# FirstName과 LastName은 범주형 데이터이다.\n",
    "# 범주형 데이터인 경우 대표값으로 최빈값을 사용한다.\n",
    "# 허나 값의 종류가 너무 많기 때문에 상대적으로 최빈값의 개수가 굉장히 적다.\n",
    "# 그리고 LastName의 경우 최빈값이 동일한 것이 있다.\n",
    "# 결측치를 채울 값을 결정하기가 어려운 상황이다.\n",
    "# 이럴때는 제거한다.\n",
    "# 향후 학습 결과가 좋지 않으면 추가하여 시도해 볼 수는 있다.\n",
    "all_df.drop(['FirstName', 'LastName'], axis=1, inplace=True)\n",
    "all_df"
   ]
  },
  {
   "cell_type": "code",
   "execution_count": 53,
   "id": "3f3cbd2b-2a36-41d7-b11f-69cf9ac34b94",
   "metadata": {},
   "outputs": [
    {
     "data": {
      "text/plain": [
       "HomePlanet               0\n",
       "CryoSleep                0\n",
       "Destination              0\n",
       "Age                      0\n",
       "VIP                      0\n",
       "RoomService              0\n",
       "FoodCourt                0\n",
       "ShoppingMall             0\n",
       "Spa                      0\n",
       "VRDeck                   0\n",
       "Transported           4277\n",
       "GroupNumber              0\n",
       "NumberInGroup            0\n",
       "CabinDeck                0\n",
       "CabinSide                0\n",
       "GroupNumberCount         0\n",
       "NumberInGroupCount       0\n",
       "FirstNameCount           0\n",
       "LastNameCount            0\n",
       "dtype: int64"
      ]
     },
     "execution_count": 53,
     "metadata": {},
     "output_type": "execute_result"
    }
   ],
   "source": [
    "# 최종 결측치 확인\n",
    "all_df.isna().sum()"
   ]
  },
  {
   "cell_type": "markdown",
   "id": "5c018daa-885b-441c-a915-81e64dcea350",
   "metadata": {},
   "source": [
    "### 데이터 저장"
   ]
  },
  {
   "cell_type": "code",
   "execution_count": 54,
   "id": "63bd8f8e-c03d-46e4-850b-2ab4347d6a11",
   "metadata": {},
   "outputs": [],
   "source": [
    "train_temp = all_df.query('Transported.notna()')\n",
    "train_temp.reset_index(inplace=True, drop=True)\n",
    "\n",
    "test_temp = all_df.query('Transported.isna()')\n",
    "test_temp.drop('Transported', axis=1, inplace=True)\n",
    "test_temp.reset_index(inplace=True, drop=True)\n",
    "\n",
    "train_temp.to_csv('data/spaceship_train4.csv', index=False)\n",
    "test_temp.to_csv('data/spaceship_test4.csv', index=False)"
   ]
  },
  {
   "cell_type": "code",
   "execution_count": null,
   "id": "1674e7f6-9ea6-4b4c-b3c5-81ce7bfafeda",
   "metadata": {},
   "outputs": [],
   "source": []
  }
 ],
 "metadata": {
  "kernelspec": {
   "display_name": "Python 3 (ipykernel)",
   "language": "python",
   "name": "python3"
  },
  "language_info": {
   "codemirror_mode": {
    "name": "ipython",
    "version": 3
   },
   "file_extension": ".py",
   "mimetype": "text/x-python",
   "name": "python",
   "nbconvert_exporter": "python",
   "pygments_lexer": "ipython3",
   "version": "3.12.7"
  }
 },
 "nbformat": 4,
 "nbformat_minor": 5
}
