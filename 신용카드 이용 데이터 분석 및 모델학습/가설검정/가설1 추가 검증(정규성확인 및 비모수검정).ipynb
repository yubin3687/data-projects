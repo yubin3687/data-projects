{
 "cells": [
  {
   "cell_type": "code",
   "execution_count": 1,
   "id": "3abf01c6-573b-4e5a-baeb-6d3db1cd1d08",
   "metadata": {},
   "outputs": [],
   "source": [
    "# 기본\n",
    "import pandas as pd\n",
    "import numpy as np\n",
    "import matplotlib.pyplot as plt\n",
    "import seaborn as sns\n",
    "\n",
    "# 경고 뜨지 않게 설정\n",
    "import warnings\n",
    "warnings.filterwarnings('ignore')\n",
    "\n",
    "# 그래프 설정\n",
    "sns.set()\n",
    "\n",
    "# 그래프 기본 설정\n",
    "plt.rcParams['font.family'] = 'Malgun Gothic'\n",
    "# plt.rcParams['font.family'] = 'AppleGothic'\n",
    "plt.rcParams['figure.figsize'] = 12, 6\n",
    "plt.rcParams['font.size'] = 14\n",
    "plt.rcParams['axes.unicode_minus'] = False\n",
    "\n",
    "# 데이터 전처리 알고리즘\n",
    "from sklearn.preprocessing import LabelEncoder\n",
    "from sklearn.preprocessing import StandardScaler\n",
    "\n",
    "# 학습용과 검증용으로 나누는 함수\n",
    "from sklearn.model_selection import train_test_split\n",
    "\n",
    "# 교차 검증\n",
    "from sklearn.model_selection import cross_val_score\n",
    "from sklearn.model_selection import cross_validate\n",
    "from sklearn.model_selection import KFold\n",
    "from sklearn.model_selection import StratifiedKFold\n",
    "\n",
    "# 평가함수\n",
    "# 분류용\n",
    "from sklearn.metrics import accuracy_score\n",
    "from sklearn.metrics import precision_score\n",
    "from sklearn.metrics import recall_score\n",
    "from sklearn.metrics import f1_score\n",
    "from sklearn.metrics import roc_auc_score\n",
    "\n",
    "# 회귀용\n",
    "from sklearn.metrics import r2_score\n",
    "from sklearn.metrics import mean_squared_error\n",
    "\n",
    "# 모델의 최적의 하이퍼 파라미터를 찾기 위한 도구\n",
    "from sklearn.model_selection import GridSearchCV\n",
    "\n",
    "# 머신러닝 알고리즘 - 분류\n",
    "from sklearn.neighbors import KNeighborsClassifier\n",
    "from sklearn.linear_model import LogisticRegression\n",
    "from sklearn.svm import SVC\n",
    "from sklearn.tree import DecisionTreeClassifier\n",
    "from sklearn.ensemble import RandomForestClassifier\n",
    "from sklearn.ensemble import AdaBoostClassifier\n",
    "from sklearn.ensemble import GradientBoostingClassifier\n",
    "from lightgbm import LGBMClassifier\n",
    "from xgboost import XGBClassifier\n",
    "from sklearn.ensemble import VotingClassifier\n",
    "\n",
    "# 머신러닝 알고리즘 - 회귀\n",
    "from sklearn.neighbors import KNeighborsRegressor\n",
    "from sklearn.linear_model import LinearRegression\n",
    "from sklearn.linear_model import Ridge\n",
    "from sklearn.linear_model import Lasso\n",
    "from sklearn.linear_model import ElasticNet\n",
    "from sklearn.svm import SVR\n",
    "from sklearn.tree import DecisionTreeRegressor\n",
    "from sklearn.ensemble import RandomForestRegressor\n",
    "from sklearn.ensemble import AdaBoostRegressor\n",
    "from sklearn.ensemble import GradientBoostingRegressor\n",
    "from lightgbm import LGBMRegressor\n",
    "from xgboost import XGBRegressor\n",
    "from sklearn.ensemble import VotingRegressor\n",
    "\n",
    "from scipy.stats import f_oneway\n",
    "from scipy.stats import shapiro\n",
    "from scipy.stats import levene\n",
    "from scipy.stats import kstest, norm\n",
    "import scipy.stats as stats\n",
    "from scipy.stats import spearmanr\n",
    "from sklearn.preprocessing import PowerTransformer\n",
    "from scipy.stats import kruskal\n",
    "\n",
    "# 차원 축소\n",
    "from sklearn.decomposition import PCA\n",
    "from sklearn.discriminant_analysis import LinearDiscriminantAnalysis\n",
    "\n",
    "# 군집\n",
    "from sklearn.cluster import KMeans\n",
    "from sklearn.cluster import MeanShift\n",
    "from sklearn.cluster import estimate_bandwidth\n",
    "\n",
    "# 학습 모델 저장을 위한 라이브러리\n",
    "import pickle"
   ]
  },
  {
   "cell_type": "code",
   "execution_count": 27,
   "id": "2065ef7c-6cc6-4551-a5fd-0e20a21530f5",
   "metadata": {},
   "outputs": [
    {
     "name": "stdout",
     "output_type": "stream",
     "text": [
      "Requirement already satisfied: scikit-posthocs in c:\\users\\user\\anaconda3\\lib\\site-packages (0.11.4)\n",
      "Requirement already satisfied: numpy in c:\\users\\user\\anaconda3\\lib\\site-packages (from scikit-posthocs) (1.26.4)\n",
      "Requirement already satisfied: scipy>=1.9.0 in c:\\users\\user\\anaconda3\\lib\\site-packages (from scikit-posthocs) (1.13.1)\n",
      "Requirement already satisfied: statsmodels in c:\\users\\user\\anaconda3\\lib\\site-packages (from scikit-posthocs) (0.14.2)\n",
      "Requirement already satisfied: pandas>=0.20.0 in c:\\users\\user\\anaconda3\\lib\\site-packages (from scikit-posthocs) (2.2.2)\n",
      "Requirement already satisfied: seaborn in c:\\users\\user\\anaconda3\\lib\\site-packages (from scikit-posthocs) (0.13.2)\n",
      "Requirement already satisfied: matplotlib in c:\\users\\user\\anaconda3\\lib\\site-packages (from scikit-posthocs) (3.9.2)\n",
      "Requirement already satisfied: python-dateutil>=2.8.2 in c:\\users\\user\\anaconda3\\lib\\site-packages (from pandas>=0.20.0->scikit-posthocs) (2.9.0.post0)\n",
      "Requirement already satisfied: pytz>=2020.1 in c:\\users\\user\\anaconda3\\lib\\site-packages (from pandas>=0.20.0->scikit-posthocs) (2024.1)\n",
      "Requirement already satisfied: tzdata>=2022.7 in c:\\users\\user\\anaconda3\\lib\\site-packages (from pandas>=0.20.0->scikit-posthocs) (2023.3)\n",
      "Requirement already satisfied: contourpy>=1.0.1 in c:\\users\\user\\anaconda3\\lib\\site-packages (from matplotlib->scikit-posthocs) (1.2.0)\n",
      "Requirement already satisfied: cycler>=0.10 in c:\\users\\user\\anaconda3\\lib\\site-packages (from matplotlib->scikit-posthocs) (0.11.0)\n",
      "Requirement already satisfied: fonttools>=4.22.0 in c:\\users\\user\\anaconda3\\lib\\site-packages (from matplotlib->scikit-posthocs) (4.51.0)\n",
      "Requirement already satisfied: kiwisolver>=1.3.1 in c:\\users\\user\\anaconda3\\lib\\site-packages (from matplotlib->scikit-posthocs) (1.4.4)\n",
      "Requirement already satisfied: packaging>=20.0 in c:\\users\\user\\anaconda3\\lib\\site-packages (from matplotlib->scikit-posthocs) (24.1)\n",
      "Requirement already satisfied: pillow>=8 in c:\\users\\user\\anaconda3\\lib\\site-packages (from matplotlib->scikit-posthocs) (10.4.0)\n",
      "Requirement already satisfied: pyparsing>=2.3.1 in c:\\users\\user\\anaconda3\\lib\\site-packages (from matplotlib->scikit-posthocs) (3.1.2)\n",
      "Requirement already satisfied: patsy>=0.5.6 in c:\\users\\user\\anaconda3\\lib\\site-packages (from statsmodels->scikit-posthocs) (0.5.6)\n",
      "Requirement already satisfied: six in c:\\users\\user\\anaconda3\\lib\\site-packages (from patsy>=0.5.6->statsmodels->scikit-posthocs) (1.16.0)\n"
     ]
    }
   ],
   "source": [
    "# 사후검정을 위해 설치\n",
    "!pip install scikit-posthocs"
   ]
  },
  {
   "cell_type": "markdown",
   "id": "a69c5712-c60c-4728-b390-e88fbe314d1f",
   "metadata": {},
   "source": [
    "### 가설1 : Segment별 이용금액_R3M_신용체크에 대한 정규성 확인"
   ]
  },
  {
   "cell_type": "code",
   "execution_count": 2,
   "id": "52b6f768-d84a-46fc-bb55-32f3bc92d466",
   "metadata": {},
   "outputs": [],
   "source": [
    "# 데이터를 불러온다.\n",
    "df = pd.read_parquet(\"data/r05.parquet\")\n",
    "# df"
   ]
  },
  {
   "cell_type": "code",
   "execution_count": 3,
   "id": "1364f2ed-a273-4c21-9d5d-ee103733e1f9",
   "metadata": {},
   "outputs": [],
   "source": [
    "# 필요한 컬럼 추출\n",
    "df_g1 = df[['Segment', '이용금액_R3M_신용체크']].dropna()"
   ]
  },
  {
   "cell_type": "code",
   "execution_count": null,
   "id": "d7a3a21a-1d5b-4757-8ab7-275806076267",
   "metadata": {},
   "outputs": [],
   "source": [
    "# Segment 등급별 분포 확인\n",
    "g = sns.FacetGrid(df_g1, col=\"Segment\", col_wrap=3, height=4, sharex=True, sharey=True)\n",
    "g.map(sns.histplot, \"이용금액_R3M_신용체크\", kde=True, stat=\"density\", color='skyblue')\n",
    "\n",
    "# y축 밀도 범위 제한\n",
    "g.set(ylim=(0, 0.0001))\n",
    "\n",
    "# 제목 조정\n",
    "g.fig.suptitle(\"Segment 등급별 최근 3개월 카드 이용금액 분포 (정규성 확인용)\", y=1.05)\n",
    "g.set_axis_labels(\"이용금액\", \"밀도\")\n",
    "plt.tight_layout()\n",
    "plt.show()"
   ]
  },
  {
   "cell_type": "markdown",
   "id": "16af0031-a51f-49a1-9053-55e9795f9af1",
   "metadata": {},
   "source": [
    "- 오른쪽으로 긴 꼬리가 존재함\n",
    "    (특히, Segment D, E)\n",
    "- 양의 왜도 존재\n",
    "- 즉, 정규 분포를 따르지 않는다"
   ]
  },
  {
   "cell_type": "code",
   "execution_count": 4,
   "id": "d9a0c539-c671-454b-a985-8c0a89b3d75d",
   "metadata": {},
   "outputs": [
    {
     "ename": "NameError",
     "evalue": "name 'df' is not defined",
     "output_type": "error",
     "traceback": [
      "\u001b[1;31m---------------------------------------------------------------------------\u001b[0m",
      "\u001b[1;31mNameError\u001b[0m                                 Traceback (most recent call last)",
      "Cell \u001b[1;32mIn[4], line 2\u001b[0m\n\u001b[0;32m      1\u001b[0m \u001b[38;5;66;03m# 데이터 선택 (예: 이용금액 컬럼 중 일부 샘플링)\u001b[39;00m\n\u001b[1;32m----> 2\u001b[0m sample \u001b[38;5;241m=\u001b[39m df[\u001b[38;5;124m'\u001b[39m\u001b[38;5;124m이용금액_R3M_신용체크\u001b[39m\u001b[38;5;124m'\u001b[39m]\u001b[38;5;241m.\u001b[39mdropna()\n",
      "\u001b[1;31mNameError\u001b[0m: name 'df' is not defined"
     ]
    }
   ],
   "source": [
    "# 데이터 선택 (예: 이용금액 컬럼 중 일부 샘플링)\n",
    "sample = df['이용금액_R3M_신용체크'].dropna()"
   ]
  },
  {
   "cell_type": "code",
   "execution_count": 5,
   "id": "d9e3bfae-05f8-4f89-aab8-2fe155884c62",
   "metadata": {},
   "outputs": [
    {
     "ename": "NameError",
     "evalue": "name 'sample' is not defined",
     "output_type": "error",
     "traceback": [
      "\u001b[1;31m---------------------------------------------------------------------------\u001b[0m",
      "\u001b[1;31mNameError\u001b[0m                                 Traceback (most recent call last)",
      "Cell \u001b[1;32mIn[5], line 3\u001b[0m\n\u001b[0;32m      1\u001b[0m \u001b[38;5;66;03m# Q-Q plot 그리기\u001b[39;00m\n\u001b[0;32m      2\u001b[0m plt\u001b[38;5;241m.\u001b[39mfigure(figsize\u001b[38;5;241m=\u001b[39m(\u001b[38;5;241m6\u001b[39m, \u001b[38;5;241m6\u001b[39m))\n\u001b[1;32m----> 3\u001b[0m stats\u001b[38;5;241m.\u001b[39mprobplot(sample, dist\u001b[38;5;241m=\u001b[39m\u001b[38;5;124m\"\u001b[39m\u001b[38;5;124mnorm\u001b[39m\u001b[38;5;124m\"\u001b[39m, plot\u001b[38;5;241m=\u001b[39mplt)\n\u001b[0;32m      4\u001b[0m plt\u001b[38;5;241m.\u001b[39mtitle(\u001b[38;5;124m\"\u001b[39m\u001b[38;5;124mQ-Q Plot (정규분포 비교)\u001b[39m\u001b[38;5;124m\"\u001b[39m)\n\u001b[0;32m      5\u001b[0m plt\u001b[38;5;241m.\u001b[39mgrid(\u001b[38;5;28;01mTrue\u001b[39;00m)\n",
      "\u001b[1;31mNameError\u001b[0m: name 'sample' is not defined"
     ]
    },
    {
     "data": {
      "text/plain": [
       "<Figure size 600x600 with 0 Axes>"
      ]
     },
     "metadata": {},
     "output_type": "display_data"
    }
   ],
   "source": [
    "# Q-Q plot 그리기\n",
    "plt.figure(figsize=(6, 6))\n",
    "stats.probplot(sample, dist=\"norm\", plot=plt)\n",
    "plt.title(\"Q-Q Plot (정규분포 비교)\")\n",
    "plt.grid(True)\n",
    "plt.show()"
   ]
  },
  {
   "cell_type": "markdown",
   "id": "bed75914-dc02-44f2-95e4-c1503245ea12",
   "metadata": {},
   "source": [
    "- 대부분의 점이 우상단으로 크게 벗어남\n",
    "- 정규분포보다 오른쪽 꼬리가 더 큼.\n",
    "    ⇒ 빨간선 : 정규분포일 경우 점들이 위치해야 할 이론 직선\n",
    "- 좌측 하단과 우측 상단이 곡선처럼 휘어 있음\n",
    "- 즉, 양의 왜도가 존재함을 알 수 있다.\n",
    "- 따라서 Segment 별 이용금액_R3M_신용체크은 정규분포를 따르지 않는다."
   ]
  },
  {
   "cell_type": "code",
   "execution_count": 6,
   "id": "e14eff93-6d60-4a22-9c08-1757e142b908",
   "metadata": {},
   "outputs": [
    {
     "ename": "NameError",
     "evalue": "name 'df_g1' is not defined",
     "output_type": "error",
     "traceback": [
      "\u001b[1;31m---------------------------------------------------------------------------\u001b[0m",
      "\u001b[1;31mNameError\u001b[0m                                 Traceback (most recent call last)",
      "Cell \u001b[1;32mIn[6], line 2\u001b[0m\n\u001b[0;32m      1\u001b[0m \u001b[38;5;66;03m# Segment별 Q-Q Plot\u001b[39;00m\n\u001b[1;32m----> 2\u001b[0m segments \u001b[38;5;241m=\u001b[39m df_g1[\u001b[38;5;124m'\u001b[39m\u001b[38;5;124mSegment\u001b[39m\u001b[38;5;124m'\u001b[39m]\u001b[38;5;241m.\u001b[39munique()\n\u001b[0;32m      3\u001b[0m num_segments \u001b[38;5;241m=\u001b[39m \u001b[38;5;28mlen\u001b[39m(segments)\n\u001b[0;32m      5\u001b[0m plt\u001b[38;5;241m.\u001b[39mfigure(figsize\u001b[38;5;241m=\u001b[39m(\u001b[38;5;241m5\u001b[39m \u001b[38;5;241m*\u001b[39m num_segments, \u001b[38;5;241m5\u001b[39m))\n",
      "\u001b[1;31mNameError\u001b[0m: name 'df_g1' is not defined"
     ]
    }
   ],
   "source": [
    "# Segment별 Q-Q Plot\n",
    "segments = df_g1['Segment'].unique()\n",
    "num_segments = len(segments)\n",
    "\n",
    "plt.figure(figsize=(5 * num_segments, 5))\n",
    "\n",
    "for i, seg in enumerate(sorted(segments)):\n",
    "    plt.subplot(1, num_segments, i + 1)\n",
    "    stats.probplot(\n",
    "        df_g1[df_g1['Segment'] == seg]['이용금액_R3M_신용체크'], \n",
    "        dist=\"norm\", \n",
    "        plot=plt\n",
    "    )\n",
    "    plt.title(f\"Q-Q Plot - Segment {seg}\")\n",
    "\n",
    "plt.tight_layout()\n",
    "plt.show()"
   ]
  },
  {
   "cell_type": "markdown",
   "id": "01004771-07f9-41dc-9bf4-13e9a429c01a",
   "metadata": {},
   "source": [
    "### 가설1 : Kruskal-Wallis H-test\n",
    " - segment 그룹간 카드 이용금액 분포에 유의미한 차이가 있음을 검정"
   ]
  },
  {
   "cell_type": "code",
   "execution_count": 5,
   "id": "a7e38b57-a23d-4a53-911f-21a03407ee02",
   "metadata": {},
   "outputs": [
    {
     "name": "stdout",
     "output_type": "stream",
     "text": [
      "Spearman 상관계수: 0.5046, p-value: 0.0000\n"
     ]
    }
   ],
   "source": [
    "# 등급을 수치로 매핑 (예: A=5, ..., E=1)\n",
    "segment_map = {'A': 5, 'B': 4, 'C': 3, 'D': 2, 'E': 1}\n",
    "df_g1['Segment_score'] = df_g1['Segment'].map(segment_map)\n",
    "\n",
    "# Spearman 상관분석\n",
    "from scipy.stats import spearmanr\n",
    "corr, p = spearmanr(df_g1['Segment_score'], df_g1['이용금액_R3M_신용체크'])\n",
    "print(f'Spearman 상관계수: {corr:.4f}, p-value: {p:.4f}')"
   ]
  },
  {
   "cell_type": "markdown",
   "id": "c2448538-5f0a-49f6-99e0-a5257b131ce8",
   "metadata": {},
   "source": [
    "### Kruskal-Walli H-test란?\n",
    " - 비모수 분산분석 방법\n",
    " - 정규성, 등분산성을 만족하지 않아도 됨\n",
    " - 범주형 독립변수(Segment), 연속형 종속변수(이용금액)에 적합\n",
    " - 귀무가설(H0) : 모든 Segment 등급 그룹의 카드 이용금액 분포는 동일하다.\n",
    " - 대립가설(H1) : 적어도 하나의 그룹은 다른 그룹과 통계적으로 다른 분포를 가진다."
   ]
  },
  {
   "cell_type": "code",
   "execution_count": 29,
   "id": "68aaa822-7fab-4843-b48d-50b4293db790",
   "metadata": {},
   "outputs": [],
   "source": [
    "# Segment별로 금액을 리스트로 분리\n",
    "grouped_data = [\n",
    "    df_g1[df_g1['Segment'] == seg]['이용금액_R3M_신용체크'].dropna()\n",
    "    for seg in sorted(df_g1['Segment'].unique())\n",
    "]"
   ]
  },
  {
   "cell_type": "code",
   "execution_count": 30,
   "id": "0d5243fc-e490-47e0-b7f2-12f553bcda48",
   "metadata": {},
   "outputs": [
    {
     "name": "stdout",
     "output_type": "stream",
     "text": [
      "Kruskal-Wallis H-statistic: 611194.6708\n",
      "p-value: 0.0000\n",
      "→ 유의미한 차이가 있음. 귀무가설 기각됨\n"
     ]
    }
   ],
   "source": [
    "# Kruskal-Wallis H-test 수행\n",
    "stat, p = kruskal(*grouped_data)\n",
    "\n",
    "# 결과값 출력\n",
    "print(f\"Kruskal-Wallis H-statistic: {stat:.4f}\")\n",
    "print(f\"p-value: {p:.4f}\")\n",
    "\n",
    "if p < 0.05:\n",
    "    print(\"→ 유의미한 차이가 있음. 귀무가설 기각됨\")\n",
    "else:\n",
    "    print(\"→ 유의미한 차이가 없음. 귀무가설 채택.\")"
   ]
  },
  {
   "cell_type": "markdown",
   "id": "4685e277-898c-4c15-91a0-df661d12cb44",
   "metadata": {},
   "source": [
    "- Segment 등급별로 최근 3개월 이용금액의 분포에 유의미한 차이가 있음을 통계적으로 확인함.\n",
    "- 이는 등급 간 소비 성향이 실제로 다르다는 것을 시사하며, 이후 사후검정을 통해 구체적인 그룹 간 차이를 추가 분석 할 수 있다."
   ]
  },
  {
   "cell_type": "markdown",
   "id": "fe313d38-98a8-4c02-9148-81efa39ded12",
   "metadata": {},
   "source": [
    "### 사후검정(Dunn's test)\n",
    " - Kruskal-Wallis H-test를 통해 등급별 최근 3개월 이용금액의 분포에 유의미한 차이가 있음을 확인하였음\n",
    " - 이후에 어떤 Segment 간에 차이가 있는지 구체적으로 파악"
   ]
  },
  {
   "cell_type": "code",
   "execution_count": 31,
   "id": "1febeb68-967a-44ba-827f-95d83e230d23",
   "metadata": {},
   "outputs": [
    {
     "data": {
      "text/html": [
       "<div>\n",
       "<style scoped>\n",
       "    .dataframe tbody tr th:only-of-type {\n",
       "        vertical-align: middle;\n",
       "    }\n",
       "\n",
       "    .dataframe tbody tr th {\n",
       "        vertical-align: top;\n",
       "    }\n",
       "\n",
       "    .dataframe thead th {\n",
       "        text-align: right;\n",
       "    }\n",
       "</style>\n",
       "<table border=\"1\" class=\"dataframe\">\n",
       "  <thead>\n",
       "    <tr style=\"text-align: right;\">\n",
       "      <th></th>\n",
       "      <th>A</th>\n",
       "      <th>B</th>\n",
       "      <th>C</th>\n",
       "      <th>D</th>\n",
       "      <th>E</th>\n",
       "    </tr>\n",
       "  </thead>\n",
       "  <tbody>\n",
       "    <tr>\n",
       "      <th>A</th>\n",
       "      <td>1.000000e+00</td>\n",
       "      <td>1.000000e+00</td>\n",
       "      <td>2.470422e-27</td>\n",
       "      <td>1.898502e-82</td>\n",
       "      <td>0.000000e+00</td>\n",
       "    </tr>\n",
       "    <tr>\n",
       "      <th>B</th>\n",
       "      <td>1.000000e+00</td>\n",
       "      <td>1.000000e+00</td>\n",
       "      <td>1.042800e-04</td>\n",
       "      <td>2.883591e-13</td>\n",
       "      <td>1.823854e-104</td>\n",
       "    </tr>\n",
       "    <tr>\n",
       "      <th>C</th>\n",
       "      <td>2.470422e-27</td>\n",
       "      <td>1.042800e-04</td>\n",
       "      <td>1.000000e+00</td>\n",
       "      <td>0.000000e+00</td>\n",
       "      <td>0.000000e+00</td>\n",
       "    </tr>\n",
       "    <tr>\n",
       "      <th>D</th>\n",
       "      <td>1.898502e-82</td>\n",
       "      <td>2.883591e-13</td>\n",
       "      <td>0.000000e+00</td>\n",
       "      <td>1.000000e+00</td>\n",
       "      <td>0.000000e+00</td>\n",
       "    </tr>\n",
       "    <tr>\n",
       "      <th>E</th>\n",
       "      <td>0.000000e+00</td>\n",
       "      <td>1.823854e-104</td>\n",
       "      <td>0.000000e+00</td>\n",
       "      <td>0.000000e+00</td>\n",
       "      <td>1.000000e+00</td>\n",
       "    </tr>\n",
       "  </tbody>\n",
       "</table>\n",
       "</div>"
      ],
      "text/plain": [
       "              A              B             C             D              E\n",
       "A  1.000000e+00   1.000000e+00  2.470422e-27  1.898502e-82   0.000000e+00\n",
       "B  1.000000e+00   1.000000e+00  1.042800e-04  2.883591e-13  1.823854e-104\n",
       "C  2.470422e-27   1.042800e-04  1.000000e+00  0.000000e+00   0.000000e+00\n",
       "D  1.898502e-82   2.883591e-13  0.000000e+00  1.000000e+00   0.000000e+00\n",
       "E  0.000000e+00  1.823854e-104  0.000000e+00  0.000000e+00   1.000000e+00"
      ]
     },
     "execution_count": 31,
     "metadata": {},
     "output_type": "execute_result"
    }
   ],
   "source": [
    "import scikit_posthocs as sp\n",
    "\n",
    "# 사후검정 실시\n",
    "sp.posthoc_dunn(df_g1, val_col='이용금액_R3M_신용체크', group_col='Segment', p_adjust='bonferroni')"
   ]
  },
  {
   "cell_type": "markdown",
   "id": "74262a77-43b8-4e1e-b5a2-613e2adf960f",
   "metadata": {},
   "source": [
    "- 표에서 행, 열은 Segment 간 비교이다.\n",
    "- p < 0.05 일수록, 두 그룹 간 이용금액에 유의미한 차이가 있다.\n",
    "- 값이 1인 경우는 동일 그룹간의 비교 혹은 다른 그룹일 경우 통계적으로 유의미한 차이가 없다라는 의미를 가진다."
   ]
  },
  {
   "cell_type": "markdown",
   "id": "d894ebd9-ef39-48b1-be4e-a77248e3ec4a",
   "metadata": {},
   "source": [
    "- A vs B : 차이가 없음.\n",
    "- A vs C/D/E : p < 0.05로서 유의미한 차이 존재\n",
    "- B vs C/D/E : p < 0.05로서 유의미한 차이 존재\n",
    "- C vs D/E와 D vs E : p ≈ 0로 유의미한 차이 존재"
   ]
  },
  {
   "cell_type": "markdown",
   "id": "dcf44021-8ba6-4412-b01d-88766929a867",
   "metadata": {},
   "source": [
    "- Dunn’s 사후검정 결과, Segment A와 B 간에는 통계적으로 유의한 차이가 나타나지 않았다.\n",
    "- A/B를 제외한 나머지 등급 간에는 모두 유의한 차이가 확인되었으며, 특히 Segment E는 다른 모든 등급과 유의한 차이를 보였다."
   ]
  },
  {
   "cell_type": "code",
   "execution_count": 6,
   "id": "4fd9cf48-cb91-42a0-bf4d-ae73f05fb4ec",
   "metadata": {},
   "outputs": [
    {
     "data": {
      "image/png": "[encoded data removed]",
      "text/plain": [
       "<Figure size 800x500 with 1 Axes>"
      ]
     },
     "metadata": {},
     "output_type": "display_data"
    }
   ],
   "source": [
    "# Boxplot 시각화\n",
    "plt.figure(figsize=(8, 5))\n",
    "sns.boxplot(x='Segment', y='이용금액_R3M_신용체크', data=df_g1, order=['A', 'B', 'C', 'D', 'E'], palette='Reds')\n",
    "plt.title('Segment 등급별 이용금액_R3M_신용체크')\n",
    "plt.ylabel('최근 3개월간 이용금액(신용,체크)')\n",
    "plt.xlabel('Segment_등급')\n",
    "plt.show()"
   ]
  },
  {
   "cell_type": "code",
   "execution_count": 7,
   "id": "acbcf010-9364-4203-acd9-4bceefb98ae7",
   "metadata": {},
   "outputs": [
    {
     "data": {
      "image/png": "[encoded data removed]",
      "text/plain": [
       "<Figure size 1200x600 with 1 Axes>"
      ]
     },
     "metadata": {},
     "output_type": "display_data"
    }
   ],
   "source": [
    "# Segment별 이용가능카드수_신용 bar plot\n",
    "# 평균 이용가능카드수_신용\n",
    "# A: 98294, B: 91296, C: 60613, D: 38603, E: 10054 \n",
    "df_bar = df_g1.groupby('Segment')['이용금액_R3M_신용체크'].mean().reset_index()\n",
    "sns.barplot(x='Segment', y='이용금액_R3M_신용체크', data=df_bar, palette='Blues_r')\n",
    "\n",
    "\n",
    "plt.title('Segment 등급별 평균 이용금액_R3M_신용체크', fontsize=14)\n",
    "plt.xlabel('Segment 등급')\n",
    "plt.ylabel('이이용금액_R3M_신용체크')\n",
    "plt.grid(axis='y', linestyle='--', alpha=0.5)\n",
    "plt.tight_layout()\n",
    "plt.show()"
   ]
  },
  {
   "cell_type": "code",
   "execution_count": null,
   "id": "438e8c41-e548-4c4f-8aa3-40dacd50406a",
   "metadata": {},
   "outputs": [],
   "source": []
  }
 ],
 "metadata": {
  "kernelspec": {
   "display_name": "Python [conda env:base] *",
   "language": "python",
   "name": "conda-base-py"
  },
  "language_info": {
   "codemirror_mode": {
    "name": "ipython",
    "version": 3
   },
   "file_extension": ".py",
   "mimetype": "text/x-python",
   "name": "python",
   "nbconvert_exporter": "python",
   "pygments_lexer": "ipython3",
   "version": "3.12.7"
  }
 },
 "nbformat": 4,
 "nbformat_minor": 5
}
