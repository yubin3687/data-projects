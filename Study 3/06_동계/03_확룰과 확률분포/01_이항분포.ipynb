{
 "cells": [
  {
   "cell_type": "code",
   "execution_count": 1,
   "id": "b44c4308-7c11-4a25-afa3-aaf238706ccf",
   "metadata": {},
   "outputs": [],
   "source": [
    "# 기본 라이브러리\n",
    "import numpy as np\n",
    "import pandas as pd\n",
    "import matplotlib.pyplot as plt\n",
    "import seaborn as sns\n",
    "\n",
    "# 그래프 기본 테마 설정\n",
    "# https://coldbrown.co.kr/2023/07/%ED%8C%8C%EC%9D%B4%EC%8D%AC-%EC%8B%A4%EC%A0%84%ED%8E%B8-08-seaborn-sns-set%EC%9D%84-%ED%86%B5%ED%95%B4-%EC%8A%A4%ED%83%80%EC%9D%BC-%EC%84%A4%EC%A0%95%ED%95%98%EA%B8%B0/\n",
    "sns.set()\n",
    "\n",
    "# 그래프 기본 설정\n",
    "plt.rcParams['font.family'] = 'Malgun Gothic'\n",
    "# plt.rcParams['font.family'] = 'AppleGothic'\n",
    "plt.rcParams['figure.figsize'] = 12, 6\n",
    "plt.rcParams['font.size'] = 14\n",
    "plt.rcParams['axes.unicode_minus'] = False\n",
    "\n",
    "# 복잡한 통계 처리를 위한 라이브러리\n",
    "from scipy import stats"
   ]
  },
  {
   "cell_type": "markdown",
   "id": "7ae85d98-6158-46b4-9f48-c3cd549b3298",
   "metadata": {},
   "source": [
    "### 01_복권 1장 뽑기 시뮬레이션"
   ]
  },
  {
   "cell_type": "code",
   "execution_count": 4,
   "id": "6b2814e5-ae3f-49b3-8338-797ccd205b45",
   "metadata": {},
   "outputs": [],
   "source": [
    "### 01_복권 1장 뽑기 시뮬레이션# 코드를 실행할 때 마다 같은 결과를 보기 위해 랜덤시드를 고정한다.\n",
    "np.random.seed(4)"
   ]
  },
  {
   "cell_type": "code",
   "execution_count": 6,
   "id": "a2953bb3-af83-4c94-9e7b-059c4d1945d2",
   "metadata": {},
   "outputs": [
    {
     "data": {
      "text/plain": [
       "array([1, 1, 0, 0, 0, 0, 0, 0, 0, 0])"
      ]
     },
     "execution_count": 6,
     "metadata": {},
     "output_type": "execute_result"
    }
   ],
   "source": [
    "# 복권을 1장 뽑는 시뮬레이션을 실행한다.\n",
    "# 간단하지만 파이썬으로 시뮬레이션 하는 방법은 다른 분야에도 응용할 수 있다.\n",
    "# 넘파이 배열로 10장짜리 복권 변수 lottery를 준비한다.\n",
    "# 숫자 1이 당첨이고 0이 꽝이다.\n",
    "lottery = np.array([1, 1, 0, 0, 0, 0, 0, 0, 0, 0])\n",
    "lottery"
   ]
  },
  {
   "cell_type": "code",
   "execution_count": 8,
   "id": "d21b9683-fc45-4e2e-87d8-2f7ea573dd36",
   "metadata": {},
   "outputs": [
    {
     "data": {
      "text/plain": [
       "0.2"
      ]
     },
     "execution_count": 8,
     "metadata": {},
     "output_type": "execute_result"
    }
   ],
   "source": [
    "# 위처럼 이미 당첨복권과 꽝 복권의 구성을 알고 있다면\n",
    "# 이를 통해 확률을 계산할 수 있다.\n",
    "# 당첨인 1이 두 개이기 때문에...\n",
    "sum(lottery) / len(lottery)"
   ]
  },
  {
   "cell_type": "code",
   "execution_count": 12,
   "id": "40b64c42-8db4-4104-9657-dba7f46b5489",
   "metadata": {},
   "outputs": [
    {
     "name": "stdout",
     "output_type": "stream",
     "text": [
      "[0]\n"
     ]
    }
   ],
   "source": [
    "# 이제 복권을 1장 뽑는다.\n",
    "# 첫번째 : 랜덤번째 뽑을 값을 가지고 있는 행렬\n",
    "# 두번째 : 랜덤하게 뽑아낼 숫자의 수\n",
    "print(np.random.choice(lottery, size=1))"
   ]
  },
  {
   "cell_type": "code",
   "execution_count": 14,
   "id": "6e29874b-059c-40b3-b9b8-d1c45b56487e",
   "metadata": {},
   "outputs": [
    {
     "name": "stdout",
     "output_type": "stream",
     "text": [
      "[1]\n",
      "[0]\n",
      "[0]\n",
      "[0]\n",
      "[0]\n",
      "[0]\n",
      "[0]\n",
      "[0]\n"
     ]
    }
   ],
   "source": [
    "print(np.random.choice(lottery, size=1))\n",
    "print(np.random.choice(lottery, size=1))\n",
    "print(np.random.choice(lottery, size=1))\n",
    "print(np.random.choice(lottery, size=1))\n",
    "print(np.random.choice(lottery, size=1))\n",
    "print(np.random.choice(lottery, size=1))\n",
    "print(np.random.choice(lottery, size=1))\n",
    "print(np.random.choice(lottery, size=1))"
   ]
  },
  {
   "cell_type": "code",
   "execution_count": 16,
   "id": "af4ab61e-9ca1-43cf-88dc-aa7046dcd54c",
   "metadata": {},
   "outputs": [
    {
     "name": "stdout",
     "output_type": "stream",
     "text": [
      "[0 0 0 0 0 0 0 0 1 0]\n",
      "[0 0 0 0 0 0 0 0 0 1]\n",
      "[0 0 1 0 0 1 1 0 0 0]\n",
      "[0 0 0 1 1 1 0 0 1 0]\n",
      "[0 0 0 0 0 0 0 0 0 0]\n"
     ]
    }
   ],
   "source": [
    "print(np.random.choice(lottery, size=10))\n",
    "print(np.random.choice(lottery, size=10))\n",
    "print(np.random.choice(lottery, size=10))\n",
    "print(np.random.choice(lottery, size=10))\n",
    "print(np.random.choice(lottery, size=10))"
   ]
  },
  {
   "cell_type": "code",
   "execution_count": 20,
   "id": "22cefb7a-66ce-43a6-b7d4-f160e7a8dd3d",
   "metadata": {},
   "outputs": [
    {
     "name": "stdout",
     "output_type": "stream",
     "text": [
      "복권 뽑기 결과 : [0 0 0 0 1 0 0 0 0 0]\n",
      "당첨 매수 : 1\n",
      "당첨 확률 : 0.1\n"
     ]
    }
   ],
   "source": [
    "# 10번을 추첨을 하여 당첨 확률을 계산해본다.\n",
    "sample_1 = np.random.choice(lottery, size=10)\n",
    "print(f'복권 뽑기 결과 : {sample_1}')\n",
    "print(f'당첨 매수 : {np.sum(sample_1)}')\n",
    "print(f'당첨 확률 : {np.sum(sample_1) / len(sample_1)}')"
   ]
  },
  {
   "cell_type": "markdown",
   "id": "a738d854-22e8-492a-9acf-cae1d5d78df6",
   "metadata": {},
   "source": [
    "### 03_복권 10장 시행을 1만 회 반복하는 시뮬레이션"
   ]
  },
  {
   "cell_type": "code",
   "execution_count": 23,
   "id": "d6b7d0ae-19b7-489d-97bd-3873dff9b258",
   "metadata": {},
   "outputs": [
    {
     "data": {
      "text/plain": [
       "array([0., 0., 0., ..., 0., 0., 0.])"
      ]
     },
     "execution_count": 23,
     "metadata": {},
     "output_type": "execute_result"
    }
   ],
   "source": [
    "# 복권을 10장 뽑고 당첨 매수를 기록하는 시행을 1만번 시행한다.\n",
    "# 복권 10장을 뽑는 시도 횟수\n",
    "n_trial = 10000\n",
    "\n",
    "# 결과를 담을 배열\n",
    "binomial_result_array = np.zeros(n_trial)\n",
    "binomial_result_array"
   ]
  },
  {
   "cell_type": "code",
   "execution_count": 25,
   "id": "40b60627-f3ad-454e-97c8-30ef409020d5",
   "metadata": {},
   "outputs": [
    {
     "data": {
      "text/plain": [
       "array([3., 0., 3., ..., 0., 2., 0.])"
      ]
     },
     "execution_count": 25,
     "metadata": {},
     "output_type": "execute_result"
    }
   ],
   "source": [
    "# 10000번 반복한다.\n",
    "np.random.seed(1)\n",
    "# 반복한다.\n",
    "for i in range(n_trial) :\n",
    "    # 복권 10번을 뽑는다.\n",
    "    sample = np.random.choice(lottery, size=10)\n",
    "    # 당첨된 복권 개수를 담아준다.\n",
    "    binomial_result_array[i] = np.sum(sample)\n",
    "\n",
    "binomial_result_array"
   ]
  },
  {
   "cell_type": "code",
   "execution_count": 27,
   "id": "3f88e0eb-2b07-4f1d-9785-54bcc07967e8",
   "metadata": {},
   "outputs": [
    {
     "data": {
      "text/plain": [
       "(array([1.118e-01, 2.711e-01, 2.992e-01, 1.977e-01, 8.890e-02, 2.430e-02,\n",
       "        5.800e-03, 1.100e-03, 1.000e-04, 0.000e+00]),\n",
       " array([ 0,  1,  2,  3,  4,  5,  6,  7,  8,  9, 10]))"
      ]
     },
     "execution_count": 27,
     "metadata": {},
     "output_type": "execute_result"
    }
   ],
   "source": [
    "# 상대 도수분포를 얻는다. 계급은 0 ~ 10까지 1씩 증가로 설정한다.\n",
    "np.histogram(binomial_result_array, bins=np.arange(0, 11, 1), density=True)"
   ]
  },
  {
   "cell_type": "code",
   "execution_count": 29,
   "id": "00b6b3a7-d8a8-444c-941f-a5a12bfddf0a",
   "metadata": {},
   "outputs": [
    {
     "data": {
      "text/plain": [
       "(array([1.118e-01, 2.711e-01, 2.992e-01, 1.977e-01, 8.890e-02, 2.430e-02,\n",
       "        5.800e-03, 1.100e-03, 1.000e-04, 0.000e+00]),\n",
       " array([ 0,  1,  2,  3,  4,  5,  6,  7,  8,  9, 10]))"
      ]
     },
     "execution_count": 29,
     "metadata": {},
     "output_type": "execute_result"
    }
   ],
   "source": [
    "# 상대 도수분포를 얻는다. 계급은 0 ~ 10까지 1씩 증가로 설정한다.\n",
    "np.histogram(binomial_result_array, bins=np.arange(0, 11, 1), density=True)"
   ]
  },
  {
   "cell_type": "code",
   "execution_count": 31,
   "id": "ad39908d-6d37-42ca-ba08-e8b927894b11",
   "metadata": {},
   "outputs": [
    {
     "data": {
      "image/png": "[encoded data removed]",
      "text/plain": [
       "<Figure size 1200x600 with 1 Axes>"
      ]
     },
     "metadata": {},
     "output_type": "display_data"
    }
   ],
   "source": [
    "# 상대 도수 분포를 히스토그램으로 그려본다.\n",
    "sns.histplot(binomial_result_array, bins=np.arange(0, 11, 1),\n",
    "             stat='density')\n",
    "plt.show()"
   ]
  },
  {
   "cell_type": "code",
   "execution_count": 33,
   "id": "d2ef3070-7f3c-4d98-9e0a-d2e120339153",
   "metadata": {},
   "outputs": [
    {
     "data": {
      "image/png": "[encoded data removed]",
      "text/plain": [
       "<Figure size 1200x600 with 1 Axes>"
      ]
     },
     "metadata": {},
     "output_type": "display_data"
    }
   ],
   "source": [
    "np.random.seed(1)\n",
    "# 0 ~ 2 - 1 까지 정수 100개를 가지고 있는 행렬을 생성한다.\n",
    "c = np.random.randint(0, 2, 100)\n",
    "\n",
    "# 만번 수행한다.\n",
    "n_trial2 = 10000\n",
    "\n",
    "result2 = np.zeros(n_trial2)\n",
    "\n",
    "for idx in range(n_trial2) :\n",
    "    # 복권 10장을 뽑는다.\n",
    "    sample2 = np.random.choice(c, size=10)\n",
    "    result2[idx] = sum(sample2)\n",
    "\n",
    "sns.histplot(result2, bins=np.arange(0, 11, 1),\n",
    "             stat='density')\n",
    "plt.show()"
   ]
  },
  {
   "cell_type": "markdown",
   "id": "85522827-a6f4-423e-9c06-b1a9273d5401",
   "metadata": {},
   "source": [
    "### 이항분포"
   ]
  },
  {
   "cell_type": "code",
   "execution_count": 36,
   "id": "98e38f84-db1d-45f9-ac8c-0738ecbb8ef4",
   "metadata": {},
   "outputs": [
    {
     "data": {
      "text/plain": [
       "0.5000000000000002"
      ]
     },
     "execution_count": 36,
     "metadata": {},
     "output_type": "execute_result"
    }
   ],
   "source": [
    "# 파이썬을 사용해서 이항분포의 확률질량함수를 구현하자\n",
    "# stats.binom.pmf 함수를 사용한다.\n",
    "# k : 성공횟수, n : 베르누이 시도 횟수, p : 성공확률)\n",
    "# 성공확률이 0.5인 사건에서 2번 시행했을 때 1이 나온 결과가 1번 있었다는 의미\n",
    "stats.binom.pmf(k=1, n=2, p=0.5)"
   ]
  },
  {
   "cell_type": "code",
   "execution_count": 38,
   "id": "cc44c1be-cacc-4e37-b67f-c3d29bbf362a",
   "metadata": {},
   "outputs": [
    {
     "data": {
      "text/plain": [
       "0.10737418240000003"
      ]
     },
     "execution_count": 38,
     "metadata": {},
     "output_type": "execute_result"
    }
   ],
   "source": [
    "# 이어서 당첨 확률이 0.2인 복권을 10장 뽑고 모두 꽝일 확률을 계산한다.\n",
    "# 성공확률 : 0.2, 베르누이 시도 횟수 : 10, 성공 횟수 : 0\n",
    "stats.binom.pmf(k=0, n=10, p=0.2)\n",
    "# 복권을 10장 뽑아도 대략 10명 중 1명은 모두 꽝인 것으로 보인다."
   ]
  },
  {
   "cell_type": "code",
   "execution_count": 42,
   "id": "56e72cf1-debd-490b-9a80-d70d970ddfb8",
   "metadata": {},
   "outputs": [
    {
     "data": {
      "text/html": [
       "<div>\n",
       "<style scoped>\n",
       "    .dataframe tbody tr th:only-of-type {\n",
       "        vertical-align: middle;\n",
       "    }\n",
       "\n",
       "    .dataframe tbody tr th {\n",
       "        vertical-align: top;\n",
       "    }\n",
       "\n",
       "    .dataframe thead th {\n",
       "        text-align: right;\n",
       "    }\n",
       "</style>\n",
       "<table border=\"1\" class=\"dataframe\">\n",
       "  <thead>\n",
       "    <tr style=\"text-align: right;\">\n",
       "      <th></th>\n",
       "      <th>n_succss</th>\n",
       "      <th>probs</th>\n",
       "    </tr>\n",
       "  </thead>\n",
       "  <tbody>\n",
       "    <tr>\n",
       "      <th>0</th>\n",
       "      <td>0</td>\n",
       "      <td>1.073742e-01</td>\n",
       "    </tr>\n",
       "    <tr>\n",
       "      <th>1</th>\n",
       "      <td>1</td>\n",
       "      <td>2.684355e-01</td>\n",
       "    </tr>\n",
       "    <tr>\n",
       "      <th>2</th>\n",
       "      <td>2</td>\n",
       "      <td>3.019899e-01</td>\n",
       "    </tr>\n",
       "    <tr>\n",
       "      <th>3</th>\n",
       "      <td>3</td>\n",
       "      <td>2.013266e-01</td>\n",
       "    </tr>\n",
       "    <tr>\n",
       "      <th>4</th>\n",
       "      <td>4</td>\n",
       "      <td>8.808038e-02</td>\n",
       "    </tr>\n",
       "    <tr>\n",
       "      <th>5</th>\n",
       "      <td>5</td>\n",
       "      <td>2.642412e-02</td>\n",
       "    </tr>\n",
       "    <tr>\n",
       "      <th>6</th>\n",
       "      <td>6</td>\n",
       "      <td>5.505024e-03</td>\n",
       "    </tr>\n",
       "    <tr>\n",
       "      <th>7</th>\n",
       "      <td>7</td>\n",
       "      <td>7.864320e-04</td>\n",
       "    </tr>\n",
       "    <tr>\n",
       "      <th>8</th>\n",
       "      <td>8</td>\n",
       "      <td>7.372800e-05</td>\n",
       "    </tr>\n",
       "    <tr>\n",
       "      <th>9</th>\n",
       "      <td>9</td>\n",
       "      <td>4.096000e-06</td>\n",
       "    </tr>\n",
       "    <tr>\n",
       "      <th>10</th>\n",
       "      <td>10</td>\n",
       "      <td>1.024000e-07</td>\n",
       "    </tr>\n",
       "  </tbody>\n",
       "</table>\n",
       "</div>"
      ],
      "text/plain": [
       "    n_succss         probs\n",
       "0          0  1.073742e-01\n",
       "1          1  2.684355e-01\n",
       "2          2  3.019899e-01\n",
       "3          3  2.013266e-01\n",
       "4          4  8.808038e-02\n",
       "5          5  2.642412e-02\n",
       "6          6  5.505024e-03\n",
       "7          7  7.864320e-04\n",
       "8          8  7.372800e-05\n",
       "9          9  4.096000e-06\n",
       "10        10  1.024000e-07"
      ]
     },
     "execution_count": 42,
     "metadata": {},
     "output_type": "execute_result"
    }
   ],
   "source": [
    "# 이항분포의 확률질량함수 그래프를 그려보자\n",
    "# 성공 횟수\n",
    "n_success = np.arange(0, 11)\n",
    "# 확률\n",
    "probs = stats.binom.pmf(k=n_success, n=10, p=0.2)\n",
    "# 출력을 보기좋게 하기 위해 데이터 프레임으로 만들어준다.\n",
    "probs_df = pd.DataFrame({\n",
    "    'n_succss' : n_success,\n",
    "    'probs' : probs\n",
    "})\n",
    "probs_df"
   ]
  },
  {
   "cell_type": "code",
   "execution_count": 44,
   "id": "f37f2880-3820-4647-bf6a-7d4ba76287ea",
   "metadata": {},
   "outputs": [
    {
     "data": {
      "image/png": "[encoded data removed]",
      "text/plain": [
       "<Figure size 1200x600 with 1 Axes>"
      ]
     },
     "metadata": {},
     "output_type": "display_data"
    }
   ],
   "source": [
    "# 그래프로 그려본다\n",
    "# 베루누이 시행을 통해 얻은 결과를 히스토그램으로 그려본다.\n",
    "sns.histplot(binomial_result_array, bins=np.arange(0, 11), stat='density')\n",
    "# 이항분포 확률 질량함수를 가지고 구한 각 확률은 꺽은선 그래프로 그린다.\n",
    "sns.lineplot(x=n_success, y=probs, data=probs_df)\n",
    "plt.show()"
   ]
  },
  {
   "cell_type": "code",
   "execution_count": 46,
   "id": "bed3dac4-706d-4477-ad55-0651072b9c77",
   "metadata": {},
   "outputs": [
    {
     "data": {
      "text/html": [
       "<div>\n",
       "<style scoped>\n",
       "    .dataframe tbody tr th:only-of-type {\n",
       "        vertical-align: middle;\n",
       "    }\n",
       "\n",
       "    .dataframe tbody tr th {\n",
       "        vertical-align: top;\n",
       "    }\n",
       "\n",
       "    .dataframe thead th {\n",
       "        text-align: right;\n",
       "    }\n",
       "</style>\n",
       "<table border=\"1\" class=\"dataframe\">\n",
       "  <thead>\n",
       "    <tr style=\"text-align: right;\">\n",
       "      <th></th>\n",
       "      <th>n_success</th>\n",
       "      <th>성공확률 0.1</th>\n",
       "      <th>성공확률 0.2</th>\n",
       "      <th>성공확률 0.5</th>\n",
       "    </tr>\n",
       "  </thead>\n",
       "  <tbody>\n",
       "    <tr>\n",
       "      <th>0</th>\n",
       "      <td>0</td>\n",
       "      <td>3.486784e-01</td>\n",
       "      <td>1.073742e-01</td>\n",
       "      <td>0.000977</td>\n",
       "    </tr>\n",
       "    <tr>\n",
       "      <th>1</th>\n",
       "      <td>1</td>\n",
       "      <td>3.874205e-01</td>\n",
       "      <td>2.684355e-01</td>\n",
       "      <td>0.009766</td>\n",
       "    </tr>\n",
       "    <tr>\n",
       "      <th>2</th>\n",
       "      <td>2</td>\n",
       "      <td>1.937102e-01</td>\n",
       "      <td>3.019899e-01</td>\n",
       "      <td>0.043945</td>\n",
       "    </tr>\n",
       "    <tr>\n",
       "      <th>3</th>\n",
       "      <td>3</td>\n",
       "      <td>5.739563e-02</td>\n",
       "      <td>2.013266e-01</td>\n",
       "      <td>0.117188</td>\n",
       "    </tr>\n",
       "    <tr>\n",
       "      <th>4</th>\n",
       "      <td>4</td>\n",
       "      <td>1.116026e-02</td>\n",
       "      <td>8.808038e-02</td>\n",
       "      <td>0.205078</td>\n",
       "    </tr>\n",
       "    <tr>\n",
       "      <th>5</th>\n",
       "      <td>5</td>\n",
       "      <td>1.488035e-03</td>\n",
       "      <td>2.642412e-02</td>\n",
       "      <td>0.246094</td>\n",
       "    </tr>\n",
       "    <tr>\n",
       "      <th>6</th>\n",
       "      <td>6</td>\n",
       "      <td>1.377810e-04</td>\n",
       "      <td>5.505024e-03</td>\n",
       "      <td>0.205078</td>\n",
       "    </tr>\n",
       "    <tr>\n",
       "      <th>7</th>\n",
       "      <td>7</td>\n",
       "      <td>8.748000e-06</td>\n",
       "      <td>7.864320e-04</td>\n",
       "      <td>0.117187</td>\n",
       "    </tr>\n",
       "    <tr>\n",
       "      <th>8</th>\n",
       "      <td>8</td>\n",
       "      <td>3.645000e-07</td>\n",
       "      <td>7.372800e-05</td>\n",
       "      <td>0.043945</td>\n",
       "    </tr>\n",
       "    <tr>\n",
       "      <th>9</th>\n",
       "      <td>9</td>\n",
       "      <td>9.000000e-09</td>\n",
       "      <td>4.096000e-06</td>\n",
       "      <td>0.009766</td>\n",
       "    </tr>\n",
       "    <tr>\n",
       "      <th>10</th>\n",
       "      <td>10</td>\n",
       "      <td>1.000000e-10</td>\n",
       "      <td>1.024000e-07</td>\n",
       "      <td>0.000977</td>\n",
       "    </tr>\n",
       "  </tbody>\n",
       "</table>\n",
       "</div>"
      ],
      "text/plain": [
       "    n_success      성공확률 0.1      성공확률 0.2  성공확률 0.5\n",
       "0           0  3.486784e-01  1.073742e-01  0.000977\n",
       "1           1  3.874205e-01  2.684355e-01  0.009766\n",
       "2           2  1.937102e-01  3.019899e-01  0.043945\n",
       "3           3  5.739563e-02  2.013266e-01  0.117188\n",
       "4           4  1.116026e-02  8.808038e-02  0.205078\n",
       "5           5  1.488035e-03  2.642412e-02  0.246094\n",
       "6           6  1.377810e-04  5.505024e-03  0.205078\n",
       "7           7  8.748000e-06  7.864320e-04  0.117187\n",
       "8           8  3.645000e-07  7.372800e-05  0.043945\n",
       "9           9  9.000000e-09  4.096000e-06  0.009766\n",
       "10         10  1.000000e-10  1.024000e-07  0.000977"
      ]
     },
     "execution_count": 46,
     "metadata": {},
     "output_type": "execute_result"
    }
   ],
   "source": [
    "# 성공 확률 변화에 따른 확률 분포 변화\n",
    "# 성공 횟수\n",
    "n_success = np.arange(11)\n",
    "\n",
    "# 확률\n",
    "probs_01 = stats.binom.pmf(k=n_success, n=10, p=0.1)\n",
    "probs_02 = stats.binom.pmf(k=n_success, n=10, p=0.2)\n",
    "probs_05 = stats.binom.pmf(k=n_success, n=10, p=0.5)\n",
    "\n",
    "# 데이터 프레임으로 정리\n",
    "probs_df_2 = pd.DataFrame({\n",
    "    'n_success' : n_success,\n",
    "    '성공확률 0.1' : probs_01,\n",
    "    '성공확률 0.2' : probs_02,\n",
    "    '성공확률 0.5' : probs_05,\n",
    "})\n",
    "\n",
    "probs_df_2"
   ]
  },
  {
   "cell_type": "code",
   "execution_count": 48,
   "id": "4ed442ad-3ee7-4ab6-9ff5-00c4a15525c8",
   "metadata": {},
   "outputs": [
    {
     "data": {
      "image/png": "[encoded data removed]",
      "text/plain": [
       "<Figure size 1200x600 with 1 Axes>"
      ]
     },
     "metadata": {},
     "output_type": "display_data"
    }
   ],
   "source": [
    "# 이항분포를 따르는 난수를 생성하는 함수\n",
    "# 당첨확률이 0.2인 복원을 10장 뽑고 당첨 매수를 기록하는 시행을 5회 실시한 결과를\n",
    "# 가져온다.(노가다인 베루누이시행을 해주는 함수)\n",
    "np.random.seed(1)\n",
    "array100 = stats.binom.rvs(p=0.2, n=10, size=10000)\n",
    "\n",
    "# 그래프로 그려본다\n",
    "# 베루누이 시행을 통해 얻은 결과를 히스토그램으로 그려본다.\n",
    "sns.histplot(array100, bins=np.arange(0, 11), stat='density')\n",
    "# 이항분포 확률 질량함수를 가지고 구한 각 확률은 꺽은선 그래프로 그린다.\n",
    "probs_100 = stats.binom.pmf(k=n_success, n=10, p=0.2)\n",
    "plt.plot(probs_100)\n",
    "plt.show()"
   ]
  },
  {
   "cell_type": "markdown",
   "id": "adf883cf-fb16-41fd-b17a-44c1d582d922",
   "metadata": {},
   "source": [
    "### 05_이항분포의 기댓값과 분산"
   ]
  },
  {
   "cell_type": "code",
   "execution_count": 51,
   "id": "1804de62-8936-4a8d-8f8b-1dd203b96a9b",
   "metadata": {},
   "outputs": [
    {
     "name": "stdout",
     "output_type": "stream",
     "text": [
      "난수의 평균 : 1.983\n",
      "이론적 기대값 : 2.0\n"
     ]
    }
   ],
   "source": [
    "# 이항 분포의 기대값 구현\n",
    "# n = 10, p = 0.2 의 이항분포를 따르는 복권시뮬레이션을 대상으로 하여 당첨 매수의 평균값을\n",
    "# 게산한다.\n",
    "n = 10\n",
    "p = 0.2\n",
    "# 위에서 구한 1이 나온 횟수의 평균을 구한다.\n",
    "x_bar = np.mean(binomial_result_array)\n",
    "# 확률변수의 기대값을 구하는 공식 (n * p)을 통해 기대값을 계산한다.\n",
    "print(f'난수의 평균 : {x_bar}')\n",
    "print(f'이론적 기대값 : {n * p}')"
   ]
  },
  {
   "cell_type": "code",
   "execution_count": 53,
   "id": "34d2c603-ede1-45bc-ac9e-201b001bb86a",
   "metadata": {},
   "outputs": [
    {
     "data": {
      "text/plain": [
       "2.0"
      ]
     },
     "execution_count": 53,
     "metadata": {},
     "output_type": "execute_result"
    }
   ],
   "source": [
    "# stats.binom.mean 함수를 통해 구할 수도 있다.\n",
    "stats.binom.mean(p=0.2, n=10)"
   ]
  },
  {
   "cell_type": "code",
   "execution_count": 55,
   "id": "752e613c-3a74-4704-93d3-4aebd658cf3b",
   "metadata": {},
   "outputs": [
    {
     "name": "stdout",
     "output_type": "stream",
     "text": [
      "난수의 분산 : 1.6139109999999999\n",
      "이론적 분산 : 1.6\n"
     ]
    }
   ],
   "source": [
    "# 이항분포 분산\n",
    "u2 = np.var(binomial_result_array, ddof=0)\n",
    "print(f'난수의 분산 : {u2}')\n",
    "print(f'이론적 분산 : {n * p * (1 - p)}')"
   ]
  },
  {
   "cell_type": "code",
   "execution_count": 57,
   "id": "1d785939-d02d-45d9-92bf-f51d4e941ed0",
   "metadata": {},
   "outputs": [
    {
     "data": {
      "text/plain": [
       "1.6"
      ]
     },
     "execution_count": 57,
     "metadata": {},
     "output_type": "execute_result"
    }
   ],
   "source": [
    "# 이항분포분산을 구하는 함수\n",
    "stats.binom.var(n=10, p=0.2)"
   ]
  },
  {
   "cell_type": "markdown",
   "id": "954a40ba-29d7-4003-a363-ecc868e5d32a",
   "metadata": {},
   "source": [
    "### 06_이항분포의 누적분포함수"
   ]
  },
  {
   "cell_type": "code",
   "execution_count": 60,
   "id": "a8f7be79-95a7-4f61-a2d4-0929e353d65f",
   "metadata": {},
   "outputs": [
    {
     "data": {
      "text/plain": [
       "0.6777995263999999"
      ]
     },
     "execution_count": 60,
     "metadata": {},
     "output_type": "execute_result"
    }
   ],
   "source": [
    "# 성공확률 0.2, 베르누이 시도 횟수 10, 성공 횟수 2회 이하)\n",
    "stats.binom.cdf(k=2, n=10, p=0.2)"
   ]
  },
  {
   "cell_type": "code",
   "execution_count": 62,
   "id": "0e5ce48a-d312-486c-a966-7967bbbf8df4",
   "metadata": {},
   "outputs": [
    {
     "name": "stdout",
     "output_type": "stream",
     "text": [
      "확률 질량 함수 : 0.10737418240000003\n",
      "누적 분포 함수 : 0.10737418239999995\n"
     ]
    }
   ],
   "source": [
    "# 확률 질량 함수와 누적 분포 함수 비교\n",
    "# 확률질량함수와 누적분포함수의 대응 관계를 살펴보자\n",
    "# 먼저 성공 횟수가 최소, 즉 0일 때\n",
    "print(f'확률 질량 함수 : {stats.binom.pmf(k=0, n=10, p=0.2)}')\n",
    "print(f'누적 분포 함수 : {stats.binom.cdf(k=0, n=10, p=0.2)}')"
   ]
  },
  {
   "cell_type": "code",
   "execution_count": 64,
   "id": "63330534-cf78-4d01-91ca-77b2a6a87a48",
   "metadata": {},
   "outputs": [
    {
     "name": "stdout",
     "output_type": "stream",
     "text": [
      "확률 질량 함수 : 0.26843545599999996\n",
      "누적 분포 함수 : 0.3758096384000002\n"
     ]
    }
   ],
   "source": [
    "# 성공횟수가 1일때\n",
    "print(f'확률 질량 함수 : {stats.binom.pmf(k=1, n=10, p=0.2)}')\n",
    "print(f'누적 분포 함수 : {stats.binom.cdf(k=1, n=10, p=0.2)}')"
   ]
  },
  {
   "cell_type": "code",
   "execution_count": 70,
   "id": "eb48eef9-4047-4140-bb65-9cff8927b7dc",
   "metadata": {},
   "outputs": [
    {
     "ename": "NameError",
     "evalue": "name 'PY' is not defined",
     "output_type": "error",
     "traceback": [
      "\u001b[1;31m---------------------------------------------------------------------------\u001b[0m",
      "\u001b[1;31mNameError\u001b[0m                                 Traceback (most recent call last)",
      "Cell \u001b[1;32mIn[70], line 1\u001b[0m\n\u001b[1;32m----> 1\u001b[0m PY\n\u001b[0;32m      2\u001b[0m \u001b[38;5;66;03m# 누적 분포 함수의 결과는 확률 질량 함수의 누적값이다.\u001b[39;00m\n\u001b[0;32m      3\u001b[0m pmf_0 \u001b[38;5;241m=\u001b[39m stats\u001b[38;5;241m.\u001b[39mbinom\u001b[38;5;241m.\u001b[39mpmf(k\u001b[38;5;241m=\u001b[39m\u001b[38;5;241m0\u001b[39m, n\u001b[38;5;241m=\u001b[39m\u001b[38;5;241m10\u001b[39m, p\u001b[38;5;241m=\u001b[39m\u001b[38;5;241m0.2\u001b[39m)\n",
      "\u001b[1;31mNameError\u001b[0m: name 'PY' is not defined"
     ]
    }
   ],
   "source": [
    "PY\n",
    "# 누적 분포 함수의 결과는 확률 질량 함수의 누적값이다.\n",
    "pmf_0 = stats.binom.pmf(k=0, n=10, p=0.2)\n",
    "pmf_1 = stats.binom.pmf(k=1, n=10, p=0.2)\n",
    "\n",
    "print(f'확률 질량 함수 누적값 : {pmf_0 + pmf_1}')\n",
    "print(f'누적 분포 함수 : {stats.binom.cdf(k=1, n=10, p=0.2)}')"
   ]
  },
  {
   "cell_type": "markdown",
   "id": "0b2dda8b-f025-46c6-a8ca-0ee97926fd8d",
   "metadata": {},
   "source": [
    "### 07_이항분포의 초과확률"
   ]
  },
  {
   "cell_type": "code",
   "execution_count": 73,
   "id": "768743f9-d85c-4b34-a12a-a8b85f8bc9cc",
   "metadata": {},
   "outputs": [
    {
     "name": "stdout",
     "output_type": "stream",
     "text": [
      "0.3758096384000002\n",
      "0.6241903615999997\n",
      "0.6241903615999997\n"
     ]
    }
   ],
   "source": [
    "# 누적 분포\n",
    "print(stats.binom.cdf(k=1, n=10, p=0.2))\n",
    "# 초과확률은 1에서 누적 분포를 빼준다.\n",
    "print(1 - stats.binom.cdf(k=1, n=10, p=0.2))\n",
    "# 초과 확률은 sf 함수를 가지고 구할 수 있다.\n",
    "print(stats.binom.sf(k=1, n=10, p=0.2))"
   ]
  },
  {
   "cell_type": "code",
   "execution_count": null,
   "id": "417c9265-d596-4f0a-ad58-5808ffe10ea8",
   "metadata": {},
   "outputs": [],
   "source": []
  }
 ],
 "metadata": {
  "kernelspec": {
   "display_name": "Python [conda env:base] *",
   "language": "python",
   "name": "conda-base-py"
  },
  "language_info": {
   "codemirror_mode": {
    "name": "ipython",
    "version": 3
   },
   "file_extension": ".py",
   "mimetype": "text/x-python",
   "name": "python",
   "nbconvert_exporter": "python",
   "pygments_lexer": "ipython3",
   "version": "3.12.7"
  }
 },
 "nbformat": 4,
 "nbformat_minor": 5
}
