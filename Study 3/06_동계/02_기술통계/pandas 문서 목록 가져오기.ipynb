{
 "cells": [
  {
   "cell_type": "markdown",
   "id": "e5b2c73c-57ae-4495-ad25-208269d7a425",
   "metadata": {},
   "source": [
    "1. 원하는 데이터가 있는 사이트를 찾는가? -> OK\n",
    "2. 페이지 소스보기를 하였을 때 페이스 소스에 원하는 데이터가 있는가? -> OK\n",
    "3. 주소 분석이 가능한가? -> 해당사항 없음\n",
    "4. 끝나는 시점을 알수 있는가? -> 해당사항 없음"
   ]
  },
  {
   "cell_type": "code",
   "execution_count": 2,
   "id": "f6ab6db1-8a44-40ab-b6a2-e6de3e4f491f",
   "metadata": {},
   "outputs": [],
   "source": [
    "# 가져온 html 데이터 분석을 위한 라이브러리\n",
    "import bs4\n",
    "# 웹 서버에 요청을 하기 위한 라이브러리\n",
    "import requests\n",
    "# 데이터 분석 라이브러리 (수집한 데이터를 저장하기 위해 사용하겠습니다)\n",
    "import pandas as pd\n",
    "# 행렬 및 선형대수학을 위한 라이브러리 (결측치 값을 사용하기 위해 사용하겠습니다)\n",
    "import numpy as np\n",
    "# 딜레이를 위해..\n",
    "import time\n",
    "# 컴퓨터나 os와 관련된 라이브러리 (파일 존재 여부를 확인하기 위해)\n",
    "import os\n",
    "# 주피터 노트북에서 출력된 내용을 지우기위해 사용한다.\n",
    "from IPython.display import clear_output"
   ]
  },
  {
   "cell_type": "code",
   "execution_count": 4,
   "id": "71eb2b0f-4110-4d6f-aee7-6f81021c6e33",
   "metadata": {},
   "outputs": [],
   "source": [
    "# 요청함수\n",
    "def getSource(site) :\n",
    "    \"\"\"\n",
    "        특정 웹 사이트에 접속하여 bs4 객체를 생성해 반환한다.\n",
    "\n",
    "        site \n",
    "            요청할 페이지의 주소\n",
    "\n",
    "        return 값\n",
    "            html 소스가 담겨져 있는 bs4 객체\n",
    "    \"\"\"\n",
    "\n",
    "    # 헤더 정보 설정\n",
    "    # user-agent : 웹 브라우저가 서버로 보내는 문자열이고 서버는 이를 통해 브라우저 정보나\n",
    "    # 컴퓨터 정보를 파악한다.\n",
    "    # 일부 사이트에는 user-agent가 전달되지 않으면 데이터를 전달하지 않는 경우도 있다.\n",
    "    # 이에 user-agent를 셋팅하여 요청한 도구가 python 코드를 통한 것이 아닌 일반 웹브라우저\n",
    "    # 를 통해 요청한 것 처럼 속일 수 있다.\n",
    "    # https://m.avalon.co.kr/check.html 에서 user-agent 확인이 가능하다\n",
    "    header_info = {\n",
    "        'User-Agent' : 'Mozilla/5.0 (Windows NT 10.0; Win64; x64) AppleWebKit/537.36 (KHTML, like Gecko) Chrome/135.0.0.0 Safari/537.36'\n",
    "    }\n",
    "\n",
    "    # 요청한다.\n",
    "    response = requests.get(site, headers=header_info)\n",
    "    # bs4 객체를 생성한다.\n",
    "    soup = bs4.BeautifulSoup(response.text, 'lxml')\n",
    "    return soup"
   ]
  },
  {
   "cell_type": "code",
   "execution_count": 32,
   "id": "4c118eee-4f9b-4cd1-a1c7-3c227cc85543",
   "metadata": {},
   "outputs": [],
   "source": [
    "# 한 페이지의 데이터를 수집해 저장하는 함수\n",
    "def getData(soup, file_name) :\n",
    "    \"\"\"\n",
    "        한 페이지의 데이터를 수집해 파일에 저장하는 함수\n",
    "\n",
    "        soup\n",
    "            HTML 데이터를 관리하는 bs4 객체\n",
    "\n",
    "        file_name\n",
    "            데이터를 저장할 파일 이름\n",
    "    \"\"\"\n",
    "    # 목록 전체 영역을 가져온다.\n",
    "    a1 = soup.select_one('#api-reference > div.toctree-wrapper.compound > ul')\n",
    "    # print(a1)\n",
    "    # 하위의 a 태그들을 가져온다.\n",
    "    a_list = a1.select('li > a')\n",
    "\n",
    "    data_dict = {\n",
    "        '제목' : [],\n",
    "        '링크주소' : [],\n",
    "    }\n",
    "\n",
    "    for a_tag in a_list : \n",
    "        # print(a_tag)\n",
    "        # print('---------------------------------')\n",
    "        # 문자열\n",
    "        # print(a_tag.text.strip())\n",
    "        # print(a_tag.attrs['href'].strip())\n",
    "        # print('---------------------------------')\n",
    "        data_dict['제목'].append(a_tag.text.strip())\n",
    "        data_dict['링크주소'].append(a_tag.attrs['href'].strip())\n",
    "        \n",
    "    # 데이터 프레임을 생성한다.\n",
    "    df1 = pd.DataFrame(data_dict)\n",
    "\n",
    "    df1.to_csv(file_name, encoding='utf-8-sig', index=False)"
   ]
  },
  {
   "cell_type": "code",
   "execution_count": 34,
   "id": "c6403c03-ca09-4b83-b23b-379bf42888fe",
   "metadata": {},
   "outputs": [],
   "source": [
    "# 요청할 페이지의 주소\n",
    "site = 'https://pandas.pydata.org/docs/reference/index.html'\n",
    "# 페이지를 요청해서 가져온다.\n",
    "soup = getSource(site)\n",
    "# 데이터를 수집한다.\n",
    "getData(soup, 'data4.csv')"
   ]
  },
  {
   "cell_type": "code",
   "execution_count": 10,
   "id": "a45907b3-b0ca-48a3-831e-e8bcf6c95091",
   "metadata": {},
   "outputs": [],
   "source": []
  },
  {
   "cell_type": "code",
   "execution_count": null,
   "id": "45f53035-d115-4d77-b82a-fad4263cd935",
   "metadata": {},
   "outputs": [],
   "source": []
  }
 ],
 "metadata": {
  "kernelspec": {
   "display_name": "Python [conda env:base] *",
   "language": "python",
   "name": "conda-base-py"
  },
  "language_info": {
   "codemirror_mode": {
    "name": "ipython",
    "version": 3
   },
   "file_extension": ".py",
   "mimetype": "text/x-python",
   "name": "python",
   "nbconvert_exporter": "python",
   "pygments_lexer": "ipython3",
   "version": "3.12.7"
  }
 },
 "nbformat": 4,
 "nbformat_minor": 5
}
