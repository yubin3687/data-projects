{
 "cells": [
  {
   "cell_type": "code",
   "execution_count": 10,
   "id": "87c181f6-a7bf-49ed-8bfc-247e4c5aaaeb",
   "metadata": {},
   "outputs": [],
   "source": [
    "# 기본 라이브러리\n",
    "import numpy as np\n",
    "import pandas as pd\n",
    "import matplotlib.pyplot as plt\n",
    "import seaborn as sns\n",
    "\n",
    "# 그래프 기본 설정\n",
    "plt.rcParams['font.family'] = 'Malgun Gothic'\n",
    "# plt.rcParams['font.family'] = 'AppleGothic'\n",
    "plt.rcParams['figure.figsize'] = 12, 6\n",
    "plt.rcParams['font.size'] = 14\n",
    "plt.rcParams['axes.unicode_minus'] = False\n",
    "\n",
    "# 그래프 기본 테마 설정\n",
    "# https://coldbrown.co.kr/2023/07/%ED%8C%8C%EC%9D%B4%EC%8D%AC-%EC%8B%A4%EC%A0%84%ED%8E%B8-08-seaborn-sns-set%EC%9D%84-%ED%86%B5%ED%95%B4-%EC%8A%A4%ED%83%80%EC%9D%BC-%EC%84%A4%EC%A0%95%ED%95%98%EA%B8%B0/\n",
    "sns.set()\n",
    "\n",
    "# 복잡한 통계 처리를 위한 라이브러리\n",
    "from scipy import stats"
   ]
  },
  {
   "cell_type": "markdown",
   "id": "a73cef40-e50d-4655-9a67-3f050d06ec2c",
   "metadata": {},
   "source": [
    "### 01_1변량 데이터 통계량\n",
    "\n",
    "### 데이터 준비"
   ]
  },
  {
   "cell_type": "code",
   "execution_count": 14,
   "id": "9792570d-952a-4615-8bff-35b7ae680105",
   "metadata": {},
   "outputs": [
    {
     "data": {
      "text/html": [
       "<div>\n",
       "<style scoped>\n",
       "    .dataframe tbody tr th:only-of-type {\n",
       "        vertical-align: middle;\n",
       "    }\n",
       "\n",
       "    .dataframe tbody tr th {\n",
       "        vertical-align: top;\n",
       "    }\n",
       "\n",
       "    .dataframe thead th {\n",
       "        text-align: right;\n",
       "    }\n",
       "</style>\n",
       "<table border=\"1\" class=\"dataframe\">\n",
       "  <thead>\n",
       "    <tr style=\"text-align: right;\">\n",
       "      <th></th>\n",
       "      <th>length</th>\n",
       "    </tr>\n",
       "  </thead>\n",
       "  <tbody>\n",
       "    <tr>\n",
       "      <th>0</th>\n",
       "      <td>2</td>\n",
       "    </tr>\n",
       "    <tr>\n",
       "      <th>1</th>\n",
       "      <td>3</td>\n",
       "    </tr>\n",
       "    <tr>\n",
       "      <th>2</th>\n",
       "      <td>3</td>\n",
       "    </tr>\n",
       "    <tr>\n",
       "      <th>3</th>\n",
       "      <td>4</td>\n",
       "    </tr>\n",
       "    <tr>\n",
       "      <th>4</th>\n",
       "      <td>4</td>\n",
       "    </tr>\n",
       "    <tr>\n",
       "      <th>5</th>\n",
       "      <td>4</td>\n",
       "    </tr>\n",
       "    <tr>\n",
       "      <th>6</th>\n",
       "      <td>4</td>\n",
       "    </tr>\n",
       "    <tr>\n",
       "      <th>7</th>\n",
       "      <td>5</td>\n",
       "    </tr>\n",
       "    <tr>\n",
       "      <th>8</th>\n",
       "      <td>5</td>\n",
       "    </tr>\n",
       "    <tr>\n",
       "      <th>9</th>\n",
       "      <td>6</td>\n",
       "    </tr>\n",
       "  </tbody>\n",
       "</table>\n",
       "</div>"
      ],
      "text/plain": [
       "   length\n",
       "0       2\n",
       "1       3\n",
       "2       3\n",
       "3       4\n",
       "4       4\n",
       "5       4\n",
       "6       4\n",
       "7       5\n",
       "8       5\n",
       "9       6"
      ]
     },
     "execution_count": 14,
     "metadata": {},
     "output_type": "execute_result"
    }
   ],
   "source": [
    "# 물고기 몸 길이\n",
    "fish_length_df = pd.read_csv('data1/3-4-1-fish-length.csv')\n",
    "fish_length_df"
   ]
  },
  {
   "cell_type": "code",
   "execution_count": 16,
   "id": "2694e723-5183-424d-96f7-771c5278ffcc",
   "metadata": {},
   "outputs": [
    {
     "data": {
      "text/plain": [
       "array([2, 3, 3, 4, 4, 4, 4, 5, 5, 6], dtype=int64)"
      ]
     },
     "execution_count": 16,
     "metadata": {},
     "output_type": "execute_result"
    }
   ],
   "source": [
    "# ndarray로 추출한다.\n",
    "fish_length = fish_length_df['length'].values\n",
    "fish_length"
   ]
  },
  {
   "cell_type": "markdown",
   "id": "fb44f3fd-13a6-450e-aeab-c805d72b246f",
   "metadata": {},
   "source": [
    "### 표본 크기\n",
    "- 분석을 위해서 사용하는 데이터 표본의 행의 개수\n",
    "- 모집단 전체를 가지고 분석을 할때는 모집의 크기가 된다."
   ]
  },
  {
   "cell_type": "code",
   "execution_count": 20,
   "id": "958e9b43-a579-4a8e-a666-776dd13e6d5f",
   "metadata": {},
   "outputs": [
    {
     "name": "stdout",
     "output_type": "stream",
     "text": [
      "10 10 10\n"
     ]
    }
   ],
   "source": [
    "# ndarray\n",
    "a1 = len(fish_length)\n",
    "# data frame\n",
    "a2 = len(fish_length_df)\n",
    "a3 = fish_length_df.size\n",
    "print(a1, a2, a3)"
   ]
  },
  {
   "cell_type": "code",
   "execution_count": 22,
   "id": "3ea8603a-ea10-4ca6-86dc-5ef43681c0b8",
   "metadata": {},
   "outputs": [
    {
     "name": "stdout",
     "output_type": "stream",
     "text": [
      "10\n"
     ]
    }
   ],
   "source": [
    "# data frame의 count 함수는 결측치를 제외한 데이터의 개수를 구한다.\n",
    "a4 = fish_length_df['length'].count()\n",
    "print(a4)\n"
   ]
  },
  {
   "cell_type": "markdown",
   "id": "f7c27381-7f39-4ad8-96be-33dd71a00919",
   "metadata": {},
   "source": [
    "### 합계\n",
    "- 결측치를 제외한 총합을 구한다."
   ]
  },
  {
   "cell_type": "code",
   "execution_count": 30,
   "id": "f51497b8-1493-423b-8421-f33ba05ac270",
   "metadata": {},
   "outputs": [
    {
     "name": "stdout",
     "output_type": "stream",
     "text": [
      "40 40 40\n"
     ]
    }
   ],
   "source": [
    "# ndarray\n",
    "a1 = np.sum(fish_length)\n",
    "a2 = fish_length.sum()\n",
    "# data frame\n",
    "a3 = fish_length_df['length'].sum()\n",
    "\n",
    "print(a1, a2, a3)"
   ]
  },
  {
   "cell_type": "markdown",
   "id": "d41afaf5-9410-4784-8f35-306f0e007297",
   "metadata": {},
   "source": [
    "### 평균\n",
    "- 결측치를 제외한 평균을 구한다."
   ]
  },
  {
   "cell_type": "code",
   "execution_count": 33,
   "id": "b2e895be-ebf3-48d0-8fb5-aba2c1ac399b",
   "metadata": {},
   "outputs": [
    {
     "data": {
      "text/plain": [
       "4.0"
      ]
     },
     "execution_count": 33,
     "metadata": {},
     "output_type": "execute_result"
    }
   ],
   "source": [
    "# 평균은 총합을 표본의 개수로 나누어 준다.\n",
    "# 표본의 크기\n",
    "n = len(fish_length)\n",
    "# 총합\n",
    "sum_value = np.sum(fish_length)\n",
    "# 평균\n",
    "x_bar = sum_value / n\n",
    "x_bar"
   ]
  },
  {
   "cell_type": "code",
   "execution_count": 35,
   "id": "30ac03f9-fa9a-4c3e-912a-4838c498e714",
   "metadata": {},
   "outputs": [
    {
     "name": "stdout",
     "output_type": "stream",
     "text": [
      "4.0 4.0 4.0\n"
     ]
    }
   ],
   "source": [
    "# ndarray\n",
    "a1 = np.mean(fish_length)\n",
    "a2 = fish_length.mean()\n",
    "# data frame\n",
    "a3 = fish_length_df['length'].mean()\n",
    "print(a1, a2, a3)"
   ]
  },
  {
   "cell_type": "markdown",
   "id": "fdc9a9f2-a6fd-4bd8-969e-7f18d766bd0d",
   "metadata": {},
   "source": [
    "### 02_표본 분산"
   ]
  },
  {
   "cell_type": "code",
   "execution_count": 38,
   "id": "69bf0243-17c6-4dd6-aa1e-1c038af68eaf",
   "metadata": {},
   "outputs": [
    {
     "data": {
      "text/plain": [
       "1.2"
      ]
     },
     "execution_count": 38,
     "metadata": {},
     "output_type": "execute_result"
    }
   ],
   "source": [
    "# 표본 분산을 공식대로 구현해본다.\n",
    "s2 = np.sum((fish_length - np.mean(fish_length)) ** 2) / len(fish_length)\n",
    "s2"
   ]
  },
  {
   "cell_type": "code",
   "execution_count": 40,
   "id": "30dd6ded-c7cb-449b-ae88-60b3361f5464",
   "metadata": {},
   "outputs": [
    {
     "data": {
      "text/plain": [
       "1.2"
      ]
     },
     "execution_count": 40,
     "metadata": {},
     "output_type": "execute_result"
    }
   ],
   "source": [
    "# 평균\n",
    "a1 = np.mean(fish_length)\n",
    "# 각 원소의 값을 평균으로 빼준다.\n",
    "a2 = fish_length - a1\n",
    "# 뺀 값의 제곱을 구한다.\n",
    "a3 = a2 ** 2\n",
    "# 총합을 구한다.\n",
    "a4 = np.sum(a3)\n",
    "# 표본의 개수로 나눠준다.\n",
    "s2 = a4 / len(fish_length)\n",
    "s2"
   ]
  },
  {
   "cell_type": "code",
   "execution_count": 42,
   "id": "43c26012-df99-4b9f-80da-7dc77b0ae45c",
   "metadata": {},
   "outputs": [
    {
     "name": "stdout",
     "output_type": "stream",
     "text": [
      "1.2 1.2 1.2\n"
     ]
    }
   ],
   "source": [
    "# 분산을 구하는 함수\n",
    "# 표본분산을 구할 때는 ddof에 0을 넣어줘야 한다.\n",
    "a1 = np.var(fish_length, ddof=0)\n",
    "a2 = fish_length.var(ddof=0)\n",
    "a3 = fish_length_df['length'].var(ddof=0)\n",
    "print(a1, a2, a3)"
   ]
  },
  {
   "cell_type": "markdown",
   "id": "6a3c7827-9ef2-4eec-b316-aa6cc38ac46a",
   "metadata": {},
   "source": [
    "### 03_불편 분산"
   ]
  },
  {
   "cell_type": "code",
   "execution_count": 51,
   "id": "ed02313c-310d-4420-bd10-c771859c3b25",
   "metadata": {},
   "outputs": [
    {
     "data": {
      "text/plain": [
       "1.3333333333333333"
      ]
     },
     "execution_count": 51,
     "metadata": {},
     "output_type": "execute_result"
    }
   ],
   "source": [
    "# 불편 분산은 표준분산을 구하는 공식에서 표본의 크기로 나누는 것이 아닌 표본의 크기에서 1을 뺀\n",
    "# 수치로 나눠준다.\n",
    "u2 = np.sum((fish_length - x_bar) ** 2) / (n - 1)\n",
    "u2"
   ]
  },
  {
   "cell_type": "code",
   "execution_count": 53,
   "id": "33a1750a-acf7-48b6-80db-f75cdd3d555c",
   "metadata": {},
   "outputs": [
    {
     "name": "stdout",
     "output_type": "stream",
     "text": [
      "1.3333333333333333 1.3333333333333333 1.3333333333333333\n"
     ]
    }
   ],
   "source": [
    "# ddof 에 1을 설정하면 불편분산을 구해준다.\n",
    "a1 = np.var(fish_length, ddof=1)\n",
    "a2 = fish_length.var(ddof=1)\n",
    "a3 = fish_length_df['length'].var(ddof=1)\n",
    "\n",
    "print(a1, a2, a3)"
   ]
  },
  {
   "cell_type": "markdown",
   "id": "88b4e3a2-8fc1-4978-9e39-f8d9c573fb3d",
   "metadata": {},
   "source": [
    "### 04_표준편차\n",
    "- 표본분산은 각 데이터를 평균으로 뺀 다음 제곱하여 합산하고 표본의 개수로 나눈것이다.\n",
    "- 데이터와 평균에 대한 뺄셈을 하게 되면 음수가 나올 수 있기 때문에 제곱한 것을 합산하게 된다.\n",
    "- 하지만 제곱한 것을 합산하기 때문에 평균과 실제 값의 오차 평균을 보기에는 다소 힘들다\n",
    "- 이에 표본분산에 제곱근을 씌운 것을 구해 전체적인 오차를 평가할 수 있는데 이를 표준 편차라고 부른다."
   ]
  },
  {
   "cell_type": "code",
   "execution_count": 57,
   "id": "3c687668-9f38-4197-a8b2-766ab18eff00",
   "metadata": {},
   "outputs": [
    {
     "data": {
      "text/plain": [
       "1.2"
      ]
     },
     "execution_count": 57,
     "metadata": {},
     "output_type": "execute_result"
    }
   ],
   "source": [
    "# 위에서 구한 표본 분산\n",
    "s2"
   ]
  },
  {
   "cell_type": "code",
   "execution_count": 59,
   "id": "a1c08645-5390-4ab8-ad4b-546b777a635a",
   "metadata": {},
   "outputs": [
    {
     "data": {
      "text/plain": [
       "1.0954451150103321"
      ]
     },
     "execution_count": 59,
     "metadata": {},
     "output_type": "execute_result"
    }
   ],
   "source": [
    "s = np.sqrt(s2)\n",
    "s"
   ]
  },
  {
   "cell_type": "code",
   "execution_count": 65,
   "id": "74c89a59-f874-4835-93fb-4d9eac24ffc6",
   "metadata": {},
   "outputs": [
    {
     "name": "stdout",
     "output_type": "stream",
     "text": [
      "1.0954451150103321 1.0954451150103321 1.0954451150103321\n"
     ]
    }
   ],
   "source": [
    "# 표준 편차를 구하는 함수\n",
    "# ddof 가 0 이면 표본 분산을 가지고 표준 편차를 구하고\n",
    "# ddof 가 1 이면 불편 분산을 가지고 표준 편차를 구한다.\n",
    "a1 = np.std(fish_length, ddof=0)\n",
    "a2 = fish_length.std(ddof=0)\n",
    "a3 = fish_length_df['length'].std(ddof=0)\n",
    "\n",
    "print(a1, a2, a3)"
   ]
  },
  {
   "cell_type": "markdown",
   "id": "2b7c98a4-ccc5-4b4d-9735-3c71c4301687",
   "metadata": {},
   "source": [
    "### 05_변동계수\n",
    "- 평균값 대비 편차의 크기를 나타낸다.\n",
    "- 같은 차이라고 하더라도 값의 범위에 따라서 느껴지는 정도의 차이가 달리진다\n",
    "- 이러한 것을 직관적으로 확인할 수 있는 지표가 변동계수이다"
   ]
  },
  {
   "cell_type": "code",
   "execution_count": 68,
   "id": "7079b70f-07ad-44b8-b353-2005eaf6cf9c",
   "metadata": {},
   "outputs": [
    {
     "data": {
      "text/plain": [
       "0.27386127875258304"
      ]
     },
     "execution_count": 68,
     "metadata": {},
     "output_type": "execute_result"
    }
   ],
   "source": [
    "# 변동계수 = 표준편차 / 평균\n",
    "cv = s / x_bar\n",
    "cv"
   ]
  },
  {
   "cell_type": "code",
   "execution_count": 70,
   "id": "c835b587-146b-4e95-8bd9-ac1fb6acfa49",
   "metadata": {},
   "outputs": [
    {
     "data": {
      "text/plain": [
       "0.27386127875258304"
      ]
     },
     "execution_count": 70,
     "metadata": {},
     "output_type": "execute_result"
    }
   ],
   "source": [
    "# 변동계수는 scipy가 제공하는 variation 함수를 통해 구할 수 있다.\n",
    "stats.variation(fish_length)"
   ]
  },
  {
   "cell_type": "markdown",
   "id": "d67f5e3f-0bcd-4e01-a532-46956fc73d95",
   "metadata": {},
   "source": [
    "### 변동 계수 사용시 주의사항\n",
    "- 변동계수는 계산식에 나눗셈이 포함된다\n",
    "- 즉 표준편차를 평균으로 나누는 계산을 수행한다.\n",
    "- 따라서 평균을 0일 경우 변동계를 구하는 것이 불가능하다.\n",
    "- 데이터가 비율 척도일 경우에만 가능하다."
   ]
  },
  {
   "cell_type": "code",
   "execution_count": 77,
   "id": "ab01f329-d46f-44fe-ac81-8aeec011188f",
   "metadata": {},
   "outputs": [],
   "source": [
    "# 겨울 기온과 여름 기온\n",
    "winter = np.array([1, 1, 1, 2, 2, 2])\n",
    "summer = np.array([29, 29, 29, 30, 30, 30])"
   ]
  },
  {
   "cell_type": "code",
   "execution_count": 79,
   "id": "1f35b2ce-6f2b-4ae2-a542-57f315a0a5d6",
   "metadata": {},
   "outputs": [
    {
     "name": "stdout",
     "output_type": "stream",
     "text": [
      "겨울 기온의 표준 편차 : 0.5\n",
      "여름 기온의 표준 편차 : 0.5\n"
     ]
    }
   ],
   "source": [
    "# 표준편차를 구한다.\n",
    "# 겨울도 여름도 편차 크기가 같은 것을 확인할 수 있다.\n",
    "print(f'겨울 기온의 표준 편차 : {np.std(winter, ddof=0)}')\n",
    "print(f'여름 기온의 표준 편차 : {np.std(summer, ddof=0)}')"
   ]
  },
  {
   "cell_type": "code",
   "execution_count": 81,
   "id": "acffad83-1f3d-4887-bce4-d1cab33b313e",
   "metadata": {},
   "outputs": [
    {
     "name": "stdout",
     "output_type": "stream",
     "text": [
      "겨울 기온의 변동계수 : 0.3333333333333333\n",
      "여름 기온의 변동계수 : 0.01694915254237288\n"
     ]
    }
   ],
   "source": [
    "# 하지만 변동계수를 확인하면 겨울쪽이 편차가 더 크다라고 간주 할 수 있다.\n",
    "print(f'겨울 기온의 변동계수 : {stats.variation(winter)}')\n",
    "print(f'여름 기온의 변동계수 : {stats.variation(summer)}')"
   ]
  },
  {
   "cell_type": "markdown",
   "id": "4566ea5b-6063-4778-8fe3-63a7b6cf8fa1",
   "metadata": {},
   "source": [
    "### 06_표준화"
   ]
  },
  {
   "cell_type": "code",
   "execution_count": 84,
   "id": "7684c357-c2a0-47d3-aae4-bf650459687d",
   "metadata": {},
   "outputs": [
    {
     "data": {
      "text/plain": [
       "array([-1.82574186, -0.91287093, -0.91287093,  0.        ,  0.        ,\n",
       "        0.        ,  0.        ,  0.91287093,  0.91287093,  1.82574186])"
      ]
     },
     "execution_count": 84,
     "metadata": {},
     "output_type": "execute_result"
    }
   ],
   "source": [
    "# 표준화를 계산 공식대로 표준화를 수행한다.\n",
    "z = (fish_length - x_bar) / s\n",
    "z"
   ]
  },
  {
   "cell_type": "code",
   "execution_count": 86,
   "id": "e61cc935-6c8f-419f-817d-c3b697c24450",
   "metadata": {},
   "outputs": [
    {
     "data": {
      "text/plain": [
       "2.2204460492503132e-17"
      ]
     },
     "execution_count": 86,
     "metadata": {},
     "output_type": "execute_result"
    }
   ],
   "source": [
    "# 표준화한 결과는 평균이 0에 가까워야 한다.\n",
    "np.mean(z)"
   ]
  },
  {
   "cell_type": "code",
   "execution_count": 88,
   "id": "b60430a0-441c-433c-b650-bf9cf6b54514",
   "metadata": {},
   "outputs": [
    {
     "data": {
      "text/plain": [
       "1.0"
      ]
     },
     "execution_count": 88,
     "metadata": {},
     "output_type": "execute_result"
    }
   ],
   "source": [
    "# 표준화한 결과는 표준편차가 1과 가까워야 한다.\n",
    "np.std(z, ddof=0)"
   ]
  },
  {
   "cell_type": "code",
   "execution_count": 90,
   "id": "c8dc9cce-03b5-4246-ba11-afcf29f1f9e9",
   "metadata": {},
   "outputs": [
    {
     "data": {
      "text/plain": [
       "array([-1.82574186, -0.91287093, -0.91287093,  0.        ,  0.        ,\n",
       "        0.        ,  0.        ,  0.91287093,  0.91287093,  1.82574186])"
      ]
     },
     "execution_count": 90,
     "metadata": {},
     "output_type": "execute_result"
    }
   ],
   "source": [
    "# scipy가 제공하는 함수를 이용하면 표준화를 할 수 있다.\n",
    "stats.zscore(fish_length, ddof=0)"
   ]
  },
  {
   "cell_type": "markdown",
   "id": "df3f4e5a-c484-4012-bcf2-3835f6913272",
   "metadata": {},
   "source": [
    "### 07_최소값과 최대값"
   ]
  },
  {
   "cell_type": "code",
   "execution_count": 99,
   "id": "f635a900-a3fd-4d9f-8fbf-a4cc8ace51dd",
   "metadata": {},
   "outputs": [
    {
     "name": "stdout",
     "output_type": "stream",
     "text": [
      "2 2 2\n"
     ]
    }
   ],
   "source": [
    "# numpy 에서 최소값\n",
    "a1 = np.min(fish_length)\n",
    "a2 = np.amin(fish_length)\n",
    "a3 = fish_length.min()\n",
    "\n",
    "print(a1, a2, a3)"
   ]
  },
  {
   "cell_type": "code",
   "execution_count": 103,
   "id": "5475aa19-ba8f-4cf6-8e85-4d8628170e21",
   "metadata": {},
   "outputs": [
    {
     "name": "stdout",
     "output_type": "stream",
     "text": [
      "6 6 6\n"
     ]
    }
   ],
   "source": [
    "# numpy 에서 최대값\n",
    "a1 = np.max(fish_length)\n",
    "a2 = np.amax(fish_length)\n",
    "a3 = fish_length.max()\n",
    "\n",
    "print(a1, a2, a3)"
   ]
  },
  {
   "cell_type": "code",
   "execution_count": 105,
   "id": "254e061d-e80a-45b2-9711-ca81d0d55aa3",
   "metadata": {},
   "outputs": [
    {
     "name": "stdout",
     "output_type": "stream",
     "text": [
      "2 6\n"
     ]
    }
   ],
   "source": [
    "# pandas를 통한 최소 최대\n",
    "a1 = fish_length_df['length'].min()\n",
    "a2 = fish_length_df['length'].max()\n",
    "print(a1, a2)"
   ]
  },
  {
   "cell_type": "markdown",
   "id": "fd23d5a2-49ac-4067-8e69-e570b86cf0d5",
   "metadata": {},
   "source": [
    "### 08_중앙값"
   ]
  },
  {
   "cell_type": "code",
   "execution_count": 120,
   "id": "0f5975df-0ecb-496b-bb00-8c5ca58516c5",
   "metadata": {},
   "outputs": [
    {
     "name": "stdout",
     "output_type": "stream",
     "text": [
      "4.0 4.0\n"
     ]
    }
   ],
   "source": [
    "# 중앙값\n",
    "# 가운데 위치에 해당하는 값이 중앙값이다.\n",
    "a1 = np.median(fish_length)\n",
    "a3 = fish_length_df['length'].median()\n",
    "\n",
    "print(a1, a3)"
   ]
  },
  {
   "cell_type": "markdown",
   "id": "1c840c18-e08f-40dc-83be-eb5be23a9eae",
   "metadata": {},
   "source": [
    "### 평균과 중앙값의 차이"
   ]
  },
  {
   "cell_type": "code",
   "execution_count": 115,
   "id": "ac35a8d7-7465-44c8-8610-ed4b39b8e0d6",
   "metadata": {},
   "outputs": [
    {
     "name": "stdout",
     "output_type": "stream",
     "text": [
      "4.0 4.0\n"
     ]
    }
   ],
   "source": [
    "# 물고기 몸 길이에 대한 평균\n",
    "a1 = np.mean(fish_length)\n",
    "# 물고기 몸 길이에 대한 중간값\n",
    "a2 = np.median(fish_length)\n",
    "\n",
    "# 물고기 몸 길이 데이터에 대한 평균과 중앙값은 동일한 값으로 나타난다.\n",
    "print(a1, a2)"
   ]
  },
  {
   "cell_type": "code",
   "execution_count": 117,
   "id": "6123fb03-97dc-47f7-bb26-076befba15b3",
   "metadata": {},
   "outputs": [
    {
     "name": "stdout",
     "output_type": "stream",
     "text": [
      "13.4 4.0\n"
     ]
    }
   ],
   "source": [
    "fish_length2 = [2, 3, 3, 4, 4, 4, 4, 5, 5, 100]\n",
    "# 평균\n",
    "a1 = np.mean(fish_length2)\n",
    "# 중앙값\n",
    "a2 = np.median(fish_length2)\n",
    "\n",
    "# 평균은 13.4가 나오고 중앙값은 4.0이 나온다. 평균은 극단치(극단적으로 너무 크거나 작은 값)에 \n",
    "# 끌려갈 수 있지만 중앙값을 그렇지 않다.\n",
    "print(a1, a2)"
   ]
  },
  {
   "cell_type": "markdown",
   "id": "bc5b0269-26c5-42d6-86b5-6b2ba519d735",
   "metadata": {},
   "source": [
    "### 09_사분위수\n",
    "- 25%, 50%, 75% 위치에 해당하는 값\n",
    "- 25% 위치의 값을 1사분위점(수), 50% 위치의 값은 2사분위점(수), 75% 위치의 값은 3사분위점(수)이라고 부른다."
   ]
  },
  {
   "cell_type": "code",
   "execution_count": 123,
   "id": "ad2032c5-61a2-49fd-863b-995fc4380663",
   "metadata": {},
   "outputs": [
    {
     "name": "stdout",
     "output_type": "stream",
     "text": [
      "3.25 4.0 4.75\n"
     ]
    }
   ],
   "source": [
    "# qunatile 함수를 통해 사분위수를 구할 수 있다.\n",
    "# 1사분위수(25%)\n",
    "a1 = np.quantile(fish_length, q=0.25)\n",
    "# 2사분위수(50%)\n",
    "a2 = np.quantile(fish_length, q=0.5)\n",
    "# 3사분위수(75%)\n",
    "a3 = np.quantile(fish_length, q=0.75)\n",
    "\n",
    "print(a1, a2, a3)"
   ]
  },
  {
   "cell_type": "code",
   "execution_count": 129,
   "id": "5340d77f-8e1c-4687-a919-6ab0f9c5f44f",
   "metadata": {},
   "outputs": [
    {
     "name": "stdout",
     "output_type": "stream",
     "text": [
      "3.25 4.0 4.75\n"
     ]
    }
   ],
   "source": [
    "a1 = fish_length_df['length'].quantile(q=0.25)\n",
    "a2 = fish_length_df['length'].quantile(q=0.5)\n",
    "a3 = fish_length_df['length'].quantile(q=0.75)\n",
    "\n",
    "print(a1, a2, a3)"
   ]
  },
  {
   "cell_type": "code",
   "execution_count": 131,
   "id": "41973eec-a8ad-4a73-a8fb-9769bebf0bae",
   "metadata": {},
   "outputs": [
    {
     "name": "stdout",
     "output_type": "stream",
     "text": [
      "50.0\n"
     ]
    }
   ],
   "source": [
    "# 표본크기가 홀수인 경우\n",
    "fish_length3 = np.arange(0, 101, 1)\n",
    "# 중앙값\n",
    "print(np.mean(fish_length3))"
   ]
  },
  {
   "cell_type": "code",
   "execution_count": 133,
   "id": "421d6430-6dc6-4dc5-a2b8-d39e53d8a06d",
   "metadata": {},
   "outputs": [
    {
     "name": "stdout",
     "output_type": "stream",
     "text": [
      "50.0\n"
     ]
    }
   ],
   "source": [
    "# 표본크기가 홀수인 경우\n",
    "fish_length3 = np.arange(0, 101, 1)\n",
    "# 중앙값\n",
    "print(np.median(fish_length3))"
   ]
  },
  {
   "cell_type": "code",
   "execution_count": 135,
   "id": "5f55c58c-d054-4460-892c-3b9c5a3fc215",
   "metadata": {},
   "outputs": [
    {
     "name": "stdout",
     "output_type": "stream",
     "text": [
      "49.5\n"
     ]
    }
   ],
   "source": [
    "# 표본크기가 짝수인 경우\n",
    "fish_length4 = np.arange(0, 100, 1)\n",
    "# 중앙값\n",
    "# 가운데 두 값의 평균을 구해 중앙값으로 사용한다.\n",
    "print(np.median(fish_length4))"
   ]
  },
  {
   "cell_type": "markdown",
   "id": "9af2b08a-7e40-46e4-95af-be7091845a59",
   "metadata": {},
   "source": [
    "### 10_최빈값\n",
    "- 데이터의 빈도가 가장 높은 값"
   ]
  },
  {
   "cell_type": "code",
   "execution_count": 138,
   "id": "2dd7bdd2-401f-4b0a-b285-c35b675b6b7b",
   "metadata": {},
   "outputs": [
    {
     "data": {
      "text/plain": [
       "length\n",
       "4    4\n",
       "3    2\n",
       "5    2\n",
       "2    1\n",
       "6    1\n",
       "Name: count, dtype: int64"
      ]
     },
     "execution_count": 138,
     "metadata": {},
     "output_type": "execute_result"
    }
   ],
   "source": [
    "# 도수분포를 통해 최빈값을 확인할 수 있다.\n",
    "fish_length_df['length'].value_counts()"
   ]
  },
  {
   "cell_type": "code",
   "execution_count": 140,
   "id": "99430098-19d2-4f17-989a-aa278284fb0e",
   "metadata": {},
   "outputs": [
    {
     "name": "stdout",
     "output_type": "stream",
     "text": [
      "4가 총 4번 나옵니다\n"
     ]
    }
   ],
   "source": [
    "# scipy 에서 제공하는 함수를 사용할 수 있다.\n",
    "value, count = stats.mode(fish_length)\n",
    "print(f'{value}가 총 {count}번 나옵니다')"
   ]
  },
  {
   "cell_type": "code",
   "execution_count": 142,
   "id": "61fa3985-d3c3-4372-a2aa-1cc55992206a",
   "metadata": {},
   "outputs": [
    {
     "name": "stdout",
     "output_type": "stream",
     "text": [
      "1가(이) 총 4번 나옵니다\n"
     ]
    }
   ],
   "source": [
    "# 만약 최빈값이 여러개라면 가장 작은 값을 가져온다.\n",
    "a1 = np.array([1, 1, 1, 1, 2, 3, 3, 3, 3])\n",
    "value, count = stats.mode(a1)\n",
    "print(f'{value}가(이) 총 {count}번 나옵니다')"
   ]
  },
  {
   "cell_type": "markdown",
   "id": "74fd5e64-f3b8-41d6-abc2-f15a480c974c",
   "metadata": {},
   "source": [
    "### pandas의 describe함수\n",
    "- 지금까지 살펴본 통계값 중 일부를 한번에 확인할 수 있다.\n",
    "- 표본크기, 평균, 표준편차, 최소값, 1사분위수, 중앙값(2사분위수), 3사분위수, 최대값"
   ]
  },
  {
   "cell_type": "code",
   "execution_count": 145,
   "id": "87e55f1b-6300-40b5-8cb5-74b3e66d55d2",
   "metadata": {},
   "outputs": [
    {
     "data": {
      "text/html": [
       "<div>\n",
       "<style scoped>\n",
       "    .dataframe tbody tr th:only-of-type {\n",
       "        vertical-align: middle;\n",
       "    }\n",
       "\n",
       "    .dataframe tbody tr th {\n",
       "        vertical-align: top;\n",
       "    }\n",
       "\n",
       "    .dataframe thead th {\n",
       "        text-align: right;\n",
       "    }\n",
       "</style>\n",
       "<table border=\"1\" class=\"dataframe\">\n",
       "  <thead>\n",
       "    <tr style=\"text-align: right;\">\n",
       "      <th></th>\n",
       "      <th>length</th>\n",
       "    </tr>\n",
       "  </thead>\n",
       "  <tbody>\n",
       "    <tr>\n",
       "      <th>count</th>\n",
       "      <td>10.000000</td>\n",
       "    </tr>\n",
       "    <tr>\n",
       "      <th>mean</th>\n",
       "      <td>4.000000</td>\n",
       "    </tr>\n",
       "    <tr>\n",
       "      <th>std</th>\n",
       "      <td>1.154701</td>\n",
       "    </tr>\n",
       "    <tr>\n",
       "      <th>min</th>\n",
       "      <td>2.000000</td>\n",
       "    </tr>\n",
       "    <tr>\n",
       "      <th>25%</th>\n",
       "      <td>3.250000</td>\n",
       "    </tr>\n",
       "    <tr>\n",
       "      <th>50%</th>\n",
       "      <td>4.000000</td>\n",
       "    </tr>\n",
       "    <tr>\n",
       "      <th>75%</th>\n",
       "      <td>4.750000</td>\n",
       "    </tr>\n",
       "    <tr>\n",
       "      <th>max</th>\n",
       "      <td>6.000000</td>\n",
       "    </tr>\n",
       "  </tbody>\n",
       "</table>\n",
       "</div>"
      ],
      "text/plain": [
       "          length\n",
       "count  10.000000\n",
       "mean    4.000000\n",
       "std     1.154701\n",
       "min     2.000000\n",
       "25%     3.250000\n",
       "50%     4.000000\n",
       "75%     4.750000\n",
       "max     6.000000"
      ]
     },
     "execution_count": 145,
     "metadata": {},
     "output_type": "execute_result"
    }
   ],
   "source": [
    "fish_length_df.describe()"
   ]
  },
  {
   "cell_type": "code",
   "execution_count": null,
   "id": "591d56ea-2dd3-4cce-b274-6c8a386e1771",
   "metadata": {},
   "outputs": [],
   "source": []
  },
  {
   "cell_type": "code",
   "execution_count": null,
   "id": "6f421793-5f60-4561-b82a-3f322ec1763e",
   "metadata": {},
   "outputs": [],
   "source": []
  },
  {
   "cell_type": "code",
   "execution_count": null,
   "id": "4ebc24d2-9f40-4b5b-8ddd-0cfc3ddfc8d8",
   "metadata": {},
   "outputs": [],
   "source": []
  },
  {
   "cell_type": "code",
   "execution_count": null,
   "id": "8d7cccda-2149-45d8-9ced-ae3d8d6141a8",
   "metadata": {},
   "outputs": [],
   "source": []
  }
 ],
 "metadata": {
  "kernelspec": {
   "display_name": "Python [conda env:base] *",
   "language": "python",
   "name": "conda-base-py"
  },
  "language_info": {
   "codemirror_mode": {
    "name": "ipython",
    "version": 3
   },
   "file_extension": ".py",
   "mimetype": "text/x-python",
   "name": "python",
   "nbconvert_exporter": "python",
   "pygments_lexer": "ipython3",
   "version": "3.12.7"
  }
 },
 "nbformat": 4,
 "nbformat_minor": 5
}
