{
 "cells": [
  {
   "cell_type": "code",
   "execution_count": 5,
   "id": "f0d82204-3825-43b2-8e2b-6f45b7bf3e52",
   "metadata": {},
   "outputs": [],
   "source": [
    "# 기본 라이브러리\n",
    "import numpy as np\n",
    "import pandas as pd\n",
    "import matplotlib.pyplot as plt\n",
    "import seaborn as sns\n",
    "\n",
    "# 그래프 기본 테마 설정\n",
    "# https://coldbrown.co.kr/2023/07/%ED%8C%8C%EC%9D%B4%EC%8D%AC-%EC%8B%A4%EC%A0%84%ED%8E%B8-08-seaborn-sns-set%EC%9D%84-%ED%86%B5%ED%95%B4-%EC%8A%A4%ED%83%80%EC%9D%BC-%EC%84%A4%EC%A0%95%ED%95%98%EA%B8%B0/\n",
    "sns.set()\n",
    "\n",
    "# 그래프 기본 설정\n",
    "plt.rcParams['font.family'] = 'Malgun Gothic'\n",
    "# plt.rcParams['font.family'] = 'AppleGothic'\n",
    "plt.rcParams['figure.figsize'] = 12, 6\n",
    "plt.rcParams['font.size'] = 14\n",
    "plt.rcParams['axes.unicode_minus'] = False\n",
    "\n",
    "# 복잡한 통계 처리를 위한 라이브러리\n",
    "from scipy import stats"
   ]
  },
  {
   "cell_type": "code",
   "execution_count": 11,
   "id": "e11d0489-2bae-45eb-9597-216fc0f355ae",
   "metadata": {},
   "outputs": [
    {
     "data": {
      "text/plain": [
       "array([2, 3, 4, 5, 6])"
      ]
     },
     "execution_count": 11,
     "metadata": {},
     "output_type": "execute_result"
    }
   ],
   "source": [
    "# 다섯 마리의 물고기만 있는 호수에서 표본을 추출한다.\n",
    "fish_5 = np.array([2, 3, 4, 5, 6])\n",
    "fish_5"
   ]
  },
  {
   "cell_type": "code",
   "execution_count": 13,
   "id": "eb402b88-a4a1-4e8c-9d75-e0ba0c5fa3a0",
   "metadata": {},
   "outputs": [
    {
     "data": {
      "text/plain": [
       "array([4, 3, 6])"
      ]
     },
     "execution_count": 13,
     "metadata": {},
     "output_type": "execute_result"
    }
   ],
   "source": [
    "# 무작위로 3마리를 추출한다\n",
    "# 표본 추출\n",
    "# replace에 True를 주면 추출한 값을 또다시 추출할 수 있다.\n",
    "# False를 넣어주면 추출한 값은 다음 추출시 제외된다.\n",
    "# 호수에서 물고기를 낚으면 그 물고기는 호수에 없다는 가정을 한다.\n",
    "np.random.seed(1)\n",
    "sample_1 = np.random.choice(fish_5, size=3, replace=False)\n",
    "sample_1"
   ]
  },
  {
   "cell_type": "code",
   "execution_count": 15,
   "id": "1a86dae5-5134-4cf1-97ca-5f42d9f8b365",
   "metadata": {},
   "outputs": [
    {
     "data": {
      "text/html": [
       "<div>\n",
       "<style scoped>\n",
       "    .dataframe tbody tr th:only-of-type {\n",
       "        vertical-align: middle;\n",
       "    }\n",
       "\n",
       "    .dataframe tbody tr th {\n",
       "        vertical-align: top;\n",
       "    }\n",
       "\n",
       "    .dataframe thead th {\n",
       "        text-align: right;\n",
       "    }\n",
       "</style>\n",
       "<table border=\"1\" class=\"dataframe\">\n",
       "  <thead>\n",
       "    <tr style=\"text-align: right;\">\n",
       "      <th></th>\n",
       "      <th>length</th>\n",
       "    </tr>\n",
       "  </thead>\n",
       "  <tbody>\n",
       "    <tr>\n",
       "      <th>0</th>\n",
       "      <td>5.297442</td>\n",
       "    </tr>\n",
       "    <tr>\n",
       "      <th>1</th>\n",
       "      <td>3.505566</td>\n",
       "    </tr>\n",
       "    <tr>\n",
       "      <th>2</th>\n",
       "      <td>3.572546</td>\n",
       "    </tr>\n",
       "    <tr>\n",
       "      <th>3</th>\n",
       "      <td>3.135979</td>\n",
       "    </tr>\n",
       "    <tr>\n",
       "      <th>4</th>\n",
       "      <td>4.689275</td>\n",
       "    </tr>\n",
       "    <tr>\n",
       "      <th>...</th>\n",
       "      <td>...</td>\n",
       "    </tr>\n",
       "    <tr>\n",
       "      <th>99995</th>\n",
       "      <td>4.158780</td>\n",
       "    </tr>\n",
       "    <tr>\n",
       "      <th>99996</th>\n",
       "      <td>4.818718</td>\n",
       "    </tr>\n",
       "    <tr>\n",
       "      <th>99997</th>\n",
       "      <td>4.060880</td>\n",
       "    </tr>\n",
       "    <tr>\n",
       "      <th>99998</th>\n",
       "      <td>4.271488</td>\n",
       "    </tr>\n",
       "    <tr>\n",
       "      <th>99999</th>\n",
       "      <td>3.396745</td>\n",
       "    </tr>\n",
       "  </tbody>\n",
       "</table>\n",
       "<p>100000 rows × 1 columns</p>\n",
       "</div>"
      ],
      "text/plain": [
       "         length\n",
       "0      5.297442\n",
       "1      3.505566\n",
       "2      3.572546\n",
       "3      3.135979\n",
       "4      4.689275\n",
       "...         ...\n",
       "99995  4.158780\n",
       "99996  4.818718\n",
       "99997  4.060880\n",
       "99998  4.271488\n",
       "99999  3.396745\n",
       "\n",
       "[100000 rows x 1 columns]"
      ]
     },
     "execution_count": 15,
     "metadata": {},
     "output_type": "execute_result"
    }
   ],
   "source": [
    "# 데이터를 불러온다.\n",
    "fish_100000 = pd.read_csv('data/5-2-1-fish_length_100000.csv')\n",
    "fish_100000"
   ]
  },
  {
   "cell_type": "code",
   "execution_count": 17,
   "id": "5a28557c-2a0f-441d-bd7c-7fca05598e6e",
   "metadata": {},
   "outputs": [
    {
     "data": {
      "text/plain": [
       "100000"
      ]
     },
     "execution_count": 17,
     "metadata": {},
     "output_type": "execute_result"
    }
   ],
   "source": [
    "# 모집단의 크기\n",
    "len(fish_100000)"
   ]
  },
  {
   "cell_type": "code",
   "execution_count": 19,
   "id": "6e35f3c0-749a-4add-8056-6ea652a6664a",
   "metadata": {},
   "outputs": [
    {
     "data": {
      "text/plain": [
       "array([3.84378815, 2.5063875 , 4.95892771, 5.04877033, 4.56975969,\n",
       "       2.76014829, 4.95107106, 4.19193018, 4.69562894, 3.79076231,\n",
       "       4.3701771 , 5.97347196, 5.94221756, 5.62455   , 5.0390565 ,\n",
       "       4.64449197, 3.26315444, 4.49165778, 4.28528308, 2.88912961,\n",
       "       3.82321581, 4.86376449, 4.29088993, 4.79006916, 3.06351114,\n",
       "       4.72719783, 3.92078275, 3.78734181, 2.93404643, 4.45342143,\n",
       "       2.24620856, 3.58258505, 3.02041777, 5.10245051, 2.98514632,\n",
       "       2.70616604, 5.2436441 , 4.26776626, 5.0050112 , 4.13229476,\n",
       "       3.81713426, 3.77510347, 3.67114363, 3.53302928, 3.65876498,\n",
       "       3.57175535, 4.46400141, 3.95934728, 4.271893  , 3.52538142,\n",
       "       3.98492988, 3.99617533, 3.03940519, 2.88199047, 5.42350895,\n",
       "       3.91875056, 3.92960781, 2.87720785, 3.65637692, 4.91618175,\n",
       "       4.89515634, 4.85534149, 3.05613834, 4.56704705, 3.28866862,\n",
       "       4.8705286 , 4.26254602, 4.11003509, 3.75582213, 4.53162194,\n",
       "       4.54078267, 2.97965757, 3.70183249, 3.00511146, 4.98867817,\n",
       "       4.1458585 , 4.84055589, 3.72675995, 5.29352422, 5.08662543,\n",
       "       3.05373244, 3.8216937 , 2.52473014, 3.50333974, 4.66487898,\n",
       "       4.24734675, 3.75647826, 2.77180681, 5.00135377, 3.80344406,\n",
       "       5.15699402, 3.53456486, 2.63237851, 3.07402261, 3.42536911,\n",
       "       4.20032078, 3.67722988, 2.96471706, 4.56471068, 3.52487824,\n",
       "       5.0810637 , 5.08467124, 3.96405475, 4.27835681, 3.55811534,\n",
       "       3.52025557, 4.23539414, 6.18645609, 3.8994998 , 4.20238838,\n",
       "       3.78808565, 4.03140376, 4.80345547, 3.11631334, 4.71431952,\n",
       "       4.59218108, 4.51766158, 4.40842561, 4.93127405, 4.57678879,\n",
       "       4.5307962 , 3.19270075, 3.477113  , 3.46822416, 4.67220036,\n",
       "       3.31613305, 3.85293054, 3.60864789, 4.16161027, 4.27972668,\n",
       "       2.58320576, 3.73534263, 3.28779406, 3.99649829, 3.57969599,\n",
       "       3.90215886, 2.64991268, 4.00779874, 3.82896392, 4.55529933,\n",
       "       4.36435347, 4.44854551, 4.4551704 , 3.3195091 , 4.21937117,\n",
       "       4.28215064, 4.07162464, 4.71496685, 5.93106549, 4.60591943,\n",
       "       4.88595382, 3.69715052, 5.79656928, 3.65569436, 4.65069212,\n",
       "       3.45548738, 4.20194111, 2.82630903, 4.27698756, 5.25066111,\n",
       "       4.69864582, 4.38878696, 3.96753894, 3.22173314, 1.97860076,\n",
       "       3.46408049, 5.181695  , 3.49980934, 4.96059734, 3.761898  ,\n",
       "       4.44757334, 4.93025392, 4.04332617, 4.31712078, 5.09625194,\n",
       "       3.83643493, 3.42306368, 4.01889503, 3.45827062, 5.63558123,\n",
       "       4.49112867, 3.84820291, 4.38089505, 3.19335761, 4.57777234,\n",
       "       4.65707107, 3.26222412, 4.34537927, 3.84610275, 4.68431028,\n",
       "       4.13585424, 2.76859429, 3.343565  , 5.43204853, 3.71613237,\n",
       "       5.03840141, 4.72922576, 5.56714955, 4.0253301 , 5.00624132,\n",
       "       3.08286295, 3.59638269, 3.06943468, 4.61569674, 3.38187391,\n",
       "       4.49243212, 3.52272724, 4.44566171, 3.45340743, 4.06261969,\n",
       "       4.57594558, 4.19437582, 4.49615984, 4.88020028, 3.04265211,\n",
       "       1.7628482 , 4.55746514, 4.62091265, 4.27789875, 4.47578567,\n",
       "       4.14982725, 4.13718345, 3.51124569, 5.15950367, 3.83942385,\n",
       "       4.11537966, 5.12186812, 3.73867318, 5.50154317, 4.71354623,\n",
       "       3.91184136, 2.81562701, 4.56026833, 3.04646503, 2.93655219,\n",
       "       3.90183543, 3.94409152, 4.00369832, 4.25752331, 3.23359076,\n",
       "       3.09997693, 5.89688398, 4.71723287, 4.74624974, 3.57424509,\n",
       "       4.35489096, 4.09295668, 2.37527967, 5.19089531, 4.78821625,\n",
       "       3.92447548, 3.01861906, 3.36937477, 2.64948618, 3.3408012 ,\n",
       "       4.09626141, 4.46238049, 3.16378876, 4.25655405, 4.5667936 ,\n",
       "       4.30491901, 2.58051314, 3.39035734, 2.79064797, 3.63995099,\n",
       "       5.21120744, 3.93982292, 3.0431629 , 3.09767011, 3.83464676,\n",
       "       4.25251512, 5.02897907, 3.25152526, 4.7290959 , 3.49229377,\n",
       "       2.14875333, 2.663123  , 3.75597001, 3.60198927, 1.80161758,\n",
       "       4.12827605, 4.58081396, 4.08743335, 5.19713681, 3.75385147,\n",
       "       5.03774771, 4.56679409, 2.9027344 , 4.08400165, 4.37884789,\n",
       "       4.93522982, 3.93777353, 4.14601496, 3.55562285, 2.76216204,\n",
       "       4.42934553, 4.4775447 , 4.40367756, 2.74012203, 3.82111422,\n",
       "       3.94154654, 4.52345476, 3.91301733, 3.73309209, 4.33275948,\n",
       "       4.53745656, 4.67961537, 2.60465313, 4.05115737, 4.42637744,\n",
       "       3.55577384, 2.63449845, 4.31322786, 4.3431923 , 5.27812769,\n",
       "       5.02003834, 4.88007856, 5.33951167, 5.11304056, 4.66314102,\n",
       "       4.37006663, 3.4330055 , 5.38287722, 4.6306283 , 2.2383966 ,\n",
       "       5.52442077, 4.40324341, 5.00376663, 3.35916888, 2.45378667,\n",
       "       3.21972917, 5.02489119, 4.57475479, 3.95231892, 3.64352418,\n",
       "       3.92167089, 4.89751653, 3.77839531, 4.19226944, 5.04249062,\n",
       "       3.69472031, 3.47418872, 5.04091677, 3.18086381, 4.5100007 ,\n",
       "       2.47776903, 4.77510074, 3.5150784 , 4.45810696, 3.86596542,\n",
       "       4.99588068, 5.40792031, 3.46918753, 3.41251007, 3.5785012 ,\n",
       "       4.16868311, 3.38989225, 3.09824066, 3.28106872, 3.53360121,\n",
       "       4.23919668, 4.86090088, 4.02566081, 4.28954617, 4.55617945,\n",
       "       4.80677874, 4.21745912, 3.30106199, 4.08725178, 2.43268891,\n",
       "       3.95057995, 5.0490396 , 4.90850183, 4.42064591, 3.68907004,\n",
       "       3.88101402, 3.10711783, 2.74110379, 4.37307858, 4.171848  ,\n",
       "       4.79058839, 3.59966543, 3.99061633, 4.45095907, 4.50053839,\n",
       "       5.28610953, 5.51690698, 2.45165953, 4.63756655, 3.69776229,\n",
       "       4.41482841, 4.08451196, 5.04916649, 4.17775699, 3.87511541,\n",
       "       3.46831223, 4.08857795, 4.21733659, 2.70734455, 4.84539281,\n",
       "       3.64549617, 3.0988734 , 4.71754259, 3.2281036 , 4.35097909,\n",
       "       3.34294108, 5.1327351 , 3.4970907 , 3.3796941 , 4.73792917,\n",
       "       4.69231851, 5.28577113, 3.68267009, 3.34923469, 4.01072654,\n",
       "       4.01580373, 3.35438607, 3.77627685, 4.84109758, 4.80391717,\n",
       "       4.21338224, 5.11994554, 5.18681833, 3.95314122, 5.1378351 ,\n",
       "       2.93729953, 2.57016019, 4.9403699 , 6.07037616, 1.49631975,\n",
       "       4.07202659, 4.5324687 , 3.38154345, 3.42009194, 4.06047556,\n",
       "       4.46223976, 2.78617633, 3.81827072, 4.22053743, 4.53079451,\n",
       "       3.17198608, 4.06242406, 3.83626383, 4.20865186, 2.78087861,\n",
       "       4.24471508, 3.43151239, 4.38250958, 4.43695534, 2.90482409,\n",
       "       3.42404695, 4.18454105, 5.01389862, 4.35252165, 3.8758468 ,\n",
       "       3.9482639 , 3.19068162, 4.54138219, 3.11982863, 5.97953841,\n",
       "       3.25207958, 5.2850669 , 4.47452292, 3.38063547, 2.94474428,\n",
       "       5.76555336, 4.63100309, 4.42635909, 4.04577242, 4.24060394,\n",
       "       3.43402943, 4.90379735, 5.34294267, 3.84045841, 5.23242516,\n",
       "       2.92732625, 3.71075177, 4.34353864, 4.45847062, 4.10273651,\n",
       "       2.89319638, 2.33700233, 4.03812758, 4.55657659, 3.89825432,\n",
       "       5.0333096 , 4.03446607, 4.84626478, 3.77999997, 4.97043181,\n",
       "       4.18451274, 3.83467668, 2.91146235, 3.9379455 , 5.01873943,\n",
       "       4.37457452, 5.53424796, 3.38043524, 4.51736937, 2.94597724])"
      ]
     },
     "execution_count": 19,
     "metadata": {},
     "output_type": "execute_result"
    }
   ],
   "source": [
    "# 모집단에서 무작위로 추출한다. 500 마리를 추출한다.\n",
    "np.random.seed(1)\n",
    "\n",
    "sample_2 = np.random.choice(fish_100000['length'], size=500, replace=False)\n",
    "sample_2"
   ]
  },
  {
   "cell_type": "code",
   "execution_count": 21,
   "id": "dff530eb-3e77-4e7c-bfd0-284c610d24c9",
   "metadata": {},
   "outputs": [
    {
     "data": {
      "text/plain": [
       "4.056083376532648"
      ]
     },
     "execution_count": 21,
     "metadata": {},
     "output_type": "execute_result"
    }
   ],
   "source": [
    "# 표본의 평균을 구한다.\n",
    "np.mean(sample_2)"
   ]
  },
  {
   "cell_type": "code",
   "execution_count": 27,
   "id": "7029cfde-784b-440d-adcf-1a38403ac9bb",
   "metadata": {},
   "outputs": [
    {
     "data": {
      "image/png": "[encoded data removed]",
      "text/plain": [
       "<Figure size 1200x600 with 1 Axes>"
      ]
     },
     "metadata": {},
     "output_type": "display_data"
    }
   ],
   "source": [
    "# 표본을 시각화한다.\n",
    "sns.histplot(data=sample_2)\n",
    "plt.show()\n",
    "# 표본을 히스토그램으로 그려보면 좌우 대칭의 종 모양으로 되어 있는 것을 볼 수 있다.\n",
    "# 무작위로 추출했는데 이러한 모습을 보인다면 모집단도 대칭의 종 형태가 아닐까 추측해\n",
    "# 볼 수 있다."
   ]
  },
  {
   "cell_type": "code",
   "execution_count": 30,
   "id": "85d5d6b6-9a74-4435-a2aa-d867b6bcbc47",
   "metadata": {},
   "outputs": [
    {
     "name": "stdout",
     "output_type": "stream",
     "text": [
      "평균 : 4.000000000000001\n",
      "분산 : 0.6400000000000087\n",
      "표준편차 : 0.8000000000000054\n"
     ]
    }
   ],
   "source": [
    "# 모집단의 평균, 분산, 표준편차\n",
    "print(f'평균 : {np.mean(fish_100000.length)}')\n",
    "print(f'분산 : {np.var(fish_100000.length, ddof=0)}')\n",
    "print(f'표준편차 : {np.std(fish_100000.length, ddof=0)}')"
   ]
  },
  {
   "cell_type": "code",
   "execution_count": 32,
   "id": "322e414f-c383-46f1-802c-baf8174b7f72",
   "metadata": {},
   "outputs": [
    {
     "data": {
      "text/html": [
       "<div>\n",
       "<style scoped>\n",
       "    .dataframe tbody tr th:only-of-type {\n",
       "        vertical-align: middle;\n",
       "    }\n",
       "\n",
       "    .dataframe tbody tr th {\n",
       "        vertical-align: top;\n",
       "    }\n",
       "\n",
       "    .dataframe thead th {\n",
       "        text-align: right;\n",
       "    }\n",
       "</style>\n",
       "<table border=\"1\" class=\"dataframe\">\n",
       "  <thead>\n",
       "    <tr style=\"text-align: right;\">\n",
       "      <th></th>\n",
       "      <th>x</th>\n",
       "      <th>density</th>\n",
       "    </tr>\n",
       "  </thead>\n",
       "  <tbody>\n",
       "    <tr>\n",
       "      <th>0</th>\n",
       "      <td>0.0</td>\n",
       "      <td>0.000002</td>\n",
       "    </tr>\n",
       "    <tr>\n",
       "      <th>1</th>\n",
       "      <td>0.1</td>\n",
       "      <td>0.000003</td>\n",
       "    </tr>\n",
       "    <tr>\n",
       "      <th>2</th>\n",
       "      <td>0.2</td>\n",
       "      <td>0.000006</td>\n",
       "    </tr>\n",
       "    <tr>\n",
       "      <th>3</th>\n",
       "      <td>0.3</td>\n",
       "      <td>0.000011</td>\n",
       "    </tr>\n",
       "    <tr>\n",
       "      <th>4</th>\n",
       "      <td>0.4</td>\n",
       "      <td>0.000020</td>\n",
       "    </tr>\n",
       "    <tr>\n",
       "      <th>...</th>\n",
       "      <td>...</td>\n",
       "      <td>...</td>\n",
       "    </tr>\n",
       "    <tr>\n",
       "      <th>76</th>\n",
       "      <td>7.6</td>\n",
       "      <td>0.000020</td>\n",
       "    </tr>\n",
       "    <tr>\n",
       "      <th>77</th>\n",
       "      <td>7.7</td>\n",
       "      <td>0.000011</td>\n",
       "    </tr>\n",
       "    <tr>\n",
       "      <th>78</th>\n",
       "      <td>7.8</td>\n",
       "      <td>0.000006</td>\n",
       "    </tr>\n",
       "    <tr>\n",
       "      <th>79</th>\n",
       "      <td>7.9</td>\n",
       "      <td>0.000003</td>\n",
       "    </tr>\n",
       "    <tr>\n",
       "      <th>80</th>\n",
       "      <td>8.0</td>\n",
       "      <td>0.000002</td>\n",
       "    </tr>\n",
       "  </tbody>\n",
       "</table>\n",
       "<p>81 rows × 2 columns</p>\n",
       "</div>"
      ],
      "text/plain": [
       "      x   density\n",
       "0   0.0  0.000002\n",
       "1   0.1  0.000003\n",
       "2   0.2  0.000006\n",
       "3   0.3  0.000011\n",
       "4   0.4  0.000020\n",
       "..  ...       ...\n",
       "76  7.6  0.000020\n",
       "77  7.7  0.000011\n",
       "78  7.8  0.000006\n",
       "79  7.9  0.000003\n",
       "80  8.0  0.000002\n",
       "\n",
       "[81 rows x 2 columns]"
      ]
     },
     "execution_count": 32,
     "metadata": {},
     "output_type": "execute_result"
    }
   ],
   "source": [
    "# 모집단의 확률 밀도를 구해본다.\n",
    "# 확률 변수\n",
    "x = np.arange(0, 8.1, 0.1)\n",
    "# 확률 밀도\n",
    "density = stats.norm.pdf(x=x, loc=4, scale=0.8)\n",
    "\n",
    "density_df = pd.DataFrame({\n",
    "    'x' : x,\n",
    "    'density' : density\n",
    "})\n",
    "density_df"
   ]
  },
  {
   "cell_type": "code",
   "execution_count": 34,
   "id": "50a77cdc-0cc0-462a-a101-e4ac9fb3a9be",
   "metadata": {},
   "outputs": [
    {
     "data": {
      "image/png": "[encoded data removed]",
      "text/plain": [
       "<Figure size 1200x600 with 1 Axes>"
      ]
     },
     "metadata": {},
     "output_type": "display_data"
    }
   ],
   "source": [
    "# 모집단 분포의 히스토그램\n",
    "sns.histplot(fish_100000.length, stat='density')\n",
    "# 확률 밀도값\n",
    "sns.lineplot(data=density_df, x='x', y='density')\n",
    "plt.show()"
   ]
  },
  {
   "cell_type": "markdown",
   "id": "2c9100b8-dc36-450f-83fc-312ce844daa7",
   "metadata": {},
   "source": [
    "- 모집단이 정규분포를 이루고 있을 경우 무작위 샘플 추출을 많이 하면 모집단과 유사한\n",
    "- 형태의 표본을 추출할 수 있다.\n",
    "- 정규분포인 경우 대부분의 데이터가 평균에 가까이 있기 때문이다."
   ]
  },
  {
   "cell_type": "code",
   "execution_count": null,
   "id": "725c716e-1bf0-4cef-8a26-ef0b202fafe6",
   "metadata": {},
   "outputs": [],
   "source": []
  }
 ],
 "metadata": {
  "kernelspec": {
   "display_name": "Python [conda env:base] *",
   "language": "python",
   "name": "conda-base-py"
  },
  "language_info": {
   "codemirror_mode": {
    "name": "ipython",
    "version": 3
   },
   "file_extension": ".py",
   "mimetype": "text/x-python",
   "name": "python",
   "nbconvert_exporter": "python",
   "pygments_lexer": "ipython3",
   "version": "3.12.7"
  }
 },
 "nbformat": 4,
 "nbformat_minor": 5
}
