{
 "cells": [
  {
   "cell_type": "code",
   "execution_count": 1,
   "id": "b24aff00-2d3f-4f37-8d41-ccea54b21698",
   "metadata": {},
   "outputs": [],
   "source": [
    "# 기본 라이브러리\n",
    "import numpy as np\n",
    "import pandas as pd\n",
    "import matplotlib.pyplot as plt\n",
    "import seaborn as sns\n",
    "\n",
    "# 그래프 기본 테마 설정\n",
    "# https://coldbrown.co.kr/2023/07/%ED%8C%8C%EC%9D%B4%EC%8D%AC-%EC%8B%A4%EC%A0%84%ED%8E%B8-08-seaborn-sns-set%EC%9D%84-%ED%86%B5%ED%95%B4-%EC%8A%A4%ED%83%80%EC%9D%BC-%EC%84%A4%EC%A0%95%ED%95%98%EA%B8%B0/\n",
    "sns.set()\n",
    "\n",
    "# 그래프 기본 설정\n",
    "plt.rcParams['font.family'] = 'Malgun Gothic'\n",
    "# plt.rcParams['font.family'] = 'AppleGothic'\n",
    "plt.rcParams['figure.figsize'] = 12, 6\n",
    "plt.rcParams['font.size'] = 14\n",
    "plt.rcParams['axes.unicode_minus'] = False\n",
    "\n",
    "# 복잡한 통계 처리를 위한 라이브러리\n",
    "from scipy import stats"
   ]
  },
  {
   "cell_type": "markdown",
   "id": "3388614c-6872-4caa-985f-f4505b5b447f",
   "metadata": {},
   "source": [
    "### 01_모평균 추정"
   ]
  },
  {
   "cell_type": "code",
   "execution_count": 3,
   "id": "4a471697-93d7-477a-884d-06567ab82e2f",
   "metadata": {},
   "outputs": [],
   "source": [
    "# 평균4, 표준편차 0.8(분산 0.64)인 정규분포를 구성한다.\n",
    "# 정규분포를 가지고 있는 객체를 생성한다.\n",
    "population = stats.norm(loc=4, scale=0.8)"
   ]
  },
  {
   "cell_type": "code",
   "execution_count": 4,
   "id": "ad47831f-456c-4f4b-a406-9e4c3399c1df",
   "metadata": {},
   "outputs": [
    {
     "data": {
      "text/plain": [
       "array([5.29947629, 3.51059487, 3.5774626 , 3.1416251 , 4.6923261 ,\n",
       "       2.15876904, 5.39584941, 3.39103448, 4.25523128, 3.8005037 ])"
      ]
     },
     "execution_count": 4,
     "metadata": {},
     "output_type": "execute_result"
    }
   ],
   "source": [
    "# 위에서 만든 정규분포 객체를 통해 정규분포를 따르는 랜덤값 10개를 추출한다.\n",
    "# 전체 모집단에서 표본을 추출하는 것을 가정한다.\n",
    "np.random.seed(1)\n",
    "# size : 추출할 랜덤값 개수\n",
    "sample = population.rvs(size=10)\n",
    "sample"
   ]
  },
  {
   "cell_type": "code",
   "execution_count": 5,
   "id": "4260d37f-4410-469d-9861-7af717b9b43f",
   "metadata": {},
   "outputs": [
    {
     "data": {
      "text/plain": [
       "array([5.29947629, 3.51059487, 3.5774626 , 3.1416251 , 4.6923261 ,\n",
       "       2.15876904, 5.39584941, 3.39103448, 4.25523128, 3.8005037 ])"
      ]
     },
     "execution_count": 5,
     "metadata": {},
     "output_type": "execute_result"
    }
   ],
   "source": [
    "# scipy 의 함수를 가지고도 할 수 있다.\n",
    "np.random.seed(1)\n",
    "a1 = stats.norm.rvs(loc=4, scale=0.8, size=10)\n",
    "a1"
   ]
  },
  {
   "cell_type": "code",
   "execution_count": 6,
   "id": "d590cbf2-1fc4-4a20-93fd-17afc66e4a10",
   "metadata": {},
   "outputs": [
    {
     "data": {
      "text/plain": [
       "3.9222872873551196"
      ]
     },
     "execution_count": 6,
     "metadata": {},
     "output_type": "execute_result"
    }
   ],
   "source": [
    "# 샘플의 평균을 계산한다.\n",
    "np.mean(sample)\n",
    "# 모평균은 4였지만 sample 의 평균은 3.9 정도이다.\n",
    "# sample 의 평균은 이와 다를 수도 있다."
   ]
  },
  {
   "cell_type": "markdown",
   "id": "ba4630fb-8cae-4de2-9db7-f0dfbe423e59",
   "metadata": {},
   "source": [
    "### 표본 평균을 어러번 계산한다."
   ]
  },
  {
   "cell_type": "code",
   "execution_count": 14,
   "id": "b2163143-935d-4543-90e0-61ae8d23547f",
   "metadata": {},
   "outputs": [],
   "source": [
    "# 표본 평균을 계산하는 작업을 여러 번 반복한다.\n",
    "# 길이가 10000인 배열\n",
    "# 평균값을 저장하는 배열\n",
    "sample_mean_array = np.zeros(10000)"
   ]
  },
  {
   "cell_type": "code",
   "execution_count": 16,
   "id": "a1ddd7ac-50e9-4d98-beb0-a22679a291b9",
   "metadata": {},
   "outputs": [],
   "source": [
    "# 평균4, 표준편차 0.8(분산 0.64)인 정규분포를 구성한다.\n",
    "# 정규분포를 가지고 있는 객체를 생성한다.\n",
    "population = stats.norm(loc=4, scale=0.8)\n",
    "np.random.seed(1)\n",
    "# 10개의 데이터를 선택해 평균값을 구하는 시도를 10000번 반복한다.\n",
    "for i in range(10000) :\n",
    "    # size : 추출할 랜덤값 개수\n",
    "    sample_loop = population.rvs(size=10)\n",
    "    # 추출한 값의 평균을 구해 배열에 담아준다.\n",
    "    sample_mean_array[i] = np.mean(sample_loop)"
   ]
  },
  {
   "cell_type": "code",
   "execution_count": 18,
   "id": "0df77e26-afc1-4b4a-989e-126dade1e8fc",
   "metadata": {},
   "outputs": [
    {
     "data": {
      "text/plain": [
       "array([3.92228729, 3.86432929, 4.06953003, ..., 4.13616562, 4.57489661,\n",
       "       4.09896685])"
      ]
     },
     "execution_count": 18,
     "metadata": {},
     "output_type": "execute_result"
    }
   ],
   "source": [
    "sample_mean_array"
   ]
  },
  {
   "cell_type": "code",
   "execution_count": 20,
   "id": "86811e6a-f96d-45a0-a832-270456680d39",
   "metadata": {},
   "outputs": [
    {
     "data": {
      "text/plain": [
       "4.004202422791747"
      ]
     },
     "execution_count": 20,
     "metadata": {},
     "output_type": "execute_result"
    }
   ],
   "source": [
    "# 표본추출을 10000번 수행하여 얻은 데이터의 평균을 구해본다.\n",
    "# 횟수를 많이 수행하면 모집단의 평균과 유사해진다.\n",
    "np.mean(sample_mean_array)"
   ]
  },
  {
   "cell_type": "markdown",
   "id": "02bee508-bb79-4acd-9096-446989d88f30",
   "metadata": {},
   "source": [
    "### 02_표본 평균을 몇 번이고 계산하는 함수 만들기"
   ]
  },
  {
   "cell_type": "code",
   "execution_count": 28,
   "id": "76e573c9-d4e6-45e0-9249-524051eb262d",
   "metadata": {},
   "outputs": [],
   "source": [
    "# 평균4, 표준편차 0.8(분산 0.64)인 정규분포를 구성한다.\n",
    "# 정규분포를 가지고 있는 객체를 생성한다.\n",
    "population = stats.norm(loc=4, scale=0.8)\n",
    "np.random.seed(1)\n",
    "# 표본 평균을 여러 번 계산하는 함수\n",
    "# size : 표본의 크기,\n",
    "# n_trial : 시행 횟수\n",
    "def calc_sample_mean(size, n_trial) :\n",
    "    # 평균값을 저장하는 배열\n",
    "    sample_mean_array = np.zeros(n_trial)\n",
    "    \n",
    "    for i in range(n_trial) :\n",
    "        # size : 추출할 랜덤값 개수\n",
    "        sample_loop = population.rvs(size=size)\n",
    "        # 추출한 값의 평균을 구해 배열에 담아준다.\n",
    "        sample_mean_array[i] = np.mean(sample_loop)\n",
    "\n",
    "    return sample_mean_array"
   ]
  },
  {
   "cell_type": "code",
   "execution_count": 30,
   "id": "0eee9334-7208-44f6-9aa8-92454b8bccc5",
   "metadata": {},
   "outputs": [
    {
     "data": {
      "text/plain": [
       "4.004202422791747"
      ]
     },
     "execution_count": 30,
     "metadata": {},
     "output_type": "execute_result"
    }
   ],
   "source": [
    "# 사용한다.\n",
    "np.random.seed(1)\n",
    "a1 = calc_sample_mean(size=10, n_trial=10000)\n",
    "np.mean(a1)"
   ]
  },
  {
   "cell_type": "markdown",
   "id": "57e6298b-2a2a-4583-97b3-9b3781e056c8",
   "metadata": {},
   "source": [
    "### 표본 크기별, 표본 평균의 분포"
   ]
  },
  {
   "cell_type": "code",
   "execution_count": 33,
   "id": "c31b5a31-fcb7-439a-80e8-d8729bdc6a3e",
   "metadata": {},
   "outputs": [],
   "source": [
    "np.random.seed(1)"
   ]
  },
  {
   "cell_type": "code",
   "execution_count": 35,
   "id": "e73d77cb-28a2-48e9-ae8b-9fe4cfde6e37",
   "metadata": {},
   "outputs": [
    {
     "data": {
      "text/html": [
       "<div>\n",
       "<style scoped>\n",
       "    .dataframe tbody tr th:only-of-type {\n",
       "        vertical-align: middle;\n",
       "    }\n",
       "\n",
       "    .dataframe tbody tr th {\n",
       "        vertical-align: top;\n",
       "    }\n",
       "\n",
       "    .dataframe thead th {\n",
       "        text-align: right;\n",
       "    }\n",
       "</style>\n",
       "<table border=\"1\" class=\"dataframe\">\n",
       "  <thead>\n",
       "    <tr style=\"text-align: right;\">\n",
       "      <th></th>\n",
       "      <th>sample_mean</th>\n",
       "      <th>sample_size</th>\n",
       "    </tr>\n",
       "  </thead>\n",
       "  <tbody>\n",
       "    <tr>\n",
       "      <th>0</th>\n",
       "      <td>3.922287</td>\n",
       "      <td>size 10</td>\n",
       "    </tr>\n",
       "    <tr>\n",
       "      <th>1</th>\n",
       "      <td>3.864329</td>\n",
       "      <td>size 10</td>\n",
       "    </tr>\n",
       "    <tr>\n",
       "      <th>2</th>\n",
       "      <td>4.069530</td>\n",
       "      <td>size 10</td>\n",
       "    </tr>\n",
       "    <tr>\n",
       "      <th>3</th>\n",
       "      <td>3.857140</td>\n",
       "      <td>size 10</td>\n",
       "    </tr>\n",
       "    <tr>\n",
       "      <th>4</th>\n",
       "      <td>4.184654</td>\n",
       "      <td>size 10</td>\n",
       "    </tr>\n",
       "    <tr>\n",
       "      <th>...</th>\n",
       "      <td>...</td>\n",
       "      <td>...</td>\n",
       "    </tr>\n",
       "    <tr>\n",
       "      <th>9995</th>\n",
       "      <td>3.980022</td>\n",
       "      <td>size 30</td>\n",
       "    </tr>\n",
       "    <tr>\n",
       "      <th>9996</th>\n",
       "      <td>3.770016</td>\n",
       "      <td>size 30</td>\n",
       "    </tr>\n",
       "    <tr>\n",
       "      <th>9997</th>\n",
       "      <td>3.930151</td>\n",
       "      <td>size 30</td>\n",
       "    </tr>\n",
       "    <tr>\n",
       "      <th>9998</th>\n",
       "      <td>4.075567</td>\n",
       "      <td>size 30</td>\n",
       "    </tr>\n",
       "    <tr>\n",
       "      <th>9999</th>\n",
       "      <td>3.976259</td>\n",
       "      <td>size 30</td>\n",
       "    </tr>\n",
       "  </tbody>\n",
       "</table>\n",
       "<p>30000 rows × 2 columns</p>\n",
       "</div>"
      ],
      "text/plain": [
       "      sample_mean sample_size\n",
       "0        3.922287     size 10\n",
       "1        3.864329     size 10\n",
       "2        4.069530     size 10\n",
       "3        3.857140     size 10\n",
       "4        4.184654     size 10\n",
       "...           ...         ...\n",
       "9995     3.980022     size 30\n",
       "9996     3.770016     size 30\n",
       "9997     3.930151     size 30\n",
       "9998     4.075567     size 30\n",
       "9999     3.976259     size 30\n",
       "\n",
       "[30000 rows x 2 columns]"
      ]
     },
     "execution_count": 35,
     "metadata": {},
     "output_type": "execute_result"
    }
   ],
   "source": [
    "np.random.seed(1)\n",
    "# 샘플 사이즈 10\n",
    "size_10 = calc_sample_mean(size=10, n_trial=10000)\n",
    "size_10_df = pd.DataFrame({\n",
    "    'sample_mean' : size_10,\n",
    "    'sample_size' : np.tile('size 10', 10000)\n",
    "})\n",
    "\n",
    "# 샘플 사이즈 20\n",
    "size_20 = calc_sample_mean(size=20, n_trial=10000)\n",
    "size_20_df = pd.DataFrame({\n",
    "    'sample_mean' : size_20,\n",
    "    'sample_size' : np.tile('size 20', 10000)\n",
    "})\n",
    "\n",
    "# 샘플 사이즈 30\n",
    "size_30 = calc_sample_mean(size=30, n_trial=10000)\n",
    "size_30_df = pd.DataFrame({\n",
    "    'sample_mean' : size_30,\n",
    "    'sample_size' : np.tile('size 30', 10000)\n",
    "})\n",
    "\n",
    "# 하나로 합친다\n",
    "sim_result = pd.concat([size_10_df, size_20_df, size_30_df])\n",
    "sim_result"
   ]
  },
  {
   "cell_type": "code",
   "execution_count": 37,
   "id": "5074614f-b660-46c9-a223-78462e5fd4b9",
   "metadata": {},
   "outputs": [
    {
     "data": {
      "image/png": "[encoded data removed]",
      "text/plain": [
       "<Figure size 1200x600 with 1 Axes>"
      ]
     },
     "metadata": {},
     "output_type": "display_data"
    }
   ],
   "source": [
    "# 이 데이터를 사용하여 세 가지 표본 크기 각각에 대한 표본평균 분포를 확인한다.\n",
    "sns.violinplot(data=sim_result, x='sample_size', y='sample_mean')\n",
    "plt.show()"
   ]
  },
  {
   "cell_type": "code",
   "execution_count": 39,
   "id": "c0806d59-1f88-4cd4-86ac-db42497e4493",
   "metadata": {},
   "outputs": [
    {
     "data": {
      "text/html": [
       "<div>\n",
       "<style scoped>\n",
       "    .dataframe tbody tr th:only-of-type {\n",
       "        vertical-align: middle;\n",
       "    }\n",
       "\n",
       "    .dataframe tbody tr th {\n",
       "        vertical-align: top;\n",
       "    }\n",
       "\n",
       "    .dataframe thead th {\n",
       "        text-align: right;\n",
       "    }\n",
       "</style>\n",
       "<table border=\"1\" class=\"dataframe\">\n",
       "  <thead>\n",
       "    <tr style=\"text-align: right;\">\n",
       "      <th></th>\n",
       "      <th>sample_mean</th>\n",
       "      <th>sample_size</th>\n",
       "    </tr>\n",
       "  </thead>\n",
       "  <tbody>\n",
       "    <tr>\n",
       "      <th>0</th>\n",
       "      <td>3.922287</td>\n",
       "      <td>size 10</td>\n",
       "    </tr>\n",
       "    <tr>\n",
       "      <th>1</th>\n",
       "      <td>3.864329</td>\n",
       "      <td>size 10</td>\n",
       "    </tr>\n",
       "    <tr>\n",
       "      <th>2</th>\n",
       "      <td>4.069530</td>\n",
       "      <td>size 10</td>\n",
       "    </tr>\n",
       "    <tr>\n",
       "      <th>3</th>\n",
       "      <td>3.857140</td>\n",
       "      <td>size 10</td>\n",
       "    </tr>\n",
       "    <tr>\n",
       "      <th>4</th>\n",
       "      <td>4.184654</td>\n",
       "      <td>size 10</td>\n",
       "    </tr>\n",
       "    <tr>\n",
       "      <th>...</th>\n",
       "      <td>...</td>\n",
       "      <td>...</td>\n",
       "    </tr>\n",
       "    <tr>\n",
       "      <th>9995</th>\n",
       "      <td>3.953051</td>\n",
       "      <td>size 100</td>\n",
       "    </tr>\n",
       "    <tr>\n",
       "      <th>9996</th>\n",
       "      <td>4.136771</td>\n",
       "      <td>size 100</td>\n",
       "    </tr>\n",
       "    <tr>\n",
       "      <th>9997</th>\n",
       "      <td>4.173852</td>\n",
       "      <td>size 100</td>\n",
       "    </tr>\n",
       "    <tr>\n",
       "      <th>9998</th>\n",
       "      <td>4.087364</td>\n",
       "      <td>size 100</td>\n",
       "    </tr>\n",
       "    <tr>\n",
       "      <th>9999</th>\n",
       "      <td>3.876108</td>\n",
       "      <td>size 100</td>\n",
       "    </tr>\n",
       "  </tbody>\n",
       "</table>\n",
       "<p>100000 rows × 2 columns</p>\n",
       "</div>"
      ],
      "text/plain": [
       "      sample_mean sample_size\n",
       "0        3.922287     size 10\n",
       "1        3.864329     size 10\n",
       "2        4.069530     size 10\n",
       "3        3.857140     size 10\n",
       "4        4.184654     size 10\n",
       "...           ...         ...\n",
       "9995     3.953051    size 100\n",
       "9996     4.136771    size 100\n",
       "9997     4.173852    size 100\n",
       "9998     4.087364    size 100\n",
       "9999     3.876108    size 100\n",
       "\n",
       "[100000 rows x 2 columns]"
      ]
     },
     "execution_count": 39,
     "metadata": {},
     "output_type": "execute_result"
    }
   ],
   "source": [
    "np.random.seed(1)\n",
    "\n",
    "# 테스트할 샘플 사이즈\n",
    "test_sample_size_list = [10, 20, 30, 40, 50, 60, 70, 80, 90, 100]\n",
    "# 결과를 담을 리스트\n",
    "test_result_list = []\n",
    "\n",
    "# 샘플 가지수만큼 반복한다.\n",
    "for test_sample_size in test_sample_size_list :\n",
    "    a1 = calc_sample_mean(size=test_sample_size, n_trial=10000)\n",
    "    a2 = pd.DataFrame({\n",
    "        'sample_mean' : a1,\n",
    "        'sample_size' : np.tile(f'size {test_sample_size}', 10000)\n",
    "    })\n",
    "    test_result_list.append(a2)\n",
    "\n",
    "# 하나로 합친다\n",
    "sim_result = pd.concat(test_result_list)\n",
    "sim_result"
   ]
  },
  {
   "cell_type": "code",
   "execution_count": 41,
   "id": "6aaae8ac-028c-462c-8c3c-d82d2d731640",
   "metadata": {},
   "outputs": [
    {
     "data": {
      "text/html": [
       "<div>\n",
       "<style scoped>\n",
       "    .dataframe tbody tr th:only-of-type {\n",
       "        vertical-align: middle;\n",
       "    }\n",
       "\n",
       "    .dataframe tbody tr th {\n",
       "        vertical-align: top;\n",
       "    }\n",
       "\n",
       "    .dataframe thead tr th {\n",
       "        text-align: left;\n",
       "    }\n",
       "\n",
       "    .dataframe thead tr:last-of-type th {\n",
       "        text-align: right;\n",
       "    }\n",
       "</style>\n",
       "<table border=\"1\" class=\"dataframe\">\n",
       "  <thead>\n",
       "    <tr>\n",
       "      <th></th>\n",
       "      <th colspan=\"2\" halign=\"left\">sample_mean</th>\n",
       "    </tr>\n",
       "    <tr>\n",
       "      <th></th>\n",
       "      <th>std</th>\n",
       "      <th>mean</th>\n",
       "    </tr>\n",
       "    <tr>\n",
       "      <th>sample_size</th>\n",
       "      <th></th>\n",
       "      <th></th>\n",
       "    </tr>\n",
       "  </thead>\n",
       "  <tbody>\n",
       "    <tr>\n",
       "      <th>size 10</th>\n",
       "      <td>0.251358</td>\n",
       "      <td>4.004202</td>\n",
       "    </tr>\n",
       "    <tr>\n",
       "      <th>size 20</th>\n",
       "      <td>0.179886</td>\n",
       "      <td>4.000662</td>\n",
       "    </tr>\n",
       "    <tr>\n",
       "      <th>size 30</th>\n",
       "      <td>0.145816</td>\n",
       "      <td>4.000859</td>\n",
       "    </tr>\n",
       "    <tr>\n",
       "      <th>size 40</th>\n",
       "      <td>0.126372</td>\n",
       "      <td>3.999278</td>\n",
       "    </tr>\n",
       "    <tr>\n",
       "      <th>size 50</th>\n",
       "      <td>0.113073</td>\n",
       "      <td>3.999864</td>\n",
       "    </tr>\n",
       "    <tr>\n",
       "      <th>size 60</th>\n",
       "      <td>0.103942</td>\n",
       "      <td>3.998782</td>\n",
       "    </tr>\n",
       "    <tr>\n",
       "      <th>size 70</th>\n",
       "      <td>0.095955</td>\n",
       "      <td>4.000249</td>\n",
       "    </tr>\n",
       "    <tr>\n",
       "      <th>size 80</th>\n",
       "      <td>0.089818</td>\n",
       "      <td>4.000695</td>\n",
       "    </tr>\n",
       "    <tr>\n",
       "      <th>size 90</th>\n",
       "      <td>0.084000</td>\n",
       "      <td>3.999938</td>\n",
       "    </tr>\n",
       "    <tr>\n",
       "      <th>size 100</th>\n",
       "      <td>0.080125</td>\n",
       "      <td>3.999868</td>\n",
       "    </tr>\n",
       "  </tbody>\n",
       "</table>\n",
       "</div>"
      ],
      "text/plain": [
       "            sample_mean          \n",
       "                    std      mean\n",
       "sample_size                      \n",
       "size 10        0.251358  4.004202\n",
       "size 20        0.179886  4.000662\n",
       "size 30        0.145816  4.000859\n",
       "size 40        0.126372  3.999278\n",
       "size 50        0.113073  3.999864\n",
       "size 60        0.103942  3.998782\n",
       "size 70        0.095955  4.000249\n",
       "size 80        0.089818  4.000695\n",
       "size 90        0.084000  3.999938\n",
       "size 100       0.080125  3.999868"
      ]
     },
     "execution_count": 41,
     "metadata": {},
     "output_type": "execute_result"
    }
   ],
   "source": [
    "# 위의 그래프는  표본평균과 표준편차를 계산하여 수치로도 확인할 수 있다.\n",
    "group = sim_result.groupby('sample_size', sort=False)\n",
    "a1 = group.agg(['std', 'mean'])\n",
    "a1"
   ]
  },
  {
   "cell_type": "code",
   "execution_count": null,
   "id": "950118e2-7891-4b24-ac92-95793c7ab1e8",
   "metadata": {},
   "outputs": [],
   "source": []
  }
 ],
 "metadata": {
  "kernelspec": {
   "display_name": "Python [conda env:base] *",
   "language": "python",
   "name": "conda-base-py"
  },
  "language_info": {
   "codemirror_mode": {
    "name": "ipython",
    "version": 3
   },
   "file_extension": ".py",
   "mimetype": "text/x-python",
   "name": "python",
   "nbconvert_exporter": "python",
   "pygments_lexer": "ipython3",
   "version": "3.12.7"
  }
 },
 "nbformat": 4,
 "nbformat_minor": 5
}
